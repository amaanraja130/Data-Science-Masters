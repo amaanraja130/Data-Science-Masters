{
 "cells": [
  {
   "cell_type": "markdown",
   "id": "d6e5f79b-e3de-4593-b56f-eb0fac7b1c80",
   "metadata": {},
   "source": [
    "# Assignment"
   ]
  },
  {
   "cell_type": "markdown",
   "id": "ca1b2913-5a90-4a2e-8225-8b206bf46042",
   "metadata": {},
   "source": [
    "### Ans1 )"
   ]
  },
  {
   "cell_type": "markdown",
   "id": "48fb8d58-fb60-4d6b-9e00-ee52985c1d06",
   "metadata": {},
   "source": [
    "Class is user defined lyout or blueprint of an object that describe what a specific kind of object look like.\n",
    "Object is a single instance of class, which contains data and method on that data.\n",
    "for ex:"
   ]
  },
  {
   "cell_type": "code",
   "execution_count": 17,
   "id": "87d28e24-7502-4876-8748-8561fc831683",
   "metadata": {},
   "outputs": [],
   "source": [
    "class Pwskills:\n",
    "    def assignment_submitted(self):\n",
    "        print(\"assignment submitted succuessfully\")"
   ]
  },
  {
   "cell_type": "code",
   "execution_count": 18,
   "id": "d2d3402e-3f52-4935-aeb5-bfa00bef6a24",
   "metadata": {},
   "outputs": [],
   "source": [
    "amaan = Pwskills()"
   ]
  },
  {
   "cell_type": "code",
   "execution_count": 19,
   "id": "14d5b55a-0fec-46d8-8995-ac10f83c1414",
   "metadata": {},
   "outputs": [
    {
     "name": "stdout",
     "output_type": "stream",
     "text": [
      "assignment submitted succuessfully\n"
     ]
    }
   ],
   "source": [
    "amaan.assignment_submitted()"
   ]
  },
  {
   "cell_type": "markdown",
   "id": "e5bcffaf-8f3b-4cc7-990f-78324256ad65",
   "metadata": {},
   "source": [
    "Here class is Pwskills and amaan is an object."
   ]
  },
  {
   "cell_type": "markdown",
   "id": "fcdbef65-c63c-4f64-aece-7f44863433de",
   "metadata": {},
   "source": [
    "### Ans 2)"
   ]
  },
  {
   "cell_type": "markdown",
   "id": "23fda3a6-ca4a-4613-8a3c-51852a8bd481",
   "metadata": {},
   "source": [
    "The four Pillars of oops are:\n",
    "1) Abstraction,\n",
    "2) Data Encapsulation,\n",
    "3) Inheritance,\n",
    "4) Polymorphism,\n",
    "    "
   ]
  },
  {
   "cell_type": "markdown",
   "id": "1a227b6a-35d1-47cf-aaaa-d1e3f652f851",
   "metadata": {},
   "source": [
    "### Ans 3)"
   ]
  },
  {
   "cell_type": "raw",
   "id": "05ff4e10-000b-4844-8602-ca36de40a95e",
   "metadata": {},
   "source": [
    " __init__() is inbuild function used to assign values to object properties or other operation that is necessary to do when object is being created\n",
    "for ex:"
   ]
  },
  {
   "cell_type": "code",
   "execution_count": 29,
   "id": "dc517a8f-286e-4dc0-8bc1-fcec82b433c8",
   "metadata": {},
   "outputs": [],
   "source": [
    "class car:\n",
    "    def __init__ (self,speed,avg,price):\n",
    "        self.speed= speed\n",
    "        self.avg = avg\n",
    "        self.price = price\n",
    "    def return_car_details(self):\n",
    "        return self.speed, self.avg, self.price\n",
    "    "
   ]
  },
  {
   "cell_type": "code",
   "execution_count": 36,
   "id": "96b85ca0-ecbf-461d-b626-669e4a097622",
   "metadata": {},
   "outputs": [],
   "source": [
    "bmw= car(\"200/kmph\",\"10/km\",\"1cr\")"
   ]
  },
  {
   "cell_type": "code",
   "execution_count": 38,
   "id": "443896aa-1bc7-4763-b3b4-d56531bf830b",
   "metadata": {},
   "outputs": [
    {
     "data": {
      "text/plain": [
       "'1cr'"
      ]
     },
     "execution_count": 38,
     "metadata": {},
     "output_type": "execute_result"
    }
   ],
   "source": [
    "bmw.price"
   ]
  },
  {
   "cell_type": "code",
   "execution_count": 39,
   "id": "c4983947-4fbe-4a64-80d3-3d80f9cc76ea",
   "metadata": {},
   "outputs": [
    {
     "data": {
      "text/plain": [
       "'200/kmph'"
      ]
     },
     "execution_count": 39,
     "metadata": {},
     "output_type": "execute_result"
    }
   ],
   "source": [
    "bmw.speed"
   ]
  },
  {
   "cell_type": "code",
   "execution_count": 40,
   "id": "efdf0088-ac99-4f95-9ed5-edaad35f25a9",
   "metadata": {},
   "outputs": [
    {
     "data": {
      "text/plain": [
       "('200/kmph', '10/km', '1cr')"
      ]
     },
     "execution_count": 40,
     "metadata": {},
     "output_type": "execute_result"
    }
   ],
   "source": [
    "bmw.return_car_details()"
   ]
  },
  {
   "cell_type": "markdown",
   "id": "b6a84f11-1696-4f4b-ad7c-a63de5049dfb",
   "metadata": {},
   "source": [
    "### Ans 4)"
   ]
  },
  {
   "cell_type": "markdown",
   "id": "553723dc-e8bc-411a-8881-e3d504993849",
   "metadata": {},
   "source": [
    "self represents instance of the class in oops whenever we need to call attributes and methods of a class we need to use self or can name anything not just self but it has to be the first parameter of any function of the class."
   ]
  },
  {
   "cell_type": "markdown",
   "id": "d2809293-4895-4302-9781-2c071b088c5c",
   "metadata": {},
   "source": [
    "### Ans 5)"
   ]
  },
  {
   "cell_type": "markdown",
   "id": "5561fe8a-6f90-4576-b7ed-6a982ab254de",
   "metadata": {},
   "source": [
    "Inheritance allows a class to inherit properties and behaviours from another class.\n",
    "There are four types of inheritance.\n",
    "1. Single Inheritance\n",
    "2. Multiple Inheritance\n",
    "3. Hierarchical Inheritance\n",
    "4. Multilevle Inheritance"
   ]
  },
  {
   "cell_type": "code",
   "execution_count": 1,
   "id": "e3d79634-9801-45ca-970f-f0988229b866",
   "metadata": {},
   "outputs": [],
   "source": [
    "## Single Inheritance"
   ]
  },
  {
   "cell_type": "code",
   "execution_count": 9,
   "id": "a1e4cf9d-2e59-4946-99ce-23f7b047b408",
   "metadata": {},
   "outputs": [],
   "source": [
    "class iPhone:\n",
    "    def new_phone(self):\n",
    "        print(\"This is an iphone\")\n",
    "        "
   ]
  },
  {
   "cell_type": "code",
   "execution_count": 10,
   "id": "f59f218d-e319-4219-a615-d582f709a34e",
   "metadata": {},
   "outputs": [],
   "source": [
    "class Android(iPhone):\n",
    "    pass"
   ]
  },
  {
   "cell_type": "code",
   "execution_count": 11,
   "id": "3a761e0c-f49b-4137-8a16-67c54f66e42c",
   "metadata": {},
   "outputs": [],
   "source": [
    "obj_phone=android()"
   ]
  },
  {
   "cell_type": "code",
   "execution_count": 12,
   "id": "d5545569-10d3-48be-9710-ee9f2d629c42",
   "metadata": {},
   "outputs": [
    {
     "name": "stdout",
     "output_type": "stream",
     "text": [
      "This is an iphone\n"
     ]
    }
   ],
   "source": [
    "obj_phone.new_phone()"
   ]
  },
  {
   "cell_type": "code",
   "execution_count": 13,
   "id": "dcba76cb-c33c-490d-8794-aec20609290f",
   "metadata": {},
   "outputs": [],
   "source": [
    "## Multiple Inheritance"
   ]
  },
  {
   "cell_type": "code",
   "execution_count": 14,
   "id": "390e9307-34a7-4f38-84e6-584ac8d1c295",
   "metadata": {},
   "outputs": [],
   "source": [
    "class car:\n",
    "    def car_new(self):\n",
    "        print(\"This is a new car \")\n",
    "    "
   ]
  },
  {
   "cell_type": "code",
   "execution_count": 15,
   "id": "bdbfa534-5dfb-4ab2-8050-b88533d15b90",
   "metadata": {},
   "outputs": [],
   "source": [
    "class car1:\n",
    "    def car_old(self):\n",
    "        print(\"This is an old car\")"
   ]
  },
  {
   "cell_type": "code",
   "execution_count": 17,
   "id": "f22f0ba5-8cf3-432e-91ec-12b2227fb950",
   "metadata": {},
   "outputs": [],
   "source": [
    "class car3(car,car1):\n",
    "    pass"
   ]
  },
  {
   "cell_type": "code",
   "execution_count": 18,
   "id": "df48ae4d-4115-45ec-a0e1-4837c4e83a43",
   "metadata": {},
   "outputs": [],
   "source": [
    "obj_car3= car3()"
   ]
  },
  {
   "cell_type": "code",
   "execution_count": 19,
   "id": "73493515-63c9-4357-8f76-fa31f5a5c0c8",
   "metadata": {},
   "outputs": [
    {
     "name": "stdout",
     "output_type": "stream",
     "text": [
      "This is new car \n"
     ]
    }
   ],
   "source": [
    "obj_car3.car_new()"
   ]
  },
  {
   "cell_type": "code",
   "execution_count": 20,
   "id": "34e614e9-e56f-4c93-84cb-c3ae0606ef7e",
   "metadata": {},
   "outputs": [
    {
     "name": "stdout",
     "output_type": "stream",
     "text": [
      "This is an old car\n"
     ]
    }
   ],
   "source": [
    "obj_car3.car_old()"
   ]
  },
  {
   "cell_type": "code",
   "execution_count": 21,
   "id": "842b8a87-04dc-4bd8-9821-f98e819f2c44",
   "metadata": {},
   "outputs": [],
   "source": [
    "## Hierarchical Inheritance"
   ]
  },
  {
   "cell_type": "code",
   "execution_count": 22,
   "id": "3cd2e2fe-19bf-446c-996b-6d5a7b09cdc8",
   "metadata": {},
   "outputs": [],
   "source": [
    "class veichle:\n",
    "    def bike_ninja(self):\n",
    "        print(\"This is my Ninja\")"
   ]
  },
  {
   "cell_type": "code",
   "execution_count": 23,
   "id": "bd9a562d-c752-4a80-a883-7b4c4bb4be2f",
   "metadata": {},
   "outputs": [],
   "source": [
    "class car(veichle):\n",
    "    def car_br(self):\n",
    "        print(\"This is my audi\")"
   ]
  },
  {
   "cell_type": "code",
   "execution_count": 25,
   "id": "922c96ab-0d82-4964-b9c9-32a61454aeae",
   "metadata": {},
   "outputs": [],
   "source": [
    "class truck(veichle):\n",
    "    def truck_br(self):\n",
    "        print(\"This is my tesla truck\")"
   ]
  },
  {
   "cell_type": "code",
   "execution_count": 26,
   "id": "44f75508-4a51-4649-8505-5b6831e30986",
   "metadata": {},
   "outputs": [],
   "source": [
    "obj_1= truck()"
   ]
  },
  {
   "cell_type": "code",
   "execution_count": 30,
   "id": "864d8b4f-1df5-40f8-9a20-af7f55c7b3e5",
   "metadata": {},
   "outputs": [
    {
     "name": "stdout",
     "output_type": "stream",
     "text": [
      "This is Ninja\n"
     ]
    }
   ],
   "source": [
    "obj_1.bike_ninja()"
   ]
  },
  {
   "cell_type": "code",
   "execution_count": 32,
   "id": "a4fcecec-b699-4b5a-882c-8abdfb101875",
   "metadata": {},
   "outputs": [],
   "source": [
    "obj_2 = car()"
   ]
  },
  {
   "cell_type": "code",
   "execution_count": 33,
   "id": "0f1afadb-0933-4788-a139-f0c92512cdc8",
   "metadata": {},
   "outputs": [
    {
     "name": "stdout",
     "output_type": "stream",
     "text": [
      "This is Ninja\n"
     ]
    }
   ],
   "source": [
    "obj_2.bike_ninja()"
   ]
  },
  {
   "cell_type": "code",
   "execution_count": 34,
   "id": "0a401042-e168-4722-a63b-0ff254af8cd4",
   "metadata": {},
   "outputs": [],
   "source": [
    "## Multilevle Inheritance"
   ]
  },
  {
   "cell_type": "code",
   "execution_count": 35,
   "id": "acdadf45-72a2-41bd-8a84-1503ec02be40",
   "metadata": {},
   "outputs": [],
   "source": [
    "class state:\n",
    "    def jharkahnd(self):\n",
    "        print(\"This is Jharkhand\")"
   ]
  },
  {
   "cell_type": "code",
   "execution_count": 36,
   "id": "56b4f269-d439-4cdc-a1a1-e4d1e4a5aab5",
   "metadata": {},
   "outputs": [],
   "source": [
    "class country(state):\n",
    "    def India(self):\n",
    "        print(\"This is Indian\")"
   ]
  },
  {
   "cell_type": "code",
   "execution_count": 37,
   "id": "a3a3d276-3920-4acb-9c5c-135c2ae90a28",
   "metadata": {},
   "outputs": [],
   "source": [
    "class city(country):\n",
    "    def Dhanbad(self):\n",
    "        print(\"This is Dhanbad\")"
   ]
  },
  {
   "cell_type": "code",
   "execution_count": 38,
   "id": "ab2895fc-8c20-4520-89af-6a5ff5504f3e",
   "metadata": {},
   "outputs": [],
   "source": [
    "obj_city = city()"
   ]
  },
  {
   "cell_type": "code",
   "execution_count": 39,
   "id": "e2d98cdb-cb23-44d6-90f6-c16017ef94b3",
   "metadata": {},
   "outputs": [
    {
     "name": "stdout",
     "output_type": "stream",
     "text": [
      "This is Jharkhand\n"
     ]
    }
   ],
   "source": [
    "obj_city.jharkahnd()"
   ]
  },
  {
   "cell_type": "code",
   "execution_count": 41,
   "id": "ae8eeff5-492a-46ee-96de-6a280fefd463",
   "metadata": {},
   "outputs": [
    {
     "name": "stdout",
     "output_type": "stream",
     "text": [
      "This is Indian\n"
     ]
    }
   ],
   "source": [
    "obj_city.India()"
   ]
  },
  {
   "cell_type": "code",
   "execution_count": 43,
   "id": "d9488e65-923e-446d-9378-c868665abe51",
   "metadata": {},
   "outputs": [
    {
     "name": "stdout",
     "output_type": "stream",
     "text": [
      "This is Dhanbad\n"
     ]
    }
   ],
   "source": [
    "obj_city.Dhanbad()"
   ]
  },
  {
   "cell_type": "code",
   "execution_count": null,
   "id": "b7672ccb-f14c-4be8-ae72-f531b6f10479",
   "metadata": {},
   "outputs": [],
   "source": []
  }
 ],
 "metadata": {
  "kernelspec": {
   "display_name": "Python 3 (ipykernel)",
   "language": "python",
   "name": "python3"
  },
  "language_info": {
   "codemirror_mode": {
    "name": "ipython",
    "version": 3
   },
   "file_extension": ".py",
   "mimetype": "text/x-python",
   "name": "python",
   "nbconvert_exporter": "python",
   "pygments_lexer": "ipython3",
   "version": "3.10.8"
  }
 },
 "nbformat": 4,
 "nbformat_minor": 5
}
