{
 "cells": [
  {
   "cell_type": "markdown",
   "id": "11e7a33b-a85e-48a1-ba2a-f04aa28f988c",
   "metadata": {},
   "source": [
    "# Assignment"
   ]
  },
  {
   "cell_type": "markdown",
   "id": "a5381a74-cb37-41e3-acbc-fefeaf277590",
   "metadata": {},
   "source": [
    "### Ans1)"
   ]
  },
  {
   "cell_type": "code",
   "execution_count": 22,
   "id": "da1101e6-dfda-4560-8e2f-efeee5ddb96a",
   "metadata": {},
   "outputs": [],
   "source": [
    "def Check(password):\n",
    "    uppercase=0\n",
    "    lowercase=0\n",
    "    number=0\n",
    "    spcl_char=0\n",
    "    for i in password:\n",
    "        if ord(\"A\")<=ord(i)<=ord(\"Z\"):\n",
    "            uppercase+=1\n",
    "        elif ord(\"a\")<=ord(i)<=ord(\"z\"):\n",
    "            lowercase+=1\n",
    "        elif ord(\"0\")<=ord(i)<=ord(\"9\"):\n",
    "            number+=1\n",
    "        else:\n",
    "            spcl_char+=1\n",
    "    if uppercase>=2 and lowercase>=2 and number>=1 and spcl_char>=3 and len(password)==10:\n",
    "        return \"Valid Password\"\n",
    "    else:\n",
    "        return \"Invalid Password\""
   ]
  },
  {
   "cell_type": "code",
   "execution_count": 24,
   "id": "d703e041-6813-4500-a4a7-32eea25ec5e7",
   "metadata": {},
   "outputs": [
    {
     "data": {
      "text/plain": [
       "'Valid Password'"
      ]
     },
     "execution_count": 24,
     "metadata": {},
     "output_type": "execute_result"
    }
   ],
   "source": [
    "Check(\"AmaaN2@#,g\")"
   ]
  },
  {
   "cell_type": "code",
   "execution_count": 25,
   "id": "d321c93f-71ba-424e-8974-27313f24204d",
   "metadata": {},
   "outputs": [
    {
     "data": {
      "text/plain": [
       "'Invalid Password'"
      ]
     },
     "execution_count": 25,
     "metadata": {},
     "output_type": "execute_result"
    }
   ],
   "source": [
    "Check(\"Amaan\")"
   ]
  },
  {
   "cell_type": "markdown",
   "id": "b1ec3f75-e9cf-49ba-bb8f-68c7fd590c7c",
   "metadata": {},
   "source": [
    "### Ans2)"
   ]
  },
  {
   "cell_type": "code",
   "execution_count": 30,
   "id": "6c5bd4f4-6ded-4f06-ab18-cea8aba0442f",
   "metadata": {},
   "outputs": [],
   "source": [
    "#Check if the string starts with a particular letter.\n",
    "\n",
    "\n",
    "str1= lambda name, char: name[0] == char"
   ]
  },
  {
   "cell_type": "code",
   "execution_count": 32,
   "id": "23368577-55c6-43d9-8c2b-405bb4d189d0",
   "metadata": {},
   "outputs": [
    {
     "data": {
      "text/plain": [
       "True"
      ]
     },
     "execution_count": 32,
     "metadata": {},
     "output_type": "execute_result"
    }
   ],
   "source": [
    "str1(\"Amaan\",\"A\")"
   ]
  },
  {
   "cell_type": "code",
   "execution_count": 34,
   "id": "c69cdc34-5dc9-4a31-974c-bf5aba238894",
   "metadata": {},
   "outputs": [
    {
     "data": {
      "text/plain": [
       "False"
      ]
     },
     "execution_count": 34,
     "metadata": {},
     "output_type": "execute_result"
    }
   ],
   "source": [
    "str1(\"Sourav\",\"A\")"
   ]
  },
  {
   "cell_type": "code",
   "execution_count": 39,
   "id": "3d493582-dc00-40fc-a40c-d800da8e112d",
   "metadata": {},
   "outputs": [],
   "source": [
    "#Check if the string in numeric\n",
    "str2=lambda number: number.isnumeric()"
   ]
  },
  {
   "cell_type": "code",
   "execution_count": 40,
   "id": "fa89d03b-8b08-4878-99cc-864411268d7d",
   "metadata": {},
   "outputs": [
    {
     "data": {
      "text/plain": [
       "True"
      ]
     },
     "execution_count": 40,
     "metadata": {},
     "output_type": "execute_result"
    }
   ],
   "source": [
    "str2(\"123\")"
   ]
  },
  {
   "cell_type": "code",
   "execution_count": 41,
   "id": "d9f5b557-d7da-4baf-9ecc-97f45dfe7c84",
   "metadata": {},
   "outputs": [
    {
     "data": {
      "text/plain": [
       "False"
      ]
     },
     "execution_count": 41,
     "metadata": {},
     "output_type": "execute_result"
    }
   ],
   "source": [
    "str2(\"a\")"
   ]
  },
  {
   "cell_type": "code",
   "execution_count": null,
   "id": "01f48761-184d-4996-a7fa-3c85423b2b34",
   "metadata": {},
   "outputs": [],
   "source": [
    "#Sort a list of tuples having fruit names and their quantity."
   ]
  },
  {
   "cell_type": "code",
   "execution_count": 4,
   "id": "7498f194-ba76-45e5-8e29-6c8621d3c0d8",
   "metadata": {},
   "outputs": [],
   "source": [
    "list1=[(\"mango\",99),(\"orange\",80), (\"grapes\", 1000)]"
   ]
  },
  {
   "cell_type": "code",
   "execution_count": 16,
   "id": "45933b95-e377-41dd-be83-76e9f2f9ba81",
   "metadata": {},
   "outputs": [],
   "source": [
    "sorted_list = sorted(list1, key=lambda x: x[1])"
   ]
  },
  {
   "cell_type": "code",
   "execution_count": 17,
   "id": "0a0c8ed2-9ef7-450f-98a8-79a8dc1359ca",
   "metadata": {},
   "outputs": [
    {
     "data": {
      "text/plain": [
       "[('orange', 80), ('mango', 99), ('grapes', 1000)]"
      ]
     },
     "execution_count": 17,
     "metadata": {},
     "output_type": "execute_result"
    }
   ],
   "source": [
    "sorted_list"
   ]
  },
  {
   "cell_type": "code",
   "execution_count": null,
   "id": "b269d438-02ee-44fa-b72c-26d3bb47ee0b",
   "metadata": {},
   "outputs": [],
   "source": [
    "# Find the squares of numbers from 1 to 10"
   ]
  },
  {
   "cell_type": "code",
   "execution_count": 26,
   "id": "e2a55637-c169-4af8-9667-8bf7d90da2da",
   "metadata": {},
   "outputs": [],
   "source": [
    "l = [1,2,3,4,5,6,7,8,9,10]"
   ]
  },
  {
   "cell_type": "code",
   "execution_count": 27,
   "id": "310dd5e1-8232-46c3-8b81-3b202ff3cb7e",
   "metadata": {},
   "outputs": [
    {
     "data": {
      "text/plain": [
       "[1, 4, 9, 16, 25, 36, 49, 64, 81, 100]"
      ]
     },
     "execution_count": 27,
     "metadata": {},
     "output_type": "execute_result"
    }
   ],
   "source": [
    "list(map(lambda x: x**2,l))"
   ]
  },
  {
   "cell_type": "code",
   "execution_count": null,
   "id": "74edcbdb-e44b-4d83-8fe6-66942f047fc0",
   "metadata": {},
   "outputs": [],
   "source": [
    "# Find the cube root of numbers from 1 to 10"
   ]
  },
  {
   "cell_type": "code",
   "execution_count": 28,
   "id": "3fbb751c-58af-41ba-989c-a4343e066690",
   "metadata": {},
   "outputs": [
    {
     "data": {
      "text/plain": [
       "[1.0,\n",
       " 1.2599210498948732,\n",
       " 1.4422495703074083,\n",
       " 1.5874010519681994,\n",
       " 1.7099759466766968,\n",
       " 1.8171205928321397,\n",
       " 1.912931182772389,\n",
       " 2.0,\n",
       " 2.080083823051904,\n",
       " 2.154434690031884]"
      ]
     },
     "execution_count": 28,
     "metadata": {},
     "output_type": "execute_result"
    }
   ],
   "source": [
    "list(map(lambda x:x**(1/3),l))"
   ]
  },
  {
   "cell_type": "code",
   "execution_count": 29,
   "id": "ecf226d3-2423-4f36-bdd3-f1e0c856f69b",
   "metadata": {},
   "outputs": [],
   "source": [
    "# Check if a given number is even"
   ]
  },
  {
   "cell_type": "code",
   "execution_count": 30,
   "id": "b88b1dec-7d9c-4c42-9d9c-079f1e8a01de",
   "metadata": {},
   "outputs": [],
   "source": [
    "d = lambda x:x%2==0"
   ]
  },
  {
   "cell_type": "code",
   "execution_count": 31,
   "id": "84ef3a68-701a-4e70-a7e8-03edfda33b80",
   "metadata": {},
   "outputs": [
    {
     "data": {
      "text/plain": [
       "True"
      ]
     },
     "execution_count": 31,
     "metadata": {},
     "output_type": "execute_result"
    }
   ],
   "source": [
    "d(2)"
   ]
  },
  {
   "cell_type": "code",
   "execution_count": 32,
   "id": "d2409b81-a9d2-4ac4-b639-93247794b05a",
   "metadata": {},
   "outputs": [
    {
     "data": {
      "text/plain": [
       "False"
      ]
     },
     "execution_count": 32,
     "metadata": {},
     "output_type": "execute_result"
    }
   ],
   "source": [
    "d(1)"
   ]
  },
  {
   "cell_type": "code",
   "execution_count": 34,
   "id": "f603d487-f3ca-4e25-9c26-8ba38e558f9d",
   "metadata": {},
   "outputs": [],
   "source": [
    "# Filter odd numbers from the given list.\n",
    "# [1,2,3,4,5,6,7,8,9,10]"
   ]
  },
  {
   "cell_type": "code",
   "execution_count": 36,
   "id": "5a25de9c-9d63-4a0c-a2cd-52a3ff8ae0ec",
   "metadata": {},
   "outputs": [],
   "source": [
    "l3=[1,2,3,4,5,6,7,8,9,10]"
   ]
  },
  {
   "cell_type": "code",
   "execution_count": 40,
   "id": "a69fbb54-d2fa-4b81-a1ac-67f9c14adc12",
   "metadata": {},
   "outputs": [
    {
     "data": {
      "text/plain": [
       "[1, 3, 5, 7, 9]"
      ]
     },
     "execution_count": 40,
     "metadata": {},
     "output_type": "execute_result"
    }
   ],
   "source": [
    "list(filter(lambda x:x%2!=0,l3))"
   ]
  },
  {
   "cell_type": "code",
   "execution_count": null,
   "id": "d105e905-2778-4096-baf9-49b37cbb07e7",
   "metadata": {},
   "outputs": [],
   "source": [
    "# Sort a list of integers into positive and negative integers lists.\n",
    "# [1,2,3,4,5,6,-1,-2,-3,-4,-5,0]"
   ]
  },
  {
   "cell_type": "code",
   "execution_count": 41,
   "id": "c20d7971-c0f1-4c28-be70-db38df91cd73",
   "metadata": {},
   "outputs": [],
   "source": [
    "l4=[1,2,3,4,5,6,-1,-2,-3,-4,-5,0]"
   ]
  },
  {
   "cell_type": "code",
   "execution_count": 42,
   "id": "80007d27-a4b8-46e3-a9aa-26f75cba100d",
   "metadata": {},
   "outputs": [],
   "source": [
    "postive = [i for i in l4 if i>0]"
   ]
  },
  {
   "cell_type": "code",
   "execution_count": 43,
   "id": "bab8b936-6911-444a-b5dc-baf7bb74dce6",
   "metadata": {},
   "outputs": [],
   "source": [
    "negative = [i for i in l4 if i<0]"
   ]
  },
  {
   "cell_type": "code",
   "execution_count": 46,
   "id": "49722117-1596-4072-9f46-3bad8f770137",
   "metadata": {},
   "outputs": [
    {
     "name": "stdout",
     "output_type": "stream",
     "text": [
      "[1, 2, 3, 4, 5, 6] \n",
      " [-1, -2, -3, -4, -5]\n"
     ]
    }
   ],
   "source": [
    "print(postive,negative,sep='\\n')"
   ]
  },
  {
   "cell_type": "code",
   "execution_count": null,
   "id": "02d9552e-7d95-4810-b3b2-38e8a71f86ad",
   "metadata": {},
   "outputs": [],
   "source": []
  }
 ],
 "metadata": {
  "kernelspec": {
   "display_name": "Python 3 (ipykernel)",
   "language": "python",
   "name": "python3"
  },
  "language_info": {
   "codemirror_mode": {
    "name": "ipython",
    "version": 3
   },
   "file_extension": ".py",
   "mimetype": "text/x-python",
   "name": "python",
   "nbconvert_exporter": "python",
   "pygments_lexer": "ipython3",
   "version": "3.10.8"
  }
 },
 "nbformat": 4,
 "nbformat_minor": 5
}
