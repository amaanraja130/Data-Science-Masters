{
 "cells": [
  {
   "cell_type": "markdown",
   "id": "fbfd5a3e-d9f2-4c52-9e08-9e36cff0111b",
   "metadata": {},
   "source": [
    "# Assignment"
   ]
  },
  {
   "cell_type": "markdown",
   "id": "4e059cfe-dcb3-4d25-813a-0cb16bf53661",
   "metadata": {},
   "source": [
    "### Ans1)"
   ]
  },
  {
   "cell_type": "markdown",
   "id": "3f7ec15b-568f-46d2-aabc-810c3e18d907",
   "metadata": {},
   "source": [
    "The three measure of central tendency\n",
    "1) Mean\n",
    "2) Medain\n",
    "3) Mode"
   ]
  },
  {
   "cell_type": "markdown",
   "id": "be456982-12f1-4590-80c1-b3144d906475",
   "metadata": {},
   "source": [
    "### Ans2)"
   ]
  },
  {
   "cell_type": "markdown",
   "id": "e4c58f06-e2d9-4669-a820-fa0a0624e05c",
   "metadata": {},
   "source": [
    "The mean, median, and mode are measures of central tendency, which describe the center of a dataset. Here are their definitions and differences:\n",
    "\n",
    "1) Mean: The mean, also known as the average, is the sum of all the values in a dataset divided by the number of values. The mean is sensitive to extreme values, so if there are outliers in the data, the mean can be skewed.\n",
    "\n",
    "2) Median: The median is the middle value in a dataset when the values are arranged in numerical order. If there is an even number of values, the median is the average of the two middle values. The median is less sensitive to outliers than the mean, making it a more robust measure of central tendency.\n",
    "\n",
    "3) Mode: The mode is the value that appears most frequently in a dataset. If there is no value that appears more than once, the dataset is said to have no mode. The mode is useful for describing categorical data, such as the most common color or type of car."
   ]
  },
  {
   "cell_type": "markdown",
   "id": "11c65c3e-2fc4-43ab-b008-90b52af77a07",
   "metadata": {},
   "source": [
    "To use these measures of central tendency, you first need to decide which one is appropriate for your data. For example, if your data is skewed or has outliers, you may want to use the median instead of the mean. If your data is categorical, you may want to use the mode. Once you have chosen a measure, you can calculate it and use it to summarize your dataset. Keep in mind that these measures are just one aspect of your data, and you may need to look at other statistics or visualizations to fully understand it."
   ]
  },
  {
   "cell_type": "code",
   "execution_count": 27,
   "id": "c9aeefd4-363f-4a86-a04f-8c10c37c936e",
   "metadata": {},
   "outputs": [],
   "source": [
    "import numpy as np"
   ]
  },
  {
   "cell_type": "markdown",
   "id": "92b1d551-fa32-4fbe-9e24-126865f2357d",
   "metadata": {},
   "source": [
    "### Ans3)"
   ]
  },
  {
   "cell_type": "code",
   "execution_count": 2,
   "id": "01c8e512-05e9-497b-a6ad-b89eab6a947b",
   "metadata": {},
   "outputs": [],
   "source": [
    "lst=[178,177,176,177,178.2,178,175,179,180,175,178.9,176.2,177,172.5,178,176.5]"
   ]
  },
  {
   "cell_type": "code",
   "execution_count": 8,
   "id": "4b9298bd-ca7f-461e-bb76-60d1ff15d87b",
   "metadata": {},
   "outputs": [],
   "source": [
    "mean=np.mean(lst)"
   ]
  },
  {
   "cell_type": "code",
   "execution_count": 9,
   "id": "f95d0f37-eaa9-445a-a970-24a2502f9982",
   "metadata": {},
   "outputs": [
    {
     "data": {
      "text/plain": [
       "177.01875"
      ]
     },
     "execution_count": 9,
     "metadata": {},
     "output_type": "execute_result"
    }
   ],
   "source": [
    "mean"
   ]
  },
  {
   "cell_type": "code",
   "execution_count": 10,
   "id": "0d7e9806-ca10-4904-97ef-f16f634ca46a",
   "metadata": {},
   "outputs": [],
   "source": [
    "median=np.median(lst)"
   ]
  },
  {
   "cell_type": "code",
   "execution_count": 12,
   "id": "34ec19f0-f3b7-4305-af16-5efdeaf72c9b",
   "metadata": {},
   "outputs": [
    {
     "data": {
      "text/plain": [
       "177.0"
      ]
     },
     "execution_count": 12,
     "metadata": {},
     "output_type": "execute_result"
    }
   ],
   "source": [
    "median"
   ]
  },
  {
   "cell_type": "code",
   "execution_count": 6,
   "id": "7fc5d565-738a-4056-9a5c-49778d2d8f7d",
   "metadata": {},
   "outputs": [],
   "source": [
    "from scipy import stats"
   ]
  },
  {
   "cell_type": "code",
   "execution_count": 13,
   "id": "bb794e44-380c-496d-b772-6d762f007e5c",
   "metadata": {},
   "outputs": [
    {
     "name": "stderr",
     "output_type": "stream",
     "text": [
      "/tmp/ipykernel_91/3206429229.py:1: FutureWarning: Unlike other reduction functions (e.g. `skew`, `kurtosis`), the default behavior of `mode` typically preserves the axis it acts along. In SciPy 1.11.0, this behavior will change: the default value of `keepdims` will become False, the `axis` over which the statistic is taken will be eliminated, and the value None will no longer be accepted. Set `keepdims` to True or False to avoid this warning.\n",
      "  mode=stats.mode(lst)\n"
     ]
    }
   ],
   "source": [
    "mode=stats.mode(lst)"
   ]
  },
  {
   "cell_type": "code",
   "execution_count": 14,
   "id": "af896ac7-8477-448c-bd86-389e160bf607",
   "metadata": {},
   "outputs": [
    {
     "data": {
      "text/plain": [
       "ModeResult(mode=array([177.]), count=array([3]))"
      ]
     },
     "execution_count": 14,
     "metadata": {},
     "output_type": "execute_result"
    }
   ],
   "source": [
    "mode"
   ]
  },
  {
   "cell_type": "markdown",
   "id": "1b145e0b-d17e-4667-aa73-933f0f344cf6",
   "metadata": {},
   "source": [
    "### Ans4)"
   ]
  },
  {
   "cell_type": "code",
   "execution_count": 15,
   "id": "8e9c742f-15af-4831-8139-89abc2d94f4b",
   "metadata": {},
   "outputs": [],
   "source": [
    "lst1=[178,177,176,177,178.2,178,175,179,180,175,178.9,176.2,177,172.5,178,176.5]"
   ]
  },
  {
   "cell_type": "code",
   "execution_count": 17,
   "id": "1a62cf14-874e-41bd-bf92-b5bec8df7fc1",
   "metadata": {},
   "outputs": [],
   "source": [
    "std=np.std(lst1)"
   ]
  },
  {
   "cell_type": "code",
   "execution_count": 18,
   "id": "54aefd72-b936-4946-a0d5-4fe8eba89b37",
   "metadata": {},
   "outputs": [
    {
     "data": {
      "text/plain": [
       "1.7885814036548633"
      ]
     },
     "execution_count": 18,
     "metadata": {},
     "output_type": "execute_result"
    }
   ],
   "source": [
    "std"
   ]
  },
  {
   "cell_type": "markdown",
   "id": "75424893-b01a-438f-a879-aa7d4c78ccf5",
   "metadata": {},
   "source": [
    "### Ans5)"
   ]
  },
  {
   "cell_type": "markdown",
   "id": "a63d0d1d-f2ef-4df5-b4b9-8fec3410b903",
   "metadata": {},
   "source": [
    "Measures of dispersion, such as range, variance, and standard deviation, are used to describe the spread or variability of a dataset. Here's a brief overview of these measures and how they are used:\n",
    "1) Range: The range is the difference between the maximum and minimum values in a dataset. It gives a rough idea of the spread of the data but can be influenced by extreme values.\n",
    "\n",
    "2) Variance: The variance is the average of the squared differences from the mean. It measures how much the data deviates from the mean. \n",
    "\n",
    "3) Standard deviation: The standard deviation is the square root of the variance. It is a commonly used measure of dispersion that indicates the typical distance between each data point and the mean. \n"
   ]
  },
  {
   "cell_type": "markdown",
   "id": "aef24963-68b2-4ed6-8cde-20b60a33c5a3",
   "metadata": {},
   "source": [
    " For example, if a company wants to analyze the salaries of its employees, it may use the standard deviation to see how much the salaries vary from the average, which can inform decisions about compensation and benefits."
   ]
  },
  {
   "cell_type": "markdown",
   "id": "6ef3bb3f-594a-4223-8912-a9e4aaba81d8",
   "metadata": {},
   "source": [
    "### Ans6)"
   ]
  },
  {
   "cell_type": "markdown",
   "id": "ab79dd5d-d828-4b16-b634-b4ffd1aa07d1",
   "metadata": {},
   "source": [
    "A Venn diagram consists of overlapping circles, each representing a set or group. The areas where the circles overlap represent the elements or objects that belong to both sets. The areas outside the circles represent the elements that belong to only one set.A Venn diagram is a type of diagram that represents the relationships between sets or groups of objects. It is named after John Venn, a British logician and philosopher who introduced the concept in the 1880s.\n",
    "\n",
    "Venn diagrams can be used to visually represent complex sets and their relationships, making it easier to understand and analyze data. They can also be used to illustrate logical relationships, such as in syllogisms or to show the commonalities and differences between groups."
   ]
  },
  {
   "cell_type": "markdown",
   "id": "45fdce14-4ad5-4455-8e8e-036f29ed9985",
   "metadata": {},
   "source": [
    "### Ans7)"
   ]
  },
  {
   "cell_type": "code",
   "execution_count": 3,
   "id": "a8d0bf36-a3a1-44c6-86e6-4c565184f758",
   "metadata": {},
   "outputs": [],
   "source": [
    "A = {2,3,4,5,6,7}\n",
    "B = {0,2,6,8,10}"
   ]
  },
  {
   "cell_type": "code",
   "execution_count": 7,
   "id": "54b892a7-662a-4863-bee0-f6f039145f6d",
   "metadata": {},
   "outputs": [
    {
     "data": {
      "text/plain": [
       "{0, 2, 3, 4, 5, 6, 7, 8, 10}"
      ]
     },
     "execution_count": 7,
     "metadata": {},
     "output_type": "execute_result"
    }
   ],
   "source": [
    "intersection=A|B\n",
    "intersection"
   ]
  },
  {
   "cell_type": "code",
   "execution_count": 9,
   "id": "cb1089e6-2d25-4773-bf25-ffd662558cd3",
   "metadata": {},
   "outputs": [
    {
     "data": {
      "text/plain": [
       "{2, 6}"
      ]
     },
     "execution_count": 9,
     "metadata": {},
     "output_type": "execute_result"
    }
   ],
   "source": [
    "union=A&B\n",
    "union"
   ]
  },
  {
   "cell_type": "markdown",
   "id": "fd2a8b55-8257-46e1-a0f0-816e37855e41",
   "metadata": {},
   "source": [
    "### Ans8)"
   ]
  },
  {
   "cell_type": "markdown",
   "id": "1d25ddde-9583-4ba6-a77f-b72ad289e099",
   "metadata": {},
   "source": [
    "Skewness is a measure of the asymmetry of a probability distribution. If a distribution is symmetrical, then it has zero skewness. However, if the distribution is not symmetrical, then it has either a positive or negative skewness."
   ]
  },
  {
   "cell_type": "markdown",
   "id": "1a6cfe67-2751-4e3e-8e0f-fbb9dfe440e7",
   "metadata": {},
   "source": [
    "1) Positive skewness means that the distribution has a longer tail on the positive side of the distribution. In other words, the mean of the distribution is greater than the median. This typically occurs when the data has a few very large values that pull the mean up.\n",
    "\n",
    "2) Negative skewness means that the distribution has a longer tail on the negative side of the distribution. In other words, the mean of the distribution is less than the median. This typically occurs when the data has a few very small values that pull the mean down."
   ]
  },
  {
   "cell_type": "markdown",
   "id": "65ed9207-5d70-4a32-9862-2f057f44165e",
   "metadata": {},
   "source": [
    "### Ans9)"
   ]
  },
  {
   "cell_type": "markdown",
   "id": "ff8e3e8b-072b-4af4-b983-7fc1cddff709",
   "metadata": {},
   "source": [
    "If a data is right skewed, then the median will typically be less than the mean. This is because the right-skewed distribution has a longer tail on the positive side, which pulls the mean towards the tail, making it larger than the median."
   ]
  },
  {
   "cell_type": "markdown",
   "id": "3bef45b4-22ba-44b6-836a-e92f6fabd78e",
   "metadata": {},
   "source": [
    "### Ans10)"
   ]
  },
  {
   "cell_type": "markdown",
   "id": "f2ff3a62-6c1a-4a4c-84ab-02f07c70788f",
   "metadata": {},
   "source": [
    "Covariance and correlation are both measures of the relationship between two variables in a dataset, but they have different interpretations and uses in statistical analysis."
   ]
  },
  {
   "cell_type": "markdown",
   "id": "bb5b755c-6671-41d6-83b4-b58f8e1882aa",
   "metadata": {},
   "source": [
    "1) Covariance is a measure of how two variables vary together. It measures the degree to which changes in one variable are associated with changes in the other variable. Specifically, the covariance between two variables is the average of the product of their deviations from their respective means. A positive covariance indicates that the two variables tend to move in the same direction, while a negative covariance indicates that they tend to move in opposite directions. However, the magnitude of the covariance depends on the units of measurement of the two variables, which makes it difficult to compare covariances across different datasets.\n",
    "\n",
    "2) Correlation, on the other hand, is a standardized measure of the relationship between two variables. It is calculated by dividing the covariance between the two variables by the product of their standard deviations. The resulting correlation coefficient ranges from -1 to 1, with a value of 1 indicating a perfect positive correlation, a value of -1 indicating a perfect negative correlation, and a value of 0 indicating no correlation. Correlation coefficients can be compared across different datasets because they are standardized."
   ]
  },
  {
   "cell_type": "markdown",
   "id": "37459d0f-d923-4f68-b64b-324fd788e333",
   "metadata": {},
   "source": [
    "Both covariance and correlation are used in statistical analysis to understand the relationship between two variables. However, correlation is a more commonly used measure because it is standardized and can be compared across different datasets. "
   ]
  },
  {
   "cell_type": "markdown",
   "id": "5e2bd61c-b930-4365-af50-76802834d432",
   "metadata": {},
   "source": [
    "### Ans11)"
   ]
  },
  {
   "cell_type": "code",
   "execution_count": 10,
   "id": "986749e3-4972-4fef-90fe-ca4d18f52795",
   "metadata": {},
   "outputs": [],
   "source": [
    "import seaborn as sns"
   ]
  },
  {
   "cell_type": "code",
   "execution_count": 16,
   "id": "920f7fc2-f030-413a-82e5-d68e163d2050",
   "metadata": {},
   "outputs": [
    {
     "data": {
      "text/html": [
       "<div>\n",
       "<style scoped>\n",
       "    .dataframe tbody tr th:only-of-type {\n",
       "        vertical-align: middle;\n",
       "    }\n",
       "\n",
       "    .dataframe tbody tr th {\n",
       "        vertical-align: top;\n",
       "    }\n",
       "\n",
       "    .dataframe thead th {\n",
       "        text-align: right;\n",
       "    }\n",
       "</style>\n",
       "<table border=\"1\" class=\"dataframe\">\n",
       "  <thead>\n",
       "    <tr style=\"text-align: right;\">\n",
       "      <th></th>\n",
       "      <th>Year</th>\n",
       "      <th>Country</th>\n",
       "      <th>Spending_USD</th>\n",
       "      <th>Life_Expectancy</th>\n",
       "    </tr>\n",
       "  </thead>\n",
       "  <tbody>\n",
       "    <tr>\n",
       "      <th>0</th>\n",
       "      <td>1970</td>\n",
       "      <td>Germany</td>\n",
       "      <td>252.311</td>\n",
       "      <td>70.6</td>\n",
       "    </tr>\n",
       "    <tr>\n",
       "      <th>1</th>\n",
       "      <td>1970</td>\n",
       "      <td>France</td>\n",
       "      <td>192.143</td>\n",
       "      <td>72.2</td>\n",
       "    </tr>\n",
       "    <tr>\n",
       "      <th>2</th>\n",
       "      <td>1970</td>\n",
       "      <td>Great Britain</td>\n",
       "      <td>123.993</td>\n",
       "      <td>71.9</td>\n",
       "    </tr>\n",
       "    <tr>\n",
       "      <th>3</th>\n",
       "      <td>1970</td>\n",
       "      <td>Japan</td>\n",
       "      <td>150.437</td>\n",
       "      <td>72.0</td>\n",
       "    </tr>\n",
       "    <tr>\n",
       "      <th>4</th>\n",
       "      <td>1970</td>\n",
       "      <td>USA</td>\n",
       "      <td>326.961</td>\n",
       "      <td>70.9</td>\n",
       "    </tr>\n",
       "  </tbody>\n",
       "</table>\n",
       "</div>"
      ],
      "text/plain": [
       "   Year        Country  Spending_USD  Life_Expectancy\n",
       "0  1970        Germany       252.311             70.6\n",
       "1  1970         France       192.143             72.2\n",
       "2  1970  Great Britain       123.993             71.9\n",
       "3  1970          Japan       150.437             72.0\n",
       "4  1970            USA       326.961             70.9"
      ]
     },
     "execution_count": 16,
     "metadata": {},
     "output_type": "execute_result"
    }
   ],
   "source": [
    "df=sns.load_dataset(\"healthexp\")\n",
    "df.head()"
   ]
  },
  {
   "cell_type": "code",
   "execution_count": 19,
   "id": "33ff7405-39a8-437c-a73c-c081d9871104",
   "metadata": {},
   "outputs": [],
   "source": [
    "Avg_exp=df['Life_Expectancy'].mean()"
   ]
  },
  {
   "cell_type": "code",
   "execution_count": 22,
   "id": "a770f6ac-e457-4d0c-93e0-1ec5acaf6b4f",
   "metadata": {},
   "outputs": [
    {
     "name": "stdout",
     "output_type": "stream",
     "text": [
      "Avg life expectancy is :77.90948905109488\n"
     ]
    }
   ],
   "source": [
    "print(f\"Avg life expectancy is :{Avg_exp}\")"
   ]
  },
  {
   "cell_type": "markdown",
   "id": "937b0be6-974d-4af9-8854-690818a65298",
   "metadata": {},
   "source": [
    "### Ans12)"
   ]
  },
  {
   "cell_type": "markdown",
   "id": "70aca92f-5cfd-4654-8bf5-8ed546e4f66f",
   "metadata": {},
   "source": [
    "For a normal distribution, the three measures of central tendency, which are the mean, median, and mode, are all equal. This means that the peak of the distribution (mode), the middle of the distribution (median), and the average value of the distribution (mean) are all at the same point."
   ]
  },
  {
   "cell_type": "markdown",
   "id": "4ae9dd74-d1d5-4fb5-b4e9-22a59b10f6d5",
   "metadata": {},
   "source": [
    "This property of normal distributions is due to the symmetrical nature of the distribution. In a normal distribution, the data is evenly distributed around the mean, with half of the data on either side of the mean. This results in the median being equal to the mean, as the median represents the middle value of the distribution."
   ]
  },
  {
   "cell_type": "markdown",
   "id": "a9142a48-fc3f-4f5e-ad01-7c44ae7c0f79",
   "metadata": {},
   "source": [
    "### Ans13)"
   ]
  },
  {
   "cell_type": "markdown",
   "id": "7bce882f-25f6-4b96-980a-d9be79a0d650",
   "metadata": {},
   "source": [
    "Covariance and correlation are both measures of the relationship between two variables in a dataset, but they differ in several ways:\n",
    "\n",
    "1) Units of measurement: The units of covariance are the product of the units of the two variables being measured. For example, if one variable is measured in meters and the other in kilograms, the covariance will be in meters times kilograms. \n",
    "\n",
    "3) Range of values: The range of values for covariance is unbounded, meaning that it can take any positive or negative value. In contrast, correlation coefficients range from -1 to 1, where a correlation of -1 indicates a perfect negative relationship, a correlation of 0 indicates no relationship, and a correlation of 1 indicates a perfect positive relationship.\n",
    "\n",
    "3) Interpretation: Covariance measures the direction and strength of the linear relationship between two variables, but it does not provide a standardized measure of the strength of the relationship. \n",
    "\n"
   ]
  },
  {
   "cell_type": "markdown",
   "id": "17a6aeca-9ea1-46d4-a6b5-412c2331424d",
   "metadata": {},
   "source": [
    "### Ans14)"
   ]
  },
  {
   "cell_type": "markdown",
   "id": "430f5286-08e7-40e5-b21f-2823ddecd5ee",
   "metadata": {},
   "source": [
    "Outliers can have a significant impact on measures of central tendency and dispersion, often resulting in distorted or misleading summaries of the data."
   ]
  },
  {
   "cell_type": "code",
   "execution_count": 52,
   "id": "67635e6b-38c3-4ceb-8e39-f8e89302122f",
   "metadata": {},
   "outputs": [],
   "source": [
    "# Measure of Central Tendency Without Outliers"
   ]
  },
  {
   "cell_type": "code",
   "execution_count": 39,
   "id": "883655b4-014d-4510-9a14-728281212323",
   "metadata": {},
   "outputs": [],
   "source": [
    "data = [2,4,5,8,10]"
   ]
  },
  {
   "cell_type": "code",
   "execution_count": 40,
   "id": "6766e2d7-e6da-42ef-8ace-92d075da9482",
   "metadata": {},
   "outputs": [
    {
     "data": {
      "text/plain": [
       "5.8"
      ]
     },
     "execution_count": 40,
     "metadata": {},
     "output_type": "execute_result"
    }
   ],
   "source": [
    "np.mean(data)"
   ]
  },
  {
   "cell_type": "code",
   "execution_count": 41,
   "id": "d1937e2a-c876-4490-82ef-b8dd5148e942",
   "metadata": {},
   "outputs": [
    {
     "data": {
      "text/plain": [
       "5.0"
      ]
     },
     "execution_count": 41,
     "metadata": {},
     "output_type": "execute_result"
    }
   ],
   "source": [
    "np.median(data)"
   ]
  },
  {
   "cell_type": "code",
   "execution_count": 53,
   "id": "5ccf24ae-a38f-4461-8d2e-08d094ae2993",
   "metadata": {},
   "outputs": [],
   "source": [
    "# Measure of Central Tendency With Outliers"
   ]
  },
  {
   "cell_type": "code",
   "execution_count": 49,
   "id": "4c8f96c6-967b-41c3-806b-2d14e245e742",
   "metadata": {},
   "outputs": [],
   "source": [
    "data = [2,4,5,8,10,1000]"
   ]
  },
  {
   "cell_type": "code",
   "execution_count": 50,
   "id": "9a25aa36-bb00-4faf-a5e8-4f21607700ba",
   "metadata": {},
   "outputs": [
    {
     "data": {
      "text/plain": [
       "171.5"
      ]
     },
     "execution_count": 50,
     "metadata": {},
     "output_type": "execute_result"
    }
   ],
   "source": [
    "np.mean(data)"
   ]
  },
  {
   "cell_type": "code",
   "execution_count": 51,
   "id": "a62a5dcc-b10d-4f51-ad52-cdd61ee71340",
   "metadata": {},
   "outputs": [
    {
     "data": {
      "text/plain": [
       "6.5"
      ]
     },
     "execution_count": 51,
     "metadata": {},
     "output_type": "execute_result"
    }
   ],
   "source": [
    "np.median(data)"
   ]
  },
  {
   "cell_type": "code",
   "execution_count": 54,
   "id": "1908f1f5-251d-4a93-9926-fbe0f9689961",
   "metadata": {},
   "outputs": [],
   "source": [
    "# Measure of Dispersion Without Outliers"
   ]
  },
  {
   "cell_type": "code",
   "execution_count": 55,
   "id": "55f2653b-c05d-44cd-bb7e-76dea265757b",
   "metadata": {},
   "outputs": [],
   "source": [
    "data = [2,4,5,8,10]"
   ]
  },
  {
   "cell_type": "code",
   "execution_count": 56,
   "id": "7ba23341-b329-4565-b746-93dedd454d72",
   "metadata": {},
   "outputs": [
    {
     "data": {
      "text/plain": [
       "2.85657137141714"
      ]
     },
     "execution_count": 56,
     "metadata": {},
     "output_type": "execute_result"
    }
   ],
   "source": [
    "np.std(data)"
   ]
  },
  {
   "cell_type": "code",
   "execution_count": 58,
   "id": "f229b209-506d-4445-929f-6732aa72ddc9",
   "metadata": {},
   "outputs": [
    {
     "data": {
      "text/plain": [
       "8.16"
      ]
     },
     "execution_count": 58,
     "metadata": {},
     "output_type": "execute_result"
    }
   ],
   "source": [
    "np.var(data)"
   ]
  },
  {
   "cell_type": "code",
   "execution_count": 59,
   "id": "0ee33bea-0c43-49d8-962f-5bac2d231f0f",
   "metadata": {},
   "outputs": [],
   "source": [
    "# Measure of Dispersion With Outliers"
   ]
  },
  {
   "cell_type": "code",
   "execution_count": 60,
   "id": "9687fef0-bbb4-4537-8cda-e95939183611",
   "metadata": {},
   "outputs": [],
   "source": [
    "data = [2,4,5,8,10,1000]"
   ]
  },
  {
   "cell_type": "code",
   "execution_count": 61,
   "id": "3af52ae4-4c5b-4149-abcf-e0aa22da5d28",
   "metadata": {},
   "outputs": [
    {
     "data": {
      "text/plain": [
       "370.52564013843903"
      ]
     },
     "execution_count": 61,
     "metadata": {},
     "output_type": "execute_result"
    }
   ],
   "source": [
    "np.std(data)"
   ]
  },
  {
   "cell_type": "code",
   "execution_count": 62,
   "id": "96bea9ed-9394-4724-b70a-0826fefc4fa8",
   "metadata": {},
   "outputs": [
    {
     "data": {
      "text/plain": [
       "137289.25"
      ]
     },
     "execution_count": 62,
     "metadata": {},
     "output_type": "execute_result"
    }
   ],
   "source": [
    "np.var(data)"
   ]
  },
  {
   "cell_type": "code",
   "execution_count": null,
   "id": "28f15728-cb49-4dfa-9dd4-3a0482657697",
   "metadata": {},
   "outputs": [],
   "source": []
  }
 ],
 "metadata": {
  "kernelspec": {
   "display_name": "Python 3 (ipykernel)",
   "language": "python",
   "name": "python3"
  },
  "language_info": {
   "codemirror_mode": {
    "name": "ipython",
    "version": 3
   },
   "file_extension": ".py",
   "mimetype": "text/x-python",
   "name": "python",
   "nbconvert_exporter": "python",
   "pygments_lexer": "ipython3",
   "version": "3.10.8"
  }
 },
 "nbformat": 4,
 "nbformat_minor": 5
}
