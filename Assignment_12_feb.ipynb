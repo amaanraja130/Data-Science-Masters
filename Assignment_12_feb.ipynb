{
 "cells": [
  {
   "cell_type": "markdown",
   "id": "ef5f00ea-c276-401b-b465-ae3752dbe4b8",
   "metadata": {},
   "source": [
    "# Assignment"
   ]
  },
  {
   "cell_type": "markdown",
   "id": "8f84ac16-3562-4942-92ec-bb64700b21c8",
   "metadata": {},
   "source": [
    "### Ans1)"
   ]
  },
  {
   "cell_type": "markdown",
   "id": "8eba90aa-da1b-4305-b5e5-64fc59e06628",
   "metadata": {},
   "source": [
    "In Python, an exception is an error that occurs during program execution that disrupts the normal flow of control. Exceptions can be raised explicitly by the programmer or they can be raised automatically by the Python interpreter when it encounters an error, such as trying to divide by zero or accessing an element of a list that doesn't exist.\n",
    "\n",
    "Syntax errors, on the other hand, occur when the Python interpreter cannot understand the code because it violates the rules of the Python language. These errors occur before the code is executed and are often due to typos, missing or incorrect punctuation, or other mistakes in the code.\n",
    "\n",
    "The main difference between exceptions and syntax errors is that exceptions occur during program execution, while syntax errors occur before the code is executed. Exceptions can be caught and handled by the programmer using try-except blocks, while syntax errors must be fixed by correcting the code."
   ]
  },
  {
   "cell_type": "markdown",
   "id": "6bedf4dc-2d52-4539-8101-6099a8de2afd",
   "metadata": {},
   "source": [
    "### Ans2)"
   ]
  },
  {
   "cell_type": "markdown",
   "id": "2fa9a5ae-60b5-4f44-bdc6-6beca6bd5aa8",
   "metadata": {},
   "source": [
    "When an exception is not handled in Python, the interpreter prints an error message and terminates the program abruptly. This means that any code that was scheduled to be executed after the point where the exception occurred will not be executed.\n",
    "for ex:-"
   ]
  },
  {
   "cell_type": "code",
   "execution_count": 1,
   "id": "c4fcc85a-88fa-4899-8cf8-a1a75242951b",
   "metadata": {},
   "outputs": [
    {
     "name": "stdout",
     "output_type": "stream",
     "text": [
      "No error\n"
     ]
    },
    {
     "ename": "ZeroDivisionError",
     "evalue": "division by zero",
     "output_type": "error",
     "traceback": [
      "\u001b[0;31m---------------------------------------------------------------------------\u001b[0m",
      "\u001b[0;31mZeroDivisionError\u001b[0m                         Traceback (most recent call last)",
      "Cell \u001b[0;32mIn[1], line 4\u001b[0m\n\u001b[1;32m      2\u001b[0m b \u001b[38;5;241m=\u001b[39m \u001b[38;5;241m0\u001b[39m\n\u001b[1;32m      3\u001b[0m \u001b[38;5;28mprint\u001b[39m(\u001b[38;5;124m\"\u001b[39m\u001b[38;5;124mNo error\u001b[39m\u001b[38;5;124m\"\u001b[39m)\n\u001b[0;32m----> 4\u001b[0m \u001b[38;5;28mprint\u001b[39m(\u001b[43ma\u001b[49m\u001b[38;5;241;43m/\u001b[39;49m\u001b[43mb\u001b[49m)\n\u001b[1;32m      5\u001b[0m \u001b[38;5;28mprint\u001b[39m(\u001b[38;5;124m\"\u001b[39m\u001b[38;5;124merror\u001b[39m\u001b[38;5;124m\"\u001b[39m)\n",
      "\u001b[0;31mZeroDivisionError\u001b[0m: division by zero"
     ]
    }
   ],
   "source": [
    "a = 100\n",
    "b = 0\n",
    "print(\"No error\")\n",
    "print(a/b)\n",
    "print(\"error\")"
   ]
  },
  {
   "cell_type": "markdown",
   "id": "a29a77b6-6e6a-44a3-a58c-588b1eee2c36",
   "metadata": {},
   "source": [
    "As you can see that ZeroDivisionError exception occurred on the line where the division was attempted. Without exception handling code the program will not terminate at this point and further lines wont be excuted. "
   ]
  },
  {
   "cell_type": "markdown",
   "id": "62842d0a-0e09-4f02-9c47-1f325a684f4c",
   "metadata": {},
   "source": [
    "### Ans3)"
   ]
  },
  {
   "cell_type": "markdown",
   "id": "104d36a9-4557-4ceb-9e0e-b4454ef6cf50",
   "metadata": {},
   "source": [
    "In Python, we can catch and handle exceptions using the try-except statement. The try block contains the code that may raise an exception, while the except block specifies the code to be executed if an exception of a specific type is raised.\n",
    "for ex:-"
   ]
  },
  {
   "cell_type": "code",
   "execution_count": 5,
   "id": "5e646344-b1bd-48ce-bea6-e529a3d1b8e8",
   "metadata": {},
   "outputs": [
    {
     "name": "stdout",
     "output_type": "stream",
     "text": [
      "There is something wrong with my code : division by zero\n",
      "11\n"
     ]
    }
   ],
   "source": [
    "a=10\n",
    "b=0\n",
    "try:\n",
    "    print(a/b)\n",
    "except Exception as e:\n",
    "    print(\"There is something wrong with my code :\",e)\n",
    "c=11\n",
    "print(c)"
   ]
  },
  {
   "cell_type": "markdown",
   "id": "fc072d0a-c829-435b-812f-8b9c3255e4ac",
   "metadata": {},
   "source": [
    "### Ans4)"
   ]
  },
  {
   "cell_type": "code",
   "execution_count": 9,
   "id": "2decb97d-d062-4bc5-b0b6-d83f4686d6c1",
   "metadata": {},
   "outputs": [],
   "source": [
    "#try else\n",
    "def Amaan(a,b):\n",
    "    try:\n",
    "        a=a/b\n",
    "    except Exception as e:\n",
    "        print(\"there is something wrong with my code:\",e)\n",
    "    else:\n",
    "        print(\"my code is good :\",a)"
   ]
  },
  {
   "cell_type": "code",
   "execution_count": 10,
   "id": "c165af50-8386-49ca-89cb-968cceee536a",
   "metadata": {},
   "outputs": [
    {
     "name": "stdout",
     "output_type": "stream",
     "text": [
      "there is something wrong with my code: division by zero\n"
     ]
    }
   ],
   "source": [
    "Amaan(10,0)"
   ]
  },
  {
   "cell_type": "code",
   "execution_count": 11,
   "id": "ebc700a6-7251-4efb-8759-a8a9b0d65607",
   "metadata": {},
   "outputs": [
    {
     "name": "stdout",
     "output_type": "stream",
     "text": [
      "my code is good : 5.0\n"
     ]
    }
   ],
   "source": [
    "Amaan(10,2)"
   ]
  },
  {
   "cell_type": "code",
   "execution_count": 2,
   "id": "d7951759-7abd-4f0a-96b2-66b84fecd85a",
   "metadata": {},
   "outputs": [],
   "source": [
    "#finally\n",
    "def Amaan1(a,b):\n",
    "    try:\n",
    "        a=a/b\n",
    "    except Exception as e:\n",
    "        print(\"there is something wrong with my code:\",e)\n",
    "    else:\n",
    "        print(\"my code is good :\",a)\n",
    "    finally:\n",
    "        print(\"Thank you for executing code\")"
   ]
  },
  {
   "cell_type": "code",
   "execution_count": 4,
   "id": "8f226b60-b8af-4626-8e3c-9e5525ce7273",
   "metadata": {},
   "outputs": [
    {
     "name": "stdout",
     "output_type": "stream",
     "text": [
      "my code is good : 5.0\n",
      "Thank you for executing code\n"
     ]
    }
   ],
   "source": [
    "Amaan1(10,2)"
   ]
  },
  {
   "cell_type": "code",
   "execution_count": 5,
   "id": "4568ca0c-b9d4-41a4-a559-e06f1cfc7907",
   "metadata": {},
   "outputs": [
    {
     "name": "stdout",
     "output_type": "stream",
     "text": [
      "there is something wrong with my code: division by zero\n",
      "Thank you for executing code\n"
     ]
    }
   ],
   "source": [
    "Amaan(10,0)"
   ]
  },
  {
   "cell_type": "code",
   "execution_count": 1,
   "id": "8c387127-0560-424c-be01-a777cfd1a59f",
   "metadata": {},
   "outputs": [],
   "source": [
    "# rais\n",
    "class validateamount(Exception):\n",
    "    def __init__(self,msg):\n",
    "        self.msg=msg"
   ]
  },
  {
   "cell_type": "code",
   "execution_count": 2,
   "id": "45af655b-9e4b-44ef-ab0c-c6be9f94b428",
   "metadata": {},
   "outputs": [],
   "source": [
    "def validate_amount(amount):\n",
    "    if amount<=0:\n",
    "        raise validateamount(\"amount should not be zero or lesser then zero\")\n",
    "    elif amount>50000:\n",
    "        raise validateamount(\"amount is too high\")\n",
    "    else:\n",
    "        print(\"your amount is valid\")"
   ]
  },
  {
   "cell_type": "code",
   "execution_count": 3,
   "id": "c3833d56-481f-4d1a-a4c6-4437dbdc04e7",
   "metadata": {},
   "outputs": [
    {
     "name": "stdin",
     "output_type": "stream",
     "text": [
      "enter amount 5000\n"
     ]
    },
    {
     "name": "stdout",
     "output_type": "stream",
     "text": [
      "your amount is valid\n"
     ]
    }
   ],
   "source": [
    "try:\n",
    "    amount=int(input(\"enter amount\"))\n",
    "    validate_amount(amount)\n",
    "except validateamount as e:\n",
    "        print(e)\n",
    "        "
   ]
  },
  {
   "cell_type": "markdown",
   "id": "d71f9433-1dcb-4bd2-9a00-d023d4e62498",
   "metadata": {},
   "source": [
    "### Ans5)"
   ]
  },
  {
   "cell_type": "markdown",
   "id": "6c957123-91b7-41a0-9e19-4a4b2584d19a",
   "metadata": {},
   "source": [
    "In Python, custom exceptions are user-defined exceptions that allow programmers to create their own error types to handle specific situations in their code. These exceptions can be raised and caught like built-in exceptions, such as TypeError and ValueError.\n",
    "There are several reasons why we might need custom exceptions in our code:\n",
    "\n",
    "1) To provide more meaningful error messages to users of our code.\n",
    "2) To handle specific exceptions that are not covered by the built-in exceptions.\n",
    "3) To simplify our code by grouping multiple related exceptions under a single custom exception class.\n"
   ]
  },
  {
   "cell_type": "code",
   "execution_count": 35,
   "id": "e5b58043-b1af-4741-8f09-0382b13e5d4a",
   "metadata": {},
   "outputs": [],
   "source": [
    "class validateage(Exception):\n",
    "    def __init__(self,msg):\n",
    "        self.msg=msg"
   ]
  },
  {
   "cell_type": "code",
   "execution_count": 36,
   "id": "9bacda1a-a533-4d1f-8b5b-b1d6ad947332",
   "metadata": {},
   "outputs": [],
   "source": [
    "def validate_age(age):\n",
    "    if age<=5:\n",
    "        raise validateage(\"Your ticket is free\")\n",
    "    elif age>60:\n",
    "        raise validateage(\"Your have to pay half price\")\n",
    "    else:\n",
    "        print(\"Pay full amount of ticket\")"
   ]
  },
  {
   "cell_type": "code",
   "execution_count": 39,
   "id": "d7a8d729-f7b1-4327-9bec-f2bdf1534188",
   "metadata": {},
   "outputs": [
    {
     "name": "stdin",
     "output_type": "stream",
     "text": [
      "Enter your age 66\n"
     ]
    },
    {
     "name": "stdout",
     "output_type": "stream",
     "text": [
      "Your have to pay half price\n"
     ]
    }
   ],
   "source": [
    "try:\n",
    "    age=int(input(\"Enter your age\"))\n",
    "    validate_age(age)\n",
    "except validateage as e:\n",
    "    print(e)"
   ]
  },
  {
   "cell_type": "markdown",
   "id": "f0a43ffa-41b8-45de-b04b-44fd29eb9070",
   "metadata": {},
   "source": [
    "### Ans6)"
   ]
  },
  {
   "cell_type": "code",
   "execution_count": 2,
   "id": "7e24ef72-82c1-4fbb-aeba-a14057550402",
   "metadata": {},
   "outputs": [],
   "source": [
    "class Ageerror(Exception):\n",
    "    def __init__(self,age):\n",
    "        self.mssg=f\"You can't drive now try after {18-age} years\"\n",
    "    def __str__(self):\n",
    "        return f\"Ageerror:\\t{self.mssg}\""
   ]
  },
  {
   "cell_type": "code",
   "execution_count": 3,
   "id": "1bc906d6-3192-4275-ba45-4423083d69d5",
   "metadata": {},
   "outputs": [],
   "source": [
    "def validage(age):\n",
    "    if age<18:\n",
    "        raise Ageerror(age)\n",
    "    else:\n",
    "        print(\"You can drive\")"
   ]
  },
  {
   "cell_type": "code",
   "execution_count": 4,
   "id": "71210848-fb89-4a37-8d17-e969d28db3fb",
   "metadata": {},
   "outputs": [
    {
     "name": "stdin",
     "output_type": "stream",
     "text": [
      "enter your age 16\n"
     ]
    },
    {
     "name": "stdout",
     "output_type": "stream",
     "text": [
      "Ageerror:\tYou can't drive now try after 2 years\n"
     ]
    }
   ],
   "source": [
    "try:\n",
    "    age = int(input(\"enter your age\"))\n",
    "    validage(age)\n",
    "except Ageerror as e:\n",
    "    print(e)"
   ]
  },
  {
   "cell_type": "code",
   "execution_count": null,
   "id": "31d801c1-598a-4315-a74c-7292f152b6c8",
   "metadata": {},
   "outputs": [],
   "source": []
  }
 ],
 "metadata": {
  "kernelspec": {
   "display_name": "Python 3 (ipykernel)",
   "language": "python",
   "name": "python3"
  },
  "language_info": {
   "codemirror_mode": {
    "name": "ipython",
    "version": 3
   },
   "file_extension": ".py",
   "mimetype": "text/x-python",
   "name": "python",
   "nbconvert_exporter": "python",
   "pygments_lexer": "ipython3",
   "version": "3.10.8"
  }
 },
 "nbformat": 4,
 "nbformat_minor": 5
}
