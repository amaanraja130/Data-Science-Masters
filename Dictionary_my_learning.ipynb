{
 "cells": [
  {
   "cell_type": "code",
   "execution_count": 61,
   "id": "4426cede-b3ac-4197-b636-4f3fda7da525",
   "metadata": {},
   "outputs": [],
   "source": [
    "d={}"
   ]
  },
  {
   "cell_type": "code",
   "execution_count": 3,
   "id": "779cd816-9759-4431-9771-666c0fca121a",
   "metadata": {},
   "outputs": [
    {
     "data": {
      "text/plain": [
       "dict"
      ]
     },
     "execution_count": 3,
     "metadata": {},
     "output_type": "execute_result"
    }
   ],
   "source": [
    "type(d)"
   ]
  },
  {
   "cell_type": "code",
   "execution_count": 4,
   "id": "df1bf448-fab1-4b09-a8b3-ac5419591e6c",
   "metadata": {},
   "outputs": [],
   "source": [
    "d1= {\"name\":\"Amaan\",\"email_id\": \"Amaan.raja130@gmail.com\",\"number\":23456}"
   ]
  },
  {
   "cell_type": "code",
   "execution_count": 5,
   "id": "7dfdf993-800e-489a-8105-37e5641bbb24",
   "metadata": {},
   "outputs": [
    {
     "data": {
      "text/plain": [
       "dict"
      ]
     },
     "execution_count": 5,
     "metadata": {},
     "output_type": "execute_result"
    }
   ],
   "source": [
    "type(d1)"
   ]
  },
  {
   "cell_type": "code",
   "execution_count": 6,
   "id": "794739f4-1e41-4b90-9f38-0a69b987a00f",
   "metadata": {},
   "outputs": [
    {
     "data": {
      "text/plain": [
       "{'name': 'Amaan', 'email_id': 'Amaan.raja130@gmail.com', 'number': 23456}"
      ]
     },
     "execution_count": 6,
     "metadata": {},
     "output_type": "execute_result"
    }
   ],
   "source": [
    "d1"
   ]
  },
  {
   "cell_type": "code",
   "execution_count": 9,
   "id": "aef7d009-e4b4-437e-9357-934fb6c8b9c6",
   "metadata": {},
   "outputs": [],
   "source": [
    "d2 = {\"name\":\"Amaan\",\"name\":\"Raza\"}"
   ]
  },
  {
   "cell_type": "code",
   "execution_count": 10,
   "id": "1b276294-6094-4ff4-9748-505c92d4856d",
   "metadata": {},
   "outputs": [
    {
     "data": {
      "text/plain": [
       "{'name': 'Raza'}"
      ]
     },
     "execution_count": 10,
     "metadata": {},
     "output_type": "execute_result"
    }
   ],
   "source": [
    "d2"
   ]
  },
  {
   "cell_type": "code",
   "execution_count": 11,
   "id": "6e8dba23-f2bc-409f-857b-4fe4b8ce95a1",
   "metadata": {},
   "outputs": [],
   "source": [
    "d3={234234 :\"abc\"}"
   ]
  },
  {
   "cell_type": "code",
   "execution_count": 12,
   "id": "7e1eeefb-bd97-4b58-8263-bbf0df07765e",
   "metadata": {},
   "outputs": [
    {
     "data": {
      "text/plain": [
       "{234234: 'abc'}"
      ]
     },
     "execution_count": 12,
     "metadata": {},
     "output_type": "execute_result"
    }
   ],
   "source": [
    "d3"
   ]
  },
  {
   "cell_type": "code",
   "execution_count": 13,
   "id": "2fdf2b92-9b70-4830-bf33-570cbdcad012",
   "metadata": {},
   "outputs": [],
   "source": [
    "d4={234.34:\"abc\"}"
   ]
  },
  {
   "cell_type": "code",
   "execution_count": 14,
   "id": "7ca8739d-9b64-46ee-9cc1-704cc767457f",
   "metadata": {},
   "outputs": [
    {
     "data": {
      "text/plain": [
       "{234.34: 'abc'}"
      ]
     },
     "execution_count": 14,
     "metadata": {},
     "output_type": "execute_result"
    }
   ],
   "source": [
    "d4"
   ]
  },
  {
   "cell_type": "code",
   "execution_count": 16,
   "id": "ec223dad-d4cd-434c-ad2f-462f71adcf5d",
   "metadata": {},
   "outputs": [],
   "source": [
    "d5 = {True:\"abc\"}"
   ]
  },
  {
   "cell_type": "code",
   "execution_count": 17,
   "id": "f26a8555-9e46-4d88-a8ef-1a2176ce2ec6",
   "metadata": {},
   "outputs": [
    {
     "data": {
      "text/plain": [
       "{True: 'abc'}"
      ]
     },
     "execution_count": 17,
     "metadata": {},
     "output_type": "execute_result"
    }
   ],
   "source": [
    "d5"
   ]
  },
  {
   "cell_type": "code",
   "execution_count": 18,
   "id": "93fc433e-9bf9-4d8f-bd1b-6bc03fb3b7ef",
   "metadata": {},
   "outputs": [
    {
     "ename": "SyntaxError",
     "evalue": "incomplete input (2694881921.py, line 1)",
     "output_type": "error",
     "traceback": [
      "\u001b[0;36m  Cell \u001b[0;32mIn[18], line 1\u001b[0;36m\u001b[0m\n\u001b[0;31m    d6 = {# :\"abc\"}\u001b[0m\n\u001b[0m                   ^\u001b[0m\n\u001b[0;31mSyntaxError\u001b[0m\u001b[0;31m:\u001b[0m incomplete input\n"
     ]
    }
   ],
   "source": [
    "d6 = {# :\"abc\"}"
   ]
  },
  {
   "cell_type": "code",
   "execution_count": 19,
   "id": "0accf9cb-ac85-4bb4-8dd7-968b940caa8d",
   "metadata": {},
   "outputs": [
    {
     "ename": "SyntaxError",
     "evalue": "invalid syntax (2591303980.py, line 1)",
     "output_type": "error",
     "traceback": [
      "\u001b[0;36m  Cell \u001b[0;32mIn[19], line 1\u001b[0;36m\u001b[0m\n\u001b[0;31m    d7={@:\"abc\"}\u001b[0m\n\u001b[0m        ^\u001b[0m\n\u001b[0;31mSyntaxError\u001b[0m\u001b[0;31m:\u001b[0m invalid syntax\n"
     ]
    }
   ],
   "source": [
    "d7={@:\"abc\"}"
   ]
  },
  {
   "cell_type": "code",
   "execution_count": 20,
   "id": "1d926a9d-5a3f-4052-8ba4-9497e56b2b6a",
   "metadata": {},
   "outputs": [
    {
     "ename": "TypeError",
     "evalue": "unhashable type: 'list'",
     "output_type": "error",
     "traceback": [
      "\u001b[0;31m---------------------------------------------------------------------------\u001b[0m",
      "\u001b[0;31mTypeError\u001b[0m                                 Traceback (most recent call last)",
      "Cell \u001b[0;32mIn[20], line 1\u001b[0m\n\u001b[0;32m----> 1\u001b[0m d8 \u001b[38;5;241m=\u001b[39m {[\u001b[38;5;241m1\u001b[39m,\u001b[38;5;241m2\u001b[39m,\u001b[38;5;241m3\u001b[39m]:\u001b[38;5;124m\"\u001b[39m\u001b[38;5;124mabc\u001b[39m\u001b[38;5;124m\"\u001b[39m}\n",
      "\u001b[0;31mTypeError\u001b[0m: unhashable type: 'list'"
     ]
    }
   ],
   "source": [
    "d8 = {[1,2,3]:\"abc\"}"
   ]
  },
  {
   "cell_type": "code",
   "execution_count": 23,
   "id": "4992b37e-d593-49d4-97ae-bb6ebe2730ee",
   "metadata": {},
   "outputs": [],
   "source": [
    "d9={(1,2,3):\"abc\"}"
   ]
  },
  {
   "cell_type": "code",
   "execution_count": 24,
   "id": "0b1185ae-66ce-4f61-bc28-5b8c1350c25f",
   "metadata": {},
   "outputs": [
    {
     "data": {
      "text/plain": [
       "{(1, 2, 3): 'abc'}"
      ]
     },
     "execution_count": 24,
     "metadata": {},
     "output_type": "execute_result"
    }
   ],
   "source": [
    "d9"
   ]
  },
  {
   "cell_type": "code",
   "execution_count": 25,
   "id": "5c0f31b0-70bf-4ea3-91b3-d9ec773f7ede",
   "metadata": {},
   "outputs": [
    {
     "ename": "TypeError",
     "evalue": "unhashable type: 'set'",
     "output_type": "error",
     "traceback": [
      "\u001b[0;31m---------------------------------------------------------------------------\u001b[0m",
      "\u001b[0;31mTypeError\u001b[0m                                 Traceback (most recent call last)",
      "Cell \u001b[0;32mIn[25], line 1\u001b[0m\n\u001b[0;32m----> 1\u001b[0m d10\u001b[38;5;241m=\u001b[39m{{\u001b[38;5;241m1\u001b[39m,\u001b[38;5;241m2\u001b[39m,\u001b[38;5;241m3\u001b[39m}:\u001b[38;5;124m\"\u001b[39m\u001b[38;5;124mabc\u001b[39m\u001b[38;5;124m\"\u001b[39m}\n",
      "\u001b[0;31mTypeError\u001b[0m: unhashable type: 'set'"
     ]
    }
   ],
   "source": [
    "d10={{1,2,3}:\"abc\"}"
   ]
  },
  {
   "cell_type": "code",
   "execution_count": 26,
   "id": "1982c334-a15e-4ca9-9ea7-ec7c27d52be9",
   "metadata": {},
   "outputs": [
    {
     "ename": "TypeError",
     "evalue": "unhashable type: 'dict'",
     "output_type": "error",
     "traceback": [
      "\u001b[0;31m---------------------------------------------------------------------------\u001b[0m",
      "\u001b[0;31mTypeError\u001b[0m                                 Traceback (most recent call last)",
      "Cell \u001b[0;32mIn[26], line 1\u001b[0m\n\u001b[0;32m----> 1\u001b[0m d11\u001b[38;5;241m=\u001b[39m{{\u001b[38;5;124m\"\u001b[39m\u001b[38;5;124mkey\u001b[39m\u001b[38;5;124m\"\u001b[39m:\u001b[38;5;241m234\u001b[39m}:\u001b[38;5;124m\"\u001b[39m\u001b[38;5;124mabc\u001b[39m\u001b[38;5;124m\"\u001b[39m}\n",
      "\u001b[0;31mTypeError\u001b[0m: unhashable type: 'dict'"
     ]
    }
   ],
   "source": [
    "d11={{\"key\":234}:\"abc\"}"
   ]
  },
  {
   "cell_type": "code",
   "execution_count": 27,
   "id": "23a918aa-bbda-404c-a6ad-51bf58678da9",
   "metadata": {},
   "outputs": [],
   "source": [
    "d12={\"Course_Name\" :[\"data science master\",\"web dev\",\"java with dsa and system Design\"]}"
   ]
  },
  {
   "cell_type": "code",
   "execution_count": 28,
   "id": "52036dcb-0d95-4eb9-a18c-3da6c7074147",
   "metadata": {},
   "outputs": [
    {
     "data": {
      "text/plain": [
       "{'Course_Name': ['data science master',\n",
       "  'web dev',\n",
       "  'java with dsa and system Design']}"
      ]
     },
     "execution_count": 28,
     "metadata": {},
     "output_type": "execute_result"
    }
   ],
   "source": [
    "d12"
   ]
  },
  {
   "cell_type": "code",
   "execution_count": 29,
   "id": "0a7ae888-7300-4aa8-bd46-bfa4f2bb6f2e",
   "metadata": {},
   "outputs": [],
   "source": [
    "d13={\"key\": (1,2,3,4,5)}"
   ]
  },
  {
   "cell_type": "code",
   "execution_count": 30,
   "id": "eeef1a4c-2450-4be6-b9b3-6c9e4c2db0e1",
   "metadata": {},
   "outputs": [],
   "source": [
    "d13={\"key\": {1,2,3,4}}"
   ]
  },
  {
   "cell_type": "code",
   "execution_count": 3,
   "id": "14b3150c-364f-4d5a-8be7-24bcc4893cd9",
   "metadata": {},
   "outputs": [],
   "source": [
    "d15={\"key\":{\"name\":\"Amaan\",\"class\":\"data science masters\"}}"
   ]
  },
  {
   "cell_type": "code",
   "execution_count": 34,
   "id": "d0702aac-4458-4bf1-96c2-bebf074484c6",
   "metadata": {},
   "outputs": [
    {
     "data": {
      "text/plain": [
       "{'key': {'name': 'Amaan', 'class': 'data science masters'}}"
      ]
     },
     "execution_count": 34,
     "metadata": {},
     "output_type": "execute_result"
    }
   ],
   "source": [
    "d15"
   ]
  },
  {
   "cell_type": "code",
   "execution_count": 7,
   "id": "ace08fdc-8445-477e-9742-e03ea0c5075d",
   "metadata": {},
   "outputs": [],
   "source": [
    "d16= {\"batch_name\":[\"data science masters\",\"web dev\",\"jds\"], \"start_date\": (28,14,21),\"mentor_name\":{\"kirish naik\",\"sudhanshu\",\"hitesh\",\"Naveen\",\"Haider\"}}"
   ]
  },
  {
   "cell_type": "code",
   "execution_count": 45,
   "id": "1889df67-8670-41f7-81e9-a412aa3ff4f3",
   "metadata": {},
   "outputs": [
    {
     "data": {
      "text/plain": [
       "{'batch_name': ['data science masters', 'web dev', 'jds'],\n",
       " 'start_date': (28, 14, 21),\n",
       " 'mentor_name': {'Haider', 'Naveen', 'hitesh', 'kirish naik', 'sudhanshu'}}"
      ]
     },
     "execution_count": 45,
     "metadata": {},
     "output_type": "execute_result"
    }
   ],
   "source": [
    "d16"
   ]
  },
  {
   "cell_type": "code",
   "execution_count": 4,
   "id": "775c87aa-07f5-47c3-886d-e8cd72a8e6dd",
   "metadata": {},
   "outputs": [],
   "source": [
    "d16[\"timing\"] = (8,8,0)"
   ]
  },
  {
   "cell_type": "code",
   "execution_count": 47,
   "id": "cd78c54c-7568-4934-9e7a-22b6855fb8f2",
   "metadata": {},
   "outputs": [
    {
     "data": {
      "text/plain": [
       "{'batch_name': ['data science masters', 'web dev', 'jds'],\n",
       " 'start_date': (28, 14, 21),\n",
       " 'mentor_name': {'Haider', 'Naveen', 'hitesh', 'kirish naik', 'sudhanshu'},\n",
       " 'timing': (8, 8, 0)}"
      ]
     },
     "execution_count": 47,
     "metadata": {},
     "output_type": "execute_result"
    }
   ],
   "source": [
    "d16"
   ]
  },
  {
   "cell_type": "code",
   "execution_count": 5,
   "id": "2d1920c7-9a61-4bc5-bd70-56496bac389d",
   "metadata": {},
   "outputs": [
    {
     "data": {
      "text/plain": [
       "['data science masters', 'web dev', 'jds']"
      ]
     },
     "execution_count": 5,
     "metadata": {},
     "output_type": "execute_result"
    }
   ],
   "source": [
    "d16[\"batch_name\"]"
   ]
  },
  {
   "cell_type": "code",
   "execution_count": 8,
   "id": "58d80510-c1fd-43da-8d93-2fad13044709",
   "metadata": {},
   "outputs": [
    {
     "data": {
      "text/plain": [
       "set"
      ]
     },
     "execution_count": 8,
     "metadata": {},
     "output_type": "execute_result"
    }
   ],
   "source": [
    "type(d16[\"mentor_name\"])"
   ]
  },
  {
   "cell_type": "code",
   "execution_count": 9,
   "id": "2e63bc02-3fc3-4fb5-8c2d-6b6bc0c8281d",
   "metadata": {},
   "outputs": [
    {
     "ename": "KeyError",
     "evalue": "'key'",
     "output_type": "error",
     "traceback": [
      "\u001b[0;31m---------------------------------------------------------------------------\u001b[0m",
      "\u001b[0;31mKeyError\u001b[0m                                  Traceback (most recent call last)",
      "Cell \u001b[0;32mIn[9], line 1\u001b[0m\n\u001b[0;32m----> 1\u001b[0m \u001b[43md16\u001b[49m\u001b[43m[\u001b[49m\u001b[38;5;124;43m\"\u001b[39;49m\u001b[38;5;124;43mkey\u001b[39;49m\u001b[38;5;124;43m\"\u001b[39;49m\u001b[43m]\u001b[49m\n",
      "\u001b[0;31mKeyError\u001b[0m: 'key'"
     ]
    }
   ],
   "source": [
    "d16[\"key\"]"
   ]
  },
  {
   "cell_type": "code",
   "execution_count": 10,
   "id": "a1871572-aac2-4db1-9bd5-044919740422",
   "metadata": {},
   "outputs": [],
   "source": [
    "d16[\"name\"]=\"Amaan\""
   ]
  },
  {
   "cell_type": "code",
   "execution_count": 11,
   "id": "7dd20804-0b0c-4d32-9675-12b75159ac1e",
   "metadata": {},
   "outputs": [
    {
     "data": {
      "text/plain": [
       "{'batch_name': ['data science masters', 'web dev', 'jds'],\n",
       " 'start_date': (28, 14, 21),\n",
       " 'mentor_name': {'Haider', 'Naveen', 'hitesh', 'kirish naik', 'sudhanshu'},\n",
       " 'timing': (8, 8, 0),\n",
       " 'name': 'Amaan'}"
      ]
     },
     "execution_count": 11,
     "metadata": {},
     "output_type": "execute_result"
    }
   ],
   "source": [
    "d16"
   ]
  },
  {
   "cell_type": "code",
   "execution_count": 12,
   "id": "ec6d1fb1-4479-46f8-98f9-ab3d45d77e8c",
   "metadata": {},
   "outputs": [
    {
     "data": {
      "text/plain": [
       "'Amaan'"
      ]
     },
     "execution_count": 12,
     "metadata": {},
     "output_type": "execute_result"
    }
   ],
   "source": [
    "d16[\"name\"]"
   ]
  },
  {
   "cell_type": "code",
   "execution_count": 13,
   "id": "dff51cd5-6c84-45d4-a68a-98dadb98202b",
   "metadata": {},
   "outputs": [
    {
     "data": {
      "text/plain": [
       "'AMAAN'"
      ]
     },
     "execution_count": 13,
     "metadata": {},
     "output_type": "execute_result"
    }
   ],
   "source": [
    "d16[\"name\"].upper()"
   ]
  },
  {
   "cell_type": "code",
   "execution_count": 16,
   "id": "d44f28a0-7153-4d32-b090-22e8596282a8",
   "metadata": {},
   "outputs": [
    {
     "data": {
      "text/plain": [
       "{'key': {'name': 'Amaan', 'class': 'data science masters'}}"
      ]
     },
     "execution_count": 16,
     "metadata": {},
     "output_type": "execute_result"
    }
   ],
   "source": [
    "d15"
   ]
  },
  {
   "cell_type": "code",
   "execution_count": 26,
   "id": "c993d33d-b9bd-4b22-be54-a8cb0ffb6043",
   "metadata": {},
   "outputs": [
    {
     "data": {
      "text/plain": [
       "'data science masters'"
      ]
     },
     "execution_count": 26,
     "metadata": {},
     "output_type": "execute_result"
    }
   ],
   "source": [
    "d15[\"key\"][\"class\"]"
   ]
  },
  {
   "cell_type": "code",
   "execution_count": 29,
   "id": "acfc9ee4-77e8-4ba3-af11-ab0a7cef1c67",
   "metadata": {},
   "outputs": [
    {
     "data": {
      "text/plain": [
       "'Amaan'"
      ]
     },
     "execution_count": 29,
     "metadata": {},
     "output_type": "execute_result"
    }
   ],
   "source": [
    "d15[\"key\"][\"name\"]"
   ]
  },
  {
   "cell_type": "code",
   "execution_count": 30,
   "id": "02c05743-1c89-4338-a6ad-94b9e3735b19",
   "metadata": {},
   "outputs": [
    {
     "data": {
      "text/plain": [
       "{'key': {'name': 'Amaan', 'class': 'data science masters'}}"
      ]
     },
     "execution_count": 30,
     "metadata": {},
     "output_type": "execute_result"
    }
   ],
   "source": [
    "d15"
   ]
  },
  {
   "cell_type": "code",
   "execution_count": 35,
   "id": "e6ccb797-37f2-4f92-bdfc-13885c99bf25",
   "metadata": {},
   "outputs": [],
   "source": [
    "d15[\"key1\"] = \"abc\""
   ]
  },
  {
   "cell_type": "code",
   "execution_count": 36,
   "id": "7ad9d691-af79-4809-8ae7-5b75576bcb66",
   "metadata": {},
   "outputs": [
    {
     "data": {
      "text/plain": [
       "{'key': {'name': 'Amaan', 'class': 'data science masters'}, 'key1': 'abc'}"
      ]
     },
     "execution_count": 36,
     "metadata": {},
     "output_type": "execute_result"
    }
   ],
   "source": [
    "d15"
   ]
  },
  {
   "cell_type": "code",
   "execution_count": 37,
   "id": "2b3a3de0-9f40-4eb9-8370-0ba31b4eed8c",
   "metadata": {},
   "outputs": [],
   "source": [
    "del d15[\"key1\"]"
   ]
  },
  {
   "cell_type": "code",
   "execution_count": 38,
   "id": "c60b0644-2503-4b04-985e-1b5dfdd4081e",
   "metadata": {},
   "outputs": [
    {
     "data": {
      "text/plain": [
       "{'key': {'name': 'Amaan', 'class': 'data science masters'}}"
      ]
     },
     "execution_count": 38,
     "metadata": {},
     "output_type": "execute_result"
    }
   ],
   "source": [
    "d15"
   ]
  },
  {
   "cell_type": "code",
   "execution_count": 2,
   "id": "b8626bb7-f939-4c22-a4eb-5904af55d22a",
   "metadata": {},
   "outputs": [
    {
     "ename": "NameError",
     "evalue": "name 'd15' is not defined",
     "output_type": "error",
     "traceback": [
      "\u001b[0;31m---------------------------------------------------------------------------\u001b[0m",
      "\u001b[0;31mNameError\u001b[0m                                 Traceback (most recent call last)",
      "Cell \u001b[0;32mIn[2], line 1\u001b[0m\n\u001b[0;32m----> 1\u001b[0m \u001b[43md15\u001b[49m\n",
      "\u001b[0;31mNameError\u001b[0m: name 'd15' is not defined"
     ]
    }
   ],
   "source": [
    "d15"
   ]
  },
  {
   "cell_type": "code",
   "execution_count": 5,
   "id": "f4475424-a5e0-4edf-b9bc-0b5083be7cb8",
   "metadata": {},
   "outputs": [],
   "source": [
    "d15.clear()"
   ]
  },
  {
   "cell_type": "code",
   "execution_count": 6,
   "id": "056a8246-9419-46d8-9f39-3835275e22bd",
   "metadata": {},
   "outputs": [
    {
     "data": {
      "text/plain": [
       "{}"
      ]
     },
     "execution_count": 6,
     "metadata": {},
     "output_type": "execute_result"
    }
   ],
   "source": [
    "d15"
   ]
  },
  {
   "cell_type": "code",
   "execution_count": 9,
   "id": "3cf08260-61c1-4364-8275-032c7491a062",
   "metadata": {},
   "outputs": [
    {
     "data": {
      "text/plain": [
       "3"
      ]
     },
     "execution_count": 9,
     "metadata": {},
     "output_type": "execute_result"
    }
   ],
   "source": [
    "len(d16)"
   ]
  },
  {
   "cell_type": "code",
   "execution_count": 10,
   "id": "9aae33e6-fe78-4188-be6f-0fea5ca21355",
   "metadata": {},
   "outputs": [
    {
     "data": {
      "text/plain": [
       "{'batch_name': ['data science masters', 'web dev', 'jds'],\n",
       " 'start_date': (28, 14, 21),\n",
       " 'mentor_name': {'Haider', 'Naveen', 'hitesh', 'kirish naik', 'sudhanshu'}}"
      ]
     },
     "execution_count": 10,
     "metadata": {},
     "output_type": "execute_result"
    }
   ],
   "source": [
    "d16"
   ]
  },
  {
   "cell_type": "code",
   "execution_count": 18,
   "id": "8fea5622-fa6b-4908-8451-292be9bcf94d",
   "metadata": {},
   "outputs": [],
   "source": [
    "d16 [\"timing:\"] =8,8,8"
   ]
  },
  {
   "cell_type": "code",
   "execution_count": 19,
   "id": "9b17239c-09e9-4c11-ad6a-acbb3e5f797f",
   "metadata": {},
   "outputs": [
    {
     "data": {
      "text/plain": [
       "{'batch_name': ['data science masters', 'web dev', 'jds'],\n",
       " 'start_date': (28, 14, 21),\n",
       " 'mentor_name': {'Haider', 'Naveen', 'hitesh', 'kirish naik', 'sudhanshu'},\n",
       " 'timing:': (8, 8, 8)}"
      ]
     },
     "execution_count": 19,
     "metadata": {},
     "output_type": "execute_result"
    }
   ],
   "source": [
    "d16"
   ]
  },
  {
   "cell_type": "code",
   "execution_count": 22,
   "id": "a3a0a92b-772e-417b-bb96-53d7405f2f5f",
   "metadata": {},
   "outputs": [],
   "source": [
    "d16 [\"Name\"] =\"Amaan\""
   ]
  },
  {
   "cell_type": "code",
   "execution_count": 24,
   "id": "a8eea9f5-3880-4828-9db6-e48831b65bb3",
   "metadata": {},
   "outputs": [
    {
     "data": {
      "text/plain": [
       "{'batch_name': ['data science masters', 'web dev', 'jds'],\n",
       " 'start_date': (28, 14, 21),\n",
       " 'mentor_name': {'Haider', 'Naveen', 'hitesh', 'kirish naik', 'sudhanshu'},\n",
       " 'timing:': (8, 8, 8),\n",
       " 'Name': 'Amaan'}"
      ]
     },
     "execution_count": 24,
     "metadata": {},
     "output_type": "execute_result"
    }
   ],
   "source": [
    "d16"
   ]
  },
  {
   "cell_type": "code",
   "execution_count": 25,
   "id": "1353fe63-16cd-4b37-96e0-dbc94ccbd89f",
   "metadata": {},
   "outputs": [
    {
     "data": {
      "text/plain": [
       "5"
      ]
     },
     "execution_count": 25,
     "metadata": {},
     "output_type": "execute_result"
    }
   ],
   "source": [
    "len(d16)"
   ]
  },
  {
   "cell_type": "code",
   "execution_count": 26,
   "id": "c2ede50b-1a45-4ed1-87a1-9d23628ef982",
   "metadata": {},
   "outputs": [
    {
     "data": {
      "text/plain": [
       "dict_keys(['batch_name', 'start_date', 'mentor_name', 'timing:', 'Name'])"
      ]
     },
     "execution_count": 26,
     "metadata": {},
     "output_type": "execute_result"
    }
   ],
   "source": [
    "d16.keys()"
   ]
  },
  {
   "cell_type": "code",
   "execution_count": 29,
   "id": "311c14a9-ff04-4add-8cce-eea36779c077",
   "metadata": {},
   "outputs": [
    {
     "data": {
      "text/plain": [
       "dict_values([['data science masters', 'web dev', 'jds'], (28, 14, 21), {'Naveen', 'kirish naik', 'Haider', 'sudhanshu', 'hitesh'}, (8, 8, 8), 'Amaan'])"
      ]
     },
     "execution_count": 29,
     "metadata": {},
     "output_type": "execute_result"
    }
   ],
   "source": [
    "d16.values()"
   ]
  },
  {
   "cell_type": "code",
   "execution_count": 30,
   "id": "0958da55-a8c1-4cd0-b3d2-a9facadb3cd4",
   "metadata": {},
   "outputs": [
    {
     "data": {
      "text/plain": [
       "[['data science masters', 'web dev', 'jds'],\n",
       " (28, 14, 21),\n",
       " {'Haider', 'Naveen', 'hitesh', 'kirish naik', 'sudhanshu'},\n",
       " (8, 8, 8),\n",
       " 'Amaan']"
      ]
     },
     "execution_count": 30,
     "metadata": {},
     "output_type": "execute_result"
    }
   ],
   "source": [
    "list(d16.values())"
   ]
  },
  {
   "cell_type": "code",
   "execution_count": 32,
   "id": "c37209f9-51d9-45e8-9e22-639a66cbe801",
   "metadata": {},
   "outputs": [
    {
     "data": {
      "text/plain": [
       "['batch_name', 'start_date', 'mentor_name', 'timing:', 'Name']"
      ]
     },
     "execution_count": 32,
     "metadata": {},
     "output_type": "execute_result"
    }
   ],
   "source": [
    "list(d16.keys())"
   ]
  },
  {
   "cell_type": "code",
   "execution_count": 33,
   "id": "02e04a25-e115-4559-b2e0-68897f488dc8",
   "metadata": {},
   "outputs": [
    {
     "data": {
      "text/plain": [
       "dict_items([('batch_name', ['data science masters', 'web dev', 'jds']), ('start_date', (28, 14, 21)), ('mentor_name', {'Naveen', 'kirish naik', 'Haider', 'sudhanshu', 'hitesh'}), ('timing:', (8, 8, 8)), ('Name', 'Amaan')])"
      ]
     },
     "execution_count": 33,
     "metadata": {},
     "output_type": "execute_result"
    }
   ],
   "source": [
    "d16.items()"
   ]
  },
  {
   "cell_type": "code",
   "execution_count": 34,
   "id": "1e9bfa83-b6bf-4931-95d3-c0877bbac254",
   "metadata": {},
   "outputs": [
    {
     "data": {
      "text/plain": [
       "[('batch_name', ['data science masters', 'web dev', 'jds']),\n",
       " ('start_date', (28, 14, 21)),\n",
       " ('mentor_name', {'Haider', 'Naveen', 'hitesh', 'kirish naik', 'sudhanshu'}),\n",
       " ('timing:', (8, 8, 8)),\n",
       " ('Name', 'Amaan')]"
      ]
     },
     "execution_count": 34,
     "metadata": {},
     "output_type": "execute_result"
    }
   ],
   "source": [
    "list(d16.items())"
   ]
  },
  {
   "cell_type": "code",
   "execution_count": 35,
   "id": "098dcc6c-fda6-4a63-b90a-c88cbe6d7f02",
   "metadata": {},
   "outputs": [
    {
     "data": {
      "text/plain": [
       "{'batch_name': ['data science masters', 'web dev', 'jds'],\n",
       " 'start_date': (28, 14, 21),\n",
       " 'mentor_name': {'Haider', 'Naveen', 'hitesh', 'kirish naik', 'sudhanshu'},\n",
       " 'timing:': (8, 8, 8),\n",
       " 'Name': 'Amaan'}"
      ]
     },
     "execution_count": 35,
     "metadata": {},
     "output_type": "execute_result"
    }
   ],
   "source": [
    "d16"
   ]
  },
  {
   "cell_type": "code",
   "execution_count": 38,
   "id": "9b82ce8d-c9e5-4d9d-9ff8-28fcc5600805",
   "metadata": {},
   "outputs": [],
   "source": [
    "d17=d16.copy()"
   ]
  },
  {
   "cell_type": "code",
   "execution_count": 39,
   "id": "74d482ba-e1e4-45ac-a6c9-da5e76fbad6a",
   "metadata": {},
   "outputs": [
    {
     "data": {
      "text/plain": [
       "{'batch_name': ['data science masters', 'web dev', 'jds'],\n",
       " 'start_date': (28, 14, 21),\n",
       " 'mentor_name': {'Haider', 'Naveen', 'hitesh', 'kirish naik', 'sudhanshu'},\n",
       " 'timing:': (8, 8, 8),\n",
       " 'Name': 'Amaan'}"
      ]
     },
     "execution_count": 39,
     "metadata": {},
     "output_type": "execute_result"
    }
   ],
   "source": [
    "d17"
   ]
  },
  {
   "cell_type": "code",
   "execution_count": 43,
   "id": "3ca59715-996e-4292-954d-8df4c29e6fd1",
   "metadata": {},
   "outputs": [],
   "source": [
    "del d16[\"Name\"]"
   ]
  },
  {
   "cell_type": "code",
   "execution_count": 40,
   "id": "aacd7d2a-171d-424a-9743-b923430e899b",
   "metadata": {},
   "outputs": [],
   "source": [
    "d18=d16"
   ]
  },
  {
   "cell_type": "code",
   "execution_count": 41,
   "id": "5e13b665-5e11-4210-b6f2-454b6323daf1",
   "metadata": {},
   "outputs": [
    {
     "data": {
      "text/plain": [
       "{'batch_name': ['data science masters', 'web dev', 'jds'],\n",
       " 'start_date': (28, 14, 21),\n",
       " 'mentor_name': {'Haider', 'Naveen', 'hitesh', 'kirish naik', 'sudhanshu'},\n",
       " 'timing:': (8, 8, 8),\n",
       " 'Name': 'Amaan'}"
      ]
     },
     "execution_count": 41,
     "metadata": {},
     "output_type": "execute_result"
    }
   ],
   "source": [
    "d18"
   ]
  },
  {
   "cell_type": "code",
   "execution_count": 44,
   "id": "3abf975d-3e94-4f70-ad6c-91196ff2a53f",
   "metadata": {},
   "outputs": [
    {
     "data": {
      "text/plain": [
       "{'batch_name': ['data science masters', 'web dev', 'jds'],\n",
       " 'start_date': (28, 14, 21),\n",
       " 'mentor_name': {'Haider', 'Naveen', 'hitesh', 'kirish naik', 'sudhanshu'},\n",
       " 'timing:': (8, 8, 8)}"
      ]
     },
     "execution_count": 44,
     "metadata": {},
     "output_type": "execute_result"
    }
   ],
   "source": [
    "d16"
   ]
  },
  {
   "cell_type": "code",
   "execution_count": 45,
   "id": "bbe04f37-f88f-477b-9b30-240495e7b817",
   "metadata": {},
   "outputs": [
    {
     "data": {
      "text/plain": [
       "{'batch_name': ['data science masters', 'web dev', 'jds'],\n",
       " 'start_date': (28, 14, 21),\n",
       " 'mentor_name': {'Haider', 'Naveen', 'hitesh', 'kirish naik', 'sudhanshu'},\n",
       " 'timing:': (8, 8, 8),\n",
       " 'Name': 'Amaan'}"
      ]
     },
     "execution_count": 45,
     "metadata": {},
     "output_type": "execute_result"
    }
   ],
   "source": [
    "d17"
   ]
  },
  {
   "cell_type": "code",
   "execution_count": 46,
   "id": "1dd29dc1-fdee-4c82-9ce9-550f59b970bc",
   "metadata": {},
   "outputs": [
    {
     "data": {
      "text/plain": [
       "{'batch_name': ['data science masters', 'web dev', 'jds'],\n",
       " 'start_date': (28, 14, 21),\n",
       " 'mentor_name': {'Haider', 'Naveen', 'hitesh', 'kirish naik', 'sudhanshu'},\n",
       " 'timing:': (8, 8, 8)}"
      ]
     },
     "execution_count": 46,
     "metadata": {},
     "output_type": "execute_result"
    }
   ],
   "source": [
    "d16"
   ]
  },
  {
   "cell_type": "code",
   "execution_count": 47,
   "id": "06ce27f9-b145-471a-91fd-24670c4d5842",
   "metadata": {},
   "outputs": [
    {
     "data": {
      "text/plain": [
       "{'batch_name': ['data science masters', 'web dev', 'jds'],\n",
       " 'start_date': (28, 14, 21),\n",
       " 'mentor_name': {'Haider', 'Naveen', 'hitesh', 'kirish naik', 'sudhanshu'},\n",
       " 'timing:': (8, 8, 8)}"
      ]
     },
     "execution_count": 47,
     "metadata": {},
     "output_type": "execute_result"
    }
   ],
   "source": [
    "d16"
   ]
  },
  {
   "cell_type": "code",
   "execution_count": 54,
   "id": "64fa0483-87d5-4a65-88e0-a31ab8219e00",
   "metadata": {},
   "outputs": [
    {
     "data": {
      "text/plain": [
       "(8, 8, 8)"
      ]
     },
     "execution_count": 54,
     "metadata": {},
     "output_type": "execute_result"
    }
   ],
   "source": [
    "d16.pop('timing:')"
   ]
  },
  {
   "cell_type": "code",
   "execution_count": 55,
   "id": "82af9245-97c3-4006-9d46-d44f300945fc",
   "metadata": {},
   "outputs": [
    {
     "data": {
      "text/plain": [
       "{'Haider', 'Naveen', 'hitesh', 'kirish naik', 'sudhanshu'}"
      ]
     },
     "execution_count": 55,
     "metadata": {},
     "output_type": "execute_result"
    }
   ],
   "source": [
    "d16.pop(\"mentor_name\")"
   ]
  },
  {
   "cell_type": "code",
   "execution_count": 59,
   "id": "a00c2878-95df-4e2e-9c79-9fecd2bd4e43",
   "metadata": {},
   "outputs": [
    {
     "data": {
      "text/plain": [
       "{'batch_name': ['data science masters', 'web dev', 'jds'],\n",
       " 'start_date': (28, 14, 21)}"
      ]
     },
     "execution_count": 59,
     "metadata": {},
     "output_type": "execute_result"
    }
   ],
   "source": [
    "d16"
   ]
  },
  {
   "cell_type": "code",
   "execution_count": 62,
   "id": "da0f2d71-d15b-4c41-b8df-4b8c2976347b",
   "metadata": {},
   "outputs": [
    {
     "data": {
      "text/plain": [
       "{1: ('a', 'b', 'c'), 2: ('a', 'b', 'c'), 3: ('a', 'b', 'c')}"
      ]
     },
     "execution_count": 62,
     "metadata": {},
     "output_type": "execute_result"
    }
   ],
   "source": [
    "d.fromkeys((1,2,3),('a','b','c'))"
   ]
  },
  {
   "cell_type": "code",
   "execution_count": 63,
   "id": "d6ca2c60-b9e4-478d-8d02-15f9da10cbc1",
   "metadata": {},
   "outputs": [],
   "source": [
    "d19 = {\"key1\":\"value\", \"key2\":\"value2\"}\n",
    "d20 = {\"key3\":\"value3\", \"key4\":\"value4\"}"
   ]
  },
  {
   "cell_type": "code",
   "execution_count": 65,
   "id": "313ceee3-28ed-4182-9222-db20656ee506",
   "metadata": {},
   "outputs": [
    {
     "data": {
      "text/plain": [
       "({'key1': 'value', 'key2': 'value2'}, {'key3': 'value3', 'key4': 'value4'})"
      ]
     },
     "execution_count": 65,
     "metadata": {},
     "output_type": "execute_result"
    }
   ],
   "source": [
    "(d19,d20)"
   ]
  },
  {
   "cell_type": "code",
   "execution_count": 66,
   "id": "75585973-db10-4d40-945f-e35249aae737",
   "metadata": {},
   "outputs": [],
   "source": [
    "d19.update(d20)"
   ]
  },
  {
   "cell_type": "code",
   "execution_count": 67,
   "id": "4e0c1276-1a02-4e6b-98f8-0b088330eeb3",
   "metadata": {},
   "outputs": [
    {
     "data": {
      "text/plain": [
       "{'key1': 'value', 'key2': 'value2', 'key3': 'value3', 'key4': 'value4'}"
      ]
     },
     "execution_count": 67,
     "metadata": {},
     "output_type": "execute_result"
    }
   ],
   "source": [
    "d19"
   ]
  },
  {
   "cell_type": "code",
   "execution_count": 68,
   "id": "8eba6a96-c52a-45cb-9460-2bbf23a399aa",
   "metadata": {},
   "outputs": [
    {
     "data": {
      "text/plain": [
       "{'key3': 'value3', 'key4': 'value4'}"
      ]
     },
     "execution_count": 68,
     "metadata": {},
     "output_type": "execute_result"
    }
   ],
   "source": [
    "d20"
   ]
  },
  {
   "cell_type": "code",
   "execution_count": 69,
   "id": "5c364674-f2d5-460e-b035-bc0724a273d6",
   "metadata": {},
   "outputs": [],
   "source": [
    "d20.update(d19)"
   ]
  },
  {
   "cell_type": "code",
   "execution_count": 70,
   "id": "da5b8624-b806-4c46-960c-01719d695400",
   "metadata": {},
   "outputs": [
    {
     "data": {
      "text/plain": [
       "{'key3': 'value3', 'key4': 'value4', 'key1': 'value', 'key2': 'value2'}"
      ]
     },
     "execution_count": 70,
     "metadata": {},
     "output_type": "execute_result"
    }
   ],
   "source": [
    "d20"
   ]
  },
  {
   "cell_type": "code",
   "execution_count": 71,
   "id": "1aee35e5-87a2-4014-b0b5-b87e78aa7f24",
   "metadata": {},
   "outputs": [],
   "source": [
    "d20.get(\"Amaan\")"
   ]
  },
  {
   "cell_type": "code",
   "execution_count": 72,
   "id": "d095d6b5-7608-4a9d-b6b7-07e7af9b426e",
   "metadata": {},
   "outputs": [
    {
     "data": {
      "text/plain": [
       "'value3'"
      ]
     },
     "execution_count": 72,
     "metadata": {},
     "output_type": "execute_result"
    }
   ],
   "source": [
    "d20.get(\"key3\")"
   ]
  },
  {
   "cell_type": "code",
   "execution_count": 73,
   "id": "2e85eb94-340c-4a3e-b3ac-4968671673c6",
   "metadata": {},
   "outputs": [
    {
     "data": {
      "text/plain": [
       "'value3'"
      ]
     },
     "execution_count": 73,
     "metadata": {},
     "output_type": "execute_result"
    }
   ],
   "source": [
    "d20[\"key3\"]"
   ]
  },
  {
   "cell_type": "code",
   "execution_count": 74,
   "id": "5b6dc85a-2a24-406a-bcb9-96c84813d076",
   "metadata": {},
   "outputs": [
    {
     "ename": "KeyError",
     "evalue": "'Amaan'",
     "output_type": "error",
     "traceback": [
      "\u001b[0;31m---------------------------------------------------------------------------\u001b[0m",
      "\u001b[0;31mKeyError\u001b[0m                                  Traceback (most recent call last)",
      "Cell \u001b[0;32mIn[74], line 1\u001b[0m\n\u001b[0;32m----> 1\u001b[0m \u001b[43md20\u001b[49m\u001b[43m[\u001b[49m\u001b[38;5;124;43m\"\u001b[39;49m\u001b[38;5;124;43mAmaan\u001b[39;49m\u001b[38;5;124;43m\"\u001b[39;49m\u001b[43m]\u001b[49m\n",
      "\u001b[0;31mKeyError\u001b[0m: 'Amaan'"
     ]
    }
   ],
   "source": [
    "d20[\"Amaan\"]"
   ]
  },
  {
   "cell_type": "markdown",
   "id": "4e00c5a3-3d5b-4b9e-bfb3-fc85d963eabd",
   "metadata": {},
   "source": [
    "Dictionary Comprehensions"
   ]
  },
  {
   "cell_type": "code",
   "execution_count": 77,
   "id": "f14e1c7d-9720-4c15-be07-90e239607122",
   "metadata": {},
   "outputs": [
    {
     "data": {
      "text/plain": [
       "{1: 1, 2: 4, 3: 9, 4: 16, 5: 25, 6: 36, 7: 49, 8: 64, 9: 81, 10: 100}"
      ]
     },
     "execution_count": 77,
     "metadata": {},
     "output_type": "execute_result"
    }
   ],
   "source": [
    "{i: i **2 for i in range(1,11)}"
   ]
  },
  {
   "cell_type": "code",
   "execution_count": 76,
   "id": "e09fbba0-9ecc-40ae-9874-09c7d483492b",
   "metadata": {},
   "outputs": [
    {
     "data": {
      "text/plain": [
       "[1, 2, 3, 4, 5, 6, 7, 8, 9, 10]"
      ]
     },
     "execution_count": 76,
     "metadata": {},
     "output_type": "execute_result"
    }
   ],
   "source": [
    "list(range(1,11))"
   ]
  },
  {
   "cell_type": "code",
   "execution_count": 78,
   "id": "845ed8cb-0e32-4a76-bb0b-c38356b06678",
   "metadata": {},
   "outputs": [
    {
     "data": {
      "text/plain": [
       "{1: 11, 2: 12, 3: 13, 4: 14, 5: 15, 6: 16, 7: 17, 8: 18, 9: 19, 10: 20}"
      ]
     },
     "execution_count": 78,
     "metadata": {},
     "output_type": "execute_result"
    }
   ],
   "source": [
    "{i: i+10 for i in range(1,11)}"
   ]
  },
  {
   "cell_type": "code",
   "execution_count": 84,
   "id": "9d7cc790-76cf-44f9-a7be-4822d08bb835",
   "metadata": {},
   "outputs": [],
   "source": [
    "import math\n",
    "d21={i: math.log10(i) for i in range (1,11)}"
   ]
  },
  {
   "cell_type": "code",
   "execution_count": 82,
   "id": "9ad3ba43-6bb9-493a-82ac-7e648899c5c8",
   "metadata": {},
   "outputs": [
    {
     "data": {
      "text/plain": [
       "{'batch_name': ['data science masters', 'web dev', 'jds'],\n",
       " 'start_date': (28, 14, 21)}"
      ]
     },
     "execution_count": 82,
     "metadata": {},
     "output_type": "execute_result"
    }
   ],
   "source": [
    "d16"
   ]
  },
  {
   "cell_type": "code",
   "execution_count": 83,
   "id": "c8840b06-c685-475a-977b-72580a85b5f0",
   "metadata": {},
   "outputs": [
    {
     "data": {
      "text/plain": [
       "True"
      ]
     },
     "execution_count": 83,
     "metadata": {},
     "output_type": "execute_result"
    }
   ],
   "source": [
    "\"batch_name\" in d16"
   ]
  },
  {
   "cell_type": "code",
   "execution_count": 85,
   "id": "e37ea525-c479-4c2e-b8c7-c99432555954",
   "metadata": {},
   "outputs": [
    {
     "data": {
      "text/plain": [
       "{1: 0.0,\n",
       " 2: 0.3010299956639812,\n",
       " 3: 0.47712125471966244,\n",
       " 4: 0.6020599913279624,\n",
       " 5: 0.6989700043360189,\n",
       " 6: 0.7781512503836436,\n",
       " 7: 0.8450980400142568,\n",
       " 8: 0.9030899869919435,\n",
       " 9: 0.9542425094393249,\n",
       " 10: 1.0}"
      ]
     },
     "execution_count": 85,
     "metadata": {},
     "output_type": "execute_result"
    }
   ],
   "source": [
    "d21"
   ]
  },
  {
   "cell_type": "code",
   "execution_count": 87,
   "id": "9e2f923c-2e37-4c65-9877-538514041c7d",
   "metadata": {},
   "outputs": [
    {
     "name": "stdout",
     "output_type": "stream",
     "text": [
      "0.3010299956639812\n",
      "0.6020599913279624\n",
      "0.7781512503836436\n",
      "0.9030899869919435\n",
      "1.0\n"
     ]
    }
   ],
   "source": [
    "for i in d21.keys():\n",
    "    if i%2==0:\n",
    "        print(d21[i])"
   ]
  },
  {
   "cell_type": "code",
   "execution_count": null,
   "id": "640aaa60-bd51-43a3-a505-f4813e675a86",
   "metadata": {},
   "outputs": [],
   "source": []
  }
 ],
 "metadata": {
  "kernelspec": {
   "display_name": "Python 3 (ipykernel)",
   "language": "python",
   "name": "python3"
  },
  "language_info": {
   "codemirror_mode": {
    "name": "ipython",
    "version": 3
   },
   "file_extension": ".py",
   "mimetype": "text/x-python",
   "name": "python",
   "nbconvert_exporter": "python",
   "pygments_lexer": "ipython3",
   "version": "3.10.8"
  }
 },
 "nbformat": 4,
 "nbformat_minor": 5
}
