{
 "cells": [
  {
   "cell_type": "markdown",
   "id": "ac9cc6a1-67e5-4aca-abad-15ea51e615fa",
   "metadata": {},
   "source": [
    "# Assignment"
   ]
  },
  {
   "cell_type": "markdown",
   "id": "1025a274-eddb-4b6a-9da1-531895f650f2",
   "metadata": {},
   "source": [
    "### Ans1)"
   ]
  },
  {
   "cell_type": "code",
   "execution_count": 29,
   "id": "372d1182-fcf5-420d-8a42-aa9878edd22c",
   "metadata": {},
   "outputs": [],
   "source": [
    "class vehicle:\n",
    "    def __init__(self,name_of_vehicle,max_speed,average_of_vehicle):\n",
    "        self.name_of_vehicle=name_of_vehicle\n",
    "        self.max_speed=max_speed\n",
    "        self.average_of_vehicle=average_of_vehicle\n",
    "    def return_vehicle_details(self):\n",
    "        return self.name_of_vehicle,self.max_speed,self.average_of_vehicle"
   ]
  },
  {
   "cell_type": "code",
   "execution_count": 31,
   "id": "a2051834-bf62-4c2f-8509-19f3f86f8819",
   "metadata": {},
   "outputs": [],
   "source": [
    "v1 = vehicle(\"Mustang\",200,15)"
   ]
  },
  {
   "cell_type": "code",
   "execution_count": 36,
   "id": "161d84fc-13cd-489e-bfff-a6ea84b2ba78",
   "metadata": {},
   "outputs": [
    {
     "data": {
      "text/plain": [
       "('Mustang', 200, 15)"
      ]
     },
     "execution_count": 36,
     "metadata": {},
     "output_type": "execute_result"
    }
   ],
   "source": [
    "v1.return_vehicle_details()"
   ]
  },
  {
   "cell_type": "markdown",
   "id": "db50ef0b-b10c-4206-9db3-2d9b1ce78d44",
   "metadata": {},
   "source": [
    "### Ans2)"
   ]
  },
  {
   "cell_type": "code",
   "execution_count": 48,
   "id": "3c0a0cbe-4009-4fb9-b609-6662e3c0e3d7",
   "metadata": {},
   "outputs": [],
   "source": [
    "class car(vehicle):\n",
    "    def seating_capacity(self,seating_capacity):\n",
    "        self.seating_capaity=seating_capacity\n",
    "        return self.name_of_vehicle,seating_capacity"
   ]
  },
  {
   "cell_type": "code",
   "execution_count": 49,
   "id": "82f6a33d-23b4-472b-a571-6a38a312f342",
   "metadata": {},
   "outputs": [],
   "source": [
    "car = car(\"Honda\",220,12)"
   ]
  },
  {
   "cell_type": "code",
   "execution_count": 50,
   "id": "3b674b9d-af32-4a24-abe3-0d17147d2486",
   "metadata": {},
   "outputs": [
    {
     "data": {
      "text/plain": [
       "('Honda', 2)"
      ]
     },
     "execution_count": 50,
     "metadata": {},
     "output_type": "execute_result"
    }
   ],
   "source": [
    "car.seating_capacity(2)"
   ]
  },
  {
   "cell_type": "markdown",
   "id": "9f48122b-52d2-41ca-afa9-f44d11a54d23",
   "metadata": {},
   "source": [
    "### Ans3)"
   ]
  },
  {
   "cell_type": "markdown",
   "id": "820a6123-63df-46bd-b0a3-fad9938ff999",
   "metadata": {},
   "source": [
    "Multiple inheritance is a feature of object oriented programming where a single class can inherit properties and methods from more then one parent calss."
   ]
  },
  {
   "cell_type": "code",
   "execution_count": 33,
   "id": "59e837c7-ad05-40ce-80bc-384671c16aeb",
   "metadata": {},
   "outputs": [],
   "source": [
    "class iphone:\n",
    "    def iphone_14_pro(self):\n",
    "        print(\"This is brand new Iphone\")\n",
    "class Android:\n",
    "    def Samsung_S23_Ultra(self):\n",
    "        print(\"This is brand new Samsung S23 Ultra\")\n",
    "class Phone(iphone,Android):\n",
    "    pass"
   ]
  },
  {
   "cell_type": "code",
   "execution_count": 34,
   "id": "3ed8d344-ea0e-4f6a-95d6-28f80059a3fc",
   "metadata": {},
   "outputs": [],
   "source": [
    "a= Phone()"
   ]
  },
  {
   "cell_type": "code",
   "execution_count": 37,
   "id": "83dc841d-a870-4055-916c-69622e846c96",
   "metadata": {},
   "outputs": [
    {
     "name": "stdout",
     "output_type": "stream",
     "text": [
      "This is brand new Samsung S23 Ultra\n"
     ]
    }
   ],
   "source": [
    "a.Samsung_S23_Ultra()"
   ]
  },
  {
   "cell_type": "code",
   "execution_count": 38,
   "id": "aee3f127-e0fe-49c1-a12d-be2e74422b2a",
   "metadata": {},
   "outputs": [
    {
     "name": "stdout",
     "output_type": "stream",
     "text": [
      "This is brand new Iphone\n"
     ]
    }
   ],
   "source": [
    "a.iphone_14_pro()"
   ]
  },
  {
   "cell_type": "markdown",
   "id": "cddbe6e0-4b3a-4cb5-8b47-5ae8b1ef785a",
   "metadata": {},
   "source": [
    "### Ans4)"
   ]
  },
  {
   "cell_type": "markdown",
   "id": "4cd5c4bd-dc51-43ab-8363-3e0db0beeedc",
   "metadata": {},
   "source": [
    "A getter is a method that gets the value of a property. In OOPs this helps to access private attributes from a class.\n",
    "\n",
    "A setter is a method that sets the value of a property. In OOPs this helps to set the value to private attributes in a class."
   ]
  },
  {
   "cell_type": "code",
   "execution_count": 44,
   "id": "4434ad44-22be-41b2-a270-5b4ae223762e",
   "metadata": {},
   "outputs": [],
   "source": [
    "class Student():\n",
    "    def __init__(self,name,email):\n",
    "        self.__name=name\n",
    "        self.__email=email\n",
    "    def get_name(self):\n",
    "        return self.__name\n",
    "    def get_email(self):\n",
    "        return self.__email\n",
    "    def set_name(self,name):\n",
    "        self.__name=name\n",
    "    def set_email(self,email):\n",
    "        self.__email=email"
   ]
  },
  {
   "cell_type": "code",
   "execution_count": 46,
   "id": "eb10bff4-bbb9-4ecd-a7e8-0ef434160be2",
   "metadata": {},
   "outputs": [],
   "source": [
    "s1=Student(\"Amaan\",\"amaan@gmail.com\")"
   ]
  },
  {
   "cell_type": "code",
   "execution_count": 47,
   "id": "873b86d1-3f51-4aaf-bfb7-46ffe28d5f9b",
   "metadata": {},
   "outputs": [
    {
     "data": {
      "text/plain": [
       "'Amaan'"
      ]
     },
     "execution_count": 47,
     "metadata": {},
     "output_type": "execute_result"
    }
   ],
   "source": [
    "s1.get_name()"
   ]
  },
  {
   "cell_type": "code",
   "execution_count": 48,
   "id": "6e194b8f-c7e7-449c-b06c-911dc3a1c05e",
   "metadata": {},
   "outputs": [
    {
     "data": {
      "text/plain": [
       "'amaan@gmail.com'"
      ]
     },
     "execution_count": 48,
     "metadata": {},
     "output_type": "execute_result"
    }
   ],
   "source": [
    "s1.get_email()"
   ]
  },
  {
   "cell_type": "code",
   "execution_count": 50,
   "id": "e75586e1-aedc-4d31-aa4a-7e34f47dc6f9",
   "metadata": {},
   "outputs": [],
   "source": [
    "s1.set_name(\"abhi\")"
   ]
  },
  {
   "cell_type": "code",
   "execution_count": 51,
   "id": "0f08ddfc-f3eb-4d8f-beac-e84253afcf75",
   "metadata": {},
   "outputs": [
    {
     "data": {
      "text/plain": [
       "'abhi'"
      ]
     },
     "execution_count": 51,
     "metadata": {},
     "output_type": "execute_result"
    }
   ],
   "source": [
    "s1.get_name()"
   ]
  },
  {
   "cell_type": "code",
   "execution_count": 52,
   "id": "e4aa87db-8e80-4faf-b490-fcf15e112d1d",
   "metadata": {},
   "outputs": [],
   "source": [
    "s1.set_email(\"abhi@gmail.com\")"
   ]
  },
  {
   "cell_type": "code",
   "execution_count": 53,
   "id": "a9dd7c48-1f03-433a-96c7-724c44b11e08",
   "metadata": {},
   "outputs": [
    {
     "data": {
      "text/plain": [
       "'abhi@gmail.com'"
      ]
     },
     "execution_count": 53,
     "metadata": {},
     "output_type": "execute_result"
    }
   ],
   "source": [
    "s1.get_email()"
   ]
  },
  {
   "cell_type": "markdown",
   "id": "7119dd40-80a7-4755-be5e-cd4c182f70f6",
   "metadata": {},
   "source": [
    "### Ans 5)"
   ]
  },
  {
   "cell_type": "code",
   "execution_count": null,
   "id": "ccdc0ceb-d810-4a53-b44a-6f9c41a37462",
   "metadata": {},
   "outputs": [],
   "source": [
    "Method overriding is a feture of object-ori"
   ]
  },
  {
   "cell_type": "code",
   "execution_count": 4,
   "id": "f1361730-5a7b-4aa5-9f3e-6a4f0ea43dc7",
   "metadata": {},
   "outputs": [],
   "source": [
    "class vehicle:\n",
    "    def get_seats(self):\n",
    "        print(\"four seats\")\n",
    "class bike(vehicle):\n",
    "    def get_seats(self):\n",
    "        print(\"two seats\")\n",
    "class car(vehicle):\n",
    "    pass"
   ]
  },
  {
   "cell_type": "code",
   "execution_count": 10,
   "id": "78faf756-030f-4d98-be81-cc1f2ebf3d62",
   "metadata": {},
   "outputs": [
    {
     "name": "stdout",
     "output_type": "stream",
     "text": [
      "four seats\n",
      "two seats\n",
      "four seats\n"
     ]
    }
   ],
   "source": [
    "v = vehicle()\n",
    "v.get_seats()\n",
    "\n",
    "b = bike()\n",
    "b.get_seats()\n",
    "\n",
    "c = car()\n",
    "c.get_seats()\n"
   ]
  },
  {
   "cell_type": "code",
   "execution_count": null,
   "id": "e448dcfc-3fd1-45fb-ab65-54c5ef3733ba",
   "metadata": {},
   "outputs": [],
   "source": []
  },
  {
   "cell_type": "code",
   "execution_count": null,
   "id": "84fed364-827d-4166-9df4-0ff999cde2ad",
   "metadata": {},
   "outputs": [],
   "source": []
  }
 ],
 "metadata": {
  "kernelspec": {
   "display_name": "Python 3 (ipykernel)",
   "language": "python",
   "name": "python3"
  },
  "language_info": {
   "codemirror_mode": {
    "name": "ipython",
    "version": 3
   },
   "file_extension": ".py",
   "mimetype": "text/x-python",
   "name": "python",
   "nbconvert_exporter": "python",
   "pygments_lexer": "ipython3",
   "version": "3.10.8"
  }
 },
 "nbformat": 4,
 "nbformat_minor": 5
}
