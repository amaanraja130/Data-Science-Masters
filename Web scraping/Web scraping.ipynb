{
 "cells": [
  {
   "cell_type": "code",
   "execution_count": 3,
   "id": "89935bc9-a92e-4d1c-a3a3-b957cae65f27",
   "metadata": {},
   "outputs": [],
   "source": [
    "import requests\n",
    "from bs4 import BeautifulSoup as bs\n",
    "from urllib.request import urlopen\n",
    "import logging"
   ]
  },
  {
   "cell_type": "code",
   "execution_count": 4,
   "id": "c80c0b19-edba-4ef1-ae40-83480a544817",
   "metadata": {},
   "outputs": [],
   "source": [
    "flipcart_url = \"https://www.flipkart.com/search?q=\" + \"tv\""
   ]
  },
  {
   "cell_type": "code",
   "execution_count": 5,
   "id": "15fa48d5-b22e-48dc-9faf-207e6b33ddd8",
   "metadata": {},
   "outputs": [
    {
     "data": {
      "text/plain": [
       "'https://www.flipkart.com/search?q=tv'"
      ]
     },
     "execution_count": 5,
     "metadata": {},
     "output_type": "execute_result"
    }
   ],
   "source": [
    "flipcart_url"
   ]
  },
  {
   "cell_type": "code",
   "execution_count": 6,
   "id": "3a114c66-1e9d-401f-8fcf-d03305bafd48",
   "metadata": {},
   "outputs": [],
   "source": [
    "urlclient=urlopen(flipcart_url)"
   ]
  },
  {
   "cell_type": "code",
   "execution_count": 7,
   "id": "f355ee99-b8b4-44d8-a70e-50befbfc2ed5",
   "metadata": {},
   "outputs": [],
   "source": [
    "flipcart_page=urlclient.read()"
   ]
  },
  {
   "cell_type": "code",
   "execution_count": 8,
   "id": "049eff10-6b86-4ca7-b7cb-f5683b40497c",
   "metadata": {},
   "outputs": [],
   "source": [
    "flipcart_html = bs(flipcart_page , 'html.parser')"
   ]
  },
  {
   "cell_type": "code",
   "execution_count": 9,
   "id": "539f495c-3af2-4b6d-a98a-92d634cf921a",
   "metadata": {},
   "outputs": [
    {
     "data": {
      "text/plain": [
       "'https://www.flipkart.com/thomson-alpha-80-cm-32-inch-hd-ready-led-smart-linux-tv-30-w-sound-output-bezel-less-design/p/itm0e90bcdadb9c9?pid=TVSGEMQV7R4CMTGA&amp;lid=LSTTVSGEMQV7R4CMTGAN8OZ8J&amp;marketplace=FLIPKART&amp;q=tv&amp;store=ckf%2Fczl&amp;srno=s_1_3&amp;otracker=search&amp;otracker1=search&amp;fm=organic&amp;iid=92d9dbf4-8ba6-43d5-baa2-587438776891.TVSGEMQV7R4CMTGA.SEARCH&amp;ppt=sp&amp;ppn=sp&amp;ssid=5iwnfqjxgg0000001677687443546&amp;qH=c9a1fdac6e082dd8'"
      ]
     },
     "execution_count": 9,
     "metadata": {},
     "output_type": "execute_result"
    }
   ],
   "source": [
    "\"https://www.flipkart.com\"+\"/thomson-alpha-80-cm-32-inch-hd-ready-led-smart-linux-tv-30-w-sound-output-bezel-less-design/p/itm0e90bcdadb9c9?pid=TVSGEMQV7R4CMTGA&amp;lid=LSTTVSGEMQV7R4CMTGAN8OZ8J&amp;marketplace=FLIPKART&amp;q=tv&amp;store=ckf%2Fczl&amp;srno=s_1_3&amp;otracker=search&amp;otracker1=search&amp;fm=organic&amp;iid=92d9dbf4-8ba6-43d5-baa2-587438776891.TVSGEMQV7R4CMTGA.SEARCH&amp;ppt=sp&amp;ppn=sp&amp;ssid=5iwnfqjxgg0000001677687443546&amp;qH=c9a1fdac6e082dd8\""
   ]
  },
  {
   "cell_type": "code",
   "execution_count": 10,
   "id": "ff42c3cb-37d6-4cbb-bef1-5c567e1b7b7f",
   "metadata": {},
   "outputs": [],
   "source": [
    "bigbox =flipcart_html.find_all(\"div\",{\"class\":\"_1AtVbE col-12-12\"})"
   ]
  },
  {
   "cell_type": "code",
   "execution_count": 11,
   "id": "026140f4-7c3e-4380-869d-92e0e91b878b",
   "metadata": {},
   "outputs": [
    {
     "data": {
      "text/plain": [
       "30"
      ]
     },
     "execution_count": 11,
     "metadata": {},
     "output_type": "execute_result"
    }
   ],
   "source": [
    "len(bigbox)"
   ]
  },
  {
   "cell_type": "code",
   "execution_count": 12,
   "id": "cc849f18-a38f-4c43-8062-dc0b4ace82b0",
   "metadata": {},
   "outputs": [],
   "source": [
    "del bigbox[0:3]"
   ]
  },
  {
   "cell_type": "code",
   "execution_count": 14,
   "id": "4f5843d5-81fb-481d-ba57-526825b1beb7",
   "metadata": {},
   "outputs": [],
   "source": [
    "productlink=\"https://www.flipkart.com\"+bigbox[0].div.div.div.a['href']"
   ]
  },
  {
   "cell_type": "code",
   "execution_count": 15,
   "id": "cbabad7d-ebaa-40c0-8767-8a83f7ac9eb3",
   "metadata": {},
   "outputs": [
    {
     "name": "stdout",
     "output_type": "stream",
     "text": [
      "https://www.flipkart.com/samsung-frame-108-cm-43-inch-qled-ultra-hd-4k-smart-tizen-tv-get-bezel-worth-rs-6-885-free/p/itmd917d26108003?pid=TVSGE3FUFUCHDYFA&lid=LSTTVSGE3FUFUCHDYFANPKQCA&marketplace=FLIPKART&q=tv&store=ckf%2Fczl&srno=s_1_2&otracker=search&fm=organic&iid=en_p0FQTpxx4ixhPsED0YoY4JT86rHPlHRrtQM4ANElani7JL2MvL6llOdNAgRI5XdDyhOIA2Yw35YZ%2Bn501FcOTQ%3D%3D&ppt=None&ppn=None&ssid=c067bqqbxc0000001677689605758&qH=c9a1fdac6e082dd8\n",
      "https://www.flipkart.com/samsung-80-cm-32-inch-hd-ready-led-smart-tizen-tv-2022-model/p/itm3c07ddc2dd25d?pid=TVSGHY2UZA9YHWQN&lid=LSTTVSGHY2UZA9YHWQNNQENTU&marketplace=FLIPKART&q=tv&store=ckf%2Fczl&spotlightTagId=BestsellerId_ckf%2Fczl&srno=s_1_3&otracker=search&fm=organic&iid=c2cd3173-0232-41c7-a713-8370a445f620.TVSGHY2UZA9YHWQN.SEARCH&ppt=None&ppn=None&ssid=c067bqqbxc0000001677689605758&qH=c9a1fdac6e082dd8\n",
      "https://www.flipkart.com/mi-5a-80-cm-32-inch-hd-ready-led-smart-android-tv-dolby-audio-2022-model/p/itm98501ffa297ba?pid=TVSGD5CS2SDUUZGN&lid=LSTTVSGD5CS2SDUUZGNWGZUUA&marketplace=FLIPKART&q=tv&store=ckf%2Fczl&srno=s_1_4&otracker=search&fm=organic&iid=c2cd3173-0232-41c7-a713-8370a445f620.TVSGD5CS2SDUUZGN.SEARCH&ppt=None&ppn=None&ssid=c067bqqbxc0000001677689605758&qH=c9a1fdac6e082dd8\n",
      "https://www.flipkart.com/thomson-alpha-80-cm-32-inch-hd-ready-led-smart-linux-tv-30-w-sound-output-bezel-less-design/p/itm0e90bcdadb9c9?pid=TVSGEMQV7R4CMTGA&lid=LSTTVSGEMQV7R4CMTGAN8OZ8J&marketplace=FLIPKART&q=tv&store=ckf%2Fczl&srno=s_1_5&otracker=search&fm=organic&iid=c2cd3173-0232-41c7-a713-8370a445f620.TVSGEMQV7R4CMTGA.SEARCH&ppt=None&ppn=None&ssid=c067bqqbxc0000001677689605758&qH=c9a1fdac6e082dd8\n",
      "https://www.flipkart.com/lg-80-cm-32-inch-hd-ready-led-smart-webos-tv/p/itm6207e6d122567?pid=TVSFTW4CSRW8PGDQ&lid=LSTTVSFTW4CSRW8PGDQSZQIO6&marketplace=FLIPKART&q=tv&store=ckf%2Fczl&srno=s_1_6&otracker=search&fm=organic&iid=c2cd3173-0232-41c7-a713-8370a445f620.TVSFTW4CSRW8PGDQ.SEARCH&ppt=None&ppn=None&ssid=c067bqqbxc0000001677689605758&qH=c9a1fdac6e082dd8\n",
      "https://www.flipkart.com/infinix-y1-80-cm-32-inch-hd-ready-led-smart-linux-tv-wall-mount/p/itme5476ca89d1b0?pid=TVSGFGF34GMTB9KF&lid=LSTTVSGFGF34GMTB9KFF9JZPY&marketplace=FLIPKART&q=tv&store=ckf%2Fczl&srno=s_1_7&otracker=search&fm=organic&iid=c2cd3173-0232-41c7-a713-8370a445f620.TVSGFGF34GMTB9KF.SEARCH&ppt=None&ppn=None&ssid=c067bqqbxc0000001677689605758&qH=c9a1fdac6e082dd8\n",
      "https://www.flipkart.com/samsung-frame-125-cm-50-inch-qled-ultra-hd-4k-smart-tizen-tv-get-bezel-worth-rs-8-976-free/p/itm18db74c4d4d73?pid=TVSGE3FUYSHAZ4S4&lid=LSTTVSGE3FUYSHAZ4S4AODEIC&marketplace=FLIPKART&q=tv&store=ckf%2Fczl&srno=s_1_8&otracker=search&fm=organic&iid=en_p0FQTpxx4ixhPsED0YoY4JT86rHPlHRrtQM4ANElangEm78O3wxvMsTey9Q2wj6Bl4p9JcKk%2FGEc3EkQ3nWd8g%3D%3D&ppt=None&ppn=None&ssid=c067bqqbxc0000001677689605758&qH=c9a1fdac6e082dd8\n",
      "https://www.flipkart.com/oneplus-y1s-80-cm-32-inch-hd-ready-led-smart-android-tv-11-bezel-less-frame/p/itm0a39edd7df236?pid=TVSGAXEVXNG9YBUM&lid=LSTTVSGAXEVXNG9YBUMLGWYAS&marketplace=FLIPKART&q=tv&store=ckf%2Fczl&srno=s_1_9&otracker=search&fm=organic&iid=c2cd3173-0232-41c7-a713-8370a445f620.TVSGAXEVXNG9YBUM.SEARCH&ppt=None&ppn=None&ssid=c067bqqbxc0000001677689605758&qH=c9a1fdac6e082dd8\n",
      "https://www.flipkart.com/iffalcon-tcl-f53-79-97-cm-32-inch-hd-ready-led-smart-android-tv-11/p/itmf4e9c6c14ccb0?pid=TVSGCYVJPAJMHGUW&lid=LSTTVSGCYVJPAJMHGUWTE92JA&marketplace=FLIPKART&q=tv&store=ckf%2Fczl&srno=s_1_10&otracker=search&fm=organic&iid=c2cd3173-0232-41c7-a713-8370a445f620.TVSGCYVJPAJMHGUW.SEARCH&ppt=None&ppn=None&ssid=c067bqqbxc0000001677689605758&qH=c9a1fdac6e082dd8\n",
      "https://www.flipkart.com/oneplus-y1-100-cm-40-inch-full-hd-led-smart-android-tv-dolby-audio/p/itmdcbd9784403b2?pid=TVSG25MMGB8NKFD8&lid=LSTTVSG25MMGB8NKFD8BZ88HR&marketplace=FLIPKART&q=tv&store=ckf%2Fczl&srno=s_1_11&otracker=search&fm=organic&iid=c2cd3173-0232-41c7-a713-8370a445f620.TVSG25MMGB8NKFD8.SEARCH&ppt=None&ppn=None&ssid=c067bqqbxc0000001677689605758&qH=c9a1fdac6e082dd8\n",
      "https://www.flipkart.com/adsun-80-cm-32-inch-hd-ready-led-tv/p/itmffmnvusydzajr?pid=TVSFFMNVXFU4DFW4&lid=LSTTVSFFMNVXFU4DFW4CHQWEE&marketplace=FLIPKART&q=tv&store=ckf%2Fczl&srno=s_1_12&otracker=search&fm=organic&iid=en_p0FQTpxx4ixhPsED0YoY4JT86rHPlHRrtQM4ANElang0lZ4a2ckUSX4OnyZPbfAdHiLvtTzY%2FI35DrGUhBsBpQ%3D%3D&ppt=None&ppn=None&ssid=c067bqqbxc0000001677689605758&qH=c9a1fdac6e082dd8\n",
      "https://www.flipkart.com/oneplus-y1-80-cm-32-inch-hd-ready-led-smart-android-tv-dolby-audio/p/itme650a6bb8cee3?pid=TVSFVWD2ENXYGEJY&lid=LSTTVSFVWD2ENXYGEJYBNWSST&marketplace=FLIPKART&q=tv&store=ckf%2Fczl&srno=s_1_13&otracker=search&fm=organic&iid=c2cd3173-0232-41c7-a713-8370a445f620.TVSFVWD2ENXYGEJY.SEARCH&ppt=None&ppn=None&ssid=c067bqqbxc0000001677689605758&qH=c9a1fdac6e082dd8\n",
      "https://www.flipkart.com/oneplus-y1s-108-cm-43-inch-full-hd-led-smart-android-tv-11-bezel-less-frame/p/itm178846d2e1567?pid=TVSGAXEVSNT3HBQA&lid=LSTTVSGAXEVSNT3HBQAKRCYE0&marketplace=FLIPKART&q=tv&store=ckf%2Fczl&srno=s_1_14&otracker=search&fm=organic&iid=c2cd3173-0232-41c7-a713-8370a445f620.TVSGAXEVSNT3HBQA.SEARCH&ppt=None&ppn=None&ssid=c067bqqbxc0000001677689605758&qH=c9a1fdac6e082dd8\n",
      "https://www.flipkart.com/mi-5a-100-cm-40-inch-full-hd-led-smart-android-tv-dolby-audio-2022-model/p/itm6be60be56f52d?pid=TVSGD5CS4N7NWFZD&lid=LSTTVSGD5CS4N7NWFZDDJBZRI&marketplace=FLIPKART&q=tv&store=ckf%2Fczl&srno=s_1_15&otracker=search&fm=organic&iid=c2cd3173-0232-41c7-a713-8370a445f620.TVSGD5CS4N7NWFZD.SEARCH&ppt=None&ppn=None&ssid=c067bqqbxc0000001677689605758&qH=c9a1fdac6e082dd8\n",
      "https://www.flipkart.com/adsun-frameless-80-cm-32-inch-hd-ready-led-smart-android-based-tv/p/itmdb08eafaa65fb?pid=TVSGAHZYMZNKZTUA&lid=LSTTVSGAHZYMZNKZTUAZYCLNZ&marketplace=FLIPKART&q=tv&store=ckf%2Fczl&srno=s_1_16&otracker=search&fm=organic&iid=en_p0FQTpxx4ixhPsED0YoY4JT86rHPlHRrtQM4ANElanhVNEoZyV2uCrxHllw1UiE4pq8kLf1%2FAmSrxreVlIpL4A%3D%3D&ppt=None&ppn=None&ssid=c067bqqbxc0000001677689605758&qH=c9a1fdac6e082dd8\n",
      "https://www.flipkart.com/oneplus-y1s-pro-138-cm-55-inch-ultra-hd-4k-led-smart-android-tv/p/itm5db9783099cbb?pid=TVSGJUFY5QMMWSU7&lid=LSTTVSGJUFY5QMMWSU7V52T1B&marketplace=FLIPKART&q=tv&store=ckf%2Fczl&srno=s_1_17&otracker=search&fm=organic&iid=c2cd3173-0232-41c7-a713-8370a445f620.TVSGJUFY5QMMWSU7.SEARCH&ppt=None&ppn=None&ssid=c067bqqbxc0000001677689605758&qH=c9a1fdac6e082dd8\n",
      "https://www.flipkart.com/mi-5a-108-cm-43-inch-full-hd-led-smart-android-tv-dolby-audio-2022-model/p/itm2d5967449cb9b?pid=TVSGD5CS3CXNF2DF&lid=LSTTVSGD5CS3CXNF2DFPJ6HSF&marketplace=FLIPKART&q=tv&store=ckf%2Fczl&srno=s_1_18&otracker=search&fm=organic&iid=c2cd3173-0232-41c7-a713-8370a445f620.TVSGD5CS3CXNF2DF.SEARCH&ppt=None&ppn=None&ssid=c067bqqbxc0000001677689605758&qH=c9a1fdac6e082dd8\n",
      "https://www.flipkart.com/acer-series-80-cm-32-inch-hd-ready-led-smart-android-tv-11-1-5gb-ram-2022-model/p/itm5767c4e3d5359?pid=TVSGEYD98YRZGSRU&lid=LSTTVSGEYD98YRZGSRURV7URN&marketplace=FLIPKART&q=tv&store=ckf%2Fczl&srno=s_1_19&otracker=search&fm=organic&iid=c2cd3173-0232-41c7-a713-8370a445f620.TVSGEYD98YRZGSRU.SEARCH&ppt=None&ppn=None&ssid=c067bqqbxc0000001677689605758&qH=c9a1fdac6e082dd8\n",
      "https://www.flipkart.com/adsun-smart-series-60-cm-24-inch-hd-ready-led-android-based-tv/p/itm6c4b3411aeb50?pid=TVSGAHZYEWJC9APV&lid=LSTTVSGAHZYEWJC9APVPDMHEN&marketplace=FLIPKART&q=tv&store=ckf%2Fczl&srno=s_1_20&otracker=search&fm=organic&iid=en_p0FQTpxx4ixhPsED0YoY4JT86rHPlHRrtQM4ANElanh%2BPKgZI8bce%2BqJBqZTBe59aywi%2FUcSkfULeICrmkb2Pw%3D%3D&ppt=None&ppn=None&ssid=c067bqqbxc0000001677689605758&qH=c9a1fdac6e082dd8\n",
      "https://www.flipkart.com/mi-x-series-108-cm-43-inch-ultra-hd-4k-led-smart-android-tv-dolby-vision-30w-audio-2022-model/p/itm39b39b602f81a?pid=TVSGHEQVGZVTSEBT&lid=LSTTVSGHEQVGZVTSEBT6BSNVA&marketplace=FLIPKART&q=tv&store=ckf%2Fczl&srno=s_1_21&otracker=search&fm=organic&iid=c2cd3173-0232-41c7-a713-8370a445f620.TVSGHEQVGZVTSEBT.SEARCH&ppt=None&ppn=None&ssid=c067bqqbxc0000001677689605758&qH=c9a1fdac6e082dd8\n",
      "https://www.flipkart.com/realme-80-cm-32-inch-hd-ready-led-smart-android-tv/p/itm56d1cf16da75b?pid=TVSFRTJQTZVKTF6Y&lid=LSTTVSFRTJQTZVKTF6YHMHXRW&marketplace=FLIPKART&q=tv&store=ckf%2Fczl&srno=s_1_22&otracker=search&fm=organic&iid=c2cd3173-0232-41c7-a713-8370a445f620.TVSFRTJQTZVKTF6Y.SEARCH&ppt=None&ppn=None&ssid=c067bqqbxc0000001677689605758&qH=c9a1fdac6e082dd8\n",
      "https://www.flipkart.com/beethosol-80-cm-32-inch-hd-ready-led-tv/p/itmbc44ca58989cf?pid=TVSGG79MDS8CXWGD&lid=LSTTVSGG79MDS8CXWGD8P6NUB&marketplace=FLIPKART&q=tv&store=ckf%2Fczl&srno=s_1_23&otracker=search&fm=organic&iid=c2cd3173-0232-41c7-a713-8370a445f620.TVSGG79MDS8CXWGD.SEARCH&ppt=None&ppn=None&ssid=c067bqqbxc0000001677689605758&qH=c9a1fdac6e082dd8\n",
      "https://www.flipkart.com/adsun-60-cm-24-inch-hd-ready-led-tv/p/itmffmnvahug733g?pid=TVSFFMNVK6GTCCKZ&lid=LSTTVSFFMNVK6GTCCKZWJCKBQ&marketplace=FLIPKART&q=tv&store=ckf%2Fczl&srno=s_1_24&otracker=search&fm=organic&iid=en_p0FQTpxx4ixhPsED0YoY4JT86rHPlHRrtQM4ANElanjFfjvtZoTmwveyspgQBAmRKgtZ3VlyyQBul%2BjV5y5TxA%3D%3D&ppt=None&ppn=None&ssid=c067bqqbxc0000001677689605758&qH=c9a1fdac6e082dd8\n"
     ]
    },
    {
     "ename": "AttributeError",
     "evalue": "'NoneType' object has no attribute 'a'",
     "output_type": "error",
     "traceback": [
      "\u001b[0;31m---------------------------------------------------------------------------\u001b[0m",
      "\u001b[0;31mAttributeError\u001b[0m                            Traceback (most recent call last)",
      "Cell \u001b[0;32mIn[15], line 2\u001b[0m\n\u001b[1;32m      1\u001b[0m \u001b[38;5;28;01mfor\u001b[39;00m i \u001b[38;5;129;01min\u001b[39;00m bigbox:\n\u001b[0;32m----> 2\u001b[0m     \u001b[38;5;28mprint\u001b[39m(\u001b[38;5;124m\"\u001b[39m\u001b[38;5;124mhttps://www.flipkart.com\u001b[39m\u001b[38;5;124m\"\u001b[39m\u001b[38;5;241m+\u001b[39m \u001b[43mi\u001b[49m\u001b[38;5;241;43m.\u001b[39;49m\u001b[43mdiv\u001b[49m\u001b[38;5;241;43m.\u001b[39;49m\u001b[43mdiv\u001b[49m\u001b[38;5;241;43m.\u001b[39;49m\u001b[43mdiv\u001b[49m\u001b[38;5;241;43m.\u001b[39;49m\u001b[43ma\u001b[49m[\u001b[38;5;124m'\u001b[39m\u001b[38;5;124mhref\u001b[39m\u001b[38;5;124m'\u001b[39m])\n",
      "\u001b[0;31mAttributeError\u001b[0m: 'NoneType' object has no attribute 'a'"
     ]
    }
   ],
   "source": [
    "for i in bigbox:\n",
    "    print(\"https://www.flipkart.com\"+ i.div.div.div.a['href'])"
   ]
  },
  {
   "cell_type": "code",
   "execution_count": 21,
   "id": "d6d87cc9-babd-4cfe-ba8d-05753b860db6",
   "metadata": {},
   "outputs": [
    {
     "data": {
      "text/plain": [
       "'https://www.flipkart.com/samsung-frame-108-cm-43-inch-qled-ultra-hd-4k-smart-tizen-tv-get-bezel-worth-rs-6-885-free/p/itmd917d26108003?pid=TVSGE3FUFUCHDYFA&lid=LSTTVSGE3FUFUCHDYFANPKQCA&marketplace=FLIPKART&q=tv&store=ckf%2Fczl&srno=s_1_2&otracker=search&fm=organic&iid=en_p0FQTpxx4ixhPsED0YoY4JT86rHPlHRrtQM4ANElani7JL2MvL6llOdNAgRI5XdDyhOIA2Yw35YZ%2Bn501FcOTQ%3D%3D&ppt=None&ppn=None&ssid=c067bqqbxc0000001677689605758&qH=c9a1fdac6e082dd8'"
      ]
     },
     "execution_count": 21,
     "metadata": {},
     "output_type": "execute_result"
    }
   ],
   "source": [
    "productlink"
   ]
  },
  {
   "cell_type": "code",
   "execution_count": 22,
   "id": "aaee59fb-d3a5-4133-ac06-1784a634b09a",
   "metadata": {},
   "outputs": [],
   "source": [
    "product_req=requests.get(productlink)"
   ]
  },
  {
   "cell_type": "code",
   "execution_count": 23,
   "id": "02f8d13c-16ba-4847-9800-0c354e1394e1",
   "metadata": {},
   "outputs": [],
   "source": [
    "product_html=bs(product_req.text,'html.parser')"
   ]
  },
  {
   "cell_type": "code",
   "execution_count": 58,
   "id": "62ea88d4-abcb-4585-a59f-d9899dcc4449",
   "metadata": {},
   "outputs": [],
   "source": [
    "comment_box=product_html.find_all(\"div\",{\"class\":\"_16PBlm\"})"
   ]
  },
  {
   "cell_type": "code",
   "execution_count": 59,
   "id": "5204de7d-17b5-42a9-af4c-560fe753ad6b",
   "metadata": {},
   "outputs": [
    {
     "data": {
      "text/plain": [
       "11"
      ]
     },
     "execution_count": 59,
     "metadata": {},
     "output_type": "execute_result"
    }
   ],
   "source": [
    "len(comment_box)"
   ]
  },
  {
   "cell_type": "code",
   "execution_count": 62,
   "id": "519ea3a5-931a-432c-b691-eb6f5f6263aa",
   "metadata": {},
   "outputs": [
    {
     "data": {
      "text/plain": [
       "'Srikant  Raspelli'"
      ]
     },
     "execution_count": 62,
     "metadata": {},
     "output_type": "execute_result"
    }
   ],
   "source": [
    "comment_box[0].div.div.find_all(\"p\",{\"class\":\"_2sc7ZR _2V5EHH\"})[0].text"
   ]
  },
  {
   "cell_type": "code",
   "execution_count": 63,
   "id": "e471a123-4450-428c-8ae5-514c37132b61",
   "metadata": {},
   "outputs": [
    {
     "name": "stdout",
     "output_type": "stream",
     "text": [
      "Srikant  Raspelli\n",
      "Viswa prakash\n",
      "Anshumaan Jain\n",
      "Vineet Pandey\n",
      "puneet kohli\n",
      "Deepak Parassery\n",
      "Trust Me\n",
      "Javidh Ahamed Raja\n",
      "SIMSAN PK\n",
      "Rajesh Khurana\n"
     ]
    },
    {
     "ename": "AttributeError",
     "evalue": "'NoneType' object has no attribute 'div'",
     "output_type": "error",
     "traceback": [
      "\u001b[0;31m---------------------------------------------------------------------------\u001b[0m",
      "\u001b[0;31mAttributeError\u001b[0m                            Traceback (most recent call last)",
      "Cell \u001b[0;32mIn[63], line 2\u001b[0m\n\u001b[1;32m      1\u001b[0m \u001b[38;5;28;01mfor\u001b[39;00m i \u001b[38;5;129;01min\u001b[39;00m comment_box:\n\u001b[0;32m----> 2\u001b[0m     \u001b[38;5;28mprint\u001b[39m(\u001b[43mi\u001b[49m\u001b[38;5;241;43m.\u001b[39;49m\u001b[43mdiv\u001b[49m\u001b[38;5;241;43m.\u001b[39;49m\u001b[43mdiv\u001b[49m\u001b[38;5;241m.\u001b[39mfind_all(\u001b[38;5;124m\"\u001b[39m\u001b[38;5;124mp\u001b[39m\u001b[38;5;124m\"\u001b[39m,{\u001b[38;5;124m\"\u001b[39m\u001b[38;5;124mclass\u001b[39m\u001b[38;5;124m\"\u001b[39m:\u001b[38;5;124m\"\u001b[39m\u001b[38;5;124m_2sc7ZR _2V5EHH\u001b[39m\u001b[38;5;124m\"\u001b[39m})[\u001b[38;5;241m0\u001b[39m]\u001b[38;5;241m.\u001b[39mtext)\n",
      "\u001b[0;31mAttributeError\u001b[0m: 'NoneType' object has no attribute 'div'"
     ]
    }
   ],
   "source": [
    "for i in comment_box:\n",
    "    print(i.div.div.find_all(\"p\",{\"class\":\"_2sc7ZR _2V5EHH\"})[0].text)"
   ]
  },
  {
   "cell_type": "code",
   "execution_count": 64,
   "id": "e0b7c756-1bc0-4e80-8838-bf9dfecc0c12",
   "metadata": {},
   "outputs": [
    {
     "name": "stdout",
     "output_type": "stream",
     "text": [
      "5\n",
      "5\n",
      "4\n",
      "5\n",
      "4\n",
      "5\n",
      "5\n",
      "5\n",
      "5\n",
      "5\n"
     ]
    },
    {
     "ename": "AttributeError",
     "evalue": "'NoneType' object has no attribute 'div'",
     "output_type": "error",
     "traceback": [
      "\u001b[0;31m---------------------------------------------------------------------------\u001b[0m",
      "\u001b[0;31mAttributeError\u001b[0m                            Traceback (most recent call last)",
      "Cell \u001b[0;32mIn[64], line 2\u001b[0m\n\u001b[1;32m      1\u001b[0m \u001b[38;5;28;01mfor\u001b[39;00m i \u001b[38;5;129;01min\u001b[39;00m comment_box:\n\u001b[0;32m----> 2\u001b[0m     \u001b[38;5;28mprint\u001b[39m(\u001b[43mi\u001b[49m\u001b[38;5;241;43m.\u001b[39;49m\u001b[43mdiv\u001b[49m\u001b[38;5;241;43m.\u001b[39;49m\u001b[43mdiv\u001b[49m\u001b[38;5;241m.\u001b[39mdiv\u001b[38;5;241m.\u001b[39mdiv\u001b[38;5;241m.\u001b[39mtext)\n",
      "\u001b[0;31mAttributeError\u001b[0m: 'NoneType' object has no attribute 'div'"
     ]
    }
   ],
   "source": [
    "for i in comment_box:\n",
    "    print(i.div.div.div.div.text)\n"
   ]
  },
  {
   "cell_type": "code",
   "execution_count": 66,
   "id": "4ff95ced-2dc9-4263-ad8e-f33536833ba1",
   "metadata": {},
   "outputs": [
    {
     "name": "stdout",
     "output_type": "stream",
     "text": [
      "Terrific purchase\n",
      "Fabulous!\n",
      "Good quality product\n",
      "Simply awesome\n",
      "Wonderful\n",
      "Wonderful\n",
      "The best 43 inch QLED in the market\n",
      "Super!\n",
      "Perfect product!\n",
      "Fabulous!\n"
     ]
    },
    {
     "ename": "AttributeError",
     "evalue": "'NoneType' object has no attribute 'div'",
     "output_type": "error",
     "traceback": [
      "\u001b[0;31m---------------------------------------------------------------------------\u001b[0m",
      "\u001b[0;31mAttributeError\u001b[0m                            Traceback (most recent call last)",
      "Cell \u001b[0;32mIn[66], line 2\u001b[0m\n\u001b[1;32m      1\u001b[0m \u001b[38;5;28;01mfor\u001b[39;00m i \u001b[38;5;129;01min\u001b[39;00m comment_box:\n\u001b[0;32m----> 2\u001b[0m     \u001b[38;5;28mprint\u001b[39m(\u001b[43mi\u001b[49m\u001b[38;5;241;43m.\u001b[39;49m\u001b[43mdiv\u001b[49m\u001b[38;5;241;43m.\u001b[39;49m\u001b[43mdiv\u001b[49m\u001b[38;5;241m.\u001b[39mdiv\u001b[38;5;241m.\u001b[39mp\u001b[38;5;241m.\u001b[39mtext)\n",
      "\u001b[0;31mAttributeError\u001b[0m: 'NoneType' object has no attribute 'div'"
     ]
    }
   ],
   "source": [
    "for i in comment_box:\n",
    "    print(i.div.div.div.p.text)"
   ]
  },
  {
   "cell_type": "code",
   "execution_count": 70,
   "id": "76bacaa7-8a41-4d12-b805-7f2a556490b3",
   "metadata": {},
   "outputs": [
    {
     "data": {
      "text/plain": [
       "'Superb tv .. Stunning to watch movies,series in 4K.Suggest to have Home theatre for complete cinema experience.. well tv speaker quality also good if have a small living / bedroom.READ MORE'"
      ]
     },
     "execution_count": 70,
     "metadata": {},
     "output_type": "execute_result"
    }
   ],
   "source": [
    "comment_box[0].div.div.find_all(\"div\",{\"class\":\"\"})[0].text"
   ]
  },
  {
   "cell_type": "code",
   "execution_count": 75,
   "id": "cac54ea6-20a2-491c-999b-41ae0696d620",
   "metadata": {},
   "outputs": [
    {
     "name": "stdout",
     "output_type": "stream",
     "text": [
      "Superb tv .. Stunning to watch movies,series in 4K.Suggest to have Home theatre for complete cinema experience.. well tv speaker quality also good if have a small living / bedroom.READ MORE\n",
      "It's really amazing choice...Thanks to samsung. I choose installation with samsung by help of customer care and it worked superb for me. This tv features are really amazing..the multi view, pc mode, ambient and art mode....many many more. If you have a proper hd content to watch..one of the best screens with 120 hz refresh.READ MORE\n",
      "The tv was delivered to me within 2 days but the installation didn't happen for 5 days and i had to call flipkart and Samsung several times for the installation and then it happened, so i am really disappointed at that front. As for the tv, i found it ok, i was expecting a quality lile oled but that's my fault otherwise pics and videos are good vibrant but i highly suggest you invest in a decent soundbar.Also the offer included a free magnetic bezel worth 9900/- but flipkart is very very re...READ MORE\n",
      "Looks stunning in your living room. Art mode is a great feature. Very good display.. colors are really pop out and looks amazing. Intelligent mode works quite well. 40 watt sound is good enough. Tizen OS is very smooth and all the apps work well. Looks really great on the wall..Internal storage is 6 GB and it's enough..READ MORE\n",
      "TV is fairly nice. The 43 inch is a bit different from other sizes in few aspects. The major one being, you wont get the no gap wall mount. Instead there are 2 very small and sleek wall mounts. That made the whole installation process a big hassle. The Jeeves executive was also surprised to see that wall mount and it took him approx. 30-45 min. to mount the TV. However, once installed, TV looks flushed inside the wall. But still, Samsung could have provided a no gap wall mount with smaller si...READ MORE\n",
      "Best Tv ever. I really liked the frame concept and the picture quality. Sound is average. Tizen Os is really fast and easy to use. It looks really beautiful on the wall. I didn’t really like the way the installation was done by the technician. I am giving 5 stars just because i really liked the Tv.READ MORE\n",
      "Amazing TV!Pros:- Display quality is awesome.- Good upscaling of SD channels compared to other brands.- Good brightness levels with no noticeable glare.- Interface is very responsive. No lag- Super thin display with an additional One Connect BoxCons:- Average sound quality with low volume levels- No support for Jio TV and very few apps available compared to an Android TVNote: Remote reception is on One Connect Box. So if you keep the box inside the cupboard or somewhere far, it w...READ MORE\n",
      "Samsung frame 55 inch - Overall a good buy.Pros : 120hz refresh rate, QLED color contrast is better than normal LED. I really love the way TV is transformed to a neatly wall mounted frame. All connectivity is neatly separated to one connect box and just one thin wire which connects to TV. Solar charged remote is a good idea considering the amount of power it needs. Samsung thought process seems to be on how to avoid mess on every single aspect. If you are looking for something new go for it.READ MORE\n",
      "The Bazel frame given with the TV is not as expected one.Very thin Bazel frame and it doesn't add the aesthetic look of TV.It's required some more width, especially for 55 inch.Picture quality is good as expected from a QLED.One connect is a beautiful concept.Voice control,solar recharge and universal control is a good features in beautiful Samsung remote.There is a lag in remote controlerUpdates1. At middle bottom side,I can see the LED light in-between panel and screen and servi...READ MORE\n",
      "Amazing TV. Stunning Looks. Head Turner. Great performance. More than expected. Loving every bit of it. Installation team is not that greatREAD MORE\n"
     ]
    },
    {
     "ename": "AttributeError",
     "evalue": "'NoneType' object has no attribute 'div'",
     "output_type": "error",
     "traceback": [
      "\u001b[0;31m---------------------------------------------------------------------------\u001b[0m",
      "\u001b[0;31mAttributeError\u001b[0m                            Traceback (most recent call last)",
      "Cell \u001b[0;32mIn[75], line 2\u001b[0m\n\u001b[1;32m      1\u001b[0m \u001b[38;5;28;01mfor\u001b[39;00m i \u001b[38;5;129;01min\u001b[39;00m comment_box:\n\u001b[0;32m----> 2\u001b[0m     \u001b[38;5;28mprint\u001b[39m(\u001b[43mi\u001b[49m\u001b[38;5;241;43m.\u001b[39;49m\u001b[43mdiv\u001b[49m\u001b[38;5;241;43m.\u001b[39;49m\u001b[43mdiv\u001b[49m\u001b[38;5;241m.\u001b[39mfind_all(\u001b[38;5;124m\"\u001b[39m\u001b[38;5;124mdiv\u001b[39m\u001b[38;5;124m\"\u001b[39m,{\u001b[38;5;124m\"\u001b[39m\u001b[38;5;124mclass\u001b[39m\u001b[38;5;124m\"\u001b[39m:\u001b[38;5;124m\"\u001b[39m\u001b[38;5;124m\"\u001b[39m})[\u001b[38;5;241m0\u001b[39m]\u001b[38;5;241m.\u001b[39mtext)\n",
      "\u001b[0;31mAttributeError\u001b[0m: 'NoneType' object has no attribute 'div'"
     ]
    }
   ],
   "source": [
    "for i in comment_box:\n",
    "    print(i.div.div.find_all(\"div\",{\"class\":\"\"})[0].text)"
   ]
  },
  {
   "cell_type": "code",
   "execution_count": null,
   "id": "3b2b0d78-96ce-4497-a3f7-5e174f2710c6",
   "metadata": {},
   "outputs": [],
   "source": []
  }
 ],
 "metadata": {
  "kernelspec": {
   "display_name": "Python 3 (ipykernel)",
   "language": "python",
   "name": "python3"
  },
  "language_info": {
   "codemirror_mode": {
    "name": "ipython",
    "version": 3
   },
   "file_extension": ".py",
   "mimetype": "text/x-python",
   "name": "python",
   "nbconvert_exporter": "python",
   "pygments_lexer": "ipython3",
   "version": "3.10.8"
  }
 },
 "nbformat": 4,
 "nbformat_minor": 5
}
