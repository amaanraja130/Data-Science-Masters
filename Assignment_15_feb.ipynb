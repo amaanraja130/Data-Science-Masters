{
 "cells": [
  {
   "cell_type": "markdown",
   "id": "43eaa867-a68c-49aa-b4cd-60078c359b1e",
   "metadata": {},
   "source": [
    "# Assingment"
   ]
  },
  {
   "cell_type": "markdown",
   "id": "174dc29c-c3f2-43b5-a6b8-78373105973f",
   "metadata": {},
   "source": [
    "### Ans1)"
   ]
  },
  {
   "cell_type": "markdown",
   "id": "b3e78508-83fa-409b-afd1-2b86807457ab",
   "metadata": {},
   "source": [
    "Multiprocessing is a module in Python that allows for the execution of multiple processes in parallel on a multi-core CPU or across multiple CPUs in a computer. Each process has its own memory space and can run independently of the other processes. This means that multiprocessing can increase the efficiency of a program by allowing it to take advantage of the full processing power of a computer.\n",
    "Multiprocessing is useful in a variety of situations where a program can benefit from parallel processing. For example, if a program needs to perform CPU-intensive operations, such as data processing or scientific calculations, multiprocessing can help speed up the execution of these operations by distributing the workload across multiple processors."
   ]
  },
  {
   "cell_type": "markdown",
   "id": "27756da4-2eb3-4fd3-9ebb-a3f8798c1ced",
   "metadata": {},
   "source": [
    "### Ans2)"
   ]
  },
  {
   "cell_type": "markdown",
   "id": "71384c0f-d6bc-4a98-a68e-722d4b8a5055",
   "metadata": {},
   "source": [
    "Multiprocessing and multithreading are both techniques used to execute multiple tasks concurrently in a program, but they differ in how they achieve concurrency and how they use system resources.\n",
    "\n",
    "1) Concurrency: Multiprocessing achieves concurrency by running multiple processes in parallel on multiple CPU cores, while multithreading achieves concurrency by running multiple threads within the same process.\n",
    "\n",
    "2) Memory space: Each process in multiprocessing has its own memory space, which means that the memory used by one process is not accessible to other processes. In contrast, all threads within a process share the same memory space.\n",
    "\n",
    "3) Resource allocation: In multiprocessing, each process requires its own set of system resources, such as memory, file handles, and network sockets. In contrast, threads share the same system resources within a process.\n",
    "\n",
    "4) Interprocess communication: Communication between processes is more complex and involves using interprocess communication mechanisms such as pipes, queues, and shared memory. In contrast, communication between threads within a process is simpler and can be done using shared memory and synchronization primitives like locks and semaphores.\n",
    "\n",
    "5) Overhead: Creating and managing processes is generally more overhead-intensive than creating and managing threads, which means that multiprocessing can be slower to start up and may consume more system resources than multithreading.\n"
   ]
  },
  {
   "cell_type": "markdown",
   "id": "8635f404-5467-4b2e-a482-782f86eb9418",
   "metadata": {},
   "source": [
    "### Ans3)"
   ]
  },
  {
   "cell_type": "code",
   "execution_count": 4,
   "id": "8cf2fe84-030f-4c6f-bdf6-73a589ab44c8",
   "metadata": {},
   "outputs": [
    {
     "name": "stdout",
     "output_type": "stream",
     "text": [
      "My name is Amaan\n",
      "I am learning data science masters\n"
     ]
    }
   ],
   "source": [
    "import multiprocessing\n",
    "def Amaan():\n",
    "    print(\"I am learning data science masters\")\n",
    "if __name__==\"__main__\":\n",
    "    m= multiprocessing.Process(target=Amaan)\n",
    "    print(\"My name is Amaan\")\n",
    "    m.start()\n",
    "    m.join()"
   ]
  },
  {
   "cell_type": "markdown",
   "id": "3dce0f51-63d2-42e8-b3c5-2dfc61a121ed",
   "metadata": {},
   "source": [
    "### Ans4)"
   ]
  },
  {
   "cell_type": "markdown",
   "id": "25770361-ed0c-41a8-9b7c-3532e59b758b",
   "metadata": {},
   "source": [
    "A multiprocessing pool in Python is a collection of worker processes that can be used to parallelize the execution of a function across multiple input values. The pool is created using the multiprocessing.Pool class, which manages the creation and allocation of worker processes.\n",
    "\n",
    "Using a Pool can be useful in situations where a function needs to be executed multiple times with different input values, and where each execution of the function can be performed independently of the others. By distributing the workload across multiple worker processes, a Pool can help to reduce the total time required to execute the function."
   ]
  },
  {
   "cell_type": "markdown",
   "id": "e3064a51-6341-4f08-b50b-8fab593e141b",
   "metadata": {},
   "source": [
    "### Ans5)"
   ]
  },
  {
   "cell_type": "markdown",
   "id": "7d2a45fa-f7b8-4642-89ca-d253cd3364e3",
   "metadata": {},
   "source": [
    "To create a pool of worker processes in Python using the multiprocessing module, you need to follow these steps:\n",
    "\n",
    "1) Import the multiprocessing module.\n",
    "2) Define a function that you want to run in parallel across multiple processes.\n",
    "3) Create a Pool object with the desired number of worker processes.\n",
    "4) Use the map method of the Pool object to apply the function to a list of input values.\n",
    "5) Get the results returned by the map method"
   ]
  },
  {
   "cell_type": "code",
   "execution_count": 13,
   "id": "9d8a7ed9-c236-456f-8857-286c52cbac18",
   "metadata": {},
   "outputs": [
    {
     "name": "stdout",
     "output_type": "stream",
     "text": [
      "[8, 27, 64, 125, 216, 512, 729, 10648, 8, 27]\n"
     ]
    }
   ],
   "source": [
    "import multiprocessing\n",
    "def cube(n):\n",
    "    return n**3\n",
    "if __name__==\"__main__\":\n",
    "    with multiprocessing.Pool(processes=5) as pool:\n",
    "        out= pool.map(cube,[2,3,4,5,6,8,9,22,2,3])\n",
    "        print(out)"
   ]
  },
  {
   "cell_type": "markdown",
   "id": "1b9c2ce1-3712-42fc-a1bf-9902e5b06c76",
   "metadata": {},
   "source": [
    "### Ans6)"
   ]
  },
  {
   "cell_type": "code",
   "execution_count": 18,
   "id": "158d8674-3646-4dcb-b5d1-59ec8e95e603",
   "metadata": {},
   "outputs": [
    {
     "name": "stdout",
     "output_type": "stream",
     "text": [
      "Process 1:1\n",
      "Process 2:2\n",
      "Process 3:3\n",
      "Process 4:4\n"
     ]
    }
   ],
   "source": [
    "import multiprocessing\n",
    "def print_num(num):\n",
    "    print(f\"Process {num}:{num}\")\n",
    "\n",
    "if __name__==\"__main__\":\n",
    "    processes = []\n",
    "    for i in range(1,5):\n",
    "        process=multiprocessing.Process(target=print_num,args=(i,))\n",
    "        processes.append(process)\n",
    "        process.start()\n",
    "    for process in processes:\n",
    "        process.join()"
   ]
  },
  {
   "cell_type": "code",
   "execution_count": null,
   "id": "b78ae8b4-4787-452b-82d9-601cda3352ab",
   "metadata": {},
   "outputs": [],
   "source": []
  }
 ],
 "metadata": {
  "kernelspec": {
   "display_name": "Python 3 (ipykernel)",
   "language": "python",
   "name": "python3"
  },
  "language_info": {
   "codemirror_mode": {
    "name": "ipython",
    "version": 3
   },
   "file_extension": ".py",
   "mimetype": "text/x-python",
   "name": "python",
   "nbconvert_exporter": "python",
   "pygments_lexer": "ipython3",
   "version": "3.10.8"
  }
 },
 "nbformat": 4,
 "nbformat_minor": 5
}
