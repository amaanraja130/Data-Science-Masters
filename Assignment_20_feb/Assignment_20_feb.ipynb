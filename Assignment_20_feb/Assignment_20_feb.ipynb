{
 "cells": [
  {
   "cell_type": "markdown",
   "id": "cca7b821-c34a-479e-be7c-01450b160573",
   "metadata": {},
   "source": [
    "# Assignment)"
   ]
  },
  {
   "cell_type": "markdown",
   "id": "e254b5d3-ffc3-45f1-b4b2-59aef1b80c0d",
   "metadata": {},
   "source": [
    "### Ans1)"
   ]
  },
  {
   "cell_type": "markdown",
   "id": "702c66ba-ffaf-4265-8896-994e00d0a1e4",
   "metadata": {},
   "source": [
    "The GET and POST methods are HTTP request methods used to send data between a client (such as a web browser) and a server.\n",
    "\n",
    "1) GET Method:\n",
    "The GET method is used to request data from a server. When a client sends a GET request, it includes parameters in the URL, which is sent to the server. The server processes the request and sends the requested data back to the client. The GET method is often used to retrieve information from a server, such as a web page or an image.\n",
    "Example:\n",
    "If you want to view a specific article on a website, you might use a GET request like this:\n",
    "http://www.example.com/articles?id=123\n",
    "\n",
    "2) POST Method:\n",
    "The POST method is used to submit data to a server. When a client sends a POST request, it sends the data in the body of the request, rather than in the URL. The server processes the request and sends a response back to the client. The POST method is often used to send data to a server, such as when submitting a form on a website."
   ]
  },
  {
   "cell_type": "markdown",
   "id": "c7585bc1-b88b-40ed-85bd-887337ef8bd8",
   "metadata": {},
   "source": [
    "### Ans2)"
   ]
  },
  {
   "cell_type": "markdown",
   "id": "f3b454ce-0d6d-4ef8-b721-42bbe5bbe392",
   "metadata": {},
   "source": [
    "The request object in Flask is used to represent incoming HTTP requests from clients. It contains information about the request, such as the HTTP method (e.g., GET or POST), the URL path, query parameters, headers, and any data submitted by the client (in the case of a POST request).\n",
    "\n",
    "The request object is important in Flask because it allows developers to access and process the data submitted by clients in their web applications. For example, if a user submits a form with data, the request object can be used to extract and process that data so it can be stored or used in some other way.\n"
   ]
  },
  {
   "cell_type": "markdown",
   "id": "f5f4488f-22e0-46da-975d-35d3e8540dcb",
   "metadata": {},
   "source": [
    "### Ans3)"
   ]
  },
  {
   "cell_type": "markdown",
   "id": "d4a1ea04-3834-4692-b3bc-d3f51e9692ed",
   "metadata": {},
   "source": [
    "The redirect() function in Flask is used to redirect a user to a different URL or route within the same application. It's commonly used after a user has submitted a form or completed some other action that requires them to be redirected to a different page."
   ]
  },
  {
   "cell_type": "markdown",
   "id": "bdda42fb-a39a-4a72-ba86-661e9912a256",
   "metadata": {},
   "source": [
    "The redirect() function is important in Flask because it allows developers to control the flow of the application and ensure that users are directed to the appropriate pages at the appropriate times. Overall, the redirect() function is an essential tool for building web applications in Flask."
   ]
  },
  {
   "cell_type": "markdown",
   "id": "874423bb-bc63-4934-a722-a88c0a3a2aae",
   "metadata": {},
   "source": [
    "### Ans4)"
   ]
  },
  {
   "cell_type": "markdown",
   "id": "3bf0bbff-4c28-483f-8b15-dc89eb7e225b",
   "metadata": {},
   "source": [
    "Templates in Flask are files that contain HTML and other dynamic elements that are used to generate dynamic content for web pages. They typically include placeholders for data that will be inserted at runtime, such as user-specific information or database records.\n",
    "\n",
    "The render_template() function in Flask is used to render these templates, populate them with data, and generate HTML pages that are sent to the user's browser. The render_template() function takes the name of a template file as its first argument, and any additional arguments can be used to pass data to the template."
   ]
  },
  {
   "cell_type": "markdown",
   "id": "a5b11728-c9fe-4ba9-9687-466084abe57f",
   "metadata": {},
   "source": [
    "### Ans5)"
   ]
  },
  {
   "cell_type": "code",
   "execution_count": null,
   "id": "03bff2d9-4aa9-4f61-b9d7-c756d54e10e6",
   "metadata": {},
   "outputs": [],
   "source": [
    "from flask import Flask, request , render_template , jsonify\n",
    "\n",
    "app = Flask(__name__)\n",
    "\n",
    "@app.route(\"/\")\n",
    "def home():\n",
    "    return render_template('index.html')\n",
    "@app.route(\"/cube\",methods=['POST'])\n",
    "def cube():\n",
    "    if (request.method=='POST'):\n",
    "        num=request.form['num1']\n",
    "        result = str(int(num)**3)\n",
    "    return render_template('results.html', result = result)\n",
    "\n",
    "@app.route(\"/postman_action\",methods=['POST'])\n",
    "def cube1():\n",
    "    if (request.method=='POST'):\n",
    "        num=request.json['num1']\n",
    "        result = str(int(num)**3)\n",
    "    return jsonify(result)\n",
    "\n",
    "\n",
    "if __name__==\"__main__\":\n",
    "    app.run(host=\"0.0.0.0\")\n"
   ]
  },
  {
   "cell_type": "code",
   "execution_count": 2,
   "id": "b403b2d8-ade1-4c9b-9fff-8cf0db6c8de8",
   "metadata": {},
   "outputs": [],
   "source": []
  },
  {
   "cell_type": "code",
   "execution_count": null,
   "id": "d2b4ce4d-0581-4660-9d32-6dd8d20c079a",
   "metadata": {},
   "outputs": [],
   "source": []
  }
 ],
 "metadata": {
  "kernelspec": {
   "display_name": "Python 3 (ipykernel)",
   "language": "python",
   "name": "python3"
  },
  "language_info": {
   "codemirror_mode": {
    "name": "ipython",
    "version": 3
   },
   "file_extension": ".py",
   "mimetype": "text/x-python",
   "name": "python",
   "nbconvert_exporter": "python",
   "pygments_lexer": "ipython3",
   "version": "3.10.8"
  }
 },
 "nbformat": 4,
 "nbformat_minor": 5
}
