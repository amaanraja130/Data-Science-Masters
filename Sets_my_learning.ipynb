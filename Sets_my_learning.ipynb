{
 "cells": [
  {
   "cell_type": "code",
   "execution_count": 64,
   "id": "1bf4cf79-3c90-465b-a3ed-12a1e6beb73a",
   "metadata": {},
   "outputs": [],
   "source": [
    "s = {}"
   ]
  },
  {
   "cell_type": "code",
   "execution_count": 65,
   "id": "33d8ffe6-ec16-4950-a6b4-32fdf8be18f7",
   "metadata": {},
   "outputs": [
    {
     "data": {
      "text/plain": [
       "dict"
      ]
     },
     "execution_count": 65,
     "metadata": {},
     "output_type": "execute_result"
    }
   ],
   "source": [
    "type(s)"
   ]
  },
  {
   "cell_type": "code",
   "execution_count": 66,
   "id": "4415b6b2-89eb-4a61-b265-81e490c5a521",
   "metadata": {},
   "outputs": [],
   "source": [
    "s1= {1,2,3,4,5}"
   ]
  },
  {
   "cell_type": "code",
   "execution_count": 67,
   "id": "d3c1f6a7-09b4-457b-939f-0633c06a927f",
   "metadata": {},
   "outputs": [
    {
     "data": {
      "text/plain": [
       "set"
      ]
     },
     "execution_count": 67,
     "metadata": {},
     "output_type": "execute_result"
    }
   ],
   "source": [
    "type(s1)"
   ]
  },
  {
   "cell_type": "code",
   "execution_count": 68,
   "id": "7603e784-12f6-416c-a323-cb1d6ea18bc9",
   "metadata": {},
   "outputs": [],
   "source": [
    "s2 = {1,1,12,3,3,3,4,5,5,5,55,523,34,3,45,6,67}"
   ]
  },
  {
   "cell_type": "code",
   "execution_count": 69,
   "id": "5a1b6b5a-26a0-4dc2-b893-f701b95f2314",
   "metadata": {},
   "outputs": [
    {
     "data": {
      "text/plain": [
       "{1, 3, 4, 5, 6, 12, 34, 45, 55, 67, 523}"
      ]
     },
     "execution_count": 69,
     "metadata": {},
     "output_type": "execute_result"
    }
   ],
   "source": [
    "s2"
   ]
  },
  {
   "cell_type": "code",
   "execution_count": 71,
   "id": "60837473-4f0c-41f1-89e0-44698903be56",
   "metadata": {},
   "outputs": [],
   "source": [
    "l=list(s2)"
   ]
  },
  {
   "cell_type": "code",
   "execution_count": 72,
   "id": "33c50171-da4f-4792-90f7-65008a9eefb0",
   "metadata": {},
   "outputs": [
    {
     "data": {
      "text/plain": [
       "{1, 3, 4, 5, 6, 12, 34, 45, 55, 67, 523}"
      ]
     },
     "execution_count": 72,
     "metadata": {},
     "output_type": "execute_result"
    }
   ],
   "source": [
    "set(l)"
   ]
  },
  {
   "cell_type": "code",
   "execution_count": 73,
   "id": "962abdf6-29fb-45bf-a2d1-c54e17419ae2",
   "metadata": {},
   "outputs": [
    {
     "ename": "TypeError",
     "evalue": "unhashable type: 'list'",
     "output_type": "error",
     "traceback": [
      "\u001b[0;31m---------------------------------------------------------------------------\u001b[0m",
      "\u001b[0;31mTypeError\u001b[0m                                 Traceback (most recent call last)",
      "Cell \u001b[0;32mIn[73], line 1\u001b[0m\n\u001b[0;32m----> 1\u001b[0m s4\u001b[38;5;241m=\u001b[39m {\u001b[38;5;241m1\u001b[39m,\u001b[38;5;241m2\u001b[39m,\u001b[38;5;241m3\u001b[39m,\u001b[38;5;241m4\u001b[39m,[\u001b[38;5;241m1\u001b[39m,\u001b[38;5;241m2\u001b[39m,\u001b[38;5;241m3\u001b[39m,\u001b[38;5;241m4\u001b[39m]}\n",
      "\u001b[0;31mTypeError\u001b[0m: unhashable type: 'list'"
     ]
    }
   ],
   "source": [
    "s4= {1,2,3,4,[1,2,3,4]}"
   ]
  },
  {
   "cell_type": "code",
   "execution_count": 74,
   "id": "c636befe-e15b-4731-bd06-461399bd28a0",
   "metadata": {},
   "outputs": [],
   "source": [
    "s5 = {1,2,3,4,(1,2,3,4)}"
   ]
  },
  {
   "cell_type": "code",
   "execution_count": 75,
   "id": "fb29af44-b04b-4d4c-a773-fe2e6e891b22",
   "metadata": {},
   "outputs": [
    {
     "data": {
      "text/plain": [
       "{(1, 2, 3, 4), 1, 2, 3, 4}"
      ]
     },
     "execution_count": 75,
     "metadata": {},
     "output_type": "execute_result"
    }
   ],
   "source": [
    "s5"
   ]
  },
  {
   "cell_type": "code",
   "execution_count": 76,
   "id": "19ba1c94-0419-420a-9d65-b03d0ec21ada",
   "metadata": {},
   "outputs": [],
   "source": [
    "s6 ={\"Amaan\",\"amaan\",2,3,4,5}"
   ]
  },
  {
   "cell_type": "code",
   "execution_count": 77,
   "id": "c3edbe37-96e7-4be8-b2dd-35b98875b602",
   "metadata": {},
   "outputs": [
    {
     "data": {
      "text/plain": [
       "{2, 3, 4, 5, 'Amaan', 'amaan'}"
      ]
     },
     "execution_count": 77,
     "metadata": {},
     "output_type": "execute_result"
    }
   ],
   "source": [
    "s6"
   ]
  },
  {
   "cell_type": "code",
   "execution_count": 4,
   "id": "35775474-95ca-4e68-a539-0b5e62bdcfef",
   "metadata": {},
   "outputs": [],
   "source": [
    "s7 = {\"amaan\",\"amaan\",2,3,4,5}"
   ]
  },
  {
   "cell_type": "code",
   "execution_count": 79,
   "id": "971739c5-9c18-4ec1-ac74-42be79ca452e",
   "metadata": {},
   "outputs": [
    {
     "data": {
      "text/plain": [
       "{2, 3, 4, 5, 'amaan'}"
      ]
     },
     "execution_count": 79,
     "metadata": {},
     "output_type": "execute_result"
    }
   ],
   "source": [
    "s7"
   ]
  },
  {
   "cell_type": "code",
   "execution_count": 5,
   "id": "abf53072-d084-4a8b-85ee-d5fb54093aaa",
   "metadata": {},
   "outputs": [
    {
     "data": {
      "text/plain": [
       "{2, 3, 4, 5, 'amaan'}"
      ]
     },
     "execution_count": 5,
     "metadata": {},
     "output_type": "execute_result"
    }
   ],
   "source": [
    "s7"
   ]
  },
  {
   "cell_type": "code",
   "execution_count": 6,
   "id": "bd07ad5d-37b6-43dc-8252-576dcd0cc32c",
   "metadata": {},
   "outputs": [
    {
     "ename": "TypeError",
     "evalue": "'set' object is not subscriptable",
     "output_type": "error",
     "traceback": [
      "\u001b[0;31m---------------------------------------------------------------------------\u001b[0m",
      "\u001b[0;31mTypeError\u001b[0m                                 Traceback (most recent call last)",
      "Cell \u001b[0;32mIn[6], line 1\u001b[0m\n\u001b[0;32m----> 1\u001b[0m \u001b[43ms7\u001b[49m\u001b[43m[\u001b[49m\u001b[38;5;241;43m0\u001b[39;49m\u001b[43m]\u001b[49m\n",
      "\u001b[0;31mTypeError\u001b[0m: 'set' object is not subscriptable"
     ]
    }
   ],
   "source": [
    "s7[0]"
   ]
  },
  {
   "cell_type": "code",
   "execution_count": 7,
   "id": "910bc9b3-e070-4869-b94f-6dd2f61d8c8d",
   "metadata": {},
   "outputs": [
    {
     "ename": "TypeError",
     "evalue": "'set' object is not subscriptable",
     "output_type": "error",
     "traceback": [
      "\u001b[0;31m---------------------------------------------------------------------------\u001b[0m",
      "\u001b[0;31mTypeError\u001b[0m                                 Traceback (most recent call last)",
      "Cell \u001b[0;32mIn[7], line 1\u001b[0m\n\u001b[0;32m----> 1\u001b[0m \u001b[43ms7\u001b[49m\u001b[43m[\u001b[49m\u001b[43m:\u001b[49m\u001b[43m:\u001b[49m\u001b[38;5;241;43m-\u001b[39;49m\u001b[38;5;241;43m1\u001b[39;49m\u001b[43m]\u001b[49m\n",
      "\u001b[0;31mTypeError\u001b[0m: 'set' object is not subscriptable"
     ]
    }
   ],
   "source": [
    "s7[::-1]"
   ]
  },
  {
   "cell_type": "code",
   "execution_count": 8,
   "id": "c23537f3-e57d-4f9c-9930-16e6ec18860a",
   "metadata": {},
   "outputs": [
    {
     "name": "stdout",
     "output_type": "stream",
     "text": [
      "2\n",
      "3\n",
      "4\n",
      "5\n",
      "amaan\n"
     ]
    }
   ],
   "source": [
    "for i in s7:\n",
    "    print(i)"
   ]
  },
  {
   "cell_type": "code",
   "execution_count": 9,
   "id": "c872e25e-7689-411d-ad82-91c396f6b1bd",
   "metadata": {},
   "outputs": [
    {
     "data": {
      "text/plain": [
       "{2, 3, 4, 5, 'amaan'}"
      ]
     },
     "execution_count": 9,
     "metadata": {},
     "output_type": "execute_result"
    }
   ],
   "source": [
    "s7"
   ]
  },
  {
   "cell_type": "code",
   "execution_count": 10,
   "id": "cc392a2b-a89f-4441-8452-3756dccdce2f",
   "metadata": {},
   "outputs": [],
   "source": [
    "s7.add(34)"
   ]
  },
  {
   "cell_type": "code",
   "execution_count": 11,
   "id": "d726e160-2311-48e0-af45-cb8949f0bc9f",
   "metadata": {},
   "outputs": [
    {
     "data": {
      "text/plain": [
       "{2, 3, 34, 4, 5, 'amaan'}"
      ]
     },
     "execution_count": 11,
     "metadata": {},
     "output_type": "execute_result"
    }
   ],
   "source": [
    "s7"
   ]
  },
  {
   "cell_type": "code",
   "execution_count": 12,
   "id": "60fe8c43-7448-474c-a435-499aee87f9e0",
   "metadata": {},
   "outputs": [],
   "source": [
    "s7.add(2)"
   ]
  },
  {
   "cell_type": "code",
   "execution_count": 13,
   "id": "0c9b6f8c-38c5-48c8-b53c-a10760e18ad4",
   "metadata": {},
   "outputs": [
    {
     "data": {
      "text/plain": [
       "{2, 3, 34, 4, 5, 'amaan'}"
      ]
     },
     "execution_count": 13,
     "metadata": {},
     "output_type": "execute_result"
    }
   ],
   "source": [
    "s7"
   ]
  },
  {
   "cell_type": "code",
   "execution_count": 14,
   "id": "72d2a637-5ec2-4247-aa8d-01b417e10a6c",
   "metadata": {},
   "outputs": [
    {
     "data": {
      "text/plain": [
       "6"
      ]
     },
     "execution_count": 14,
     "metadata": {},
     "output_type": "execute_result"
    }
   ],
   "source": [
    "len(s7)"
   ]
  },
  {
   "cell_type": "code",
   "execution_count": 15,
   "id": "f0cd469b-b7bd-4b6c-bbd9-b362b4fcce82",
   "metadata": {},
   "outputs": [
    {
     "data": {
      "text/plain": [
       "2"
      ]
     },
     "execution_count": 15,
     "metadata": {},
     "output_type": "execute_result"
    }
   ],
   "source": [
    "s7.pop()"
   ]
  },
  {
   "cell_type": "code",
   "execution_count": 16,
   "id": "61a3721b-4984-4210-9f39-b97915544bae",
   "metadata": {},
   "outputs": [
    {
     "data": {
      "text/plain": [
       "{3, 34, 4, 5, 'amaan'}"
      ]
     },
     "execution_count": 16,
     "metadata": {},
     "output_type": "execute_result"
    }
   ],
   "source": [
    "s7"
   ]
  },
  {
   "cell_type": "code",
   "execution_count": 17,
   "id": "7ed21ec6-97cc-4fdc-8069-569bcc23e3f2",
   "metadata": {},
   "outputs": [
    {
     "data": {
      "text/plain": [
       "3"
      ]
     },
     "execution_count": 17,
     "metadata": {},
     "output_type": "execute_result"
    }
   ],
   "source": [
    "s7.pop()"
   ]
  },
  {
   "cell_type": "code",
   "execution_count": 18,
   "id": "d53a2553-4bb6-414f-9599-a1e7856785c1",
   "metadata": {},
   "outputs": [
    {
     "data": {
      "text/plain": [
       "{34, 4, 5, 'amaan'}"
      ]
     },
     "execution_count": 18,
     "metadata": {},
     "output_type": "execute_result"
    }
   ],
   "source": [
    "s7"
   ]
  },
  {
   "cell_type": "code",
   "execution_count": 19,
   "id": "23aab8e6-4420-4980-9d0d-fc104aed57ff",
   "metadata": {},
   "outputs": [
    {
     "data": {
      "text/plain": [
       "4"
      ]
     },
     "execution_count": 19,
     "metadata": {},
     "output_type": "execute_result"
    }
   ],
   "source": [
    "s7.pop()"
   ]
  },
  {
   "cell_type": "code",
   "execution_count": 20,
   "id": "59c6eaba-1cb5-420f-bd8f-edc51e27b198",
   "metadata": {},
   "outputs": [
    {
     "data": {
      "text/plain": [
       "{34, 5, 'amaan'}"
      ]
     },
     "execution_count": 20,
     "metadata": {},
     "output_type": "execute_result"
    }
   ],
   "source": [
    "s7"
   ]
  },
  {
   "cell_type": "code",
   "execution_count": 21,
   "id": "1790d8bb-3c88-4b41-a082-d63a01b9f2b6",
   "metadata": {},
   "outputs": [
    {
     "data": {
      "text/plain": [
       "5"
      ]
     },
     "execution_count": 21,
     "metadata": {},
     "output_type": "execute_result"
    }
   ],
   "source": [
    "s7.pop()"
   ]
  },
  {
   "cell_type": "code",
   "execution_count": 22,
   "id": "0f09f359-9a2c-4e70-9e30-f77ab08979b1",
   "metadata": {},
   "outputs": [
    {
     "data": {
      "text/plain": [
       "{34, 'amaan'}"
      ]
     },
     "execution_count": 22,
     "metadata": {},
     "output_type": "execute_result"
    }
   ],
   "source": [
    "s7"
   ]
  },
  {
   "cell_type": "code",
   "execution_count": 23,
   "id": "cd5d1bd0-4fa5-4b92-ad98-bdce07bfbfc5",
   "metadata": {},
   "outputs": [
    {
     "data": {
      "text/plain": [
       "{34, 'amaan'}"
      ]
     },
     "execution_count": 23,
     "metadata": {},
     "output_type": "execute_result"
    }
   ],
   "source": [
    "s7"
   ]
  },
  {
   "cell_type": "code",
   "execution_count": 25,
   "id": "dd4fc456-e1b0-4b90-999a-4b4450bffcb0",
   "metadata": {},
   "outputs": [],
   "source": [
    "s7.clear()"
   ]
  },
  {
   "cell_type": "code",
   "execution_count": 26,
   "id": "402c944c-de2c-477c-8fe7-ad4b3bf923cd",
   "metadata": {},
   "outputs": [
    {
     "data": {
      "text/plain": [
       "set()"
      ]
     },
     "execution_count": 26,
     "metadata": {},
     "output_type": "execute_result"
    }
   ],
   "source": [
    "s7"
   ]
  },
  {
   "cell_type": "code",
   "execution_count": 27,
   "id": "5a014d1a-3751-4f23-ab91-070145f254c0",
   "metadata": {},
   "outputs": [],
   "source": [
    "s8= {1,2,3,4}\n",
    "s9={1,2,3,5}"
   ]
  },
  {
   "cell_type": "code",
   "execution_count": 28,
   "id": "fc74c50a-2144-47e0-b23f-c7243fbf671a",
   "metadata": {},
   "outputs": [
    {
     "data": {
      "text/plain": [
       "{4}"
      ]
     },
     "execution_count": 28,
     "metadata": {},
     "output_type": "execute_result"
    }
   ],
   "source": [
    "s8.difference(s9)"
   ]
  },
  {
   "cell_type": "code",
   "execution_count": 30,
   "id": "5298991b-03e0-4484-8b57-b34cc9f63e11",
   "metadata": {},
   "outputs": [
    {
     "data": {
      "text/plain": [
       "{5}"
      ]
     },
     "execution_count": 30,
     "metadata": {},
     "output_type": "execute_result"
    }
   ],
   "source": [
    "s9.difference(s8)"
   ]
  },
  {
   "cell_type": "code",
   "execution_count": null,
   "id": "19e3a470-9f9d-49b9-b2d9-57b4bb6eeda7",
   "metadata": {},
   "outputs": [],
   "source": []
  }
 ],
 "metadata": {
  "kernelspec": {
   "display_name": "Python 3 (ipykernel)",
   "language": "python",
   "name": "python3"
  },
  "language_info": {
   "codemirror_mode": {
    "name": "ipython",
    "version": 3
   },
   "file_extension": ".py",
   "mimetype": "text/x-python",
   "name": "python",
   "nbconvert_exporter": "python",
   "pygments_lexer": "ipython3",
   "version": "3.10.8"
  }
 },
 "nbformat": 4,
 "nbformat_minor": 5
}
