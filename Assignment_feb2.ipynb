{
 "cells": [
  {
   "cell_type": "markdown",
   "id": "4969bd1d-403b-4468-bdd8-1897d0f59e3d",
   "metadata": {},
   "source": [
    "# Assignment"
   ]
  },
  {
   "cell_type": "markdown",
   "id": "390a63e5-a426-44d3-9072-b0d47ef2e2de",
   "metadata": {},
   "source": [
    "### Ans1)"
   ]
  },
  {
   "cell_type": "markdown",
   "id": "7d2f756f-92b9-44d5-9e13-9e2fa82bb1d3",
   "metadata": {},
   "source": [
    "Tuples are immutable.It closed with (). Tuples are orderd,indexed and it can store duplicate values.\n"
   ]
  },
  {
   "cell_type": "markdown",
   "id": "71d1ab61-9503-4d69-95e9-da911e2435d5",
   "metadata": {},
   "source": [
    "### Ans2)"
   ]
  },
  {
   "cell_type": "markdown",
   "id": "b0c43fd3-52d4-441b-afa9-20dab4919bd8",
   "metadata": {},
   "source": [
    "The two tuple methods are:\n",
    "1)count()\n",
    "2)index()"
   ]
  },
  {
   "cell_type": "code",
   "execution_count": 10,
   "id": "3e7c8843-fe2c-4579-a44b-31e0ba75f3b1",
   "metadata": {},
   "outputs": [],
   "source": [
    "t1= (1,2,\"Amaan\",3,2,4,3)"
   ]
  },
  {
   "cell_type": "code",
   "execution_count": 12,
   "id": "e3b9815d-9c11-454a-973f-6b891ff5f261",
   "metadata": {},
   "outputs": [
    {
     "data": {
      "text/plain": [
       "(1, 2, 'Amaan', 3, 2, 4, 3)"
      ]
     },
     "execution_count": 12,
     "metadata": {},
     "output_type": "execute_result"
    }
   ],
   "source": [
    "t1"
   ]
  },
  {
   "cell_type": "code",
   "execution_count": 11,
   "id": "8676c95d-4e9e-417e-86a8-4fc0d6ebe28c",
   "metadata": {},
   "outputs": [
    {
     "data": {
      "text/plain": [
       "2"
      ]
     },
     "execution_count": 11,
     "metadata": {},
     "output_type": "execute_result"
    }
   ],
   "source": [
    "t1.count(2)"
   ]
  },
  {
   "cell_type": "code",
   "execution_count": 13,
   "id": "5c8e2d0e-7103-4291-8c14-67f80e49072f",
   "metadata": {},
   "outputs": [
    {
     "data": {
      "text/plain": [
       "1"
      ]
     },
     "execution_count": 13,
     "metadata": {},
     "output_type": "execute_result"
    }
   ],
   "source": [
    "t1.count(\"Amaan\")"
   ]
  },
  {
   "cell_type": "code",
   "execution_count": 17,
   "id": "23b76ccd-eba2-4211-9fdf-689aebc6e771",
   "metadata": {},
   "outputs": [
    {
     "data": {
      "text/plain": [
       "5"
      ]
     },
     "execution_count": 17,
     "metadata": {},
     "output_type": "execute_result"
    }
   ],
   "source": [
    "t1.index(4)"
   ]
  },
  {
   "cell_type": "code",
   "execution_count": 18,
   "id": "5baf86fd-752e-4d97-81e1-21cc871e4cd1",
   "metadata": {},
   "outputs": [
    {
     "data": {
      "text/plain": [
       "2"
      ]
     },
     "execution_count": 18,
     "metadata": {},
     "output_type": "execute_result"
    }
   ],
   "source": [
    "t1.index(\"Amaan\")"
   ]
  },
  {
   "cell_type": "markdown",
   "id": "fe821394-6d35-4747-98d5-a18fd87c1ccc",
   "metadata": {},
   "source": [
    "tuples have only two in build methods because tuples are immutable,\n",
    "there contents cannot be changed and lists are mutable so it have lots of in\n",
    "build methods."
   ]
  },
  {
   "cell_type": "markdown",
   "id": "684fb6f5-3a34-4d96-97a3-72e875ebf6c3",
   "metadata": {},
   "source": [
    "### Ans3)"
   ]
  },
  {
   "cell_type": "markdown",
   "id": "19f8e881-db62-4315-a0b1-cd958366d65c",
   "metadata": {},
   "source": [
    "sets does't allow dublicate items."
   ]
  },
  {
   "cell_type": "code",
   "execution_count": 19,
   "id": "3daf7c58-e678-46f0-a311-79806c39a11a",
   "metadata": {},
   "outputs": [],
   "source": [
    "List = [1, 1, 1, 2, 1, 3, 1, 4, 2, 1, 2, 2, 2, 3, 2, 4, 3, 1, 3, 2, 3, 3, 3, 4, 4, 1, 4, 2, 4, 3, 4, 4]"
   ]
  },
  {
   "cell_type": "code",
   "execution_count": 21,
   "id": "b4704b9d-b73e-4871-95b0-44ce995386d4",
   "metadata": {},
   "outputs": [
    {
     "data": {
      "text/plain": [
       "{1, 2, 3, 4}"
      ]
     },
     "execution_count": 21,
     "metadata": {},
     "output_type": "execute_result"
    }
   ],
   "source": [
    "set(List)"
   ]
  },
  {
   "cell_type": "markdown",
   "id": "c3466c1f-e333-4749-babc-74d3ff563e46",
   "metadata": {},
   "source": [
    "### Ans4)"
   ]
  },
  {
   "cell_type": "markdown",
   "id": "e9c06894-59b6-45e9-90ed-d8714f21ddaf",
   "metadata": {},
   "source": [
    "union() and update() both are methods to combine set. union() returns a new set contains only unique values but update() modifies the orignal set by adding new new unique element.\n",
    "for ex:\n"
   ]
  },
  {
   "cell_type": "code",
   "execution_count": 28,
   "id": "91560e15-686d-4f2f-8e77-56da9d39976c",
   "metadata": {},
   "outputs": [
    {
     "data": {
      "text/plain": [
       "{1, 2, 3, 4, 5, 'Amaan'}"
      ]
     },
     "execution_count": 28,
     "metadata": {},
     "output_type": "execute_result"
    }
   ],
   "source": [
    "s1 = {1,2,3,\"Amaan\"}\n",
    "s2 = {3,4,5,\"Amaan\"}\n",
    "s1.union(s2)"
   ]
  },
  {
   "cell_type": "code",
   "execution_count": 31,
   "id": "19fc257e-8d97-465a-90fc-b0e3a7358a78",
   "metadata": {},
   "outputs": [
    {
     "data": {
      "text/plain": [
       "{1, 2, 3, 'Amaan'}"
      ]
     },
     "execution_count": 31,
     "metadata": {},
     "output_type": "execute_result"
    }
   ],
   "source": [
    "s1"
   ]
  },
  {
   "cell_type": "code",
   "execution_count": 32,
   "id": "004ec2c9-277a-4ed1-8843-a137f6ec43d1",
   "metadata": {},
   "outputs": [
    {
     "data": {
      "text/plain": [
       "{3, 4, 5, 'Amaan'}"
      ]
     },
     "execution_count": 32,
     "metadata": {},
     "output_type": "execute_result"
    }
   ],
   "source": [
    "s2"
   ]
  },
  {
   "cell_type": "code",
   "execution_count": 33,
   "id": "aa955a80-4ff9-4a48-a09e-da2e6e954709",
   "metadata": {},
   "outputs": [],
   "source": [
    "s3 = {1,2,3,\"Amaan\"}\n",
    "s4 = {3,4,5,\"Amaan\"}\n",
    "s3.update(s4)"
   ]
  },
  {
   "cell_type": "code",
   "execution_count": 34,
   "id": "76bb1c2c-80aa-480e-97b2-de35bed95086",
   "metadata": {},
   "outputs": [
    {
     "data": {
      "text/plain": [
       "{1, 2, 3, 4, 5, 'Amaan'}"
      ]
     },
     "execution_count": 34,
     "metadata": {},
     "output_type": "execute_result"
    }
   ],
   "source": [
    "s3"
   ]
  },
  {
   "cell_type": "markdown",
   "id": "ded00671-35f4-4e70-a088-6bedca36c217",
   "metadata": {},
   "source": [
    "### Ans5)"
   ]
  },
  {
   "cell_type": "markdown",
   "id": "c9d43ffb-d4c2-43b9-9321-ac9fb219c179",
   "metadata": {},
   "source": [
    "Dictionary is collection of key-value pairs. its unorderd separated by : inside{}.\n",
    "for ex:"
   ]
  },
  {
   "cell_type": "code",
   "execution_count": 6,
   "id": "79803a55-133d-405b-8b7a-04f94af85599",
   "metadata": {},
   "outputs": [],
   "source": [
    "d= {\"name\":\"Amaan\",\"email\":\"amaan.raja130\"}"
   ]
  },
  {
   "cell_type": "code",
   "execution_count": 7,
   "id": "691de601-2ccc-43a6-aa4f-d96e3d6091aa",
   "metadata": {},
   "outputs": [
    {
     "data": {
      "text/plain": [
       "{'name': 'Amaan', 'email': 'amaan.raja130'}"
      ]
     },
     "execution_count": 7,
     "metadata": {},
     "output_type": "execute_result"
    }
   ],
   "source": [
    "d"
   ]
  },
  {
   "cell_type": "markdown",
   "id": "15816468-1161-4593-bded-1d82f1f1124a",
   "metadata": {},
   "source": [
    "Dictonary is unorderd."
   ]
  },
  {
   "cell_type": "markdown",
   "id": "1c758095-cd22-45cb-9967-15dcabc25dc8",
   "metadata": {},
   "source": [
    "### Ans6)"
   ]
  },
  {
   "cell_type": "markdown",
   "id": "273df0e8-603d-446d-841d-faa6183a1424",
   "metadata": {},
   "source": [
    "Yes we can create nasted dictionary.\n",
    "for ex:"
   ]
  },
  {
   "cell_type": "code",
   "execution_count": 11,
   "id": "d4e07a4f-7d70-49f8-aa41-be46a14307e3",
   "metadata": {},
   "outputs": [],
   "source": [
    "dict1={\"Batch1\":{\"Name\":\"Amaan\",\"Class\":\"Data Science Masters\"},\n",
    "       \"Batch2\":{\"Name\":\"Sourav\",\"Class\":\"Web dev\"}}"
   ]
  },
  {
   "cell_type": "code",
   "execution_count": 12,
   "id": "53366dfc-38e5-43c8-b589-f6ed88d8e90f",
   "metadata": {},
   "outputs": [
    {
     "data": {
      "text/plain": [
       "{'Batch1': {'Name': 'Amaan', 'Class': 'Data Science Masters'},\n",
       " 'Batch2': {'Name': 'Sourav', 'Class': 'Web dev'}}"
      ]
     },
     "execution_count": 12,
     "metadata": {},
     "output_type": "execute_result"
    }
   ],
   "source": [
    "dict1"
   ]
  },
  {
   "cell_type": "code",
   "execution_count": 14,
   "id": "b131fad1-4c5f-457d-b019-58593e71c0e0",
   "metadata": {},
   "outputs": [
    {
     "data": {
      "text/plain": [
       "{'Name': 'Sourav', 'Class': 'Web dev'}"
      ]
     },
     "execution_count": 14,
     "metadata": {},
     "output_type": "execute_result"
    }
   ],
   "source": [
    "dict1[\"Batch2\"]"
   ]
  },
  {
   "cell_type": "markdown",
   "id": "ae47c7c3-e379-4b3d-afc4-b6ad371e4210",
   "metadata": {},
   "source": [
    "### Ans7)"
   ]
  },
  {
   "cell_type": "code",
   "execution_count": 15,
   "id": "0a46372f-0dd5-48b1-b8a0-9b84525f2976",
   "metadata": {},
   "outputs": [],
   "source": [
    "dict1 = {'language' : 'Python', 'course': 'Data Science Masters'}"
   ]
  },
  {
   "cell_type": "code",
   "execution_count": 16,
   "id": "6d2f827c-831d-42eb-9852-7e9b62cdd296",
   "metadata": {},
   "outputs": [
    {
     "data": {
      "text/plain": [
       "['Python', 'Machine learnig', 'deep learning']"
      ]
     },
     "execution_count": 16,
     "metadata": {},
     "output_type": "execute_result"
    }
   ],
   "source": [
    "dict1.setdefault(\"topics\",[\"Python\",\"Machine learnig\",\"deep learning\"])"
   ]
  },
  {
   "cell_type": "code",
   "execution_count": 17,
   "id": "72794c07-e5ab-4eb8-9214-32679de0d809",
   "metadata": {},
   "outputs": [
    {
     "data": {
      "text/plain": [
       "{'language': 'Python',\n",
       " 'course': 'Data Science Masters',\n",
       " 'topics': ['Python', 'Machine learnig', 'deep learning']}"
      ]
     },
     "execution_count": 17,
     "metadata": {},
     "output_type": "execute_result"
    }
   ],
   "source": [
    "dict1"
   ]
  },
  {
   "cell_type": "markdown",
   "id": "9d4dff09-7da0-4d4c-b4dc-ed37cd19b3fb",
   "metadata": {},
   "source": [
    "### Ans8)"
   ]
  },
  {
   "cell_type": "markdown",
   "id": "056ccb03-16c8-4591-85ed-7bd58f30537f",
   "metadata": {},
   "source": [
    "These are the three view objects in dictinory.\n",
    ".items()\n",
    ".values()\n",
    ".keys()\n",
    "for ex:"
   ]
  },
  {
   "cell_type": "code",
   "execution_count": 20,
   "id": "10b2bab0-eeb0-427c-9631-d103cb910b2a",
   "metadata": {},
   "outputs": [],
   "source": [
    "dict1 = {'Sport': 'Cricket' , 'Teams': ['India', 'Australia', 'England', 'South Africa', 'Sri Lanka', 'New Zealand']}"
   ]
  },
  {
   "cell_type": "code",
   "execution_count": 22,
   "id": "5df3aa64-5448-4c55-b75b-bea483844adb",
   "metadata": {},
   "outputs": [
    {
     "data": {
      "text/plain": [
       "dict_keys(['Sport', 'Teams'])"
      ]
     },
     "execution_count": 22,
     "metadata": {},
     "output_type": "execute_result"
    }
   ],
   "source": [
    "dict1.keys()"
   ]
  },
  {
   "cell_type": "code",
   "execution_count": 23,
   "id": "e6d8ca02-4518-4327-ae58-a09c342dc5ac",
   "metadata": {},
   "outputs": [
    {
     "data": {
      "text/plain": [
       "dict_values(['Cricket', ['India', 'Australia', 'England', 'South Africa', 'Sri Lanka', 'New Zealand']])"
      ]
     },
     "execution_count": 23,
     "metadata": {},
     "output_type": "execute_result"
    }
   ],
   "source": [
    "dict1.values()"
   ]
  },
  {
   "cell_type": "code",
   "execution_count": 24,
   "id": "167f13e2-a894-4ee0-90ac-316c69f190db",
   "metadata": {},
   "outputs": [
    {
     "data": {
      "text/plain": [
       "dict_items([('Sport', 'Cricket'), ('Teams', ['India', 'Australia', 'England', 'South Africa', 'Sri Lanka', 'New Zealand'])])"
      ]
     },
     "execution_count": 24,
     "metadata": {},
     "output_type": "execute_result"
    }
   ],
   "source": [
    "dict1.items()"
   ]
  },
  {
   "cell_type": "code",
   "execution_count": null,
   "id": "2b1cdd6c-8d02-49ea-b069-2afd81b2a7b6",
   "metadata": {},
   "outputs": [],
   "source": []
  },
  {
   "cell_type": "code",
   "execution_count": null,
   "id": "d059ce32-75f8-4038-911c-62e8f6c9b6db",
   "metadata": {},
   "outputs": [],
   "source": []
  }
 ],
 "metadata": {
  "kernelspec": {
   "display_name": "Python 3 (ipykernel)",
   "language": "python",
   "name": "python3"
  },
  "language_info": {
   "codemirror_mode": {
    "name": "ipython",
    "version": 3
   },
   "file_extension": ".py",
   "mimetype": "text/x-python",
   "name": "python",
   "nbconvert_exporter": "python",
   "pygments_lexer": "ipython3",
   "version": "3.10.8"
  }
 },
 "nbformat": 4,
 "nbformat_minor": 5
}
