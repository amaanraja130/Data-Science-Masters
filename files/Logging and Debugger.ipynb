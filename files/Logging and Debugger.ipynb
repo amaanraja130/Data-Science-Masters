{
 "cells": [
  {
   "cell_type": "code",
   "execution_count": 1,
   "id": "6206d652-edf3-4428-a104-5e451c8b19d7",
   "metadata": {},
   "outputs": [
    {
     "name": "stdout",
     "output_type": "stream",
     "text": [
      "this is my print stamt\n"
     ]
    }
   ],
   "source": [
    "print(\"this is my print stamt\")"
   ]
  },
  {
   "cell_type": "code",
   "execution_count": 1,
   "id": "320b89ab-8b53-47db-a414-833058ee1ab7",
   "metadata": {},
   "outputs": [],
   "source": [
    "import logging"
   ]
  },
  {
   "cell_type": "code",
   "execution_count": 12,
   "id": "e54df1b7-03e7-45df-85d6-e0fe2d099a74",
   "metadata": {},
   "outputs": [],
   "source": [
    "logging.basicConfig(filename= \"test.log\", level = logging.INFO)"
   ]
  },
  {
   "cell_type": "code",
   "execution_count": 4,
   "id": "dbfdab65-deae-47ec-a86c-fbda82ba3a4f",
   "metadata": {},
   "outputs": [],
   "source": [
    "logging.info(\"this is my line of execution\")"
   ]
  },
  {
   "cell_type": "code",
   "execution_count": 5,
   "id": "3cc6b26f-9765-4a9d-8b64-459cec04b88c",
   "metadata": {},
   "outputs": [],
   "source": [
    "logging.error(\"this is my error\")"
   ]
  },
  {
   "cell_type": "code",
   "execution_count": 6,
   "id": "51d92191-12b7-456a-a21f-dec1401f8a3b",
   "metadata": {},
   "outputs": [],
   "source": [
    "logging.critical(\"this is my critical\")"
   ]
  },
  {
   "cell_type": "code",
   "execution_count": 7,
   "id": "6abf831c-e5db-4b99-aaa7-4cc452158782",
   "metadata": {},
   "outputs": [],
   "source": [
    "logging.warning(\"this is my warning\")"
   ]
  },
  {
   "cell_type": "code",
   "execution_count": 8,
   "id": "243c2a58-192c-42e5-b986-8c84a4c21999",
   "metadata": {},
   "outputs": [],
   "source": [
    "logging.debug(\"this is my info releted to debug\")"
   ]
  },
  {
   "cell_type": "code",
   "execution_count": 9,
   "id": "a74ef03f-5855-4f3b-b735-cb6e2ca7ce57",
   "metadata": {},
   "outputs": [
    {
     "ename": "AttributeError",
     "evalue": "module 'logging' has no attribute 'noset'",
     "output_type": "error",
     "traceback": [
      "\u001b[0;31m---------------------------------------------------------------------------\u001b[0m",
      "\u001b[0;31mAttributeError\u001b[0m                            Traceback (most recent call last)",
      "Cell \u001b[0;32mIn[9], line 1\u001b[0m\n\u001b[0;32m----> 1\u001b[0m \u001b[43mlogging\u001b[49m\u001b[38;5;241;43m.\u001b[39;49m\u001b[43mnoset\u001b[49m(\u001b[38;5;124m\"\u001b[39m\u001b[38;5;124mthis is my noset releted to log\u001b[39m\u001b[38;5;124m\"\u001b[39m)\n",
      "\u001b[0;31mAttributeError\u001b[0m: module 'logging' has no attribute 'noset'"
     ]
    }
   ],
   "source": [
    "logging.noset(\"this is my noset releted to log\")"
   ]
  },
  {
   "cell_type": "code",
   "execution_count": 12,
   "id": "fb9cae54-b9f1-437f-aafe-b91e2e87c304",
   "metadata": {},
   "outputs": [],
   "source": [
    "logging.shutdown()"
   ]
  },
  {
   "cell_type": "code",
   "execution_count": 4,
   "id": "9b424d71-d44e-4a9e-b8dc-a78551190ccd",
   "metadata": {},
   "outputs": [
    {
     "ename": "SyntaxError",
     "evalue": "invalid syntax (3027634766.py, line 1)",
     "output_type": "error",
     "traceback": [
      "\u001b[0;36m  Cell \u001b[0;32mIn[4], line 1\u001b[0;36m\u001b[0m\n\u001b[0;31m    1. NOSET\u001b[0m\n\u001b[0m       ^\u001b[0m\n\u001b[0;31mSyntaxError\u001b[0m\u001b[0;31m:\u001b[0m invalid syntax\n"
     ]
    }
   ],
   "source": [
    "1. NOSET\n",
    "2. DEBUG\n",
    "3. INFO\n",
    "4. WARNING\n",
    "5. ERROR\n",
    "6. CRITICAL"
   ]
  },
  {
   "cell_type": "code",
   "execution_count": 8,
   "id": "2c1d894f-6d06-400c-8d10-c5b37a26f224",
   "metadata": {},
   "outputs": [],
   "source": [
    "logging.basicConfig(filename = \"test1.log\",level = logging.DEBUG,format = '%(asctime)s %(message)s' )"
   ]
  },
  {
   "cell_type": "code",
   "execution_count": 9,
   "id": "5895efcf-2133-4339-b433-31629db18899",
   "metadata": {},
   "outputs": [],
   "source": [
    "logging.info(\"this is my info log\")"
   ]
  },
  {
   "cell_type": "code",
   "execution_count": 10,
   "id": "ccf43858-f724-4302-ba14-2cf01318c37f",
   "metadata": {},
   "outputs": [],
   "source": [
    "logging.debug(\"this is my debug \")"
   ]
  },
  {
   "cell_type": "code",
   "execution_count": 12,
   "id": "fdd15f02-eae7-4901-8957-0bf8236775dd",
   "metadata": {},
   "outputs": [
    {
     "name": "stderr",
     "output_type": "stream",
     "text": [
      "WARNING:root:this is my warning log\n"
     ]
    }
   ],
   "source": [
    "logging.warning(\"this is my warning log\")"
   ]
  },
  {
   "cell_type": "code",
   "execution_count": 13,
   "id": "6f4ec975-0cb4-44d3-8253-8aaed66e1eef",
   "metadata": {},
   "outputs": [],
   "source": [
    "logging.shutdown()"
   ]
  },
  {
   "cell_type": "code",
   "execution_count": 2,
   "id": "f0ef03a3-1bc6-4125-b326-7fe774b8d6bd",
   "metadata": {},
   "outputs": [],
   "source": [
    "logging.basicConfig(filename= \"test3.log\", level = logging.DEBUG, format = '%(asctime)s %(name)s %(levelname)s %(message)s')"
   ]
  },
  {
   "cell_type": "code",
   "execution_count": 3,
   "id": "18414411-3f29-4e66-b0ab-298a7cc83c9a",
   "metadata": {},
   "outputs": [],
   "source": [
    "logging.info(\"this is my info log\")"
   ]
  },
  {
   "cell_type": "code",
   "execution_count": 4,
   "id": "10778920-319e-4abe-b227-0018a817c55b",
   "metadata": {},
   "outputs": [],
   "source": [
    "l = [1,2,3,4,[4,5,6],'sudh','kumar']"
   ]
  },
  {
   "cell_type": "code",
   "execution_count": 6,
   "id": "996ea564-17cf-4a1f-a5da-07d2b13ca596",
   "metadata": {},
   "outputs": [],
   "source": [
    "l1_int= []\n",
    "l2_str= []\n",
    "for i in l:\n",
    "    logging.info(\"this is my start of first for loop {}\".format(l))\n",
    "    logging.info(\"this is the value of i am logging {}\".format(i))\n",
    "    if type (i)==list:\n",
    "        for j in i :\n",
    "            logging.info(\"logging my j {j} and i is {i}\".format(i=i ,j=j))\n",
    "            if type(j) == int:\n",
    "                    l1_int.append(j)\n",
    "    elif type (i)== int:\n",
    "        l1_int.append(i)\n",
    "        \n",
    "    else:\n",
    "        if type (i)== str:\n",
    "            l2_str.append(i)\n",
    "logging.info(\"this is my final result with all int {l1} , with all the str{l2}\".format(l1 = l1_int, l2 = l2_str))"
   ]
  },
  {
   "cell_type": "code",
   "execution_count": 3,
   "id": "a4c98eda-341f-4594-ae84-eccf35f501b3",
   "metadata": {},
   "outputs": [
    {
     "data": {
      "text/plain": [
       "[1, 2, 3, 4, 4, 5, 6]"
      ]
     },
     "execution_count": 3,
     "metadata": {},
     "output_type": "execute_result"
    }
   ],
   "source": [
    "l1_int"
   ]
  },
  {
   "cell_type": "code",
   "execution_count": 4,
   "id": "a633486f-6367-42fc-8cfc-b85593d498ad",
   "metadata": {},
   "outputs": [
    {
     "data": {
      "text/plain": [
       "['sudh', 'kumar']"
      ]
     },
     "execution_count": 4,
     "metadata": {},
     "output_type": "execute_result"
    }
   ],
   "source": [
    "l2_str"
   ]
  },
  {
   "cell_type": "code",
   "execution_count": null,
   "id": "176931cb-b255-4498-b463-eddc1efb3906",
   "metadata": {},
   "outputs": [],
   "source": []
  }
 ],
 "metadata": {
  "kernelspec": {
   "display_name": "Python 3 (ipykernel)",
   "language": "python",
   "name": "python3"
  },
  "language_info": {
   "codemirror_mode": {
    "name": "ipython",
    "version": 3
   },
   "file_extension": ".py",
   "mimetype": "text/x-python",
   "name": "python",
   "nbconvert_exporter": "python",
   "pygments_lexer": "ipython3",
   "version": "3.10.8"
  }
 },
 "nbformat": 4,
 "nbformat_minor": 5
}
