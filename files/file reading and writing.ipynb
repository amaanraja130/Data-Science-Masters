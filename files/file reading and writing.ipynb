{
 "cells": [
  {
   "cell_type": "code",
   "execution_count": 2,
   "id": "66be3d4f-3e5f-48a6-aad1-f9cf5a19a435",
   "metadata": {},
   "outputs": [],
   "source": [
    "data = {\n",
    "    \"name\" : \"Amaan\",\n",
    "    \"maid_id\":\"Amaan@gmail.com\",\n",
    "    \"phone_no\": 875792374,\n",
    "    \"subject\":[\"data science\",\"big data\",\"data analtics\"]\n",
    "}"
   ]
  },
  {
   "cell_type": "code",
   "execution_count": 3,
   "id": "34320bbf-f9c6-4e10-b6c6-d781407d56f8",
   "metadata": {},
   "outputs": [],
   "source": [
    "import json"
   ]
  },
  {
   "cell_type": "code",
   "execution_count": 4,
   "id": "6104bbee-bbb1-4694-8b1f-31394af44b8f",
   "metadata": {},
   "outputs": [],
   "source": [
    "with open(\"test1.json\",\"w\")as f:\n",
    "    json.dump(data,f)"
   ]
  },
  {
   "cell_type": "code",
   "execution_count": 5,
   "id": "3f428af9-c0df-4577-93de-2b52cc1adcd1",
   "metadata": {},
   "outputs": [],
   "source": [
    "with open(\"test1.json\",\"r\")as f:\n",
    "    data1 = json.load(f)"
   ]
  },
  {
   "cell_type": "code",
   "execution_count": 6,
   "id": "2507a73b-dd23-44fa-973d-36f9a7fbbb3a",
   "metadata": {},
   "outputs": [
    {
     "data": {
      "text/plain": [
       "{'name': 'Amaan',\n",
       " 'maid_id': 'Amaan@gmail.com',\n",
       " 'phone_no': 875792374,\n",
       " 'subject': ['data science', 'big data', 'data analtics']}"
      ]
     },
     "execution_count": 6,
     "metadata": {},
     "output_type": "execute_result"
    }
   ],
   "source": [
    "data1"
   ]
  },
  {
   "cell_type": "code",
   "execution_count": 11,
   "id": "aa85ae74-4bee-47a2-9f82-749151b15e41",
   "metadata": {},
   "outputs": [
    {
     "data": {
      "text/plain": [
       "'big data'"
      ]
     },
     "execution_count": 11,
     "metadata": {},
     "output_type": "execute_result"
    }
   ],
   "source": [
    "data1[\"subject\"][1]"
   ]
  },
  {
   "cell_type": "code",
   "execution_count": 12,
   "id": "57dcc5ec-4e14-47ff-b6ec-84706e36b5f9",
   "metadata": {},
   "outputs": [],
   "source": [
    "data = [[\"name\",\"email_id\",\"number\"],\n",
    "        [\"Amaan\",\"amaan@gmail.com\",98575645],\n",
    "        [\"krish\",\"krish@gmail.com\",95834564]\n",
    "       ]"
   ]
  },
  {
   "cell_type": "code",
   "execution_count": 13,
   "id": "54c247dc-d2eb-426a-9b35-2fe25901c3c2",
   "metadata": {},
   "outputs": [],
   "source": [
    "import csv"
   ]
  },
  {
   "cell_type": "code",
   "execution_count": 15,
   "id": "7353ced3-6c53-46c7-93d8-ec082cc0b9d7",
   "metadata": {},
   "outputs": [],
   "source": [
    "with open(\"test3.csv\",\"w\") as f:\n",
    "    w = csv.writer(f)\n",
    "    for i in data:\n",
    "        w.writerow(i)"
   ]
  },
  {
   "cell_type": "code",
   "execution_count": 16,
   "id": "825bb79d-9cdf-478d-90d5-56f4aa582e80",
   "metadata": {},
   "outputs": [
    {
     "name": "stdout",
     "output_type": "stream",
     "text": [
      "['name', 'email_id', 'number']\n",
      "['Amaan', 'amaan@gmail.com', '98575645']\n",
      "['krish', 'krish@gmail.com', '95834564']\n"
     ]
    }
   ],
   "source": [
    "with open(\"test3.csv\",\"r\") as f:\n",
    "    read = csv.reader(f)\n",
    "    for i in read:\n",
    "        print(i)"
   ]
  },
  {
   "cell_type": "code",
   "execution_count": 17,
   "id": "30cd0e65-578f-4cbf-96e6-ee2e8c820ef6",
   "metadata": {},
   "outputs": [],
   "source": [
    "with open(\"test4.bin\",\"wb\") as f:\n",
    "    f.write(b\"\\x01\\x02\\x03\")"
   ]
  },
  {
   "cell_type": "code",
   "execution_count": 18,
   "id": "81ebf04f-655b-40a3-9e84-64b7eafd18dd",
   "metadata": {},
   "outputs": [
    {
     "name": "stdout",
     "output_type": "stream",
     "text": [
      "b'\\x01\\x02\\x03'\n"
     ]
    }
   ],
   "source": [
    "with open (\"test4.bin\",\"rb\") as f:\n",
    "    print(f.read())"
   ]
  },
  {
   "cell_type": "code",
   "execution_count": null,
   "id": "eb0d2464-caf7-49e0-901e-60cddb12b14e",
   "metadata": {},
   "outputs": [],
   "source": []
  }
 ],
 "metadata": {
  "kernelspec": {
   "display_name": "Python 3 (ipykernel)",
   "language": "python",
   "name": "python3"
  },
  "language_info": {
   "codemirror_mode": {
    "name": "ipython",
    "version": 3
   },
   "file_extension": ".py",
   "mimetype": "text/x-python",
   "name": "python",
   "nbconvert_exporter": "python",
   "pygments_lexer": "ipython3",
   "version": "3.10.8"
  }
 },
 "nbformat": 4,
 "nbformat_minor": 5
}
