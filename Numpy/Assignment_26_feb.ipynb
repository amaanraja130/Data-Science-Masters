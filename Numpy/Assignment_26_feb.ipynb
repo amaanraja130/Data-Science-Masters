{
 "cells": [
  {
   "cell_type": "code",
   "execution_count": 2,
   "id": "1f291c8e-2f9d-4390-8c8a-02f341b604d6",
   "metadata": {},
   "outputs": [],
   "source": [
    "import numpy as np\n",
    "list_ = [ '1' , '2' , '3' , '4' , '5' ]\n",
    "array_list = np.array(object = list_)"
   ]
  },
  {
   "cell_type": "markdown",
   "id": "59934d3b-a4ee-480b-943e-7e318e04ad56",
   "metadata": {},
   "source": [
    "### Ans1)"
   ]
  },
  {
   "cell_type": "markdown",
   "id": "eca1d06f-2093-4c1b-b134-5f424c9620fe",
   "metadata": {},
   "source": [
    "Yes, there is a difference in the data type of variables list_ and array_list.\n",
    "\n",
    "list_ is a Python list, which can contain elements of different data types such as integers, floats, strings, etc.\n",
    "\n",
    "array_list is a NumPy array, which is a homogeneous data structure, meaning it can only contain elements of the same data type."
   ]
  },
  {
   "cell_type": "code",
   "execution_count": 3,
   "id": "cea5ab8a-b727-4c31-aea4-af3b362c25f4",
   "metadata": {},
   "outputs": [
    {
     "data": {
      "text/plain": [
       "list"
      ]
     },
     "execution_count": 3,
     "metadata": {},
     "output_type": "execute_result"
    }
   ],
   "source": [
    "type(list_)"
   ]
  },
  {
   "cell_type": "code",
   "execution_count": 4,
   "id": "b4f4801d-2a73-48c2-8b2c-9512f9ea891c",
   "metadata": {},
   "outputs": [
    {
     "data": {
      "text/plain": [
       "numpy.ndarray"
      ]
     },
     "execution_count": 4,
     "metadata": {},
     "output_type": "execute_result"
    }
   ],
   "source": [
    "type(array_list)"
   ]
  },
  {
   "cell_type": "markdown",
   "id": "59e8814e-2e19-4bd0-984e-0247aecf7c34",
   "metadata": {},
   "source": [
    "### Ans2)"
   ]
  },
  {
   "cell_type": "code",
   "execution_count": 6,
   "id": "dcdb2e58-be73-4fbb-b33a-b5e0c9a8cea2",
   "metadata": {},
   "outputs": [
    {
     "data": {
      "text/plain": [
       "[str, str, str, str, str]"
      ]
     },
     "execution_count": 6,
     "metadata": {},
     "output_type": "execute_result"
    }
   ],
   "source": [
    "list(map(lambda x:type(x), list_))"
   ]
  },
  {
   "cell_type": "code",
   "execution_count": 7,
   "id": "dd762598-0f81-4d1a-9a8e-93ce1572d7e3",
   "metadata": {},
   "outputs": [
    {
     "data": {
      "text/plain": [
       "[numpy.str_, numpy.str_, numpy.str_, numpy.str_, numpy.str_]"
      ]
     },
     "execution_count": 7,
     "metadata": {},
     "output_type": "execute_result"
    }
   ],
   "source": [
    "list(map(lambda x:type(x), array_list))"
   ]
  },
  {
   "cell_type": "code",
   "execution_count": 8,
   "id": "666b1a81-119e-4f29-a4fb-89c9abd6a8a4",
   "metadata": {},
   "outputs": [],
   "source": [
    "array_list = np.array(object = list_, dtype = int)"
   ]
  },
  {
   "cell_type": "markdown",
   "id": "e5e9bd69-c6af-4e0b-8331-05c8b54d28e5",
   "metadata": {},
   "source": [
    "### Ans3)"
   ]
  },
  {
   "cell_type": "markdown",
   "id": "79b9e544-5fd4-4900-8584-cc887a6212c0",
   "metadata": {},
   "source": [
    "Yes, there will be a difference in the data type of the elements present in array_list. When we specify the dtype argument as int while creating the NumPy array array_list, it will convert all the string elements in the list_ to integers."
   ]
  },
  {
   "cell_type": "code",
   "execution_count": 12,
   "id": "ba893f01-edfd-4c02-a9f9-0afb08e504e6",
   "metadata": {},
   "outputs": [
    {
     "data": {
      "text/plain": [
       "[numpy.int64, numpy.int64, numpy.int64, numpy.int64, numpy.int64]"
      ]
     },
     "execution_count": 12,
     "metadata": {},
     "output_type": "execute_result"
    }
   ],
   "source": [
    "list(map(lambda x:type(x), array_list))"
   ]
  },
  {
   "cell_type": "code",
   "execution_count": 13,
   "id": "c5cbe71d-b9e9-43a7-941a-f7d131c8f70a",
   "metadata": {},
   "outputs": [],
   "source": [
    "import numpy as np\n",
    "num_list = [ [ 1 , 2 , 3 ] , [ 4 , 5 , 6 ] ]\n",
    "num_array = np.array(object = num_list)"
   ]
  },
  {
   "cell_type": "markdown",
   "id": "a187c622-801a-43cb-ab92-563c7d9e44a9",
   "metadata": {},
   "source": [
    "### Ans4)"
   ]
  },
  {
   "cell_type": "code",
   "execution_count": 15,
   "id": "500e8727-9ba6-4341-922f-3c34c1a3f0cf",
   "metadata": {},
   "outputs": [
    {
     "data": {
      "text/plain": [
       "6"
      ]
     },
     "execution_count": 15,
     "metadata": {},
     "output_type": "execute_result"
    }
   ],
   "source": [
    "num_array.size"
   ]
  },
  {
   "cell_type": "code",
   "execution_count": 16,
   "id": "2e5d4501-c2a3-4953-badf-9ff7948c3946",
   "metadata": {},
   "outputs": [
    {
     "data": {
      "text/plain": [
       "(2, 3)"
      ]
     },
     "execution_count": 16,
     "metadata": {},
     "output_type": "execute_result"
    }
   ],
   "source": [
    "num_array.shape"
   ]
  },
  {
   "cell_type": "markdown",
   "id": "c346e723-d4b7-4e7c-9724-56f1bd0a44c1",
   "metadata": {},
   "source": [
    "### Ans5)"
   ]
  },
  {
   "cell_type": "code",
   "execution_count": 21,
   "id": "894b7d6c-3e89-449c-bb58-66f3f67411d5",
   "metadata": {},
   "outputs": [],
   "source": [
    "array_1=np.zeros((3,3))"
   ]
  },
  {
   "cell_type": "code",
   "execution_count": 22,
   "id": "a6ab1974-8398-434c-88d7-ff047b93ed42",
   "metadata": {},
   "outputs": [
    {
     "data": {
      "text/plain": [
       "array([[0., 0., 0.],\n",
       "       [0., 0., 0.],\n",
       "       [0., 0., 0.]])"
      ]
     },
     "execution_count": 22,
     "metadata": {},
     "output_type": "execute_result"
    }
   ],
   "source": [
    "array_1"
   ]
  },
  {
   "cell_type": "markdown",
   "id": "7f8ba822-961d-48a8-9cdc-16e3ad0932ec",
   "metadata": {},
   "source": [
    "### Ans6)"
   ]
  },
  {
   "cell_type": "code",
   "execution_count": 24,
   "id": "60452c96-86ed-49ff-9b73-f886a26f627a",
   "metadata": {},
   "outputs": [],
   "source": [
    "array_2=np.eye(5)"
   ]
  },
  {
   "cell_type": "code",
   "execution_count": 25,
   "id": "35107b33-ed9c-49db-b73b-c935c19e9058",
   "metadata": {},
   "outputs": [
    {
     "data": {
      "text/plain": [
       "array([[1., 0., 0., 0., 0.],\n",
       "       [0., 1., 0., 0., 0.],\n",
       "       [0., 0., 1., 0., 0.],\n",
       "       [0., 0., 0., 1., 0.],\n",
       "       [0., 0., 0., 0., 1.]])"
      ]
     },
     "execution_count": 25,
     "metadata": {},
     "output_type": "execute_result"
    }
   ],
   "source": [
    "array_2"
   ]
  },
  {
   "cell_type": "code",
   "execution_count": null,
   "id": "5c1a35f4-4104-4d10-bce8-38b91ba24896",
   "metadata": {},
   "outputs": [],
   "source": []
  }
 ],
 "metadata": {
  "kernelspec": {
   "display_name": "Python 3 (ipykernel)",
   "language": "python",
   "name": "python3"
  },
  "language_info": {
   "codemirror_mode": {
    "name": "ipython",
    "version": 3
   },
   "file_extension": ".py",
   "mimetype": "text/x-python",
   "name": "python",
   "nbconvert_exporter": "python",
   "pygments_lexer": "ipython3",
   "version": "3.10.8"
  }
 },
 "nbformat": 4,
 "nbformat_minor": 5
}
