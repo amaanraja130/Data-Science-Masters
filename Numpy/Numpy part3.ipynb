{
 "cells": [
  {
   "cell_type": "code",
   "execution_count": 3,
   "id": "8421df14-3982-4aab-aa0b-cb330e55e71b",
   "metadata": {},
   "outputs": [],
   "source": [
    "import numpy as np"
   ]
  },
  {
   "cell_type": "code",
   "execution_count": 2,
   "id": "0e345ba1-f1e5-498a-b347-6a1d253c1daa",
   "metadata": {},
   "outputs": [],
   "source": [
    "#Numpy - Array Mainpulation."
   ]
  },
  {
   "cell_type": "code",
   "execution_count": 2,
   "id": "ff042a03-3936-4d55-a3c7-55d38ba84026",
   "metadata": {},
   "outputs": [],
   "source": [
    "arr=np.random.randint(1,10,(4,4))"
   ]
  },
  {
   "cell_type": "code",
   "execution_count": 3,
   "id": "d17e5ee8-b88a-433b-9689-f0583554e8f0",
   "metadata": {},
   "outputs": [
    {
     "data": {
      "text/plain": [
       "array([[3, 4, 8, 1],\n",
       "       [7, 2, 4, 5],\n",
       "       [7, 8, 6, 1],\n",
       "       [7, 3, 8, 5]])"
      ]
     },
     "execution_count": 3,
     "metadata": {},
     "output_type": "execute_result"
    }
   ],
   "source": [
    "arr"
   ]
  },
  {
   "cell_type": "code",
   "execution_count": 4,
   "id": "2fc5796b-de37-4a94-8b38-da8b3c1b17ac",
   "metadata": {},
   "outputs": [
    {
     "data": {
      "text/plain": [
       "array([[3, 4],\n",
       "       [8, 1],\n",
       "       [7, 2],\n",
       "       [4, 5],\n",
       "       [7, 8],\n",
       "       [6, 1],\n",
       "       [7, 3],\n",
       "       [8, 5]])"
      ]
     },
     "execution_count": 4,
     "metadata": {},
     "output_type": "execute_result"
    }
   ],
   "source": [
    "arr.reshape(8,2)"
   ]
  },
  {
   "cell_type": "code",
   "execution_count": 5,
   "id": "1aa53196-812d-4bcf-be96-de9d78a419fa",
   "metadata": {},
   "outputs": [
    {
     "data": {
      "text/plain": [
       "array([[3, 4, 8, 1],\n",
       "       [7, 2, 4, 5],\n",
       "       [7, 8, 6, 1],\n",
       "       [7, 3, 8, 5]])"
      ]
     },
     "execution_count": 5,
     "metadata": {},
     "output_type": "execute_result"
    }
   ],
   "source": [
    "arr"
   ]
  },
  {
   "cell_type": "code",
   "execution_count": 6,
   "id": "8d222047-0a3f-49d5-990d-3f781c0dba61",
   "metadata": {},
   "outputs": [
    {
     "data": {
      "text/plain": [
       "array([[3, 7, 7, 7],\n",
       "       [4, 2, 8, 3],\n",
       "       [8, 4, 6, 8],\n",
       "       [1, 5, 1, 5]])"
      ]
     },
     "execution_count": 6,
     "metadata": {},
     "output_type": "execute_result"
    }
   ],
   "source": [
    "arr.T"
   ]
  },
  {
   "cell_type": "code",
   "execution_count": 7,
   "id": "ee527a7e-2b27-4e14-bf73-f1b102781502",
   "metadata": {},
   "outputs": [
    {
     "data": {
      "text/plain": [
       "array([3, 4, 8, 1, 7, 2, 4, 5, 7, 8, 6, 1, 7, 3, 8, 5])"
      ]
     },
     "execution_count": 7,
     "metadata": {},
     "output_type": "execute_result"
    }
   ],
   "source": [
    "arr.flatten()"
   ]
  },
  {
   "cell_type": "code",
   "execution_count": 8,
   "id": "c2e359a2-b4ce-4a1b-8608-d5816d6205ff",
   "metadata": {},
   "outputs": [
    {
     "data": {
      "text/plain": [
       "array([[3, 4, 8, 1],\n",
       "       [7, 2, 4, 5],\n",
       "       [7, 8, 6, 1],\n",
       "       [7, 3, 8, 5]])"
      ]
     },
     "execution_count": 8,
     "metadata": {},
     "output_type": "execute_result"
    }
   ],
   "source": [
    "arr"
   ]
  },
  {
   "cell_type": "code",
   "execution_count": 11,
   "id": "bf3e2ab8-634a-4d15-b880-87dea3dbce83",
   "metadata": {},
   "outputs": [
    {
     "data": {
      "text/plain": [
       "array([[[3, 4, 8, 1]],\n",
       "\n",
       "       [[7, 2, 4, 5]],\n",
       "\n",
       "       [[7, 8, 6, 1]],\n",
       "\n",
       "       [[7, 3, 8, 5]]])"
      ]
     },
     "execution_count": 11,
     "metadata": {},
     "output_type": "execute_result"
    }
   ],
   "source": [
    "np.expand_dims(arr,axis=1)"
   ]
  },
  {
   "cell_type": "code",
   "execution_count": 12,
   "id": "cb4ace0e-b4d2-420d-9de5-e3d0ef968014",
   "metadata": {},
   "outputs": [
    {
     "data": {
      "text/plain": [
       "array([[[3, 4, 8, 1],\n",
       "        [7, 2, 4, 5],\n",
       "        [7, 8, 6, 1],\n",
       "        [7, 3, 8, 5]]])"
      ]
     },
     "execution_count": 12,
     "metadata": {},
     "output_type": "execute_result"
    }
   ],
   "source": [
    "np.expand_dims(arr,axis=0)"
   ]
  },
  {
   "cell_type": "code",
   "execution_count": 13,
   "id": "71376284-d61e-415c-bfa5-675470ecf17a",
   "metadata": {},
   "outputs": [],
   "source": [
    "data= np.array([[1],[2],[3]])"
   ]
  },
  {
   "cell_type": "code",
   "execution_count": 14,
   "id": "40d726dd-28a9-49c5-bcb8-f864e9aefd5e",
   "metadata": {},
   "outputs": [
    {
     "data": {
      "text/plain": [
       "array([1, 2, 3])"
      ]
     },
     "execution_count": 14,
     "metadata": {},
     "output_type": "execute_result"
    }
   ],
   "source": [
    "np.squeeze(data)"
   ]
  },
  {
   "cell_type": "code",
   "execution_count": 15,
   "id": "ff6104ba-38ec-4992-9dcc-91f4e1c5db52",
   "metadata": {},
   "outputs": [
    {
     "data": {
      "text/plain": [
       "array([1, 1, 2, 2, 3, 3])"
      ]
     },
     "execution_count": 15,
     "metadata": {},
     "output_type": "execute_result"
    }
   ],
   "source": [
    "np.repeat(data,2)"
   ]
  },
  {
   "cell_type": "code",
   "execution_count": 17,
   "id": "896bcdb7-d1ae-413a-bb6e-97c1896e9862",
   "metadata": {},
   "outputs": [
    {
     "data": {
      "text/plain": [
       "array([[2],\n",
       "       [3],\n",
       "       [1]])"
      ]
     },
     "execution_count": 17,
     "metadata": {},
     "output_type": "execute_result"
    }
   ],
   "source": [
    "np.roll(data,2)"
   ]
  },
  {
   "cell_type": "code",
   "execution_count": 18,
   "id": "3ba897d8-221d-4f93-8d41-dc0bb3d05417",
   "metadata": {},
   "outputs": [
    {
     "data": {
      "text/plain": [
       "array([[1, 0, 0, 0],\n",
       "       [0, 2, 0, 0],\n",
       "       [0, 0, 3, 0],\n",
       "       [0, 0, 0, 4]])"
      ]
     },
     "execution_count": 18,
     "metadata": {},
     "output_type": "execute_result"
    }
   ],
   "source": [
    "np.diag(np.array([1,2,3,4]))"
   ]
  },
  {
   "cell_type": "code",
   "execution_count": 19,
   "id": "132e71c3-27ba-446c-84a5-19f6ebfebbb6",
   "metadata": {},
   "outputs": [],
   "source": [
    "#Numpy - Binary Operators."
   ]
  },
  {
   "cell_type": "code",
   "execution_count": 4,
   "id": "d42fddca-be02-4659-84c0-6c994666f560",
   "metadata": {},
   "outputs": [],
   "source": [
    "arr1=np.random.randint(1,10,(3,4))\n",
    "arr2=np.random.randint(1,10,(3,4))"
   ]
  },
  {
   "cell_type": "code",
   "execution_count": 21,
   "id": "f8e7e5e6-5248-4048-8b29-156ee3b20eca",
   "metadata": {},
   "outputs": [
    {
     "data": {
      "text/plain": [
       "array([[7, 5, 9, 7],\n",
       "       [8, 9, 7, 4],\n",
       "       [2, 5, 8, 4]])"
      ]
     },
     "execution_count": 21,
     "metadata": {},
     "output_type": "execute_result"
    }
   ],
   "source": [
    "arr1"
   ]
  },
  {
   "cell_type": "code",
   "execution_count": 22,
   "id": "8224ec40-3601-4125-92c1-4d4a84e6aec8",
   "metadata": {},
   "outputs": [
    {
     "data": {
      "text/plain": [
       "array([[7, 3, 5, 1],\n",
       "       [7, 5, 4, 6],\n",
       "       [5, 8, 1, 2]])"
      ]
     },
     "execution_count": 22,
     "metadata": {},
     "output_type": "execute_result"
    }
   ],
   "source": [
    "arr2"
   ]
  },
  {
   "cell_type": "code",
   "execution_count": 23,
   "id": "b96359be-8902-44e0-81d1-3e40ff5efda5",
   "metadata": {},
   "outputs": [
    {
     "data": {
      "text/plain": [
       "array([[14,  8, 14,  8],\n",
       "       [15, 14, 11, 10],\n",
       "       [ 7, 13,  9,  6]])"
      ]
     },
     "execution_count": 23,
     "metadata": {},
     "output_type": "execute_result"
    }
   ],
   "source": [
    "arr1+arr2"
   ]
  },
  {
   "cell_type": "code",
   "execution_count": 24,
   "id": "6642e5f5-37fd-43e9-83dc-a8b26e84dda3",
   "metadata": {},
   "outputs": [
    {
     "data": {
      "text/plain": [
       "array([[1.        , 1.66666667, 1.8       , 7.        ],\n",
       "       [1.14285714, 1.8       , 1.75      , 0.66666667],\n",
       "       [0.4       , 0.625     , 8.        , 2.        ]])"
      ]
     },
     "execution_count": 24,
     "metadata": {},
     "output_type": "execute_result"
    }
   ],
   "source": [
    "arr1/arr2"
   ]
  },
  {
   "cell_type": "code",
   "execution_count": 25,
   "id": "227de386-6540-4c05-94ed-5b61662b9879",
   "metadata": {},
   "outputs": [
    {
     "data": {
      "text/plain": [
       "array([[49, 15, 45,  7],\n",
       "       [56, 45, 28, 24],\n",
       "       [10, 40,  8,  8]])"
      ]
     },
     "execution_count": 25,
     "metadata": {},
     "output_type": "execute_result"
    }
   ],
   "source": [
    "arr1*arr2"
   ]
  },
  {
   "cell_type": "code",
   "execution_count": 26,
   "id": "3edfa671-92b9-4ce5-b3d4-b60a9568e976",
   "metadata": {},
   "outputs": [
    {
     "data": {
      "text/plain": [
       "array([[ 0,  2,  4,  6],\n",
       "       [ 1,  4,  3, -2],\n",
       "       [-3, -3,  7,  2]])"
      ]
     },
     "execution_count": 26,
     "metadata": {},
     "output_type": "execute_result"
    }
   ],
   "source": [
    "arr1-arr2"
   ]
  },
  {
   "cell_type": "code",
   "execution_count": 27,
   "id": "7ef5e023-f012-45d2-bce4-3c1a280757ef",
   "metadata": {},
   "outputs": [
    {
     "data": {
      "text/plain": [
       "array([[ 823543,     125,   59049,       7],\n",
       "       [2097152,   59049,    2401,    4096],\n",
       "       [     32,  390625,       8,      16]])"
      ]
     },
     "execution_count": 27,
     "metadata": {},
     "output_type": "execute_result"
    }
   ],
   "source": [
    "arr1**arr2"
   ]
  },
  {
   "cell_type": "code",
   "execution_count": 28,
   "id": "6dec35c4-9586-4d0b-9443-300c77b142fc",
   "metadata": {},
   "outputs": [
    {
     "data": {
      "text/plain": [
       "array([[ -8,  -6, -10,  -8],\n",
       "       [ -9, -10,  -8,  -5],\n",
       "       [ -3,  -6,  -9,  -5]])"
      ]
     },
     "execution_count": 28,
     "metadata": {},
     "output_type": "execute_result"
    }
   ],
   "source": [
    "~arr1"
   ]
  },
  {
   "cell_type": "code",
   "execution_count": 29,
   "id": "96c96e4e-aebb-4f44-baaa-92b9647ad786",
   "metadata": {},
   "outputs": [
    {
     "data": {
      "text/plain": [
       "array([[7, 5, 9, 7],\n",
       "       [8, 9, 7, 4],\n",
       "       [2, 5, 8, 4]])"
      ]
     },
     "execution_count": 29,
     "metadata": {},
     "output_type": "execute_result"
    }
   ],
   "source": [
    "arr1"
   ]
  },
  {
   "cell_type": "code",
   "execution_count": 30,
   "id": "4d3123d6-91fb-47a0-9acc-f89075aced8d",
   "metadata": {},
   "outputs": [
    {
     "data": {
      "text/plain": [
       "array([[False,  True,  True,  True],\n",
       "       [ True,  True,  True, False],\n",
       "       [False, False,  True,  True]])"
      ]
     },
     "execution_count": 30,
     "metadata": {},
     "output_type": "execute_result"
    }
   ],
   "source": [
    "arr1>arr2"
   ]
  },
  {
   "cell_type": "code",
   "execution_count": 31,
   "id": "680c0920-3e68-4f9c-b649-05fed6421003",
   "metadata": {},
   "outputs": [],
   "source": [
    "#Numpy - String Functions."
   ]
  },
  {
   "cell_type": "code",
   "execution_count": 32,
   "id": "f04f93ff-49b4-462a-a542-5b7c1e07d355",
   "metadata": {},
   "outputs": [],
   "source": [
    "arr = np.array(['Amaan','raja'])"
   ]
  },
  {
   "cell_type": "code",
   "execution_count": 33,
   "id": "9162846b-aa80-4b0a-9a70-0aaa1ac0d924",
   "metadata": {},
   "outputs": [
    {
     "data": {
      "text/plain": [
       "array(['Amaan', 'raja'], dtype='<U5')"
      ]
     },
     "execution_count": 33,
     "metadata": {},
     "output_type": "execute_result"
    }
   ],
   "source": [
    "arr"
   ]
  },
  {
   "cell_type": "code",
   "execution_count": 34,
   "id": "2ef750e2-d75d-475d-b915-d5d06f70204a",
   "metadata": {},
   "outputs": [
    {
     "data": {
      "text/plain": [
       "array(['AMAAN', 'RAJA'], dtype='<U5')"
      ]
     },
     "execution_count": 34,
     "metadata": {},
     "output_type": "execute_result"
    }
   ],
   "source": [
    "np.char.upper(arr)"
   ]
  },
  {
   "cell_type": "code",
   "execution_count": 35,
   "id": "bb01d333-a600-4e92-a52d-aca7b6b2a6d1",
   "metadata": {},
   "outputs": [
    {
     "data": {
      "text/plain": [
       "array(['Amaan', 'Raja'], dtype='<U5')"
      ]
     },
     "execution_count": 35,
     "metadata": {},
     "output_type": "execute_result"
    }
   ],
   "source": [
    "np.char.capitalize(arr)"
   ]
  },
  {
   "cell_type": "code",
   "execution_count": 36,
   "id": "0715a69a-e8ca-44c4-acff-c5c7cefedca7",
   "metadata": {},
   "outputs": [
    {
     "data": {
      "text/plain": [
       "array(['Amaan', 'Raja'], dtype='<U5')"
      ]
     },
     "execution_count": 36,
     "metadata": {},
     "output_type": "execute_result"
    }
   ],
   "source": [
    "np.char.title(arr)"
   ]
  },
  {
   "cell_type": "code",
   "execution_count": 37,
   "id": "5f55decb-5b18-46fa-abfb-d0cfe5fdf031",
   "metadata": {},
   "outputs": [],
   "source": [
    "#Numpy -  Mathematical Funtions."
   ]
  },
  {
   "cell_type": "code",
   "execution_count": 38,
   "id": "530342e8-3c10-4a6c-9df2-fe845f7ffa7c",
   "metadata": {},
   "outputs": [
    {
     "data": {
      "text/plain": [
       "array([[7, 5, 9, 7],\n",
       "       [8, 9, 7, 4],\n",
       "       [2, 5, 8, 4]])"
      ]
     },
     "execution_count": 38,
     "metadata": {},
     "output_type": "execute_result"
    }
   ],
   "source": [
    "arr1"
   ]
  },
  {
   "cell_type": "code",
   "execution_count": 39,
   "id": "9ee26eee-7b75-45a2-9030-606d05aa22ed",
   "metadata": {},
   "outputs": [
    {
     "data": {
      "text/plain": [
       "array([[ 0.6569866 , -0.95892427,  0.41211849,  0.6569866 ],\n",
       "       [ 0.98935825,  0.41211849,  0.6569866 , -0.7568025 ],\n",
       "       [ 0.90929743, -0.95892427,  0.98935825, -0.7568025 ]])"
      ]
     },
     "execution_count": 39,
     "metadata": {},
     "output_type": "execute_result"
    }
   ],
   "source": [
    "np.sin(arr1)"
   ]
  },
  {
   "cell_type": "code",
   "execution_count": 40,
   "id": "8c92b6f7-1fd6-437e-b198-c7d673705aae",
   "metadata": {},
   "outputs": [
    {
     "data": {
      "text/plain": [
       "array([[ 0.75390225,  0.28366219, -0.91113026,  0.75390225],\n",
       "       [-0.14550003, -0.91113026,  0.75390225, -0.65364362],\n",
       "       [-0.41614684,  0.28366219, -0.14550003, -0.65364362]])"
      ]
     },
     "execution_count": 40,
     "metadata": {},
     "output_type": "execute_result"
    }
   ],
   "source": [
    "np.cos(arr1)"
   ]
  },
  {
   "cell_type": "code",
   "execution_count": 41,
   "id": "f29dcfed-e640-42ea-a1f8-5dd57f37177c",
   "metadata": {},
   "outputs": [
    {
     "data": {
      "text/plain": [
       "array([[ 0.87144798, -3.38051501, -0.45231566,  0.87144798],\n",
       "       [-6.79971146, -0.45231566,  0.87144798,  1.15782128],\n",
       "       [-2.18503986, -3.38051501, -6.79971146,  1.15782128]])"
      ]
     },
     "execution_count": 41,
     "metadata": {},
     "output_type": "execute_result"
    }
   ],
   "source": [
    "np.tan(arr1)"
   ]
  },
  {
   "cell_type": "code",
   "execution_count": 42,
   "id": "03c5030a-f90e-47b5-9fd1-7e77a6242e2e",
   "metadata": {},
   "outputs": [
    {
     "data": {
      "text/plain": [
       "array([[1.94591015, 1.60943791, 2.19722458, 1.94591015],\n",
       "       [2.07944154, 2.19722458, 1.94591015, 1.38629436],\n",
       "       [0.69314718, 1.60943791, 2.07944154, 1.38629436]])"
      ]
     },
     "execution_count": 42,
     "metadata": {},
     "output_type": "execute_result"
    }
   ],
   "source": [
    "np.log(arr1)"
   ]
  },
  {
   "cell_type": "code",
   "execution_count": 43,
   "id": "d71dffa3-9d43-48aa-b4a5-c02e90fef140",
   "metadata": {},
   "outputs": [
    {
     "data": {
      "text/plain": [
       "array([[1.09663316e+03, 1.48413159e+02, 8.10308393e+03, 1.09663316e+03],\n",
       "       [2.98095799e+03, 8.10308393e+03, 1.09663316e+03, 5.45981500e+01],\n",
       "       [7.38905610e+00, 1.48413159e+02, 2.98095799e+03, 5.45981500e+01]])"
      ]
     },
     "execution_count": 43,
     "metadata": {},
     "output_type": "execute_result"
    }
   ],
   "source": [
    "np.exp(arr1)"
   ]
  },
  {
   "cell_type": "code",
   "execution_count": 44,
   "id": "8965a782-6d59-4e12-80db-a09d82a4ee43",
   "metadata": {},
   "outputs": [
    {
     "data": {
      "text/plain": [
       "array([[49, 25, 81, 49],\n",
       "       [64, 81, 49, 16],\n",
       "       [ 4, 25, 64, 16]])"
      ]
     },
     "execution_count": 44,
     "metadata": {},
     "output_type": "execute_result"
    }
   ],
   "source": [
    "np.power(arr1,2)"
   ]
  },
  {
   "cell_type": "code",
   "execution_count": 45,
   "id": "123c4d69-7218-4326-b543-68e9687b992d",
   "metadata": {},
   "outputs": [
    {
     "data": {
      "text/plain": [
       "6.25"
      ]
     },
     "execution_count": 45,
     "metadata": {},
     "output_type": "execute_result"
    }
   ],
   "source": [
    "np.mean(arr1)"
   ]
  },
  {
   "cell_type": "code",
   "execution_count": 46,
   "id": "30e5205f-3bbc-415d-9000-55566192e378",
   "metadata": {},
   "outputs": [
    {
     "data": {
      "text/plain": [
       "7.0"
      ]
     },
     "execution_count": 46,
     "metadata": {},
     "output_type": "execute_result"
    }
   ],
   "source": [
    "np.median(arr1)"
   ]
  },
  {
   "cell_type": "code",
   "execution_count": 48,
   "id": "ab17b10d-1287-4bf5-bd4f-087a3b25ef74",
   "metadata": {},
   "outputs": [
    {
     "data": {
      "text/plain": [
       "2.1262251370288454"
      ]
     },
     "execution_count": 48,
     "metadata": {},
     "output_type": "execute_result"
    }
   ],
   "source": [
    "np.std(arr1)"
   ]
  },
  {
   "cell_type": "code",
   "execution_count": 49,
   "id": "67f98cf8-a8b3-4872-bd0d-cb4d18767f72",
   "metadata": {},
   "outputs": [
    {
     "data": {
      "text/plain": [
       "4.520833333333333"
      ]
     },
     "execution_count": 49,
     "metadata": {},
     "output_type": "execute_result"
    }
   ],
   "source": [
    "np.var(arr1)"
   ]
  },
  {
   "cell_type": "code",
   "execution_count": 50,
   "id": "0b12d8de-982a-4cb1-a3e5-42048e567b6e",
   "metadata": {},
   "outputs": [
    {
     "data": {
      "text/plain": [
       "2"
      ]
     },
     "execution_count": 50,
     "metadata": {},
     "output_type": "execute_result"
    }
   ],
   "source": [
    "np.min(arr1)"
   ]
  },
  {
   "cell_type": "code",
   "execution_count": 51,
   "id": "73c5887a-440a-45ee-b031-061b12ec0816",
   "metadata": {},
   "outputs": [
    {
     "data": {
      "text/plain": [
       "9"
      ]
     },
     "execution_count": 51,
     "metadata": {},
     "output_type": "execute_result"
    }
   ],
   "source": [
    "np.max(arr1)"
   ]
  },
  {
   "cell_type": "code",
   "execution_count": 52,
   "id": "f99fe9d2-41d6-4028-b9c8-07d2a83889e8",
   "metadata": {},
   "outputs": [],
   "source": [
    "#Numpy - Arthemetic Operations."
   ]
  },
  {
   "cell_type": "code",
   "execution_count": 53,
   "id": "6dfda849-c02a-40f8-934b-7c6ee2c79379",
   "metadata": {},
   "outputs": [
    {
     "data": {
      "text/plain": [
       "array([[7, 5, 9, 7],\n",
       "       [8, 9, 7, 4],\n",
       "       [2, 5, 8, 4]])"
      ]
     },
     "execution_count": 53,
     "metadata": {},
     "output_type": "execute_result"
    }
   ],
   "source": [
    "arr1"
   ]
  },
  {
   "cell_type": "code",
   "execution_count": 54,
   "id": "c49ad69b-240d-4d8c-875a-c52dbe04a80e",
   "metadata": {},
   "outputs": [
    {
     "data": {
      "text/plain": [
       "array([[7, 3, 5, 1],\n",
       "       [7, 5, 4, 6],\n",
       "       [5, 8, 1, 2]])"
      ]
     },
     "execution_count": 54,
     "metadata": {},
     "output_type": "execute_result"
    }
   ],
   "source": [
    "arr2"
   ]
  },
  {
   "cell_type": "code",
   "execution_count": 55,
   "id": "e2c99a12-9c42-48e6-8478-50ba7dc4c74a",
   "metadata": {},
   "outputs": [
    {
     "data": {
      "text/plain": [
       "array([[ 0,  2,  4,  6],\n",
       "       [ 1,  4,  3, -2],\n",
       "       [-3, -3,  7,  2]])"
      ]
     },
     "execution_count": 55,
     "metadata": {},
     "output_type": "execute_result"
    }
   ],
   "source": [
    "arr1-arr2"
   ]
  },
  {
   "cell_type": "code",
   "execution_count": 56,
   "id": "68adfac0-7899-4f99-94e2-04b71aca6fe0",
   "metadata": {},
   "outputs": [
    {
     "data": {
      "text/plain": [
       "array([[ 0,  2,  4,  6],\n",
       "       [ 1,  4,  3, -2],\n",
       "       [-3, -3,  7,  2]])"
      ]
     },
     "execution_count": 56,
     "metadata": {},
     "output_type": "execute_result"
    }
   ],
   "source": [
    "np.subtract(arr1,arr2)"
   ]
  },
  {
   "cell_type": "code",
   "execution_count": 57,
   "id": "e2d5f537-9e9a-4cf1-bf5d-e3107af6cd3a",
   "metadata": {},
   "outputs": [
    {
     "data": {
      "text/plain": [
       "array([[49, 15, 45,  7],\n",
       "       [56, 45, 28, 24],\n",
       "       [10, 40,  8,  8]])"
      ]
     },
     "execution_count": 57,
     "metadata": {},
     "output_type": "execute_result"
    }
   ],
   "source": [
    "np.multiply(arr1,arr2)"
   ]
  },
  {
   "cell_type": "code",
   "execution_count": 58,
   "id": "ca41ead7-f815-4a56-ada1-52718243bbd7",
   "metadata": {},
   "outputs": [
    {
     "data": {
      "text/plain": [
       "array([[0, 2, 4, 0],\n",
       "       [1, 4, 3, 4],\n",
       "       [2, 5, 0, 0]])"
      ]
     },
     "execution_count": 58,
     "metadata": {},
     "output_type": "execute_result"
    }
   ],
   "source": [
    "np.mod(arr1,arr2)"
   ]
  },
  {
   "cell_type": "code",
   "execution_count": 59,
   "id": "66794968-358b-401c-9753-9c2f17d24682",
   "metadata": {},
   "outputs": [
    {
     "data": {
      "text/plain": [
       "array([[ 823543,     125,   59049,       7],\n",
       "       [2097152,   59049,    2401,    4096],\n",
       "       [     32,  390625,       8,      16]])"
      ]
     },
     "execution_count": 59,
     "metadata": {},
     "output_type": "execute_result"
    }
   ],
   "source": [
    "np.power(arr1,arr2)"
   ]
  },
  {
   "cell_type": "code",
   "execution_count": 60,
   "id": "270d60dd-12a0-4126-9ee6-5498493b3345",
   "metadata": {},
   "outputs": [
    {
     "data": {
      "text/plain": [
       "array([[2.64575131, 2.23606798, 3.        , 2.64575131],\n",
       "       [2.82842712, 3.        , 2.64575131, 2.        ],\n",
       "       [1.41421356, 2.23606798, 2.82842712, 2.        ]])"
      ]
     },
     "execution_count": 60,
     "metadata": {},
     "output_type": "execute_result"
    }
   ],
   "source": [
    "np.sqrt(arr1)"
   ]
  },
  {
   "cell_type": "code",
   "execution_count": 1,
   "id": "77109af4-681a-45ef-911e-abb93abd107e",
   "metadata": {},
   "outputs": [],
   "source": [
    "#Numpy - Statistical Funtions."
   ]
  },
  {
   "cell_type": "code",
   "execution_count": 5,
   "id": "eca2399d-dfe3-4654-994a-8d68dd3d4ab1",
   "metadata": {},
   "outputs": [
    {
     "data": {
      "text/plain": [
       "array([[5, 6, 9, 7],\n",
       "       [3, 9, 8, 2],\n",
       "       [8, 8, 1, 4]])"
      ]
     },
     "execution_count": 5,
     "metadata": {},
     "output_type": "execute_result"
    }
   ],
   "source": [
    "arr1"
   ]
  },
  {
   "cell_type": "code",
   "execution_count": 7,
   "id": "868a8d33-3387-4d9f-abaf-5da032d5bea0",
   "metadata": {},
   "outputs": [
    {
     "data": {
      "text/plain": [
       "5.833333333333333"
      ]
     },
     "execution_count": 7,
     "metadata": {},
     "output_type": "execute_result"
    }
   ],
   "source": [
    "np.mean(arr1)"
   ]
  },
  {
   "cell_type": "code",
   "execution_count": 8,
   "id": "09a6b121-1f65-4428-9cb8-dc9b96fc693c",
   "metadata": {},
   "outputs": [
    {
     "data": {
      "text/plain": [
       "2.6718699236468995"
      ]
     },
     "execution_count": 8,
     "metadata": {},
     "output_type": "execute_result"
    }
   ],
   "source": [
    "np.std(arr1)"
   ]
  },
  {
   "cell_type": "code",
   "execution_count": 9,
   "id": "eef5e89b-233c-4a42-812c-a1b452646b8a",
   "metadata": {},
   "outputs": [
    {
     "data": {
      "text/plain": [
       "6.5"
      ]
     },
     "execution_count": 9,
     "metadata": {},
     "output_type": "execute_result"
    }
   ],
   "source": [
    "np.median(arr1)"
   ]
  },
  {
   "cell_type": "code",
   "execution_count": null,
   "id": "6283d4f6-63eb-4f86-ab0f-fc8f50d359ee",
   "metadata": {},
   "outputs": [],
   "source": []
  }
 ],
 "metadata": {
  "kernelspec": {
   "display_name": "Python 3 (ipykernel)",
   "language": "python",
   "name": "python3"
  },
  "language_info": {
   "codemirror_mode": {
    "name": "ipython",
    "version": 3
   },
   "file_extension": ".py",
   "mimetype": "text/x-python",
   "name": "python",
   "nbconvert_exporter": "python",
   "pygments_lexer": "ipython3",
   "version": "3.10.8"
  }
 },
 "nbformat": 4,
 "nbformat_minor": 5
}
