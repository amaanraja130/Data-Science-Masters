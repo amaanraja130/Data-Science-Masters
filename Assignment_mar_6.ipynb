{
 "cells": [
  {
   "cell_type": "markdown",
   "id": "f24e51c4-4e1a-4b41-b996-bbbdfb19677e",
   "metadata": {},
   "source": [
    "# Assignment"
   ]
  },
  {
   "cell_type": "markdown",
   "id": "16ec13e1-daa9-4a17-b049-4fcf24562bde",
   "metadata": {},
   "source": [
    "### Ans1)"
   ]
  },
  {
   "cell_type": "markdown",
   "id": "32f7aaab-987f-4c8b-8137-e116b560f5a8",
   "metadata": {},
   "source": [
    "Statistics is a branch of mathematics that deals with the collection, analysis, interpretation, presentation, and organization of numerical data. It is used to summarize and describe data, as well as to draw inferences and make decisions based on the available information.\n",
    "\n",
    "Statistics plays an important role in many fields, including business, economics, medicine, engineering, social sciences, and more. By applying statistical methods, researchers can test hypotheses, identify trends, measure the strength of relationships between variables, and make predictions about future events. Some of the key concepts in statistics include probability, hypothesis testing, sampling, regression analysis, and correlation."
   ]
  },
  {
   "cell_type": "markdown",
   "id": "1d304013-2ced-41c6-97dd-b17852be892a",
   "metadata": {},
   "source": [
    "### Ans2)"
   ]
  },
  {
   "cell_type": "markdown",
   "id": "de9e2b19-0d20-4bee-af3d-af5327ab153a",
   "metadata": {},
   "source": [
    "There are two main types of statistics: descriptive statistics and inferential statistics.\n",
    "\n",
    "1) Descriptive Statistics:\n",
    "Descriptive statistics is concerned with summarizing and describing the features of a dataset. It involves measures of central tendency, such as the mean, median, and mode, as well as measures of dispersion, such as the range, variance, and standard deviation. Descriptive statistics can be used to describe the characteristics of a population or sample, and to make comparisons between different groups or variables.\n",
    "\n",
    "Example: If a researcher wants to know the average height of students in a class, they can use descriptive statistics to calculate the mean height of all the students in the class.\n",
    "\n",
    "2) Inferential Statistics:\n",
    "Inferential statistics is concerned with making inferences or generalizations about a population based on data collected from a sample. It involves hypothesis testing, confidence intervals, and statistical modeling. Inferential statistics can be used to test hypotheses, estimate population parameters, and make predictions about future events.\n",
    "\n",
    "Example: A pharmaceutical company wants to test the efficacy of a new drug for treating a particular disease. They can conduct a randomized controlled trial, where a sample of patients is randomly assigned to receive either the new drug or a placebo. Inferential statistics can then be used to determine whether the drug is effective, by testing the hypothesis that there is a difference in the mean improvement between the drug and placebo groups."
   ]
  },
  {
   "cell_type": "markdown",
   "id": "4448aad1-617b-4301-a531-b8bad6bc180f",
   "metadata": {},
   "source": [
    "### Ans3)"
   ]
  },
  {
   "cell_type": "markdown",
   "id": "641fe43c-6e91-4519-b712-844e0d4bd419",
   "metadata": {},
   "source": [
    "There are two main types of data\n",
    "1) Quantitative\n",
    "2) Qualitative"
   ]
  },
  {
   "cell_type": "markdown",
   "id": "ed7e1872-eae6-4c40-b928-c116a8265061",
   "metadata": {},
   "source": [
    "1) Quantitative data is numerical data that can be measured and expressed numerically. \n",
    "\n",
    "Examples:- of quantitative data include the number of students in a class, the weight of an object, and the temperature of a room.\n",
    "\n",
    "2) Qualitative data is non-numerical data that cannot be measured on a numerical scale. It is often descriptive or subjective in nature. \n",
    "\n",
    "Examples:- of qualitative data include the color of a car, the taste of food, and opinions on a political issue. Qualitative data can be further categorized into nominal and ordinal data types. Nominal data refer to categories that do not have any order, while ordinal data refer to categories that have a specific order or ranking."
   ]
  },
  {
   "cell_type": "markdown",
   "id": "3e77786e-7a5f-43c4-aa3c-9e3c638395a5",
   "metadata": {},
   "source": [
    "### Ans4)"
   ]
  },
  {
   "cell_type": "markdown",
   "id": "eeae9d1c-1bc8-4967-9107-87c56746ab9e",
   "metadata": {},
   "source": [
    "i) Grading in exam: A+,A,B+,B,C+,C,D,E"
   ]
  },
  {
   "cell_type": "markdown",
   "id": "6a94cf35-bb08-4442-bde4-fd350123680a",
   "metadata": {},
   "source": [
    "Qualitative Data"
   ]
  },
  {
   "cell_type": "markdown",
   "id": "9dd6c261-5955-4185-95e7-ebf4f6f90be7",
   "metadata": {},
   "source": [
    "(ii) Colour of mangoes: yellow, green, orange, red"
   ]
  },
  {
   "cell_type": "markdown",
   "id": "50629337-e8e3-486a-b174-e722435aa671",
   "metadata": {},
   "source": [
    "Qualitative Data"
   ]
  },
  {
   "cell_type": "markdown",
   "id": "c1963eaa-8be4-412c-8aba-09c0a5938931",
   "metadata": {},
   "source": [
    "(iii) Height data of a class: [178.9, 179, 179.5, 176, 177.2, 178.3, 175.8,...]"
   ]
  },
  {
   "cell_type": "markdown",
   "id": "0cab0791-eb9c-417b-a4cc-d9e339dbafad",
   "metadata": {},
   "source": [
    "Quantitative Data"
   ]
  },
  {
   "cell_type": "markdown",
   "id": "fd27e04d-2e6b-440b-99bf-4c4cac71787e",
   "metadata": {},
   "source": [
    "(iv) Number of mangoes exported by a farm: [500, 600, 478, 672, ...]"
   ]
  },
  {
   "cell_type": "markdown",
   "id": "b6017480-1ba4-4d63-b9c1-59f95b58450e",
   "metadata": {},
   "source": [
    "Quantitative Data"
   ]
  },
  {
   "cell_type": "markdown",
   "id": "b160555e-746b-43bd-8ee2-251301bbfbbe",
   "metadata": {},
   "source": [
    "### Ans5)"
   ]
  },
  {
   "cell_type": "markdown",
   "id": "3c7a26c2-2710-462f-ab8d-36467720953c",
   "metadata": {},
   "source": [
    "The levels of measurement refer to the way in which data is measured or expressed. There are four levels of measurement: nominal, ordinal, interval, and ratio.\n",
    "\n",
    "1) Nominal level: This level of measurement involves the categorization of data into distinct categories or groups. \n",
    "\n",
    "   ex:- Gender\n",
    "\n",
    "2) Ordinal level: At this level of measurement, data is categorized into distinct groups, but the categories are also ordered in a meaningful way.\n",
    "\n",
    "   ex:- Grades\n",
    "\n",
    "3) Interval level: This level of measurement involves the categorization of data into distinct groups, and the categories are ordered in a meaningful way.\n",
    "\n",
    "   ex:- Temperature\n",
    "\n",
    "4) Ratio level: At the highest level of measurement, data is categorized into distinct groups, and the categories are ordered in a meaningful way. \n",
    "\n",
    "   ex:- Weight,Height"
   ]
  },
  {
   "cell_type": "markdown",
   "id": "096c7fb5-eef2-4a6a-8703-87a79fb7e45c",
   "metadata": {},
   "source": [
    "### Ans6)"
   ]
  },
  {
   "cell_type": "markdown",
   "id": "a17946d0-49f6-472c-8d40-ae124965c719",
   "metadata": {},
   "source": [
    "Understanding the level of measurement is important when analyzing data because it determines the type of statistical analyses that can be performed on the data, as well as the appropriate measures of central tendency and variability to use. Using inappropriate statistical tests or measures can lead to incorrect conclusions and misinterpretations of the data."
   ]
  },
  {
   "cell_type": "markdown",
   "id": "aa1cdbdb-c343-46b8-8835-b49dce1916b4",
   "metadata": {},
   "source": [
    "For example, if data is measured at the nominal level, it cannot be used in most statistical tests that require numerical data, such as a t-test or ANOVA. Instead, measures of frequency and percentages are used. On the other hand, if data is measured at the ratio level, it can be used in a wide range of statistical tests, and measures such as means and standard deviations are appropriate."
   ]
  },
  {
   "cell_type": "markdown",
   "id": "418023b1-5dd4-40db-90ac-5484fd2cbb67",
   "metadata": {},
   "source": [
    "Consider a study investigating the relationship between income and education level. If income is measured at the ordinal level (e.g., income categories of low, middle, high), inappropriate statistical analyses may lead to incorrect conclusions about the relationship between income and education level. However, if income is measured at the ratio level (e.g., in dollars), appropriate statistical analyses can be conducted, and the results will be more accurate and informative. Therefore, understanding the level of measurement is crucial in selecting the appropriate statistical tests and measures for analyzing data."
   ]
  },
  {
   "cell_type": "markdown",
   "id": "9e9bc9f3-23c8-4baf-8a94-14a6342f28a2",
   "metadata": {},
   "source": [
    "### Ans7)"
   ]
  },
  {
   "cell_type": "markdown",
   "id": "34c49396-1b0e-4beb-a5c2-c7df0eff41d0",
   "metadata": {},
   "source": [
    "1) Nominal Data: Nominal data are categorical data that are used to label or classify different groups or categories. Nominal data have no inherent order or ranking, and they cannot be compared quantitatively."
   ]
  },
  {
   "cell_type": "markdown",
   "id": "fab706b9-a678-4e73-bd18-ad7411ed6a78",
   "metadata": {},
   "source": [
    "2) Ordinal Data:  Ordinal data are data that can be ranked or ordered based on some criteria. Ordinal data have an inherent order, but the differences between the values may not be uniform. "
   ]
  },
  {
   "cell_type": "markdown",
   "id": "29b7a444-b497-4fac-bb03-f765ef41f07c",
   "metadata": {},
   "source": [
    "difference between nominal and ordinal data types is that nominal data does not have any inherent order or ranking, while ordinal data does have an inherent order or ranking."
   ]
  },
  {
   "cell_type": "markdown",
   "id": "528a9ffc-42b8-4813-a9e7-6bb2b89ea2f9",
   "metadata": {},
   "source": [
    "### Ans8)"
   ]
  },
  {
   "cell_type": "markdown",
   "id": "f7a9ece9-a4ae-456d-bd4f-1a24c3387cd9",
   "metadata": {},
   "source": [
    "A box plot (also known as a box-and-whisker plot) is a type of plot that can be used to display data in terms of range. The box plot displays the five-number summary of a dataset: the minimum value, the first quartile (Q1), the median, the third quartile (Q3), and the maximum value. The box represents the middle 50% of the data (i.e., the distance between Q1 and Q3), with the median marked as a horizontal line inside the box. The whiskers extend from the box to the minimum and maximum values, and any outliers are shown as individual points."
   ]
  },
  {
   "cell_type": "markdown",
   "id": "5b7b1846-3394-40eb-84ca-2604be9f16f6",
   "metadata": {},
   "source": [
    "### Ans9)"
   ]
  },
  {
   "cell_type": "markdown",
   "id": "f1ca8c5b-b451-4f2e-8f64-7c4aa86c8c80",
   "metadata": {},
   "source": [
    "Descriptive statistics involves the analysis of data to provide a summary of its main characteristics, such as measures of central tendency (e.g., mean, median, mode) and variability (e.g., range, standard deviation). "
   ]
  },
  {
   "cell_type": "markdown",
   "id": "8fe4c2b5-5902-4e90-a94c-425cdbc37cec",
   "metadata": {},
   "source": [
    " Examples of descriptive statistics include measures of central tendency (mean, median, mode), measures of variability (standard deviation, range, interquartile range), and graphs and charts (histograms, bar charts, scatterplots)."
   ]
  },
  {
   "cell_type": "markdown",
   "id": "7fbc2d52-7332-4bc0-af01-4d2da77fa85b",
   "metadata": {},
   "source": [
    "Inferential statistics, on the other hand, are used to make predictions or draw conclusions about a population based on a sample of data. Inferential statistics are used to test hypotheses, estimate population parameters, and determine the statistical significance of differences or relationships between variables."
   ]
  },
  {
   "cell_type": "markdown",
   "id": "fe92f9a2-0f25-4493-8881-22ec955b8698",
   "metadata": {},
   "source": [
    "Examples of inferential statistics include t-tests, ANOVA, correlation analysis, and regression analysis."
   ]
  },
  {
   "cell_type": "markdown",
   "id": "2fd8bf13-0834-4cd0-9d89-3eb587d485b1",
   "metadata": {},
   "source": [
    "### Ans10)"
   ]
  },
  {
   "cell_type": "markdown",
   "id": "b155e015-803d-4c19-9084-3eae6816cf6a",
   "metadata": {},
   "source": [
    "Measures of central tendency are used to describe the central or typical value of a dataset, around which the data points tend to cluster. The most common measures of central tendency are:\n",
    "\n",
    "1) Mean: the arithmetic average of a dataset, calculated by adding up all the values and dividing by the number of values. The mean is sensitive to outliers or extreme values in the dataset and is used to describe the typical value of a normally distributed dataset.\n",
    "\n",
    "2) Median: the middle value of a dataset when the data points are arranged in order. The median is less sensitive to outliers than the mean and is used to describe the typical value of a skewed dataset.\n",
    "\n",
    "3) Mode: the most common value or values in a dataset. The mode is used to describe the most frequent value in a dataset."
   ]
  },
  {
   "cell_type": "markdown",
   "id": "36f85607-5832-46b0-8cf6-fc7fe31b54cf",
   "metadata": {},
   "source": [
    "Measures of variability are used to describe how spread out or dispersed the data points are around the central tendency. The most common measures of variability are:\n",
    "\n",
    "1) Range: the difference between the highest and lowest values in a dataset. The range is a simple measure of variability that provides information about the spread of the data.\n",
    "\n",
    "2) Variance: the average squared deviation of each data point from the mean. The variance provides a measure of the variability of the data points around the mean.\n",
    "\n",
    "3) Standard deviation: the square root of the variance. The standard deviation provides a measure of the spread of the data points around the mean and is often used to describe the normal distribution of a dataset."
   ]
  },
  {
   "cell_type": "code",
   "execution_count": null,
   "id": "9f1ac3d6-7ea6-4a0d-a3a2-891b28a143a5",
   "metadata": {},
   "outputs": [],
   "source": []
  }
 ],
 "metadata": {
  "kernelspec": {
   "display_name": "Python 3 (ipykernel)",
   "language": "python",
   "name": "python3"
  },
  "language_info": {
   "codemirror_mode": {
    "name": "ipython",
    "version": 3
   },
   "file_extension": ".py",
   "mimetype": "text/x-python",
   "name": "python",
   "nbconvert_exporter": "python",
   "pygments_lexer": "ipython3",
   "version": "3.10.8"
  }
 },
 "nbformat": 4,
 "nbformat_minor": 5
}
