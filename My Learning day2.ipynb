{
 "cells": [
  {
   "cell_type": "code",
   "execution_count": 1,
   "id": "2c87909e-cd0d-4970-b82a-379e0b74b6ef",
   "metadata": {},
   "outputs": [],
   "source": [
    "a= 10"
   ]
  },
  {
   "cell_type": "code",
   "execution_count": 2,
   "id": "702ac922-b369-46d1-97bf-4767229bddfb",
   "metadata": {},
   "outputs": [],
   "source": [
    "a = 'c'"
   ]
  },
  {
   "cell_type": "code",
   "execution_count": 3,
   "id": "d403a4c5-5ac2-4f13-8fba-cd00347e1643",
   "metadata": {},
   "outputs": [
    {
     "data": {
      "text/plain": [
       "str"
      ]
     },
     "execution_count": 3,
     "metadata": {},
     "output_type": "execute_result"
    }
   ],
   "source": [
    "type(a)"
   ]
  },
  {
   "cell_type": "code",
   "execution_count": 6,
   "id": "7e79ed22-3b05-4746-bdbc-75c99ca5305e",
   "metadata": {},
   "outputs": [
    {
     "data": {
      "text/plain": [
       "123"
      ]
     },
     "execution_count": 6,
     "metadata": {},
     "output_type": "execute_result"
    }
   ],
   "source": [
    "int('123')"
   ]
  },
  {
   "cell_type": "code",
   "execution_count": 7,
   "id": "4187f3c6-35e9-44e8-80a0-ec44ecceeaa2",
   "metadata": {},
   "outputs": [
    {
     "ename": "ValueError",
     "evalue": "invalid literal for int() with base 10: 'abcd'",
     "output_type": "error",
     "traceback": [
      "\u001b[0;31m---------------------------------------------------------------------------\u001b[0m",
      "\u001b[0;31mValueError\u001b[0m                                Traceback (most recent call last)",
      "Cell \u001b[0;32mIn[7], line 1\u001b[0m\n\u001b[0;32m----> 1\u001b[0m \u001b[38;5;28;43mint\u001b[39;49m\u001b[43m(\u001b[49m\u001b[38;5;124;43m'\u001b[39;49m\u001b[38;5;124;43mabcd\u001b[39;49m\u001b[38;5;124;43m'\u001b[39;49m\u001b[43m)\u001b[49m\n",
      "\u001b[0;31mValueError\u001b[0m: invalid literal for int() with base 10: 'abcd'"
     ]
    }
   ],
   "source": [
    "int('abcd')"
   ]
  },
  {
   "cell_type": "code",
   "execution_count": 9,
   "id": "8a20530a-7efc-4f14-a038-b9fc8ec457f0",
   "metadata": {},
   "outputs": [
    {
     "name": "stdout",
     "output_type": "stream",
     "text": [
      "Hellow World\n"
     ]
    }
   ],
   "source": [
    "print(\"Hellow World\")"
   ]
  },
  {
   "cell_type": "code",
   "execution_count": 10,
   "id": "25474c91-4bf3-4651-a3d1-7a9b75c19908",
   "metadata": {},
   "outputs": [
    {
     "name": "stdout",
     "output_type": "stream",
     "text": [
      "123\n"
     ]
    }
   ],
   "source": [
    "print(123)"
   ]
  },
  {
   "cell_type": "code",
   "execution_count": 13,
   "id": "84fe92fa-3a08-4bc0-9ef9-3710953c35af",
   "metadata": {},
   "outputs": [
    {
     "name": "stdout",
     "output_type": "stream",
     "text": [
      "My age is: 32\n"
     ]
    }
   ],
   "source": [
    "age=32\n",
    "print(\"My age is:\",age)"
   ]
  },
  {
   "cell_type": "code",
   "execution_count": 15,
   "id": "b3bdda8f-0859-48b2-9ab1-651cd7400856",
   "metadata": {},
   "outputs": [
    {
     "name": "stdout",
     "output_type": "stream",
     "text": [
      "my age is: 32\n"
     ]
    }
   ],
   "source": [
    "## f string \n",
    "print(f\"my age is: {age}\")"
   ]
  },
  {
   "cell_type": "code",
   "execution_count": 1,
   "id": "17aa1b46-021b-413c-b124-2df965b3cad5",
   "metadata": {},
   "outputs": [
    {
     "name": "stdout",
     "output_type": "stream",
     "text": [
      "my name is Amaan and age is 21\n"
     ]
    }
   ],
   "source": [
    "## format()\n",
    "name = \"Amaan\"\n",
    "age = \"21\"\n",
    "print(\"my name is {} and age is {}\".format(name,age))\n"
   ]
  },
  {
   "cell_type": "code",
   "execution_count": 2,
   "id": "d9b83f92-2174-4715-9dbc-c70d59588c8a",
   "metadata": {},
   "outputs": [
    {
     "name": "stdout",
     "output_type": "stream",
     "text": [
      "my name is 21 and age is Amaan\n"
     ]
    }
   ],
   "source": [
    "print(\"my name is {} and age is {}\".format(age,name))"
   ]
  },
  {
   "cell_type": "code",
   "execution_count": 3,
   "id": "ee6571af-8009-4f4e-9fc6-fde6d48389fb",
   "metadata": {},
   "outputs": [
    {
     "name": "stdout",
     "output_type": "stream",
     "text": [
      "my name is Amaan and age is 21\n"
     ]
    }
   ],
   "source": [
    "print(\"my name is {firstname} and age is {firstage}\".format(firstname=name,firstage=age))"
   ]
  },
  {
   "cell_type": "code",
   "execution_count": 7,
   "id": "7d160763-fae9-4d78-81f6-eacb04bb3eb6",
   "metadata": {},
   "outputs": [
    {
     "name": "stdout",
     "output_type": "stream",
     "text": [
      "My age is 21 and i have completed my degree of B.com with the name of Amaan\n"
     ]
    }
   ],
   "source": [
    "Name = \"Age\"\n",
    "Age = \"21\"\n",
    "degree = \"B.com\"\n",
    "\n",
    "#\"My age is 21 and i have completed: my degree of BE with the name of Amaan\"\n",
    "print(\"My age is {firstage} and i have completed my degree of {firstdegree} with the name of {firstname}\".format(firstage=age,firstdegree=degree,firstname=name))"
   ]
  },
  {
   "cell_type": "code",
   "execution_count": 8,
   "id": "678ccf6d-e8f9-4b0c-91e1-da1c9b4a605a",
   "metadata": {},
   "outputs": [
    {
     "name": "stdout",
     "output_type": "stream",
     "text": [
      "my age is 21 and i have completed my degree of B.com with the name of Amaan\n"
     ]
    }
   ],
   "source": [
    "print(\"my age is {} and i have completed my degree of {} with the name of {}\".format(age,degree,name))"
   ]
  },
  {
   "cell_type": "code",
   "execution_count": 9,
   "id": "566999ee-fc90-4bfc-ab36-5ab926745456",
   "metadata": {},
   "outputs": [
    {
     "name": "stdout",
     "output_type": "stream",
     "text": [
      "my age is 21 an i have completed my degree of B.com with the name of Amaan\n"
     ]
    }
   ],
   "source": [
    "print(f\"my age is {age} an i have completed my degree of {degree} with the name of {name}\")"
   ]
  },
  {
   "cell_type": "markdown",
   "id": "fa9a224e-1937-4595-8e46-1f341cf3716b",
   "metadata": {},
   "source": [
    "## Control Flow\n",
    "### Decission Making Statements"
   ]
  },
  {
   "cell_type": "code",
   "execution_count": 11,
   "id": "3eb16557-d1ac-4fa8-9f20-3821693dc83e",
   "metadata": {},
   "outputs": [
    {
     "name": "stdout",
     "output_type": "stream",
     "text": [
      "You are eligible to vote\n"
     ]
    }
   ],
   "source": [
    "# if statements\n",
    "age =18\n",
    "if age>=18:\n",
    "    print(\"You are eligible to vote\")"
   ]
  },
  {
   "cell_type": "code",
   "execution_count": 12,
   "id": "345d8968-f8af-4ada-b83f-9e5980393d6d",
   "metadata": {},
   "outputs": [
    {
     "ename": "SyntaxError",
     "evalue": "invalid syntax (1367213465.py, line 1)",
     "output_type": "error",
     "traceback": [
      "\u001b[0;36m  Cell \u001b[0;32mIn[12], line 1\u001b[0;36m\u001b[0m\n\u001b[0;31m    ==,>=,<=\u001b[0m\n\u001b[0m    ^\u001b[0m\n\u001b[0;31mSyntaxError\u001b[0m\u001b[0;31m:\u001b[0m invalid syntax\n"
     ]
    }
   ],
   "source": [
    "==,>=,<="
   ]
  },
  {
   "cell_type": "code",
   "execution_count": 17,
   "id": "8d696c6b-0531-4efa-a1df-c88671ddfa9d",
   "metadata": {},
   "outputs": [],
   "source": [
    "# if statements\n",
    "age =18\n",
    "if age<18:\n",
    "    print(\"You are eligible to vote\")"
   ]
  },
  {
   "cell_type": "code",
   "execution_count": 18,
   "id": "8d35e157-5d3c-4345-8252-64b871a2c04b",
   "metadata": {},
   "outputs": [
    {
     "data": {
      "text/plain": [
       "True"
      ]
     },
     "execution_count": 18,
     "metadata": {},
     "output_type": "execute_result"
    }
   ],
   "source": [
    "18<=18"
   ]
  },
  {
   "cell_type": "code",
   "execution_count": 19,
   "id": "cc320c9c-a662-4722-98e3-4a18a1949ef6",
   "metadata": {},
   "outputs": [
    {
     "name": "stdin",
     "output_type": "stream",
     "text": [
      " Amaan\n"
     ]
    },
    {
     "data": {
      "text/plain": [
       "'Amaan'"
      ]
     },
     "execution_count": 19,
     "metadata": {},
     "output_type": "execute_result"
    }
   ],
   "source": [
    "input()"
   ]
  },
  {
   "cell_type": "code",
   "execution_count": 20,
   "id": "54a6cc7b-79c6-48fb-a311-5650e67f71e7",
   "metadata": {},
   "outputs": [],
   "source": [
    "## Task\n",
    "## Take a input of age \n",
    "## check weather age >=18 and age<=45\n",
    "## display a message you are young blood"
   ]
  },
  {
   "cell_type": "code",
   "execution_count": 24,
   "id": "1135d4b3-25a6-4bc5-8ba1-e9d598ab42ac",
   "metadata": {},
   "outputs": [
    {
     "name": "stdin",
     "output_type": "stream",
     "text": [
      "Enter Your Age 26\n"
     ]
    },
    {
     "name": "stdout",
     "output_type": "stream",
     "text": [
      "You are young blood\n"
     ]
    }
   ],
   "source": [
    "age = int(input(\"Enter Your Age\"))\n",
    "if age>=18 and age <=45:\n",
    "    print(\"You are young blood\")"
   ]
  },
  {
   "cell_type": "code",
   "execution_count": 25,
   "id": "9b101714-2a0a-4122-999c-2c92b4575814",
   "metadata": {},
   "outputs": [
    {
     "name": "stdin",
     "output_type": "stream",
     "text": [
      "Enter Your Age 55\n"
     ]
    }
   ],
   "source": [
    "age = int(input(\"Enter Your Age\"))\n",
    "if age>=18 and age <=45:\n",
    "    print(\"You are young blood\")"
   ]
  },
  {
   "cell_type": "code",
   "execution_count": 28,
   "id": "9f276ddf-0fe8-40e5-96e8-a3486114f930",
   "metadata": {},
   "outputs": [
    {
     "name": "stdin",
     "output_type": "stream",
     "text": [
      "Enter Your Age 11\n"
     ]
    },
    {
     "name": "stdout",
     "output_type": "stream",
     "text": [
      "Thank you we will let you know\n"
     ]
    }
   ],
   "source": [
    "#IF else statements\n",
    "age = int(input(\"Enter Your Age\"))\n",
    "if age>=18 and age <=45:\n",
    "    print(\"You are young blood\")\n",
    "else:\n",
    "    print(\"Thank you we will let you know\")"
   ]
  },
  {
   "cell_type": "code",
   "execution_count": null,
   "id": "4578cfab-c239-4264-8a52-9b996d533dfb",
   "metadata": {},
   "outputs": [],
   "source": [
    "## mall - input the product price\n",
    "## product >1000 rs 20% off\n",
    "## print the product price\n",
    "## product <=1000 ris 30% off\n",
    "## print the product price"
   ]
  },
  {
   "cell_type": "code",
   "execution_count": 36,
   "id": "9d507cf5-fb47-420b-831b-b5ef2bff07de",
   "metadata": {},
   "outputs": [
    {
     "name": "stdin",
     "output_type": "stream",
     "text": [
      "Input the product Price 100\n"
     ]
    },
    {
     "name": "stdout",
     "output_type": "stream",
     "text": [
      "THe price of the product is 70.0\n"
     ]
    }
   ],
   "source": [
    "product = int(input(\"Input the product Price\"))\n",
    "if product>1000:\n",
    "        print(\"The price of the product is {}\".format(product*.8))\n",
    "else:\n",
    "        print(\"THe price of the product is {}\".format(product*.7))"
   ]
  },
  {
   "cell_type": "code",
   "execution_count": null,
   "id": "a30bf7b4-6d45-47e0-a610-84a60962e191",
   "metadata": {},
   "outputs": [],
   "source": [
    "## mall- input the product price\n",
    "## product >3000 20% off\n",
    "## print the product price after removing discount\n",
    "## product >=2000 rs and <=3000 30% off\n",
    "## print the product price after removing discount \n",
    "## product <=1000 rs and <=2000 40% off\n",
    "## print the product price after removing discount "
   ]
  },
  {
   "cell_type": "code",
   "execution_count": null,
   "id": "74bbe94e-84e9-42c2-8ebf-4aed1da2c5ea",
   "metadata": {},
   "outputs": [],
   "source": [
    "product_price = int(input(\"Input the product price\"))\n",
    "if product_price>3000:\n",
    "    print(\"The price of the product is {}\".format(product*.8))\n",
    "elif product_price>=2000 and product_price<=3000:\n",
    "    print(\"The price of the product is {}\".format(product*.7))\n",
    "else:\n",
    "    print(\"The price of the product is {}\".format(product*.6))"
   ]
  },
  {
   "cell_type": "code",
   "execution_count": null,
   "id": "63c8fed7-3353-4a8e-9da2-28f467f60b39",
   "metadata": {},
   "outputs": [],
   "source": []
  },
  {
   "cell_type": "code",
   "execution_count": null,
   "id": "12229cd9-9038-45b5-a6ff-a5edeada779d",
   "metadata": {},
   "outputs": [],
   "source": []
  }
 ],
 "metadata": {
  "kernelspec": {
   "display_name": "Python 3 (ipykernel)",
   "language": "python",
   "name": "python3"
  },
  "language_info": {
   "codemirror_mode": {
    "name": "ipython",
    "version": 3
   },
   "file_extension": ".py",
   "mimetype": "text/x-python",
   "name": "python",
   "nbconvert_exporter": "python",
   "pygments_lexer": "ipython3",
   "version": "3.10.8"
  }
 },
 "nbformat": 4,
 "nbformat_minor": 5
}
