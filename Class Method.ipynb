{
 "cells": [
  {
   "cell_type": "code",
   "execution_count": 2,
   "id": "5fde4e53-a867-4bcf-bc94-44ab89929e75",
   "metadata": {},
   "outputs": [],
   "source": [
    "class pwskills:\n",
    "    def __init__(self, name ,email ):\n",
    "        self.name= name\n",
    "        self.email=email\n",
    "    def student_details(self):\n",
    "        print(self.name,self.email)"
   ]
  },
  {
   "cell_type": "code",
   "execution_count": 4,
   "id": "5657a935-c6af-40ad-b0e6-b6733e5a6fec",
   "metadata": {},
   "outputs": [],
   "source": [
    "pw = pwskills(\"Amaan\",\"amaan@gmail.com\")"
   ]
  },
  {
   "cell_type": "code",
   "execution_count": 5,
   "id": "654f68c4-15a5-4149-a609-3c44eed5662a",
   "metadata": {},
   "outputs": [
    {
     "data": {
      "text/plain": [
       "'Amaan'"
      ]
     },
     "execution_count": 5,
     "metadata": {},
     "output_type": "execute_result"
    }
   ],
   "source": [
    "pw.name"
   ]
  },
  {
   "cell_type": "code",
   "execution_count": 6,
   "id": "5cd947e7-5a49-4848-89ef-6d594bfefaa7",
   "metadata": {},
   "outputs": [
    {
     "data": {
      "text/plain": [
       "'amaan@gmail.com'"
      ]
     },
     "execution_count": 6,
     "metadata": {},
     "output_type": "execute_result"
    }
   ],
   "source": [
    "pw.email"
   ]
  },
  {
   "cell_type": "code",
   "execution_count": 10,
   "id": "55c2fa38-88a6-41e9-9408-30a64b9e7800",
   "metadata": {},
   "outputs": [
    {
     "name": "stdout",
     "output_type": "stream",
     "text": [
      "Amaan amaan@gmail.com\n"
     ]
    }
   ],
   "source": [
    "pw.student_details()"
   ]
  },
  {
   "cell_type": "code",
   "execution_count": 16,
   "id": "5bf3665b-a2bf-4dfe-ad98-0a3237dbf334",
   "metadata": {},
   "outputs": [],
   "source": [
    "class pwskills1:\n",
    "    def __init__(self, name ,email ):\n",
    "        self.name= name\n",
    "        self.email=email\n",
    "    @classmethod\n",
    "    def details(cls, name1 , email1):\n",
    "        return cls(name1,email1)\n",
    "    def student_details(self):\n",
    "        print(self.name,self.email)"
   ]
  },
  {
   "cell_type": "code",
   "execution_count": 17,
   "id": "c4b6ad2f-6e30-444e-85c1-9a5205a731b4",
   "metadata": {},
   "outputs": [],
   "source": [
    "pw1=pwskills1.details(\"Abhishek\",\"abhi@gmail.com\")"
   ]
  },
  {
   "cell_type": "code",
   "execution_count": 18,
   "id": "96804cd8-4e8e-4ba6-9bbb-40fe2ed07f5f",
   "metadata": {},
   "outputs": [
    {
     "data": {
      "text/plain": [
       "'Abhishek'"
      ]
     },
     "execution_count": 18,
     "metadata": {},
     "output_type": "execute_result"
    }
   ],
   "source": [
    "pw1.name"
   ]
  },
  {
   "cell_type": "code",
   "execution_count": 19,
   "id": "222c6b44-263e-4084-9f82-ef3d132d431f",
   "metadata": {},
   "outputs": [
    {
     "data": {
      "text/plain": [
       "'abhi@gmail.com'"
      ]
     },
     "execution_count": 19,
     "metadata": {},
     "output_type": "execute_result"
    }
   ],
   "source": [
    "pw1.email"
   ]
  },
  {
   "cell_type": "code",
   "execution_count": 20,
   "id": "6e5ea802-a651-4c3a-ba39-130c42d207a8",
   "metadata": {},
   "outputs": [
    {
     "name": "stdout",
     "output_type": "stream",
     "text": [
      "Abhishek abhi@gmail.com\n"
     ]
    }
   ],
   "source": [
    "pw1.student_details()"
   ]
  },
  {
   "cell_type": "code",
   "execution_count": 5,
   "id": "39f35a54-c150-4e6a-a41f-041ba4d0a652",
   "metadata": {},
   "outputs": [],
   "source": [
    "class pwskills2:\n",
    "    mobile_number= 9293485432\n",
    "    def __init__(self, name ,email ):\n",
    "        self.name= name\n",
    "        self.email=email\n",
    "        \n",
    "        \n",
    "    @classmethod\n",
    "    def change_number(cls,mobile):\n",
    "        pwskills2.mobile_number = mobile\n",
    "        \n",
    "    @classmethod\n",
    "    def details(cls, name1 , email1):\n",
    "        return cls(name1,email1)\n",
    "    def student_details(self):\n",
    "        print(self.name,self.email,pwskills2.mobile_number)"
   ]
  },
  {
   "cell_type": "code",
   "execution_count": 10,
   "id": "463e62ed-f774-41b0-b9b9-b03e0ffbd691",
   "metadata": {},
   "outputs": [],
   "source": [
    "pw2_obj = pwskills2(\"sohil\",\"sohil@gmail.com\")"
   ]
  },
  {
   "cell_type": "code",
   "execution_count": 13,
   "id": "3912aa53-7cd9-4c66-8c95-44964e665096",
   "metadata": {},
   "outputs": [
    {
     "data": {
      "text/plain": [
       "<__main__.pwskills2 at 0x7f71aedd8dc0>"
      ]
     },
     "execution_count": 13,
     "metadata": {},
     "output_type": "execute_result"
    }
   ],
   "source": [
    "pw2_obj.details(\"sudh\",\"sudh@gmail.com\")"
   ]
  },
  {
   "cell_type": "code",
   "execution_count": 14,
   "id": "3fea2e89-e28a-474b-afc7-5dc1a1c82d79",
   "metadata": {},
   "outputs": [
    {
     "data": {
      "text/plain": [
       "'sohil'"
      ]
     },
     "execution_count": 14,
     "metadata": {},
     "output_type": "execute_result"
    }
   ],
   "source": [
    "pw2_obj.name"
   ]
  },
  {
   "cell_type": "code",
   "execution_count": 15,
   "id": "1a8af675-cb77-4bfc-80ce-cdf7a14bab9a",
   "metadata": {},
   "outputs": [],
   "source": [
    "pw2_obj.change_number(534554534)"
   ]
  },
  {
   "cell_type": "code",
   "execution_count": 16,
   "id": "03f16d68-6f72-4bc5-81bb-a8a498540d29",
   "metadata": {},
   "outputs": [
    {
     "data": {
      "text/plain": [
       "534554534"
      ]
     },
     "execution_count": 16,
     "metadata": {},
     "output_type": "execute_result"
    }
   ],
   "source": [
    "pw2_obj.mobile_number"
   ]
  },
  {
   "cell_type": "code",
   "execution_count": 6,
   "id": "15998a89-d143-41ae-ab75-0c93573c261c",
   "metadata": {},
   "outputs": [
    {
     "data": {
      "text/plain": [
       "9293485432"
      ]
     },
     "execution_count": 6,
     "metadata": {},
     "output_type": "execute_result"
    }
   ],
   "source": [
    "pwskills2.mobile_number"
   ]
  },
  {
   "cell_type": "code",
   "execution_count": 8,
   "id": "0ae8d177-017f-42b9-9f5b-97ed0b3c5a5c",
   "metadata": {},
   "outputs": [],
   "source": [
    "pwskills2.change_number(9852334325)"
   ]
  },
  {
   "cell_type": "code",
   "execution_count": 9,
   "id": "90ec6767-a2c1-4239-b8a6-e72cc81c0cc6",
   "metadata": {},
   "outputs": [
    {
     "data": {
      "text/plain": [
       "9852334325"
      ]
     },
     "execution_count": 9,
     "metadata": {},
     "output_type": "execute_result"
    }
   ],
   "source": [
    "pwskills2.mobile_number"
   ]
  },
  {
   "cell_type": "code",
   "execution_count": 27,
   "id": "ac5804ce-26bb-44ab-8ba3-5158c4a4cd62",
   "metadata": {},
   "outputs": [],
   "source": [
    "pw2=pwskills2.details(\"sohan\",\"sohan@gmail.con\")"
   ]
  },
  {
   "cell_type": "code",
   "execution_count": 28,
   "id": "a9cadaa3-ba5f-414e-8276-0d7d6e055e36",
   "metadata": {},
   "outputs": [
    {
     "name": "stdout",
     "output_type": "stream",
     "text": [
      "sohan sohan@gmail.con 9293485432\n"
     ]
    }
   ],
   "source": [
    "pw2.student_details()"
   ]
  },
  {
   "cell_type": "code",
   "execution_count": 29,
   "id": "83c63d58-1ac0-4f1c-83e1-c07f42e879b3",
   "metadata": {},
   "outputs": [],
   "source": [
    "pw2_obj = pwskills2(\"rohan\",\"rohan@gmail.com\")"
   ]
  },
  {
   "cell_type": "code",
   "execution_count": 30,
   "id": "eee766a7-73a2-4ebb-a9e7-f68c5ce9d0de",
   "metadata": {},
   "outputs": [
    {
     "name": "stdout",
     "output_type": "stream",
     "text": [
      "rohan rohan@gmail.com 9293485432\n"
     ]
    }
   ],
   "source": [
    "pw2_obj.student_details()"
   ]
  },
  {
   "cell_type": "code",
   "execution_count": 17,
   "id": "75b7d016-b0a7-4771-8d73-4fafda226737",
   "metadata": {},
   "outputs": [],
   "source": [
    "class pwskills3:\n",
    "    mobile_number= 9293485432\n",
    "    def __init__(self, name ,email ):\n",
    "        self.name= name\n",
    "        self.email=email\n",
    "        \n",
    "        \n",
    "    @classmethod\n",
    "    def change_number(cls,mobile):\n",
    "        pwskills2.mobile_number = mobile\n",
    "        \n",
    "    @classmethod\n",
    "    def details(cls, name1 , email1):\n",
    "        return cls(name1,email1)\n",
    "    def student_details(self):\n",
    "        print(self.name,self.email,pwskills2.mobile_number)"
   ]
  },
  {
   "cell_type": "code",
   "execution_count": 18,
   "id": "b1c3fc27-e096-4537-81b0-4e59455f15f6",
   "metadata": {},
   "outputs": [],
   "source": [
    "def course_details(cls, course_name):\n",
    "    print(\"course details\", course_name)"
   ]
  },
  {
   "cell_type": "code",
   "execution_count": 19,
   "id": "50a65e69-0bdf-4887-99a0-404ec2a15839",
   "metadata": {},
   "outputs": [],
   "source": [
    "pwskills3.course_details = classmethod(course_details)"
   ]
  },
  {
   "cell_type": "code",
   "execution_count": 22,
   "id": "3a647660-32dc-4533-91a3-58ab02309a96",
   "metadata": {},
   "outputs": [
    {
     "name": "stdout",
     "output_type": "stream",
     "text": [
      "course details data science masters\n"
     ]
    }
   ],
   "source": [
    "pwskills3.course_details(\"data science masters\")"
   ]
  },
  {
   "cell_type": "code",
   "execution_count": 24,
   "id": "6ae651f2-4554-4503-8874-e62e59f984fd",
   "metadata": {},
   "outputs": [],
   "source": [
    "pw3 =pwskills3(\"sudh\",\"sudh@gmail.com\")"
   ]
  },
  {
   "cell_type": "code",
   "execution_count": 25,
   "id": "93325eca-cff7-4680-9e22-0db2469f43ec",
   "metadata": {},
   "outputs": [
    {
     "name": "stdout",
     "output_type": "stream",
     "text": [
      "course details web dev\n"
     ]
    }
   ],
   "source": [
    "pw3.course_details(\"web dev\")"
   ]
  },
  {
   "cell_type": "code",
   "execution_count": 26,
   "id": "a6fc224d-2e52-44c2-8b7e-544cd4b4ad18",
   "metadata": {},
   "outputs": [],
   "source": [
    "class pwskills4:\n",
    "    mobile_number= 9293485432\n",
    "    def __init__(self, name ,email ):\n",
    "        self.name= name\n",
    "        self.email=email\n",
    "        \n",
    "        \n",
    "    @classmethod\n",
    "    def change_number(cls,mobile):\n",
    "        pwskills2.mobile_number = mobile\n",
    "        \n",
    "    @classmethod\n",
    "    def details(cls, name1 , email1):\n",
    "        return cls(name1,email1)\n",
    "    def student_details(self):\n",
    "        print(self.name,self.email,pwskills2.mobile_number)"
   ]
  },
  {
   "cell_type": "code",
   "execution_count": 27,
   "id": "35a7f087-8001-4a76-addc-e41b02b7f01f",
   "metadata": {},
   "outputs": [],
   "source": [
    " del pwskills4.change_number"
   ]
  },
  {
   "cell_type": "code",
   "execution_count": 29,
   "id": "b4ca8789-d729-42e2-90af-9e96e26a647f",
   "metadata": {},
   "outputs": [
    {
     "ename": "AttributeError",
     "evalue": "type object 'pwskills4' has no attribute 'change_number'",
     "output_type": "error",
     "traceback": [
      "\u001b[0;31m---------------------------------------------------------------------------\u001b[0m",
      "\u001b[0;31mAttributeError\u001b[0m                            Traceback (most recent call last)",
      "Cell \u001b[0;32mIn[29], line 1\u001b[0m\n\u001b[0;32m----> 1\u001b[0m \u001b[43mpwskills4\u001b[49m\u001b[38;5;241;43m.\u001b[39;49m\u001b[43mchange_number\u001b[49m(\u001b[38;5;241m234556\u001b[39m)\n",
      "\u001b[0;31mAttributeError\u001b[0m: type object 'pwskills4' has no attribute 'change_number'"
     ]
    }
   ],
   "source": [
    "pwskills4.change_number(234556)"
   ]
  },
  {
   "cell_type": "code",
   "execution_count": 30,
   "id": "1b1f597f-699c-4bca-9b97-43708682e9ee",
   "metadata": {},
   "outputs": [],
   "source": [
    "delattr(pwskills4, \"details\")"
   ]
  },
  {
   "cell_type": "code",
   "execution_count": 31,
   "id": "4a431043-22a1-4e22-8a16-2656e9666f71",
   "metadata": {},
   "outputs": [
    {
     "data": {
      "text/plain": [
       "9293485432"
      ]
     },
     "execution_count": 31,
     "metadata": {},
     "output_type": "execute_result"
    }
   ],
   "source": [
    "pwskills4.mobile_number"
   ]
  },
  {
   "cell_type": "code",
   "execution_count": 32,
   "id": "d27e75f0-f647-4db2-a600-6b6712668fd1",
   "metadata": {},
   "outputs": [],
   "source": [
    "delattr(pwskills4, \"mobile_number\")"
   ]
  },
  {
   "cell_type": "code",
   "execution_count": 33,
   "id": "28e7d94d-a766-42d0-8c40-60ae11177165",
   "metadata": {},
   "outputs": [
    {
     "ename": "AttributeError",
     "evalue": "type object 'pwskills4' has no attribute 'mobile_number'",
     "output_type": "error",
     "traceback": [
      "\u001b[0;31m---------------------------------------------------------------------------\u001b[0m",
      "\u001b[0;31mAttributeError\u001b[0m                            Traceback (most recent call last)",
      "Cell \u001b[0;32mIn[33], line 1\u001b[0m\n\u001b[0;32m----> 1\u001b[0m \u001b[43mpwskills4\u001b[49m\u001b[38;5;241;43m.\u001b[39;49m\u001b[43mmobile_number\u001b[49m\n",
      "\u001b[0;31mAttributeError\u001b[0m: type object 'pwskills4' has no attribute 'mobile_number'"
     ]
    }
   ],
   "source": [
    "pwskills4.mobile_number"
   ]
  },
  {
   "cell_type": "code",
   "execution_count": 34,
   "id": "a93d04b1-b559-4810-9b30-e49b4a948b0c",
   "metadata": {},
   "outputs": [],
   "source": [
    "delattr(pwskills4, \"student_details\")"
   ]
  },
  {
   "cell_type": "code",
   "execution_count": 35,
   "id": "985858c5-fa07-4d01-b50c-c515bee70d6d",
   "metadata": {},
   "outputs": [
    {
     "data": {
      "text/plain": [
       "__main__.pwskills4"
      ]
     },
     "execution_count": 35,
     "metadata": {},
     "output_type": "execute_result"
    }
   ],
   "source": [
    "pwskills4"
   ]
  },
  {
   "cell_type": "code",
   "execution_count": null,
   "id": "fd31d0a7-13df-4215-8b07-581e982885d0",
   "metadata": {},
   "outputs": [],
   "source": []
  }
 ],
 "metadata": {
  "kernelspec": {
   "display_name": "Python 3 (ipykernel)",
   "language": "python",
   "name": "python3"
  },
  "language_info": {
   "codemirror_mode": {
    "name": "ipython",
    "version": 3
   },
   "file_extension": ".py",
   "mimetype": "text/x-python",
   "name": "python",
   "nbconvert_exporter": "python",
   "pygments_lexer": "ipython3",
   "version": "3.10.8"
  }
 },
 "nbformat": 4,
 "nbformat_minor": 5
}
