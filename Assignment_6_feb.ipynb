{
 "cells": [
  {
   "cell_type": "markdown",
   "id": "8fcf5248-163c-4a80-b6ba-04c575647900",
   "metadata": {},
   "source": [
    "# Assignment"
   ]
  },
  {
   "cell_type": "markdown",
   "id": "a8f7d5c1-b80d-4aec-8d1c-97aadf1bb8a3",
   "metadata": {},
   "source": [
    "### Ans1)"
   ]
  },
  {
   "cell_type": "code",
   "execution_count": 1,
   "id": "bf6d5022-d4c4-435d-b425-c4906a9e3628",
   "metadata": {},
   "outputs": [],
   "source": [
    "list1 = [1,2,3,4, [44,55,66, True], False, (34,56,78,89,34), {1,2,3,3,2,1}, {1:34, \"key2\": [55, 67, 78, 89], 4: (45,\n",
    "22, 61, 34)}, [56, 'data science'], 'Machine Learning']"
   ]
  },
  {
   "cell_type": "code",
   "execution_count": 11,
   "id": "f8d2ed69-ac2a-4215-80c9-b608dbf55ba3",
   "metadata": {},
   "outputs": [],
   "source": [
    "def Amaan(a):\n",
    "    n = []\n",
    "    for i in a:\n",
    "        if type (i) == list:\n",
    "            for j in i:\n",
    "                if type(j) in [int,float]:\n",
    "                    n.append(j)\n",
    "        elif type (i) == tuple:\n",
    "            for k in i:\n",
    "                if type (k) in [int,float]:\n",
    "                    n.append(k)\n",
    "        elif type (i) == set:\n",
    "            for m in i :\n",
    "                if type (m) in [int,float]:\n",
    "                    n.append(m)\n",
    "        elif type (i) == dict:\n",
    "            for o in i.keys():\n",
    "                if type(o) in [int,float]:\n",
    "                    n.append(o)\n",
    "            for o in i.values():\n",
    "                if type(o) in [int,float]:\n",
    "                    n.append(o)\n",
    "                elif type(o) == list:\n",
    "                    for k in o:\n",
    "                        if type(k) in [int,float]:\n",
    "                            n.append(k)\n",
    "                            \n",
    "        else:\n",
    "            if type (i) == int or type(i) == float:\n",
    "                n.append(i)\n",
    "    product =1\n",
    "    for num in n:\n",
    "        if type(num) in [int,float]:\n",
    "            product *=num\n",
    "    return product"
   ]
  },
  {
   "cell_type": "code",
   "execution_count": 12,
   "id": "8ea8dc7d-bd0c-4c0c-984a-35c7602ca9a6",
   "metadata": {},
   "outputs": [
    {
     "data": {
      "text/plain": [
       "2013730282081706885067571200"
      ]
     },
     "execution_count": 12,
     "metadata": {},
     "output_type": "execute_result"
    }
   ],
   "source": [
    "Amaan(list1)"
   ]
  },
  {
   "cell_type": "markdown",
   "id": "d8a3245d-bcab-4253-9a01-b7b62a8cc613",
   "metadata": {},
   "source": [
    "### Ans2)"
   ]
  },
  {
   "cell_type": "code",
   "execution_count": 51,
   "id": "9bfbb9ca-515c-4e04-9cc0-07a0cec83a17",
   "metadata": {},
   "outputs": [],
   "source": [
    "def encrypt(msg):\n",
    "    msg = msg.lower()\n",
    "    \n",
    "    convert = \"\"\n",
    "    for i in msg:\n",
    "        if ord('a')<=ord(i)<=ord('z'):\n",
    "            convert=convert+chr(ord('z')-ord(i)+ord('a'))\n",
    "        elif i == \" \":\n",
    "            convert=convert+'$'\n",
    "        else:\n",
    "            convert=convert+i\n",
    "    return convert"
   ]
  },
  {
   "cell_type": "code",
   "execution_count": 52,
   "id": "12c6cb0c-59e9-4903-8155-05109841e516",
   "metadata": {},
   "outputs": [],
   "source": [
    "msg = \"I want to become a Data Scientist.\""
   ]
  },
  {
   "cell_type": "code",
   "execution_count": 53,
   "id": "97c9d1d5-d4e1-46c3-bc17-bfc6400d9a18",
   "metadata": {},
   "outputs": [
    {
     "data": {
      "text/plain": [
       "'r$dzmg$gl$yvxlnv$z$wzgz$hxrvmgrhg.'"
      ]
     },
     "execution_count": 53,
     "metadata": {},
     "output_type": "execute_result"
    }
   ],
   "source": [
    "encrypt(msg)"
   ]
  },
  {
   "cell_type": "code",
   "execution_count": null,
   "id": "c597ec7e-e2fe-4f8c-a756-a1e15cb70b3f",
   "metadata": {},
   "outputs": [],
   "source": []
  }
 ],
 "metadata": {
  "kernelspec": {
   "display_name": "Python 3 (ipykernel)",
   "language": "python",
   "name": "python3"
  },
  "language_info": {
   "codemirror_mode": {
    "name": "ipython",
    "version": 3
   },
   "file_extension": ".py",
   "mimetype": "text/x-python",
   "name": "python",
   "nbconvert_exporter": "python",
   "pygments_lexer": "ipython3",
   "version": "3.10.8"
  }
 },
 "nbformat": 4,
 "nbformat_minor": 5
}
