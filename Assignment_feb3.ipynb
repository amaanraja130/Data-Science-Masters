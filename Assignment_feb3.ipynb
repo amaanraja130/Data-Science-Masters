{
 "cells": [
  {
   "cell_type": "markdown",
   "id": "3f8b482b-645e-46b5-8884-3e360c59f9d2",
   "metadata": {},
   "source": [
    "# Assignment"
   ]
  },
  {
   "cell_type": "markdown",
   "id": "b7150f12-37ef-476d-adf0-90db0e6fa3b4",
   "metadata": {},
   "source": [
    "### Ans1)"
   ]
  },
  {
   "cell_type": "markdown",
   "id": "800c9055-18ec-4914-9805-8f7c3cd970b3",
   "metadata": {},
   "source": [
    "def keyword is used to create a function\n",
    "ex:"
   ]
  },
  {
   "cell_type": "code",
   "execution_count": 25,
   "id": "6db2ec9e-94ce-4d7b-95bd-9bd3a341e689",
   "metadata": {},
   "outputs": [],
   "source": [
    "def test():\n",
    "    l = []\n",
    "    for i in range(1,26):\n",
    "        if i%2==1:\n",
    "            l.append(i)\n",
    "    return l"
   ]
  },
  {
   "cell_type": "code",
   "execution_count": 28,
   "id": "4b2483fe-7509-4af0-b4d3-e799aa42ce68",
   "metadata": {},
   "outputs": [],
   "source": [
    "test1=test()"
   ]
  },
  {
   "cell_type": "code",
   "execution_count": 29,
   "id": "75c18c51-0279-4421-904b-4107d14ddaf9",
   "metadata": {},
   "outputs": [
    {
     "name": "stdout",
     "output_type": "stream",
     "text": [
      "[1, 3, 5, 7, 9, 11, 13, 15, 17, 19, 21, 23, 25]\n"
     ]
    }
   ],
   "source": [
    "print(test1)"
   ]
  },
  {
   "cell_type": "markdown",
   "id": "411ed3f4-21d0-4fee-8a91-fb9daba93bd6",
   "metadata": {},
   "source": [
    "### Ans2)"
   ]
  },
  {
   "cell_type": "markdown",
   "id": "b27d39cc-5533-45b8-9578-6275f4994ba6",
   "metadata": {},
   "source": [
    "*args and **kwargs is used to pass a variable of arguments to fuction. *args used to pass variable number of non key worded\n",
    "**kwargs used to pass variable number of key worded arguments to a fuction.\n",
    "for ex:"
   ]
  },
  {
   "cell_type": "code",
   "execution_count": 31,
   "id": "653c1bbb-e280-4578-8341-dcd04f90fa5e",
   "metadata": {},
   "outputs": [],
   "source": [
    "def test2(*args):\n",
    "    return args"
   ]
  },
  {
   "cell_type": "code",
   "execution_count": 32,
   "id": "1074b987-e7db-49d9-926d-dc8fc583d059",
   "metadata": {},
   "outputs": [
    {
     "data": {
      "text/plain": [
       "(2, 3, 4, 5, 'Amaan')"
      ]
     },
     "execution_count": 32,
     "metadata": {},
     "output_type": "execute_result"
    }
   ],
   "source": [
    "test2(2,3,4,5,\"Amaan\")"
   ]
  },
  {
   "cell_type": "code",
   "execution_count": 33,
   "id": "18e69f9e-a865-469d-9d94-1af35e043da2",
   "metadata": {},
   "outputs": [
    {
     "data": {
      "text/plain": [
       "(1,)"
      ]
     },
     "execution_count": 33,
     "metadata": {},
     "output_type": "execute_result"
    }
   ],
   "source": [
    "test2(1)"
   ]
  },
  {
   "cell_type": "code",
   "execution_count": 34,
   "id": "704b3494-ebb8-4b5e-b740-9b4d125cdbc1",
   "metadata": {},
   "outputs": [],
   "source": [
    "def test3(**kargs):\n",
    "    return kargs"
   ]
  },
  {
   "cell_type": "code",
   "execution_count": 35,
   "id": "61c38355-d340-46d1-acba-31860c361a6a",
   "metadata": {},
   "outputs": [
    {
     "data": {
      "text/plain": [
       "{'name': 'Amaan', 'Class': 'Data Science Masters'}"
      ]
     },
     "execution_count": 35,
     "metadata": {},
     "output_type": "execute_result"
    }
   ],
   "source": [
    "test3(name=\"Amaan\",Class=\"Data Science Masters\")"
   ]
  },
  {
   "cell_type": "markdown",
   "id": "3eb0b48b-68e7-4761-a415-aea7da4fd819",
   "metadata": {},
   "source": [
    "### Ans3)"
   ]
  },
  {
   "cell_type": "markdown",
   "id": "e5332cba-ef28-464f-94cf-6a855f4237cd",
   "metadata": {},
   "source": [
    ". There are some objects which are iterable, which means we can traverse over them and they will return their member value one by one.\n",
    "\n",
    "Examples of iterable objects are: List, Tuple, Dictionary\n",
    "The iterator object is initialized using the iter() method. It uses the next() method for iteration."
   ]
  },
  {
   "cell_type": "code",
   "execution_count": 1,
   "id": "e2a7e01b-581f-4c35-9bc9-d341938cb9b0",
   "metadata": {},
   "outputs": [],
   "source": [
    "my_list=[2,4,6,8,10,12,14,16,18,20]"
   ]
  },
  {
   "cell_type": "code",
   "execution_count": 2,
   "id": "675655af-4d5b-4600-9f79-32459c7b1e1d",
   "metadata": {},
   "outputs": [
    {
     "name": "stdout",
     "output_type": "stream",
     "text": [
      "2\n",
      "4\n",
      "6\n",
      "8\n",
      "10\n"
     ]
    }
   ],
   "source": [
    "my_iter=iter(my_list)\n",
    "for i in range(5):\n",
    "    print(next(my_iter))"
   ]
  },
  {
   "cell_type": "markdown",
   "id": "834790f9-b845-465d-8f2f-1d9dd211f04a",
   "metadata": {},
   "source": [
    "### Ans4)"
   ]
  },
  {
   "cell_type": "markdown",
   "id": "52232601-a866-4048-8454-30bd633bb303",
   "metadata": {},
   "source": [
    "A Generater function in python is a special type of function that returns an iterator object which can be use to genrate a squence of values.\n",
    "Generater fuction use yield keyword to return a value, but do not terminate. Instead, the generator function can be called multiple times, and each time it will resume execution from where it left off, returning the next value in the sequence."
   ]
  },
  {
   "cell_type": "code",
   "execution_count": 3,
   "id": "58e9002a-845e-4b23-b63f-39989a7e1ed9",
   "metadata": {},
   "outputs": [],
   "source": [
    "def test_fib(n):\n",
    "    for i in range(n):\n",
    "        yield i**2"
   ]
  },
  {
   "cell_type": "code",
   "execution_count": 4,
   "id": "8ba97a6a-f2a3-4b63-9111-083df8eeac15",
   "metadata": {},
   "outputs": [
    {
     "name": "stdout",
     "output_type": "stream",
     "text": [
      "0\n",
      "1\n",
      "4\n",
      "9\n",
      "16\n",
      "25\n",
      "36\n",
      "49\n",
      "64\n",
      "81\n"
     ]
    }
   ],
   "source": [
    "for i in test_fib(10):\n",
    "    print(i)"
   ]
  },
  {
   "cell_type": "markdown",
   "id": "2798c064-014a-46f6-83db-1636521d51a8",
   "metadata": {},
   "source": [
    "### Ans5)"
   ]
  },
  {
   "cell_type": "code",
   "execution_count": 5,
   "id": "aba80240-fcde-4c18-946e-1cb282f4599f",
   "metadata": {},
   "outputs": [],
   "source": [
    "def primes():\n",
    "    yield 2\n",
    "    prime_list = [2]\n",
    "    i = 3\n",
    "    while i < 1000:\n",
    "        is_prime = True\n",
    "        for prime in prime_list:\n",
    "            if i % prime == 0:\n",
    "                is_prime = False\n",
    "                break\n",
    "        if is_prime:\n",
    "            prime_list.append(i)\n",
    "            yield i\n",
    "        i += 2\n"
   ]
  },
  {
   "cell_type": "code",
   "execution_count": 6,
   "id": "797ef62a-09dc-406b-aa75-4c66fdaec64c",
   "metadata": {},
   "outputs": [
    {
     "name": "stdout",
     "output_type": "stream",
     "text": [
      "2\n",
      "3\n",
      "5\n",
      "7\n",
      "11\n",
      "13\n",
      "17\n",
      "19\n",
      "23\n",
      "29\n",
      "31\n",
      "37\n",
      "41\n",
      "43\n",
      "47\n",
      "53\n",
      "59\n",
      "61\n",
      "67\n",
      "71\n"
     ]
    }
   ],
   "source": [
    "prime_gen = primes()\n",
    "for i in range(20):\n",
    "    print(next(prime_gen))\n"
   ]
  },
  {
   "cell_type": "code",
   "execution_count": null,
   "id": "ef6c362a-e8da-4ca6-bd8e-ae50f6f7c049",
   "metadata": {},
   "outputs": [],
   "source": []
  }
 ],
 "metadata": {
  "kernelspec": {
   "display_name": "Python 3 (ipykernel)",
   "language": "python",
   "name": "python3"
  },
  "language_info": {
   "codemirror_mode": {
    "name": "ipython",
    "version": 3
   },
   "file_extension": ".py",
   "mimetype": "text/x-python",
   "name": "python",
   "nbconvert_exporter": "python",
   "pygments_lexer": "ipython3",
   "version": "3.10.8"
  }
 },
 "nbformat": 4,
 "nbformat_minor": 5
}
