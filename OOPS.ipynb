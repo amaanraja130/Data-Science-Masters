{
 "cells": [
  {
   "cell_type": "markdown",
   "id": "a5929d72-ab28-455a-988b-f98c75f7c07e",
   "metadata": {},
   "source": [
    "### Oops stands for Object-Oriented Programming System"
   ]
  },
  {
   "cell_type": "code",
   "execution_count": 1,
   "id": "ed596bbb-1462-4382-8864-3d0b50949b9d",
   "metadata": {},
   "outputs": [],
   "source": [
    "a =1"
   ]
  },
  {
   "cell_type": "code",
   "execution_count": 3,
   "id": "86c80da9-3715-47f7-a02e-e09b67daa182",
   "metadata": {},
   "outputs": [
    {
     "name": "stdout",
     "output_type": "stream",
     "text": [
      "<class 'int'>\n"
     ]
    }
   ],
   "source": [
    "print(type(a))"
   ]
  },
  {
   "cell_type": "code",
   "execution_count": 4,
   "id": "c560aeb0-ba92-4ec5-962d-e6085b47b69e",
   "metadata": {},
   "outputs": [
    {
     "name": "stdout",
     "output_type": "stream",
     "text": [
      "<class 'str'>\n"
     ]
    }
   ],
   "source": [
    "print(type(\"pwskills\"))"
   ]
  },
  {
   "cell_type": "code",
   "execution_count": 6,
   "id": "7e84c997-c459-4558-a35c-6a60e572adbe",
   "metadata": {},
   "outputs": [],
   "source": [
    "class test:\n",
    "    pass\n",
    "    "
   ]
  },
  {
   "cell_type": "code",
   "execution_count": 7,
   "id": "a19cab7a-f28d-4dd2-8150-ef3de012886d",
   "metadata": {},
   "outputs": [],
   "source": [
    "a= test()"
   ]
  },
  {
   "cell_type": "code",
   "execution_count": 8,
   "id": "a8f768d4-76cc-4d91-9247-8cbca7af0cf3",
   "metadata": {},
   "outputs": [
    {
     "name": "stdout",
     "output_type": "stream",
     "text": [
      "<class '__main__.test'>\n"
     ]
    }
   ],
   "source": [
    "print(type(a))"
   ]
  },
  {
   "cell_type": "code",
   "execution_count": 12,
   "id": "e690644e-13a3-43bc-b3e5-ba8676fd3b18",
   "metadata": {},
   "outputs": [],
   "source": [
    "class pwskills:\n",
    "    def welcome_msg(self):\n",
    "        print(\"welcome to pwskills\")"
   ]
  },
  {
   "cell_type": "code",
   "execution_count": 13,
   "id": "eada75a5-ac87-4a2a-9bbd-b1a7ea85766a",
   "metadata": {},
   "outputs": [],
   "source": [
    "rohan = pwskills()"
   ]
  },
  {
   "cell_type": "code",
   "execution_count": 14,
   "id": "851579ca-af55-46e8-ae7e-6f65ca45be32",
   "metadata": {},
   "outputs": [
    {
     "name": "stdout",
     "output_type": "stream",
     "text": [
      "welcome to pwskills\n"
     ]
    }
   ],
   "source": [
    "rohan.welcome_msg()"
   ]
  },
  {
   "cell_type": "code",
   "execution_count": 15,
   "id": "2a1635d3-68b4-49c9-8099-720091c541f7",
   "metadata": {},
   "outputs": [],
   "source": [
    "sohan= pwskills()"
   ]
  },
  {
   "cell_type": "code",
   "execution_count": 16,
   "id": "dc9bc75e-d8e1-485a-96ff-adf8efca3b66",
   "metadata": {},
   "outputs": [
    {
     "name": "stdout",
     "output_type": "stream",
     "text": [
      "welcome to pwskills\n"
     ]
    }
   ],
   "source": [
    "sohan.welcome_msg()"
   ]
  },
  {
   "cell_type": "code",
   "execution_count": 17,
   "id": "4a1d3ab4-ef6c-4b85-9501-53df764641cb",
   "metadata": {},
   "outputs": [],
   "source": [
    "a= 1"
   ]
  },
  {
   "cell_type": "code",
   "execution_count": 18,
   "id": "b6ab46d4-77ed-4034-89c6-8ecca3aa2b34",
   "metadata": {},
   "outputs": [],
   "source": [
    "b = 2"
   ]
  },
  {
   "cell_type": "code",
   "execution_count": 19,
   "id": "9b9ee9f3-05ae-481e-9c50-e8f53feda6d9",
   "metadata": {},
   "outputs": [
    {
     "data": {
      "text/plain": [
       "1"
      ]
     },
     "execution_count": 19,
     "metadata": {},
     "output_type": "execute_result"
    }
   ],
   "source": [
    "a"
   ]
  },
  {
   "cell_type": "code",
   "execution_count": 20,
   "id": "85c46b57-e825-4666-81e7-5364c5e1f7a6",
   "metadata": {},
   "outputs": [
    {
     "data": {
      "text/plain": [
       "2"
      ]
     },
     "execution_count": 20,
     "metadata": {},
     "output_type": "execute_result"
    }
   ],
   "source": [
    "b"
   ]
  },
  {
   "cell_type": "code",
   "execution_count": 33,
   "id": "514820c0-e015-4209-8c46-84e14f114385",
   "metadata": {},
   "outputs": [],
   "source": [
    "class pwskillsl:\n",
    "    def __init__(self,phone_number,email_id,student_id):\n",
    "        self.phone_number= phone_number\n",
    "        self.email_id= email_id\n",
    "        self.student_id= student_id\n",
    "        \n",
    "    def return_student_details(self):\n",
    "        return self.phone_number, self.email_id, self.student_id\n",
    "        \n",
    "        "
   ]
  },
  {
   "cell_type": "code",
   "execution_count": 43,
   "id": "29b55fb0-0d74-4cb6-90d8-ecc62e83dd18",
   "metadata": {},
   "outputs": [],
   "source": [
    "sohan = pwskillsl(92345,\"sogan@gmail.com\",102)"
   ]
  },
  {
   "cell_type": "code",
   "execution_count": 44,
   "id": "f816cf0e-a889-4de7-adfe-f18c4ca3418c",
   "metadata": {},
   "outputs": [
    {
     "data": {
      "text/plain": [
       "92345"
      ]
     },
     "execution_count": 44,
     "metadata": {},
     "output_type": "execute_result"
    }
   ],
   "source": [
    "sohan.phone_number"
   ]
  },
  {
   "cell_type": "code",
   "execution_count": null,
   "id": "3fca6ff1-e25e-4cb0-b601-0b00245db2f1",
   "metadata": {},
   "outputs": [],
   "source": [
    "sohan.return_student_details"
   ]
  },
  {
   "cell_type": "code",
   "execution_count": null,
   "id": "7ac4f5fc-2861-4336-9671-41bc7a5fdfeb",
   "metadata": {},
   "outputs": [],
   "source": []
  },
  {
   "cell_type": "code",
   "execution_count": null,
   "id": "7f17466f-3e83-429f-affa-231fd7e17976",
   "metadata": {},
   "outputs": [],
   "source": []
  },
  {
   "cell_type": "code",
   "execution_count": 38,
   "id": "1331f985-6222-4d46-934c-16ab87c00a7a",
   "metadata": {},
   "outputs": [],
   "source": [
    "rohan = pwskillsl(94774,\"amaan.raja30@temp.com\",101)"
   ]
  },
  {
   "cell_type": "code",
   "execution_count": 36,
   "id": "54173560-a764-4d44-bd3b-3cfd32cac532",
   "metadata": {},
   "outputs": [
    {
     "data": {
      "text/plain": [
       "94774"
      ]
     },
     "execution_count": 36,
     "metadata": {},
     "output_type": "execute_result"
    }
   ],
   "source": [
    "rohan.phone_number"
   ]
  },
  {
   "cell_type": "code",
   "execution_count": 39,
   "id": "90ad62f6-b7ee-45d5-a0c0-4f2b2790d230",
   "metadata": {},
   "outputs": [
    {
     "data": {
      "text/plain": [
       "'amaan.raja30@temp.com'"
      ]
     },
     "execution_count": 39,
     "metadata": {},
     "output_type": "execute_result"
    }
   ],
   "source": [
    "rohan.email_id"
   ]
  },
  {
   "cell_type": "code",
   "execution_count": 40,
   "id": "19b9cd3a-0478-4393-afae-02a1b5f871cb",
   "metadata": {},
   "outputs": [
    {
     "data": {
      "text/plain": [
       "101"
      ]
     },
     "execution_count": 40,
     "metadata": {},
     "output_type": "execute_result"
    }
   ],
   "source": [
    "rohan.student_id"
   ]
  },
  {
   "cell_type": "code",
   "execution_count": 42,
   "id": "94148b33-b4ef-468e-b401-36dd5c4250ba",
   "metadata": {},
   "outputs": [
    {
     "data": {
      "text/plain": [
       "(94774, 'amaan.raja30@temp.com', 101)"
      ]
     },
     "execution_count": 42,
     "metadata": {},
     "output_type": "execute_result"
    }
   ],
   "source": [
    "rohan.return_student_details()"
   ]
  },
  {
   "cell_type": "code",
   "execution_count": 2,
   "id": "77ae2032-a834-41b3-9c2e-72e7da56860d",
   "metadata": {},
   "outputs": [],
   "source": [
    "class pwskills2:\n",
    "    def __init__(sudh,phone_number,email_id,student_id):\n",
    "        sudh.phone_number= phone_number\n",
    "        sudh.email_id= email_id\n",
    "        sudh.student_id= student_id\n",
    "        \n",
    "    def return_student_details(sudh):\n",
    "        return sudh.phone_number, sudh.email_id, sudh.student_id\n",
    "        \n",
    "        "
   ]
  },
  {
   "cell_type": "code",
   "execution_count": 3,
   "id": "8b17ffb5-dd6b-4446-9ae5-cb2a2795f8d8",
   "metadata": {},
   "outputs": [],
   "source": [
    "mohan = pwskills2(3141555,\"Mohan@gmail.com\",102)"
   ]
  },
  {
   "cell_type": "code",
   "execution_count": 4,
   "id": "e4e40d87-0784-4334-990d-5a517a2ddfdc",
   "metadata": {},
   "outputs": [
    {
     "data": {
      "text/plain": [
       "3141555"
      ]
     },
     "execution_count": 4,
     "metadata": {},
     "output_type": "execute_result"
    }
   ],
   "source": [
    "mohan.phone_number"
   ]
  },
  {
   "cell_type": "code",
   "execution_count": 5,
   "id": "0bd5e0c3-c434-4fb8-ab97-bb6ca8f96beb",
   "metadata": {},
   "outputs": [
    {
     "data": {
      "text/plain": [
       "(3141555, 'Mohan@gmail.com', 102)"
      ]
     },
     "execution_count": 5,
     "metadata": {},
     "output_type": "execute_result"
    }
   ],
   "source": [
    "mohan.return_student_details()"
   ]
  },
  {
   "cell_type": "code",
   "execution_count": 15,
   "id": "254c1d61-5424-448b-902f-5272fd16ff34",
   "metadata": {},
   "outputs": [],
   "source": [
    "class pwskills3:\n",
    "    def __init__(amaan,phone_number,email_id,student_id):\n",
    "        amaan.phone_number1= phone_number\n",
    "        amaan.email_id= email_id\n",
    "        amaan.student_id= student_id\n",
    "        \n",
    "    def return_student_details(sudh):\n",
    "        return sudh.phone_number1, sudh.email_id, sudh.student_id\n",
    "        \n",
    "        "
   ]
  },
  {
   "cell_type": "code",
   "execution_count": 16,
   "id": "78472c04-bbcf-4836-bdc2-f8120da2488b",
   "metadata": {},
   "outputs": [],
   "source": [
    "rohan = pwskills3(345552,\"rohan@gmail.com\",105)"
   ]
  },
  {
   "cell_type": "code",
   "execution_count": 17,
   "id": "07568629-ae36-419c-99b3-4456f5872c5f",
   "metadata": {},
   "outputs": [
    {
     "data": {
      "text/plain": [
       "345552"
      ]
     },
     "execution_count": 17,
     "metadata": {},
     "output_type": "execute_result"
    }
   ],
   "source": [
    "rohan.phone_number1"
   ]
  },
  {
   "cell_type": "code",
   "execution_count": 18,
   "id": "9a6d26e3-d8b8-4a4c-8f11-3961f6e5ea59",
   "metadata": {},
   "outputs": [
    {
     "data": {
      "text/plain": [
       "(345552, 'rohan@gmail.com', 105)"
      ]
     },
     "execution_count": 18,
     "metadata": {},
     "output_type": "execute_result"
    }
   ],
   "source": [
    "rohan.return_student_details()"
   ]
  },
  {
   "cell_type": "code",
   "execution_count": null,
   "id": "ff74a561-4a59-45a9-aeb4-e9f30ebfedea",
   "metadata": {},
   "outputs": [],
   "source": []
  }
 ],
 "metadata": {
  "kernelspec": {
   "display_name": "Python 3 (ipykernel)",
   "language": "python",
   "name": "python3"
  },
  "language_info": {
   "codemirror_mode": {
    "name": "ipython",
    "version": 3
   },
   "file_extension": ".py",
   "mimetype": "text/x-python",
   "name": "python",
   "nbconvert_exporter": "python",
   "pygments_lexer": "ipython3",
   "version": "3.10.8"
  }
 },
 "nbformat": 4,
 "nbformat_minor": 5
}
