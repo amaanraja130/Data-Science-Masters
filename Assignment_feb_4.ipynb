{
 "cells": [
  {
   "cell_type": "markdown",
   "id": "18469a4e-dad7-4cdc-99d7-8bdd09818b0d",
   "metadata": {},
   "source": [
    "# Assignment"
   ]
  },
  {
   "cell_type": "markdown",
   "id": "f64dea46-da69-46d7-9357-4a181abf410d",
   "metadata": {},
   "source": [
    "### Ans 1)"
   ]
  },
  {
   "cell_type": "code",
   "execution_count": 13,
   "id": "15838967-87d0-4e03-be02-eb765c5b4eff",
   "metadata": {},
   "outputs": [],
   "source": [
    "l=([('Sachin Tendulkar', 34357), ('Ricky Ponting', 27483), ('Jack Kallis', 25534), ('Virat Kohli', 24936)])"
   ]
  },
  {
   "cell_type": "code",
   "execution_count": 14,
   "id": "a468e0c2-6a7b-4ec3-ae6a-0dad15255903",
   "metadata": {},
   "outputs": [],
   "source": [
    "l.sort( key=lambda x : x[1] ) "
   ]
  },
  {
   "cell_type": "code",
   "execution_count": 15,
   "id": "24e75a67-ad5d-4ac1-b84d-c7c988e6bec6",
   "metadata": {},
   "outputs": [
    {
     "data": {
      "text/plain": [
       "[('Virat Kohli', 24936),\n",
       " ('Jack Kallis', 25534),\n",
       " ('Ricky Ponting', 27483),\n",
       " ('Sachin Tendulkar', 34357)]"
      ]
     },
     "execution_count": 15,
     "metadata": {},
     "output_type": "execute_result"
    }
   ],
   "source": [
    "l"
   ]
  },
  {
   "cell_type": "markdown",
   "id": "e8f56366-0c5e-4810-a428-08c8bcd32a6c",
   "metadata": {},
   "source": [
    "### Ans 2)"
   ]
  },
  {
   "cell_type": "code",
   "execution_count": 1,
   "id": "e39cb44e-e86a-42f4-b62e-bd662eaf2f62",
   "metadata": {},
   "outputs": [],
   "source": [
    "l = [1, 2, 3, 4, 5, 6, 7, 8, 9, 10]"
   ]
  },
  {
   "cell_type": "code",
   "execution_count": 5,
   "id": "de00ce7d-c3bd-4516-85d6-81ae98a0e56c",
   "metadata": {},
   "outputs": [
    {
     "data": {
      "text/plain": [
       "[1, 4, 9, 16, 25, 36, 49, 64, 81, 100]"
      ]
     },
     "execution_count": 5,
     "metadata": {},
     "output_type": "execute_result"
    }
   ],
   "source": [
    "list(map(lambda x:x**2,l))"
   ]
  },
  {
   "cell_type": "markdown",
   "id": "1cd931ec-4b08-49b4-85d4-6b93d29f2890",
   "metadata": {},
   "source": [
    "### Ans 3)"
   ]
  },
  {
   "cell_type": "code",
   "execution_count": 6,
   "id": "0524d183-1bc9-4a84-86dc-4e0f3cd863ed",
   "metadata": {},
   "outputs": [],
   "source": [
    "l1 =[1, 2, 3, 4, 5, 6, 7, 8, 9, 10]"
   ]
  },
  {
   "cell_type": "code",
   "execution_count": 7,
   "id": "e1dc1e76-f2f9-4046-9730-657eebf56bef",
   "metadata": {},
   "outputs": [
    {
     "data": {
      "text/plain": [
       "['1', '2', '3', '4', '5', '6', '7', '8', '9', '10']"
      ]
     },
     "execution_count": 7,
     "metadata": {},
     "output_type": "execute_result"
    }
   ],
   "source": [
    "list(map(lambda x:str(x),l1))"
   ]
  },
  {
   "cell_type": "markdown",
   "id": "624678ff-2b52-4874-9ecc-eb4645848e32",
   "metadata": {},
   "source": [
    "### Ans4)"
   ]
  },
  {
   "cell_type": "code",
   "execution_count": 19,
   "id": "84eb1dca-e868-472b-9a24-b2fc06250c52",
   "metadata": {},
   "outputs": [],
   "source": [
    "l3=range (1,25)"
   ]
  },
  {
   "cell_type": "code",
   "execution_count": 16,
   "id": "6eef4dee-6253-4116-a0b7-3ce8bed69cbe",
   "metadata": {},
   "outputs": [],
   "source": [
    "from functools import reduce"
   ]
  },
  {
   "cell_type": "code",
   "execution_count": 21,
   "id": "803ae467-f879-4d47-be03-8b3e3e679057",
   "metadata": {},
   "outputs": [],
   "source": [
    "product= reduce (lambda x,y:x*y,l3)"
   ]
  },
  {
   "cell_type": "code",
   "execution_count": 22,
   "id": "778c80a7-f4d7-4230-96a0-e53f8ae60166",
   "metadata": {},
   "outputs": [
    {
     "name": "stdout",
     "output_type": "stream",
     "text": [
      "620448401733239439360000\n"
     ]
    }
   ],
   "source": [
    "print(product)"
   ]
  },
  {
   "cell_type": "markdown",
   "id": "91803f06-c948-44d9-904c-9eda2970484c",
   "metadata": {},
   "source": [
    "### Ans 5)"
   ]
  },
  {
   "cell_type": "code",
   "execution_count": 23,
   "id": "3548f701-dcb0-4a7c-8cf3-1ca6ee2ca410",
   "metadata": {},
   "outputs": [],
   "source": [
    "l4=[2, 3, 6, 9, 27, 60, 90, 120, 55, 46]"
   ]
  },
  {
   "cell_type": "code",
   "execution_count": 24,
   "id": "3eb99a0e-b849-4c7f-822f-95cb7b1d5379",
   "metadata": {},
   "outputs": [
    {
     "data": {
      "text/plain": [
       "[6, 60, 90, 120]"
      ]
     },
     "execution_count": 24,
     "metadata": {},
     "output_type": "execute_result"
    }
   ],
   "source": [
    "list(filter(lambda x: x%2==0 and x%3==0,l4))"
   ]
  },
  {
   "cell_type": "markdown",
   "id": "ca90e38a-f90b-4c1a-a489-f7bd4f51f069",
   "metadata": {},
   "source": [
    "### Ans 6)"
   ]
  },
  {
   "cell_type": "code",
   "execution_count": 2,
   "id": "5e0a3911-3a70-404e-bec6-4e15495eab8a",
   "metadata": {},
   "outputs": [],
   "source": [
    "l5 =['python', 'php', 'aba', 'radar', 'level']"
   ]
  },
  {
   "cell_type": "code",
   "execution_count": 10,
   "id": "6813540c-4b1d-411f-ad89-6174401e8b5b",
   "metadata": {},
   "outputs": [
    {
     "data": {
      "text/plain": [
       "['php', 'aba', 'radar', 'level']"
      ]
     },
     "execution_count": 10,
     "metadata": {},
     "output_type": "execute_result"
    }
   ],
   "source": [
    "list(filter(lambda x: x == x[::-1],l5))"
   ]
  },
  {
   "cell_type": "code",
   "execution_count": null,
   "id": "485ccce9-3a4a-411b-ae80-ee66f550a874",
   "metadata": {},
   "outputs": [],
   "source": []
  }
 ],
 "metadata": {
  "kernelspec": {
   "display_name": "Python 3 (ipykernel)",
   "language": "python",
   "name": "python3"
  },
  "language_info": {
   "codemirror_mode": {
    "name": "ipython",
    "version": 3
   },
   "file_extension": ".py",
   "mimetype": "text/x-python",
   "name": "python",
   "nbconvert_exporter": "python",
   "pygments_lexer": "ipython3",
   "version": "3.10.8"
  }
 },
 "nbformat": 4,
 "nbformat_minor": 5
}
