{
 "cells": [
  {
   "cell_type": "code",
   "execution_count": 2,
   "id": "6b2df46c-da4d-48ab-96e9-7e1338bc1f54",
   "metadata": {},
   "outputs": [],
   "source": [
    "import threading"
   ]
  },
  {
   "cell_type": "code",
   "execution_count": 17,
   "id": "f788f942-312d-4b78-b91b-51792507eb9f",
   "metadata": {},
   "outputs": [],
   "source": [
    "def test(id):\n",
    "    print(\"this is my test %d\"%id)"
   ]
  },
  {
   "cell_type": "code",
   "execution_count": 18,
   "id": "446afffa-2a1d-4dcd-8778-81b5b2423b6a",
   "metadata": {},
   "outputs": [
    {
     "name": "stdout",
     "output_type": "stream",
     "text": [
      "this is my test 10\n"
     ]
    }
   ],
   "source": [
    "test(10)"
   ]
  },
  {
   "cell_type": "code",
   "execution_count": 19,
   "id": "527979b6-a91d-4007-8aea-ca61f31efc66",
   "metadata": {},
   "outputs": [
    {
     "name": "stdout",
     "output_type": "stream",
     "text": [
      "this is my test 1\n"
     ]
    }
   ],
   "source": [
    "test(1)"
   ]
  },
  {
   "cell_type": "code",
   "execution_count": 20,
   "id": "c8dc5453-6135-4743-9d3b-43ed3570aad3",
   "metadata": {},
   "outputs": [
    {
     "name": "stdout",
     "output_type": "stream",
     "text": [
      "this is my test 3\n"
     ]
    }
   ],
   "source": [
    "test(3)"
   ]
  },
  {
   "cell_type": "code",
   "execution_count": 21,
   "id": "6b9f3c48-0d13-4ff7-8252-dd98ef55c92d",
   "metadata": {},
   "outputs": [],
   "source": [
    "thread =[threading.Thread(target=test, args=(i, ))for i in [10, 1, 3]]"
   ]
  },
  {
   "cell_type": "code",
   "execution_count": 22,
   "id": "bf55956a-976c-4cab-b134-b17bf152426e",
   "metadata": {},
   "outputs": [
    {
     "data": {
      "text/plain": [
       "[<Thread(Thread-8 (test), initial)>,\n",
       " <Thread(Thread-9 (test), initial)>,\n",
       " <Thread(Thread-10 (test), initial)>]"
      ]
     },
     "execution_count": 22,
     "metadata": {},
     "output_type": "execute_result"
    }
   ],
   "source": [
    "thread"
   ]
  },
  {
   "cell_type": "code",
   "execution_count": 23,
   "id": "2de0c5b5-936f-44f6-ba2a-03d70e5a584b",
   "metadata": {},
   "outputs": [
    {
     "name": "stdout",
     "output_type": "stream",
     "text": [
      "this is my test 10\n",
      "this is my test 1\n",
      "this is my test 3\n"
     ]
    }
   ],
   "source": [
    "for t in thread:\n",
    "    t.start()"
   ]
  },
  {
   "cell_type": "code",
   "execution_count": 3,
   "id": "8cfa809c-ec89-4f39-b1dd-7c7f7ea8524b",
   "metadata": {},
   "outputs": [],
   "source": [
    "import urllib.request\n",
    "\n",
    "def file_download(url, filename):\n",
    "    urllib.request.urlretrieve(url,filename)"
   ]
  },
  {
   "cell_type": "code",
   "execution_count": 25,
   "id": "7f13eee1-1efa-4c49-a25a-71ef3ae97b04",
   "metadata": {},
   "outputs": [],
   "source": [
    "file_download('https://github.com/itsfoss/text-files/blob/master/agatha.txt' , \"text.txt\")"
   ]
  },
  {
   "cell_type": "code",
   "execution_count": 26,
   "id": "7d6e9dc9-991b-4dd8-a79e-5d259edacbe4",
   "metadata": {},
   "outputs": [],
   "source": [
    "url_list = [\"https://github.com/itsfoss/text-files/blob/f4bea394f854e5320a6f5098ccfdaf4770bbd02e/agatha.txt\",\"https://github.com/petabridge/akka-bootcamp/blob/4225dec4182359070a2de5f96a434c9b5d123824/src/Unit-1/lesson4/DoThis/sample_log_file.txt\",\"https://github.com/itsfoss/text-files/blob/f4bea394f854e5320a6f5098ccfdaf4770bbd02e/sherlock.txt\"]"
   ]
  },
  {
   "cell_type": "code",
   "execution_count": 27,
   "id": "20fa019a-4629-4f2d-9746-85ff73e20d7e",
   "metadata": {},
   "outputs": [
    {
     "data": {
      "text/plain": [
       "['https://github.com/itsfoss/text-files/blob/f4bea394f854e5320a6f5098ccfdaf4770bbd02e/agatha.txt',\n",
       " 'https://github.com/petabridge/akka-bootcamp/blob/4225dec4182359070a2de5f96a434c9b5d123824/src/Unit-1/lesson4/DoThis/sample_log_file.txt',\n",
       " 'https://github.com/itsfoss/text-files/blob/f4bea394f854e5320a6f5098ccfdaf4770bbd02e/sherlock.txt']"
      ]
     },
     "execution_count": 27,
     "metadata": {},
     "output_type": "execute_result"
    }
   ],
   "source": [
    "url_list"
   ]
  },
  {
   "cell_type": "code",
   "execution_count": 28,
   "id": "4f0a8709-b9ea-4e6f-abe7-073639cbb886",
   "metadata": {},
   "outputs": [],
   "source": [
    "data_file_list= [\"data1.txt\",\"data2.txt\",\"data3.txt\"]"
   ]
  },
  {
   "cell_type": "code",
   "execution_count": 29,
   "id": "0e17c3ef-7199-47e4-9623-fd22ea186794",
   "metadata": {},
   "outputs": [
    {
     "data": {
      "text/plain": [
       "['data1.txt', 'data2.txt', 'data3.txt']"
      ]
     },
     "execution_count": 29,
     "metadata": {},
     "output_type": "execute_result"
    }
   ],
   "source": [
    "data_file_list"
   ]
  },
  {
   "cell_type": "code",
   "execution_count": 33,
   "id": "93ba97a8-819a-447f-b7c0-cc17394f629b",
   "metadata": {},
   "outputs": [],
   "source": [
    "thread1= [threading.Thread(target=file_download , args=(url_list[i],data_file_list[i]))for i in range (len(url_list))]"
   ]
  },
  {
   "cell_type": "code",
   "execution_count": 41,
   "id": "78c15023-0923-46d9-ac0c-05a5a9c6e7df",
   "metadata": {},
   "outputs": [],
   "source": [
    "for t in thread1:\n",
    "    t.start()"
   ]
  },
  {
   "cell_type": "code",
   "execution_count": 42,
   "id": "8fa3705b-31d7-4b61-8fd6-eb02f03d336a",
   "metadata": {},
   "outputs": [
    {
     "data": {
      "text/plain": [
       "[<Thread(Thread-14 (file_download), stopped 140338928809536)>,\n",
       " <Thread(Thread-15 (file_download), stopped 140338920416832)>,\n",
       " <Thread(Thread-16 (file_download), stopped 140338912024128)>]"
      ]
     },
     "execution_count": 42,
     "metadata": {},
     "output_type": "execute_result"
    }
   ],
   "source": [
    "thread1"
   ]
  },
  {
   "cell_type": "code",
   "execution_count": null,
   "id": "bfa110f4-cf9f-47ea-b40f-d6571bfec27c",
   "metadata": {},
   "outputs": [],
   "source": [
    "import time"
   ]
  },
  {
   "cell_type": "code",
   "execution_count": 9,
   "id": "9bab8242-050a-4c50-ad3c-83b03a01ec2e",
   "metadata": {},
   "outputs": [],
   "source": [
    "def test2(x):\n",
    "    for i in range(10):\n",
    "        print(\" test1 print the value of x %d and print the value of i %d\" %(x,i))\n",
    "        time.sleep(1)"
   ]
  },
  {
   "cell_type": "code",
   "execution_count": 10,
   "id": "6d918386-b3ea-482b-b605-3e7a37c89d9d",
   "metadata": {},
   "outputs": [],
   "source": [
    "thread2 = [threading.Thread(target=test2, args=(i, ))for i in [100,10,20,5]]"
   ]
  },
  {
   "cell_type": "code",
   "execution_count": 11,
   "id": "5520aa2f-4ea4-49c8-8d68-15d104854d8b",
   "metadata": {},
   "outputs": [
    {
     "name": "stdout",
     "output_type": "stream",
     "text": [
      " test1 print the value of x 100 and print the value of i 0\n",
      " test1 print the value of x 10 and print the value of i 0\n",
      " test1 print the value of x 20 and print the value of i 0\n",
      " test1 print the value of x 5 and print the value of i 0\n",
      " test1 print the value of x 100 and print the value of i 1 test1 print the value of x 10 and print the value of i 1\n",
      "\n",
      " test1 print the value of x 20 and print the value of i 1\n",
      " test1 print the value of x 5 and print the value of i 1\n",
      " test1 print the value of x 10 and print the value of i 2\n",
      " test1 print the value of x 5 and print the value of i 2\n",
      " test1 print the value of x 20 and print the value of i 2\n",
      " test1 print the value of x 100 and print the value of i 2\n",
      " test1 print the value of x 10 and print the value of i 3\n",
      " test1 print the value of x 5 and print the value of i 3\n",
      " test1 print the value of x 100 and print the value of i 3\n",
      " test1 print the value of x 20 and print the value of i 3\n",
      " test1 print the value of x 10 and print the value of i 4\n",
      " test1 print the value of x 5 and print the value of i 4\n",
      " test1 print the value of x 100 and print the value of i 4\n",
      " test1 print the value of x 20 and print the value of i 4\n",
      " test1 print the value of x 10 and print the value of i 5\n",
      " test1 print the value of x 5 and print the value of i 5\n",
      " test1 print the value of x 100 and print the value of i 5\n",
      " test1 print the value of x 20 and print the value of i 5\n",
      " test1 print the value of x 10 and print the value of i 6\n",
      " test1 print the value of x 5 and print the value of i 6\n",
      " test1 print the value of x 100 and print the value of i 6\n",
      " test1 print the value of x 20 and print the value of i 6\n",
      " test1 print the value of x 5 and print the value of i 7\n",
      " test1 print the value of x 10 and print the value of i 7\n",
      " test1 print the value of x 100 and print the value of i 7\n",
      " test1 print the value of x 20 and print the value of i 7\n",
      " test1 print the value of x 10 and print the value of i 8 test1 print the value of x 20 and print the value of i 8\n",
      "\n",
      " test1 print the value of x 5 and print the value of i 8\n",
      " test1 print the value of x 100 and print the value of i 8\n",
      " test1 print the value of x 20 and print the value of i 9 test1 print the value of x 5 and print the value of i 9\n",
      " test1 print the value of x 10 and print the value of i 9\n",
      "\n",
      " test1 print the value of x 100 and print the value of i 9\n"
     ]
    }
   ],
   "source": [
    "for t in thread2:\n",
    "    t.start()"
   ]
  },
  {
   "cell_type": "code",
   "execution_count": 26,
   "id": "52623bf1-ae91-48b2-89e3-796de573ac3e",
   "metadata": {},
   "outputs": [],
   "source": [
    "shared_var = 0\n",
    "lock_var = threading.Lock()\n",
    "def test4(x):\n",
    "    global shared_var\n",
    "    with lock_var:\n",
    "        shared_var = shared_var+1\n",
    "        print(\"Value of x %d and value of shared_var %d \" %(x, shared_var))\n",
    "        time.sleep(1)\n",
    "thread5 = [threading.Thread(target=test4 , args=(i,))for i in [1,2,3,4,5]]"
   ]
  },
  {
   "cell_type": "code",
   "execution_count": 27,
   "id": "0bc46294-125b-438c-a70d-c82242aa5aee",
   "metadata": {},
   "outputs": [
    {
     "name": "stdout",
     "output_type": "stream",
     "text": [
      "Value of x 1 and value of shared_var 1 \n",
      "Value of x 2 and value of shared_var 2 \n",
      "Value of x 3 and value of shared_var 3 \n",
      "Value of x 4 and value of shared_var 4 \n",
      "Value of x 5 and value of shared_var 5 \n"
     ]
    }
   ],
   "source": [
    "for t in thread5:\n",
    "    t.start()"
   ]
  },
  {
   "cell_type": "code",
   "execution_count": 16,
   "id": "369429fe-475a-48d8-bc89-78b378f43bec",
   "metadata": {},
   "outputs": [
    {
     "name": "stdout",
     "output_type": "stream",
     "text": [
      "Value of x 2 and value of shared_var 4 \n"
     ]
    }
   ],
   "source": [
    "test3(2)"
   ]
  },
  {
   "cell_type": "code",
   "execution_count": null,
   "id": "41436bf4-a550-4e05-ab7b-8f8b514ac11f",
   "metadata": {},
   "outputs": [],
   "source": []
  }
 ],
 "metadata": {
  "kernelspec": {
   "display_name": "Python 3 (ipykernel)",
   "language": "python",
   "name": "python3"
  },
  "language_info": {
   "codemirror_mode": {
    "name": "ipython",
    "version": 3
   },
   "file_extension": ".py",
   "mimetype": "text/x-python",
   "name": "python",
   "nbconvert_exporter": "python",
   "pygments_lexer": "ipython3",
   "version": "3.10.8"
  }
 },
 "nbformat": 4,
 "nbformat_minor": 5
}
