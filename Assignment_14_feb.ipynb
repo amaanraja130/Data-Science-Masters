{
 "cells": [
  {
   "cell_type": "markdown",
   "id": "29ded32d-3627-49f9-9458-745a84dd3998",
   "metadata": {
    "tags": []
   },
   "source": [
    "# Assignment"
   ]
  },
  {
   "cell_type": "markdown",
   "id": "5abc0727-9cd9-4103-93b7-a8366522a57d",
   "metadata": {},
   "source": [
    "### Ans1)"
   ]
  },
  {
   "cell_type": "markdown",
   "id": "d5837f2e-3569-43eb-b9eb-de3815141768",
   "metadata": {},
   "source": [
    "Multithreading is a programming technique that allows multiple threads of execution to run concurrently within the same program. In Python, a thread is a separate flow of execution within a program.\n",
    "\n",
    "Multithreading is used to improve the performance of a program by allowing it to execute multiple tasks concurrently, instead of sequentially. This is particularly useful in applications that involve I/O operations, such as network programming and file handling, where the program can continue executing other tasks while waiting for I/O operations to complete.\n",
    "\n",
    "In Python, the threading module is used to handle threads. This module provides a simple way to create and manage threads in a Python program. The threading module allows a program to have multiple threads of execution that run concurrently, each performing a different task.\n",
    "\n",
    "To create a new thread, you can define a new function or method, and then use the threading module's Thread class to create a new thread object. The new thread object can then be started using the start() method. Once started, the new thread will execute the code defined in the function or method in parallel with the main thread of execution."
   ]
  },
  {
   "cell_type": "markdown",
   "id": "4354e59c-469b-4189-92ff-116fc3241f44",
   "metadata": {},
   "source": [
    "### Ans2)"
   ]
  },
  {
   "cell_type": "markdown",
   "id": "ef9a3c2d-7ab9-40d5-a3fe-31ab47598466",
   "metadata": {},
   "source": [
    "The threading module in Python is used for creating and managing threads in a program. A thread is a separate sequence of execution that can run concurrently with other threads, allowing for better utilization of resources and faster execution of certain tasks.\n",
    "1) activeCount() - This function returns the number of thread objects that are active in the current process.\n",
    "\n",
    "2) currentThread() - This function returns a reference to the currently executing thread object.\n",
    "\n",
    "3) enumerate() - This function returns a list of all the thread objects that are active in the current process.\n"
   ]
  },
  {
   "cell_type": "markdown",
   "id": "27d90413-03b7-47cd-af49-e66d7f09df5a",
   "metadata": {},
   "source": [
    "### Ans3)"
   ]
  },
  {
   "cell_type": "markdown",
   "id": "76395e9d-0568-4ccd-a5af-079ad7447c4a",
   "metadata": {},
   "source": [
    "1) run() - This function is the entry point for a thread when it begins executing. It is usually overridden by a subclass of the Thread class and contains the code that the thread executes.\n",
    "2) start() - This function starts a new thread of execution and calls the run() method of the thread. It creates a new thread and assigns it a unique thread identification number. Once the thread has been started, it will run concurrently with the other threads in the program. The start() method can only be called once for a thread object, and any subsequent calls to it will raise an error.\n",
    "3) join() - This function blocks the current thread until the thread that it is called on has finished executing. It waits for the thread to complete its work and terminate before allowing the program to continue. The join() method can be called on a thread object to wait for that thread to complete its work before proceeding.\n",
    "4) isAlive() - This function returns a Boolean value indicating whether the thread is currently executing or not. If the thread is currently executing, the function will return True. If the thread has finished executing or has not yet been started, the function will return False. The isAlive() method can be used to check whether a thread is still running before calling the join() method to wait for it to complete."
   ]
  },
  {
   "cell_type": "markdown",
   "id": "9297c9c4-b2ea-4b69-af53-85d67978e81f",
   "metadata": {},
   "source": [
    "### Ans4)"
   ]
  },
  {
   "cell_type": "code",
   "execution_count": 2,
   "id": "ba408826-9f26-4a34-9a4e-056173629f0f",
   "metadata": {},
   "outputs": [],
   "source": [
    "import threading"
   ]
  },
  {
   "cell_type": "code",
   "execution_count": 8,
   "id": "07a1802a-5ef1-4011-bff6-86c589a8b8c1",
   "metadata": {},
   "outputs": [],
   "source": [
    "def power(number):\n",
    "    for i in range(1,11):\n",
    "        print(i**number)"
   ]
  },
  {
   "cell_type": "code",
   "execution_count": 9,
   "id": "0c3aae69-711d-4bec-82b9-3813a6b07811",
   "metadata": {},
   "outputs": [],
   "source": [
    "thread1 = threading.Thread(target=power, args=(2,))"
   ]
  },
  {
   "cell_type": "code",
   "execution_count": 10,
   "id": "96e7ee35-59f2-4019-9924-24c41f9f8bd2",
   "metadata": {},
   "outputs": [],
   "source": [
    "thread2 = threading.Thread(target=power, args=(3,))"
   ]
  },
  {
   "cell_type": "code",
   "execution_count": 11,
   "id": "5e45aabd-378f-46fc-afad-155df0b62a1a",
   "metadata": {},
   "outputs": [
    {
     "name": "stdout",
     "output_type": "stream",
     "text": [
      "1\n",
      "4\n",
      "9\n",
      "16\n",
      "25\n",
      "36\n",
      "49\n",
      "64\n",
      "81\n",
      "100\n"
     ]
    }
   ],
   "source": [
    "thread1.start()"
   ]
  },
  {
   "cell_type": "code",
   "execution_count": 12,
   "id": "5331e45f-17f5-45a6-82f5-59d1dea02170",
   "metadata": {},
   "outputs": [
    {
     "name": "stdout",
     "output_type": "stream",
     "text": [
      "1\n",
      "8\n",
      "27\n",
      "64\n",
      "125\n",
      "216\n",
      "343\n",
      "512\n",
      "729\n",
      "1000\n"
     ]
    }
   ],
   "source": [
    "thread2.start()"
   ]
  },
  {
   "cell_type": "markdown",
   "id": "0626ff52-20ca-46eb-8edb-d182baf00c48",
   "metadata": {},
   "source": [
    "### Ans5)"
   ]
  },
  {
   "cell_type": "markdown",
   "id": "6de2d67a-f005-41c6-ac64-ccf37ac30544",
   "metadata": {},
   "source": [
    "Advantages:\n",
    "\n",
    "1) Improved performance: Multithreading allows for better utilization of resources, such as CPU time and memory. It can improve the performance of a program by allowing it to execute multiple tasks simultaneously.\n",
    "\n",
    "2) Enhanced responsiveness: Multithreading can make a program more responsive by allowing it to continue executing other tasks while waiting for input or output from external devices.\n",
    "\n",
    "3) Simplified programming: Multithreading can simplify programming by allowing different tasks to be implemented as separate threads within a single program. This can reduce the complexity of the code and make it easier to maintain.\n",
    "\n",
    "4) Resource sharing: Multithreading can facilitate resource sharing between threads. For example, multiple threads can share access to a common data structure or file without causing conflicts.\n",
    "\n",
    "Disadvantages:\n",
    "\n",
    "1) Complexity: Multithreading can introduce additional complexity to a program, making it more difficult to debug and maintain. The interaction between threads can be hard to predict, and synchronization issues can lead to bugs.\n",
    "\n",
    "2) Overhead: Multithreading can introduce additional overhead due to the need for synchronization and coordination between threads. This can lead to reduced performance in certain situations.\n",
    "\n",
    "3) Synchronization issues: Multithreading can introduce synchronization issues, such as deadlocks and race conditions. These can be difficult to diagnose and resolve, and can lead to unpredictable behavior in the program.\n",
    "\n",
    "4) Increased memory usage: Multithreading can lead to increased memory usage due to the need to create additional thread objects and maintain separate stacks for each thread. This can be a concern in memory-constrained environments."
   ]
  },
  {
   "cell_type": "markdown",
   "id": "ba197d60-df7c-4bf4-a25a-87382c59a129",
   "metadata": {},
   "source": [
    "### Ans6)"
   ]
  },
  {
   "cell_type": "markdown",
   "id": "8437732a-27da-4b84-bca6-a0f8d705e9d7",
   "metadata": {},
   "source": [
    "Deadlocks and race conditions are common synchronization issues that can occur in multithreaded programs. Here's an explanation of both:\n",
    "\n",
    "Deadlocks: A deadlock is a situation in which two or more threads are blocked and unable to proceed because each is waiting for the other to release a shared resource. This can occur when two threads each hold a lock on a resource that the other thread needs to proceed. Neither thread can release its lock because it is waiting for the other thread to release its lock, resulting in a deadlock.\n",
    "For example, imagine two threads, A and B, each holding a lock on a different resource, X and Y respectively. If thread A tries to acquire a lock on resource Y while thread B holds the lock on it, and at the same time, thread B tries to acquire the lock on resource X while thread A holds the lock on it, both threads will end up waiting for each other to release the lock, causing a deadlock.\n",
    "\n",
    "Deadlocks can cause a program to hang or become unresponsive, and can be difficult to diagnose and resolve.\n",
    "\n",
    "Race conditions: A race condition is a situation in which the behavior of a program depends on the relative timing or order of events in different threads. This can occur when multiple threads access and modify shared data without proper synchronization. The result is that the final value of the shared data is dependent on the order in which the threads execute, which can lead to unpredictable behavior.\n",
    "For example, imagine two threads, A and B, both trying to increment a shared counter variable. If both threads read the value of the counter at the same time, increment it, and then write it back to memory, it's possible that one thread's increment operation will be lost because the other thread overwrites the incremented value before it can be written back to memory. This can result in incorrect or inconsistent values for the counter variable.\n",
    "\n",
    "Race conditions can be difficult to diagnose and reproduce because they depend on the timing of events that are difficult to control. Proper synchronization and coordination between threads can help prevent race conditions from occurring."
   ]
  },
  {
   "cell_type": "code",
   "execution_count": null,
   "id": "243e0705-1799-4ca8-a9e2-e7ad3f619e7a",
   "metadata": {},
   "outputs": [],
   "source": []
  }
 ],
 "metadata": {
  "kernelspec": {
   "display_name": "Python 3 (ipykernel)",
   "language": "python",
   "name": "python3"
  },
  "language_info": {
   "codemirror_mode": {
    "name": "ipython",
    "version": 3
   },
   "file_extension": ".py",
   "mimetype": "text/x-python",
   "name": "python",
   "nbconvert_exporter": "python",
   "pygments_lexer": "ipython3",
   "version": "3.10.8"
  }
 },
 "nbformat": 4,
 "nbformat_minor": 5
}
