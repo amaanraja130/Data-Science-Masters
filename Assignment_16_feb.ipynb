{
 "cells": [
  {
   "cell_type": "markdown",
   "id": "b0f264f1-42b9-42a3-bfb9-75a17610da1b",
   "metadata": {},
   "source": [
    "# Assignment"
   ]
  },
  {
   "cell_type": "markdown",
   "id": "dc601abe-ae09-4ce2-a012-aebe88f32165",
   "metadata": {},
   "source": [
    "### Ans1)"
   ]
  },
  {
   "cell_type": "markdown",
   "id": "7ad4bc53-a937-44e3-a406-21867add8199",
   "metadata": {},
   "source": [
    "A database is a collection of data that is organized in a structured way to allow efficient storage, retrieval, and manipulation of data. Databases are used to store data for various applications, such as websites, enterprise software, and mobile apps.\n",
    "\n",
    "SQL databases are relational databases that store data in tables with columns and rows, and use SQL as the standard language for querying and managing data. Examples of SQL databases include MySQL, Oracle, and Microsoft SQL Server. SQL databases are ideal for applications that require complex queries, transactions, and data integrity.\n",
    "\n",
    "NoSQL databases, on the other hand, are non-relational databases that store data in a flexible, document-based format or key-value pairs. NoSQL databases use their own query language, which may not be as powerful as SQL, but are designed for high scalability, performance, and availability. Examples of NoSQL databases include MongoDB, Cassandra, and Couchbase. NoSQL databases are ideal for applications that require high throughput and low latency, such as real-time analytics and streaming data processing."
   ]
  },
  {
   "cell_type": "markdown",
   "id": "f0a35276-a3f7-4962-a5a5-a455176c0362",
   "metadata": {},
   "source": [
    "### Ans2)"
   ]
  },
  {
   "cell_type": "markdown",
   "id": "c8efecd2-1248-453a-b195-91da4d805ed8",
   "metadata": {},
   "source": [
    "DDL stands for Data Definition Language, which is a subset of SQL that is used to define and modify the structure of database objects such as tables, indexes, and views. DDL commands are used to create, modify, and delete database objects."
   ]
  },
  {
   "cell_type": "markdown",
   "id": "80f86f5c-894a-43e0-8fda-da1a764a2279",
   "metadata": {},
   "source": [
    "1) CREATE: The CREATE command is used to create a new database object, such as a table or index. For example, to create a new table called \"Class\" in a database, you can use the following SQL statement:\n",
    "\n",
    "CREATE TABLE Class (id INT PRIMARY KEY, name VARCHAR(40), age INT);\n",
    "\n",
    "2) DROP: The DROP command is used to delete a database object, such as a table or index. For example, to delete the \"Class\" table from the database, you can use the following SQL statement:\n",
    "\n",
    "DROP TABLE Class;\n",
    "\n",
    "3) ALTER: The ALTER command is used to modify the structure of an existing database object. For example, to add a new column called \"phone\" to the \"Class\" table, you can use the following SQL statement:\n",
    "\n",
    "ALTER TABLE Class ADD phone VARCHAR(20);\n",
    "\n",
    "4) TRUNCATE: The TRUNCATE command is used to delete all data from a table without deleting the table itself. For example, to delete all data from the \"Class\" table, you can use the following SQL statement:\n",
    "\n",
    "TRUNCATE TABLE Class;"
   ]
  },
  {
   "cell_type": "markdown",
   "id": "3d8c9918-6153-4cfb-b3b2-f3d5cc85e14b",
   "metadata": {},
   "source": [
    "### Ans3)"
   ]
  },
  {
   "cell_type": "markdown",
   "id": "96a29fef-f9a0-4ed5-8153-aac8a5bb4901",
   "metadata": {},
   "source": [
    "DML stands for Data Manipulation Language, which is a subset of SQL that is used to add, modify, and delete data in a database. DML commands are used to interact with the data stored in the database.\n",
    "1) INSERT: The INSERT command is used to add new data to a table in the database. For example, to add a new student to the \"Class\" table, you can use the following SQL statement:\n",
    "\n",
    "INSERT INTO Class (name, email, phone)\n",
    "VALUES ( 'Amaan', 'Amaan@gmail.com','88432345');\n",
    "\n",
    "2) UPDATE: The UPDATE command is used to modify existing data in a table. For example, to update the email address of a student in the \"Class\" table, you can use the following SQL statement:\n",
    "\n",
    "UPDATE Class\n",
    "SET email = 'Amaan234@gmail.com'\n",
    "WHERE class_id = 1;\n",
    "\n",
    "3) DELETE: The DELETE command is used to delete data from a table in the database. For example, to delete a student from the \"Class\" table, you can use the following SQL statement:\n",
    "\n",
    "DELETE FROM Class\n",
    "WHERE class_id = 1;"
   ]
  },
  {
   "cell_type": "markdown",
   "id": "244978bb-a341-478b-a763-7410e1b85912",
   "metadata": {},
   "source": [
    "### Ans4)"
   ]
  },
  {
   "cell_type": "markdown",
   "id": "0dead007-e6de-4bf9-acaa-bf292a8d7b03",
   "metadata": {},
   "source": [
    "DQL stands for Data Query Language, which is a subset of SQL that is used to retrieve data from a database. DQL commands are used to query and retrieve data from one or more tables in a database.\n",
    "for ex:"
   ]
  },
  {
   "cell_type": "markdown",
   "id": "c3922661-fdfa-430b-aacf-aae0877cdb73",
   "metadata": {},
   "source": [
    "SELECT name, email FROM customers;\n",
    "\n",
    "\n",
    "This statement retrieves only the \"name\" and \"email\" columns from the \"customers\" table."
   ]
  },
  {
   "cell_type": "markdown",
   "id": "aa1c95e4-1b3f-460b-bde3-02464cdfc22c",
   "metadata": {},
   "source": [
    "### Ans5)"
   ]
  },
  {
   "cell_type": "markdown",
   "id": "8fbf84e0-f864-4da9-bdc4-d0e44dfaba52",
   "metadata": {},
   "source": [
    "1) In a relational database, a primary key is a column or a set of columns that uniquely identifies each row in a table. The primary key is used to enforce data integrity and ensure that each row in the table is unique. Primary keys are used as a reference for other tables to establish relationships between tables.\n",
    "\n",
    "For example, in a table called \"customers\", the primary key might be the \"customer_id\" column. The primary key ensures that each row in the \"customers\" table is unique and can be used as a reference in other tables to establish relationships.\n",
    "\n",
    "2) A foreign key, on the other hand, is a column or a set of columns in one table that references the primary key of another table. Foreign keys are used to establish relationships between tables and enforce referential integrity. In other words, a foreign key ensures that data in one table is consistent with the data in another table.\n",
    "\n",
    "For example, if you have two tables called \"orders\" and \"customers\", you might use the \"customer_id\" column in the \"orders\" table as a foreign key to reference the \"customer_id\" column in the \"customers\" table. This establishes a relationship between the two tables and ensures that the customer information in the \"orders\" table is consistent with the customer information in the \"customers\" table."
   ]
  },
  {
   "cell_type": "markdown",
   "id": "702fbd12-e6c2-44a8-97fb-83f241eeb79c",
   "metadata": {},
   "source": [
    "### Ans6)"
   ]
  },
  {
   "cell_type": "code",
   "execution_count": null,
   "id": "7ee3e4e8-422d-4bc5-8322-f47636d25540",
   "metadata": {},
   "outputs": [],
   "source": [
    "import mysql.connector\n",
    "\n",
    "mydb = mysql.connector.connect(\n",
    "  host=\"<HOST ID>\",\n",
    "  user=\"<USERNAME>\",\n",
    "  password=\"<PASSWORD>\"\n",
    ")\n",
    "mycursor = mydb.cursor()\n",
    "mycursor.execute(\"<SQL QUERY>\")"
   ]
  },
  {
   "cell_type": "markdown",
   "id": "7254fd77-bc49-4f26-b00a-5bcafd2ca052",
   "metadata": {},
   "source": [
    "The cursor() method is used to create a cursor object, which is used to execute SQL queries and retrieve data from a database. Once you have created a cursor object, you can use the execute() method to execute SQL queries."
   ]
  },
  {
   "cell_type": "markdown",
   "id": "46d63248-98dc-4ae1-a316-5ddd201b3b61",
   "metadata": {},
   "source": [
    "The execute() method is used to execute SQL queries and retrieve data from a database. The execute() method takes a SQL query as a parameter and returns a result set. The result set contains the data retrieved by the query"
   ]
  },
  {
   "cell_type": "markdown",
   "id": "dbe10268-43cb-42ff-a55e-94765fd9a5c0",
   "metadata": {},
   "source": [
    "### Ans7)"
   ]
  },
  {
   "cell_type": "markdown",
   "id": "9feaebaa-50eb-4c7d-81d6-77e7641d7080",
   "metadata": {},
   "source": [
    "The order of execution of SQL clauses in an SQL query is as follows:\n",
    "\n",
    "SELECT - this is the first clause in the query and specifies the columns to retrieve from the table.\n",
    "\n",
    "FROM - this clause follows the SELECT clause and specifies the table or tables to retrieve data from.\n",
    "\n",
    "JOIN - this clause is used to combine data from multiple tables.\n",
    "\n",
    "WHERE - this clause is used to filter data based on certain conditions.\n",
    "\n",
    "GROUP BY - this clause is used to group data based on one or more columns.\n",
    "\n",
    "HAVING - this clause is used to filter data based on the groups created by the GROUP BY clause.\n",
    "\n",
    "ORDER BY - this clause is used to sort the data in ascending or descending order.\n",
    "\n",
    "LIMIT - this clause is used to limit the number of rows returned by the query.\n",
    "\n",
    "DISTINCT - This clause is used to remove duplicate rows from the result set."
   ]
  },
  {
   "cell_type": "code",
   "execution_count": null,
   "id": "8cdb608d-4483-4288-8868-ddd52924ea24",
   "metadata": {},
   "outputs": [],
   "source": []
  }
 ],
 "metadata": {
  "kernelspec": {
   "display_name": "Python 3 (ipykernel)",
   "language": "python",
   "name": "python3"
  },
  "language_info": {
   "codemirror_mode": {
    "name": "ipython",
    "version": 3
   },
   "file_extension": ".py",
   "mimetype": "text/x-python",
   "name": "python",
   "nbconvert_exporter": "python",
   "pygments_lexer": "ipython3",
   "version": "3.10.8"
  }
 },
 "nbformat": 4,
 "nbformat_minor": 5
}
