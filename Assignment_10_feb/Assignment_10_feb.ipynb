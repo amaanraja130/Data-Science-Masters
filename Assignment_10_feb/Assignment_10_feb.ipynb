{
 "cells": [
  {
   "cell_type": "markdown",
   "id": "84aa0561-0017-4c7c-8dc3-922dd78808ab",
   "metadata": {},
   "source": [
    "# Assignment"
   ]
  },
  {
   "cell_type": "markdown",
   "id": "3d39dc2a-ff5c-481a-85c1-513c0a801329",
   "metadata": {},
   "source": [
    "### Ans1)"
   ]
  },
  {
   "cell_type": "markdown",
   "id": "f801c768-24a0-4195-a603-00093e22ec1d",
   "metadata": {},
   "source": [
    "open() function is used to open a file.\n",
    "These are the different modes of opening a file.\n",
    "1) 'r':- Read mode: Open for reading only. If the file does not exist, it raise a 'FileNotFoundError' exception.\n",
    "2) 'w':- Write mode: Open for writing only. If the file exist, its contents are truncated. If the file does not exist, a new file is created.\n",
    "3) 'a':- Append mode: Open for writing in append mode. If the file exists, the file pointer is placed at the end of the file, and the contents are written after the existing data. If the file does not exist, a new file is created.\n",
    "4) 'x':- Exclusive Creation Mode: Open for exclusive creation, and raise an error if the file already exists.\n",
    "5) 'b':- Binary Mode: Open the file in binary mode.\n",
    "6) 't':- Text Mode: Open the file in text mode (default mode)."
   ]
  },
  {
   "cell_type": "markdown",
   "id": "8e9d1afe-9cd3-4d97-bdd5-0da91770cd07",
   "metadata": {},
   "source": [
    "### Ans2)"
   ]
  },
  {
   "cell_type": "markdown",
   "id": "42f03408-1b39-4b82-98b3-6d99a23da29e",
   "metadata": {},
   "source": [
    "The close() function is used to close an open file.Its imortant because it fress up system resources and ensures that any changes made to the file are saved.\n"
   ]
  },
  {
   "cell_type": "markdown",
   "id": "e5c7a36f-2a06-4363-afc7-612cf9903e27",
   "metadata": {},
   "source": [
    "### Ans3)"
   ]
  },
  {
   "cell_type": "code",
   "execution_count": 8,
   "id": "db7f07b7-6b9c-4639-881e-d9728dfef26c",
   "metadata": {},
   "outputs": [],
   "source": [
    "f = open(\"amaan.txt\",'w')"
   ]
  },
  {
   "cell_type": "code",
   "execution_count": 9,
   "id": "dd2c632b-170b-42b4-a200-fe3e9a60b9cf",
   "metadata": {},
   "outputs": [
    {
     "data": {
      "text/plain": [
       "31"
      ]
     },
     "execution_count": 9,
     "metadata": {},
     "output_type": "execute_result"
    }
   ],
   "source": [
    "f.write(\"I want to become Data Scientist\")"
   ]
  },
  {
   "cell_type": "code",
   "execution_count": 10,
   "id": "d6d1fd4a-e302-4c0b-8dce-6d8e06793b0a",
   "metadata": {},
   "outputs": [],
   "source": [
    "f.close()"
   ]
  },
  {
   "cell_type": "code",
   "execution_count": 11,
   "id": "998fc2b9-c022-472d-a2db-ed3ef27de889",
   "metadata": {},
   "outputs": [],
   "source": [
    "f = open(\"amaan.txt\",'r')"
   ]
  },
  {
   "cell_type": "code",
   "execution_count": 12,
   "id": "262405e7-1984-4944-bcd0-e400fd2c9213",
   "metadata": {},
   "outputs": [
    {
     "data": {
      "text/plain": [
       "'I want to become Data Scientist'"
      ]
     },
     "execution_count": 12,
     "metadata": {},
     "output_type": "execute_result"
    }
   ],
   "source": [
    "f.read()"
   ]
  },
  {
   "cell_type": "code",
   "execution_count": 13,
   "id": "51a21b73-f627-49d2-843d-758402396017",
   "metadata": {},
   "outputs": [],
   "source": [
    "f.close()"
   ]
  },
  {
   "cell_type": "markdown",
   "id": "591a0d57-3209-4677-b829-e47a889d5a4f",
   "metadata": {},
   "source": [
    "### Ans4)"
   ]
  },
  {
   "cell_type": "code",
   "execution_count": 25,
   "id": "d5b29f73-1e76-4444-97a3-1d9fe4708bfa",
   "metadata": {},
   "outputs": [],
   "source": [
    "f1 = open(\"amaan1.txt\",'w')"
   ]
  },
  {
   "cell_type": "code",
   "execution_count": 26,
   "id": "8aab2062-3d15-49e0-8a57-4352be10be84",
   "metadata": {},
   "outputs": [
    {
     "data": {
      "text/plain": [
       "32"
      ]
     },
     "execution_count": 26,
     "metadata": {},
     "output_type": "execute_result"
    }
   ],
   "source": [
    "f1.write(\"I want to become Data Scientist\\n\")"
   ]
  },
  {
   "cell_type": "code",
   "execution_count": 27,
   "id": "2d87d69e-9c66-40ee-9f37-6100f833cbb5",
   "metadata": {},
   "outputs": [
    {
     "data": {
      "text/plain": [
       "29"
      ]
     },
     "execution_count": 27,
     "metadata": {},
     "output_type": "execute_result"
    }
   ],
   "source": [
    "f1.write(\"I want to become Data Analyst\")"
   ]
  },
  {
   "cell_type": "code",
   "execution_count": 28,
   "id": "44ebbe0f-c5a8-4485-96b0-80fb82808785",
   "metadata": {},
   "outputs": [],
   "source": [
    "f1.close()"
   ]
  },
  {
   "cell_type": "markdown",
   "id": "2ed5324a-014f-4b18-ad16-386acf133d9d",
   "metadata": {},
   "source": [
    "The read() function reads the entire contents of the file and returns it as a single string. If you specify a number n as an argument to the read() function, it will read the next n bytes from the file."
   ]
  },
  {
   "cell_type": "code",
   "execution_count": 29,
   "id": "85a1fb94-e527-47bb-b1da-7f778c4df9b7",
   "metadata": {},
   "outputs": [],
   "source": [
    "f1 = open(\"amaan1.txt\",'r')"
   ]
  },
  {
   "cell_type": "code",
   "execution_count": 30,
   "id": "7393ebe5-3d23-477b-91ee-86b1285f7bc3",
   "metadata": {},
   "outputs": [],
   "source": [
    "content = f1.read()"
   ]
  },
  {
   "cell_type": "code",
   "execution_count": 31,
   "id": "aec573e4-4330-4759-bde0-2f391f000dfc",
   "metadata": {},
   "outputs": [],
   "source": [
    "f1.close()"
   ]
  },
  {
   "cell_type": "code",
   "execution_count": 32,
   "id": "e09a2b83-adba-4c83-8824-12db7ca84b10",
   "metadata": {},
   "outputs": [
    {
     "name": "stdout",
     "output_type": "stream",
     "text": [
      "I want to become Data Scientist\n",
      "I want to become Data Analyst\n"
     ]
    }
   ],
   "source": [
    "print(content)"
   ]
  },
  {
   "cell_type": "markdown",
   "id": "c255c3ae-c03d-4c45-a246-fd217847de77",
   "metadata": {},
   "source": [
    "The readline() function reads a single line from the file and returns it as a string. If you call readline() again, it will read the next line, and so on, until it reaches the end of the file."
   ]
  },
  {
   "cell_type": "code",
   "execution_count": 1,
   "id": "a5268fd9-c735-4c56-81de-d737a6decd58",
   "metadata": {},
   "outputs": [],
   "source": [
    "f1 = open(\"amaan1.txt\",'r')"
   ]
  },
  {
   "cell_type": "code",
   "execution_count": 2,
   "id": "4020e227-f61b-4bbd-9929-5606caea6386",
   "metadata": {},
   "outputs": [],
   "source": [
    "l1 = f1.readline()"
   ]
  },
  {
   "cell_type": "code",
   "execution_count": 3,
   "id": "25056300-410b-43e3-aba9-d6b351f24c07",
   "metadata": {},
   "outputs": [],
   "source": [
    "l2 = f1.readline()"
   ]
  },
  {
   "cell_type": "code",
   "execution_count": 5,
   "id": "5702cb75-d92e-4838-b319-504612443f0f",
   "metadata": {},
   "outputs": [],
   "source": [
    "f1.close()"
   ]
  },
  {
   "cell_type": "code",
   "execution_count": 6,
   "id": "3ac9a77c-783e-42bc-8e0e-ba7eb72d033a",
   "metadata": {},
   "outputs": [
    {
     "name": "stdout",
     "output_type": "stream",
     "text": [
      "I want to become Data Scientist\n",
      "\n"
     ]
    }
   ],
   "source": [
    "print(l1)"
   ]
  },
  {
   "cell_type": "code",
   "execution_count": 7,
   "id": "35c1f7b5-b1a9-45f7-9ae0-abbace67bb4f",
   "metadata": {},
   "outputs": [
    {
     "name": "stdout",
     "output_type": "stream",
     "text": [
      "I want to become Data Analyst\n"
     ]
    }
   ],
   "source": [
    "print(l2)"
   ]
  },
  {
   "cell_type": "markdown",
   "id": "7abe1bc5-a794-4abf-955a-c01d5ac4aec0",
   "metadata": {},
   "source": [
    "The readlines() function reads all the lines of the file and returns them as a list of strings. Each element of the list corresponds to a line in the file."
   ]
  },
  {
   "cell_type": "code",
   "execution_count": 8,
   "id": "96f07e72-abaa-431b-952f-f0672dddfd8f",
   "metadata": {},
   "outputs": [],
   "source": [
    "f1 = open(\"amaan1.txt\",'r')"
   ]
  },
  {
   "cell_type": "code",
   "execution_count": 9,
   "id": "d9a12fc3-002a-4f38-8c36-8ece063e5520",
   "metadata": {},
   "outputs": [],
   "source": [
    "l3= f1.readlines()"
   ]
  },
  {
   "cell_type": "code",
   "execution_count": 11,
   "id": "3fcfdae8-5cfa-40d9-9ef9-1d0fb3d2bc8d",
   "metadata": {},
   "outputs": [],
   "source": [
    "f1.close()"
   ]
  },
  {
   "cell_type": "code",
   "execution_count": 12,
   "id": "cb3aa822-91d2-4df9-967a-46d52a666b0b",
   "metadata": {},
   "outputs": [
    {
     "name": "stdout",
     "output_type": "stream",
     "text": [
      "['I want to become Data Scientist\\n', 'I want to become Data Analyst']\n"
     ]
    }
   ],
   "source": [
    "print(l3)"
   ]
  },
  {
   "cell_type": "markdown",
   "id": "eeb2780b-0813-4a1c-ba8d-85e4cee89128",
   "metadata": {},
   "source": [
    "### Ans5)"
   ]
  },
  {
   "cell_type": "markdown",
   "id": "743cf5cf-6c6a-4d27-9642-fa44632e9744",
   "metadata": {},
   "source": [
    "The with statement is used in Python in conjunction with the open() function to ensure that files are properly closed after they are used. The with statement provides a convenient way to handle files and other resources that need to be cleaned up after they are used.\n",
    "\n",
    "The advantage of using the with statement with open() is that it automatically takes care of closing the file for you, even if an exception is raised or an error occurs. This helps prevent resource leaks and other issues that can arise if files are not closed properly."
   ]
  },
  {
   "cell_type": "markdown",
   "id": "58e7d96f-eec2-4bd3-b2ac-23d4d073b406",
   "metadata": {},
   "source": [
    "### Ans6)"
   ]
  },
  {
   "cell_type": "markdown",
   "id": "8d98d400-bccc-40dd-9a98-75cdd436defe",
   "metadata": {},
   "source": [
    "The write() function is used to write a string to a file. It takes a single argument, which is the string that you want to write to the file. If the file already exists, the write() function will overwrite the file with the new data. If the file does not exist, it will be created."
   ]
  },
  {
   "cell_type": "code",
   "execution_count": 15,
   "id": "249d237d-e9e6-4686-bd4f-b1533034f577",
   "metadata": {},
   "outputs": [],
   "source": [
    "f2 = open(\"amaan2.txt\",'w')"
   ]
  },
  {
   "cell_type": "code",
   "execution_count": 16,
   "id": "1bd564ef-21fa-4e25-8a41-e73e7aa0e07e",
   "metadata": {},
   "outputs": [
    {
     "data": {
      "text/plain": [
       "16"
      ]
     },
     "execution_count": 16,
     "metadata": {},
     "output_type": "execute_result"
    }
   ],
   "source": [
    "f2.write(\"My name is Amaan\")"
   ]
  },
  {
   "cell_type": "code",
   "execution_count": 18,
   "id": "77e43581-db61-4656-966d-6d30543e6fe1",
   "metadata": {},
   "outputs": [],
   "source": [
    "f2.close()"
   ]
  },
  {
   "cell_type": "markdown",
   "id": "c67d512f-09b9-42ef-bda7-3f671e1575ec",
   "metadata": {},
   "source": [
    "The writelines() function is used to write a list of strings to a file. It takes a single argument, which is a list of strings that you want to write to the file. Each string in the list represents a line of text in the file. If the file already exists, the writelines() function will overwrite the file with the new data. If the file does not exist, it will be created."
   ]
  },
  {
   "cell_type": "code",
   "execution_count": 20,
   "id": "3d569778-1349-4b23-8607-65b77d0b217b",
   "metadata": {},
   "outputs": [
    {
     "data": {
      "text/plain": [
       "['I want to become Data Scientist\\n', 'I want to become Data Analyst']"
      ]
     },
     "execution_count": 20,
     "metadata": {},
     "output_type": "execute_result"
    }
   ],
   "source": [
    "l3"
   ]
  },
  {
   "cell_type": "code",
   "execution_count": 19,
   "id": "3d00a45f-7b29-4159-b5c2-8b1fab5d8571",
   "metadata": {},
   "outputs": [],
   "source": [
    "f3= open(\"amaan4.txt\",'w')"
   ]
  },
  {
   "cell_type": "code",
   "execution_count": 21,
   "id": "9525845f-bb4c-47a4-a61f-21c2006ab442",
   "metadata": {},
   "outputs": [],
   "source": [
    "f3.writelines(l3)"
   ]
  },
  {
   "cell_type": "code",
   "execution_count": 23,
   "id": "b8dd3fed-893b-4071-b96e-4321638ab7a9",
   "metadata": {},
   "outputs": [],
   "source": [
    "f3.close()"
   ]
  },
  {
   "cell_type": "code",
   "execution_count": null,
   "id": "feedf75e-abc6-4efb-8839-da812f9d3273",
   "metadata": {},
   "outputs": [],
   "source": []
  }
 ],
 "metadata": {
  "kernelspec": {
   "display_name": "Python 3 (ipykernel)",
   "language": "python",
   "name": "python3"
  },
  "language_info": {
   "codemirror_mode": {
    "name": "ipython",
    "version": 3
   },
   "file_extension": ".py",
   "mimetype": "text/x-python",
   "name": "python",
   "nbconvert_exporter": "python",
   "pygments_lexer": "ipython3",
   "version": "3.10.8"
  }
 },
 "nbformat": 4,
 "nbformat_minor": 5
}
