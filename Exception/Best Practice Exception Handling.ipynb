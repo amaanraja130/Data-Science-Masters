{
 "cells": [
  {
   "cell_type": "code",
   "execution_count": 1,
   "id": "11b6d1ec-8d57-486c-9ea1-e6f170d0c74f",
   "metadata": {},
   "outputs": [],
   "source": [
    "# Use always a specific exception"
   ]
  },
  {
   "cell_type": "code",
   "execution_count": 3,
   "id": "0159db5c-5ccc-4a77-8143-2d47919c8afc",
   "metadata": {},
   "outputs": [
    {
     "name": "stdout",
     "output_type": "stream",
     "text": [
      "division by zero\n"
     ]
    }
   ],
   "source": [
    "try:\n",
    "    10/0\n",
    "except Exception as e:\n",
    "    print(e)"
   ]
  },
  {
   "cell_type": "code",
   "execution_count": 4,
   "id": "c0420368-18c8-4f55-ad72-4c1f2d56cfd3",
   "metadata": {},
   "outputs": [
    {
     "name": "stdout",
     "output_type": "stream",
     "text": [
      "division by zero\n"
     ]
    }
   ],
   "source": [
    "try:\n",
    "    10/0\n",
    "except ZeroDivisionError as e:\n",
    "    print(e)"
   ]
  },
  {
   "cell_type": "code",
   "execution_count": 5,
   "id": "53317441-b867-415e-a442-b7d7589edaf9",
   "metadata": {},
   "outputs": [
    {
     "name": "stdout",
     "output_type": "stream",
     "text": [
      "this is my zero division error i am handling division by zero\n"
     ]
    }
   ],
   "source": [
    "# print always a valid msg\n",
    "try:\n",
    "    10/0\n",
    "except ZeroDivisionError as e:\n",
    "    print(\"this is my zero division error i am handling\",e)"
   ]
  },
  {
   "cell_type": "code",
   "execution_count": 1,
   "id": "84bd67e3-ec6c-42a4-aca4-89cd3b8eaeb3",
   "metadata": {},
   "outputs": [],
   "source": [
    "# always try to log \n",
    "import logging\n",
    "logging.basicConfig(filename=\"error.log\",level= logging.ERROR)\n",
    "try:\n",
    "    10/0\n",
    "except ZeroDivisionError as e:\n",
    "    logging.error(\"this is my zero division error i am handling{}\".format( e))"
   ]
  },
  {
   "cell_type": "code",
   "execution_count": 3,
   "id": "7b9c02d4-3055-49ee-baeb-e6ddc5367cc7",
   "metadata": {},
   "outputs": [],
   "source": [
    "# always avoid to write a multiple exception handling\n",
    "import logging\n",
    "logging.basicConfig(filename=\"error.log\",level= logging.ERROR)\n",
    "try:\n",
    "    10/0\n",
    "except FileNotFoundError as e:\n",
    "    logging.error(\"this is my file not found error i am handling{}\".format( e))\n",
    "except AttributeError as e:\n",
    "        logging.error(\"this is my Attribute Error error i am handling{}\".format( e))\n",
    "except ZeroDivisionError as e:\n",
    "    logging.error(\"this is my zero division error i am handling{}\".format( e))"
   ]
  },
  {
   "cell_type": "code",
   "execution_count": 2,
   "id": "a1d227a7-ab95-475c-ae83-168f1f99330d",
   "metadata": {},
   "outputs": [],
   "source": [
    "# prepare a proper documentation"
   ]
  },
  {
   "cell_type": "code",
   "execution_count": 5,
   "id": "489540ed-5a41-452f-ab8e-283acc83f223",
   "metadata": {},
   "outputs": [],
   "source": [
    "# clenup all the resources\n",
    "try:\n",
    "    with open(\"test.txt\",'w') as f:\n",
    "        f.write(\"this is my msg to file\")\n",
    "except FileNotFoundError as e:\n",
    "    logging.error(\"this is my file not found error()\".formt(e ))\n",
    "finally :\n",
    "    f.close()"
   ]
  },
  {
   "cell_type": "code",
   "execution_count": 6,
   "id": "44b52e8e-ec9a-45e5-a92a-fb7518100853",
   "metadata": {},
   "outputs": [
    {
     "ename": "SyntaxError",
     "evalue": "invalid syntax (1494537680.py, line 3)",
     "output_type": "error",
     "traceback": [
      "\u001b[0;36m  Cell \u001b[0;32mIn[6], line 3\u001b[0;36m\u001b[0m\n\u001b[0;31m    R = X*X print \"Square=\",R\u001b[0m\n\u001b[0m            ^\u001b[0m\n\u001b[0;31mSyntaxError\u001b[0m\u001b[0;31m:\u001b[0m invalid syntax\n"
     ]
    }
   ],
   "source": [
    "X = int(input(\"Enter a Number\")) \n",
    "\n",
    "R = X*X print \"Square=\",R"
   ]
  },
  {
   "cell_type": "code",
   "execution_count": 7,
   "id": "08aaecca-ed34-4020-bc37-c8445ce00a10",
   "metadata": {},
   "outputs": [
    {
     "ename": "NameError",
     "evalue": "name '____' is not defined",
     "output_type": "error",
     "traceback": [
      "\u001b[0;31m---------------------------------------------------------------------------\u001b[0m",
      "\u001b[0;31mNameError\u001b[0m                                 Traceback (most recent call last)",
      "Cell \u001b[0;32mIn[7], line 1\u001b[0m\n\u001b[0;32m----> 1\u001b[0m \u001b[43m____\u001b[49m\n",
      "\u001b[0;31mNameError\u001b[0m: name '____' is not defined"
     ]
    }
   ],
   "source": [
    "____"
   ]
  },
  {
   "cell_type": "code",
   "execution_count": null,
   "id": "cabb078c-5db7-4b96-b19c-82444fdcfa55",
   "metadata": {},
   "outputs": [],
   "source": []
  }
 ],
 "metadata": {
  "kernelspec": {
   "display_name": "Python 3 (ipykernel)",
   "language": "python",
   "name": "python3"
  },
  "language_info": {
   "codemirror_mode": {
    "name": "ipython",
    "version": 3
   },
   "file_extension": ".py",
   "mimetype": "text/x-python",
   "name": "python",
   "nbconvert_exporter": "python",
   "pygments_lexer": "ipython3",
   "version": "3.10.8"
  }
 },
 "nbformat": 4,
 "nbformat_minor": 5
}
