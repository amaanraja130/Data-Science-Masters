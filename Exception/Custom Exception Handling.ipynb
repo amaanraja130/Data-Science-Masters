{
 "cells": [
  {
   "cell_type": "code",
   "execution_count": 1,
   "id": "a92763a6-09e4-4023-b81d-a334066a294c",
   "metadata": {},
   "outputs": [
    {
     "name": "stdin",
     "output_type": "stream",
     "text": [
      "enter your age -12334\n"
     ]
    }
   ],
   "source": [
    "age = int(input(\"enter your age\"))"
   ]
  },
  {
   "cell_type": "code",
   "execution_count": 2,
   "id": "afbb1880-7b64-46f7-b279-fe92e23c8191",
   "metadata": {},
   "outputs": [],
   "source": [
    "class validateage(Exception):\n",
    "    def __init__(self, msg):\n",
    "        self.msg = msg"
   ]
  },
  {
   "cell_type": "code",
   "execution_count": 3,
   "id": "11409a8a-771c-4a0e-beb8-d61d34b0bbc4",
   "metadata": {},
   "outputs": [],
   "source": [
    "def validate_age(age):\n",
    "    if age<0:\n",
    "        raise validateage(\"age should not be lesser then zero\")\n",
    "    elif age>200:\n",
    "        raise validateage(\"age is too high\")\n",
    "    else:\n",
    "        print(\"age is valid\")"
   ]
  },
  {
   "cell_type": "code",
   "execution_count": 6,
   "id": "9c0bd09a-bca5-46b8-8ab7-14361604ee15",
   "metadata": {},
   "outputs": [
    {
     "name": "stdin",
     "output_type": "stream",
     "text": [
      "enter your age 20\n"
     ]
    },
    {
     "name": "stdout",
     "output_type": "stream",
     "text": [
      "age is valid\n"
     ]
    }
   ],
   "source": [
    "try:\n",
    "    age = int(input(\"enter your age\"))\n",
    "    validate_age(age)\n",
    "except validateage as e:\n",
    "    print(e)\n",
    "              "
   ]
  },
  {
   "cell_type": "markdown",
   "id": "dfb9f97d-a694-4b02-9c46-90f8b32901dd",
   "metadata": {},
   "source": [
    "### Ans6)"
   ]
  },
  {
   "cell_type": "code",
   "execution_count": 6,
   "id": "12ce698c-936f-4dc3-81fa-d8debc25f4d9",
   "metadata": {},
   "outputs": [],
   "source": [
    "class Ageerror(Exception):\n",
    "    def __init__(self,age):\n",
    "        self.mssg=f\"You can't drive now try after {18-age} years\"\n",
    "    def __str__(self):\n",
    "        return f\"Ageerror:\\t{self.mssg}\""
   ]
  },
  {
   "cell_type": "code",
   "execution_count": 7,
   "id": "4ca78c50-5e7a-4495-91e3-ffbc7c049505",
   "metadata": {},
   "outputs": [],
   "source": [
    "def validage(age):\n",
    "    if age<18:\n",
    "        raise Ageerror(age)\n",
    "    else:\n",
    "        print(\"You can drive\")"
   ]
  },
  {
   "cell_type": "code",
   "execution_count": 9,
   "id": "6ae13e60-0e0e-4888-9af7-c220200078b9",
   "metadata": {},
   "outputs": [
    {
     "name": "stdin",
     "output_type": "stream",
     "text": [
      "enter your age 35\n"
     ]
    },
    {
     "name": "stdout",
     "output_type": "stream",
     "text": [
      "You can drive\n"
     ]
    }
   ],
   "source": [
    "try:\n",
    "    age = int(input(\"enter your age\"))\n",
    "    validage(age)\n",
    "except Ageerror as e:\n",
    "    print(e)"
   ]
  },
  {
   "cell_type": "code",
   "execution_count": null,
   "id": "1e9268ed-3401-40a8-aa9c-7b9e61a0e3d9",
   "metadata": {},
   "outputs": [],
   "source": []
  }
 ],
 "metadata": {
  "kernelspec": {
   "display_name": "Python 3 (ipykernel)",
   "language": "python",
   "name": "python3"
  },
  "language_info": {
   "codemirror_mode": {
    "name": "ipython",
    "version": 3
   },
   "file_extension": ".py",
   "mimetype": "text/x-python",
   "name": "python",
   "nbconvert_exporter": "python",
   "pygments_lexer": "ipython3",
   "version": "3.10.8"
  }
 },
 "nbformat": 4,
 "nbformat_minor": 5
}
